{
  "nbformat": 4,
  "nbformat_minor": 0,
  "metadata": {
    "colab": {
      "name": "3i4k 1008.ipynb",
      "provenance": []
    },
    "kernelspec": {
      "name": "python3",
      "display_name": "Python 3"
    },
    "language_info": {
      "name": "python"
    }
  },
  "cells": [
    {
      "cell_type": "markdown",
      "metadata": {
        "id": "CRc9ImAuBsmO"
      },
      "source": [
        "####데이터 불러오기"
      ]
    },
    {
      "cell_type": "code",
      "metadata": {
        "id": "hb_LyCASCV4-"
      },
      "source": [
        "!wget https://raw.githubusercontent.com/warnikchow/3i4k/master/data/train_val_test/fci_train_val.txt\n",
        "!wget https://raw.githubusercontent.com/warnikchow/3i4k/master/data/train_val_test/fci_test.txt"
      ],
      "execution_count": null,
      "outputs": []
    },
    {
      "cell_type": "code",
      "metadata": {
        "id": "my9VTZfhCX6l"
      },
      "source": [
        "def read_data(filename):\n",
        "\n",
        "    with open(filename, \"r\", encoding=\"UTF8\") as f:\n",
        "        data = [line.split(\"\\t\") for line in f.read().splitlines()]\n",
        "\n",
        "    return data"
      ],
      "execution_count": 6,
      "outputs": []
    },
    {
      "cell_type": "code",
      "metadata": {
        "id": "sQVBGkTdCZa-"
      },
      "source": [
        "train_data = read_data(\"/content/fci_train_val.txt\")\n",
        "X_train_data = [t[1] for t in train_data]\n",
        "y_train_data = [int(t[0]) for t in train_data]\n",
        "\n",
        "test_data = read_data(\"/content/fci_test.txt\")\n",
        "X_test_data = [t[1] for t in test_data]\n",
        "y_test_data = [int(t[0]) for t in test_data]"
      ],
      "execution_count": 7,
      "outputs": []
    },
    {
      "cell_type": "code",
      "metadata": {
        "colab": {
          "base_uri": "https://localhost:8080/"
        },
        "id": "vQmWUwJACa3t",
        "outputId": "a9612974-e6d0-4390-e9ae-aaffe6f8e057"
      },
      "source": [
        "print(len(X_train_data))\n",
        "print(len(y_train_data))\n",
        "print(len(X_test_data))\n",
        "print(len(y_test_data))"
      ],
      "execution_count": 8,
      "outputs": [
        {
          "output_type": "stream",
          "name": "stdout",
          "text": [
            "55134\n",
            "55134\n",
            "6121\n",
            "6121\n"
          ]
        }
      ]
    },
    {
      "cell_type": "markdown",
      "metadata": {
        "id": "V2ZFzIAaCcQl"
      },
      "source": [
        "####데이터 전처리"
      ]
    },
    {
      "cell_type": "code",
      "metadata": {
        "id": "K9GgeUBlBdlm"
      },
      "source": [
        "!pip install konlpy\n",
        "nltk.download('punkt')"
      ],
      "execution_count": null,
      "outputs": []
    },
    {
      "cell_type": "code",
      "metadata": {
        "id": "A81IAA3qB2DW"
      },
      "source": [
        "import pandas as pd\n",
        "import numpy as np\n",
        "import matplotlib.pyplot as plt\n",
        "import urllib.request\n",
        "import re\n",
        "import random\n",
        "from collections import Counter\n",
        "from sklearn.model_selection import train_test_split\n",
        "from tensorflow.keras.preprocessing.text import Tokenizer\n",
        "from tensorflow.keras.preprocessing.sequence import pad_sequences\n",
        "from konlpy.tag import Okt\n",
        "import nltk\n",
        "from nltk.tokenize import word_tokenize"
      ],
      "execution_count": 4,
      "outputs": []
    },
    {
      "cell_type": "code",
      "metadata": {
        "colab": {
          "base_uri": "https://localhost:8080/"
        },
        "id": "UAUk1iUcB4W3",
        "outputId": "ac27ae6a-97da-42e3-d12f-27a512383a40"
      },
      "source": [
        "#훈련 데이터 카테고리 분포\n",
        "\n",
        "label={}\n",
        "\n",
        "for i in range(7):\n",
        "    label[i]=y_train_data.count(i)\n",
        "\n",
        "label"
      ],
      "execution_count": 9,
      "outputs": [
        {
          "output_type": "execute_result",
          "data": {
            "text/plain": [
              "{0: 5409, 1: 16470, 2: 16083, 3: 11672, 4: 1571, 5: 979, 6: 2950}"
            ]
          },
          "metadata": {},
          "execution_count": 9
        }
      ]
    },
    {
      "cell_type": "code",
      "metadata": {
        "colab": {
          "base_uri": "https://localhost:8080/"
        },
        "id": "93aYW5s0Cgyj",
        "outputId": "a050bee2-394a-4b19-b553-5ce0061076a7"
      },
      "source": [
        "#Augmentation\n",
        "def swap(new_words):\n",
        "\trandom_idx_1 = random.randint(0, len(new_words)-1)\n",
        "\trandom_idx_2 = random_idx_1\n",
        "\tcounter = 0\n",
        "\n",
        "\twhile random_idx_2 == random_idx_1:\n",
        "\t\trandom_idx_2 = random.randint(0, len(new_words)-1)\n",
        "\t\tcounter += 1\n",
        "\t\tif counter > 3:\n",
        "\t\t\treturn new_words\n",
        "\n",
        "\tnew_words[random_idx_1], new_words[random_idx_2] = new_words[random_idx_2], new_words[random_idx_1]\n",
        "\treturn new_words\n",
        "\n",
        "def random_swap(words, n):\n",
        "\tnew_words = words.copy()\n",
        "\tfor _ in range(n):\n",
        "\t\tnew_words = swap(new_words)\n",
        "\treturn new_words\n",
        "\n",
        "def EDA(sentence, alpha_rs=0.1, num_aug=4):\n",
        "    words = sentence.split(' ')\n",
        "    num_words = len(words)   \n",
        "    augmented_sentences = []\n",
        "    num_new_per_technique = int(num_aug/4) + 1\n",
        "    n_rs = max(1, int(alpha_rs*num_words))\n",
        "\n",
        "    for x in range(num_new_per_technique): \n",
        "        a_words = random_swap(words, n_rs)\n",
        "        augmented_sentences.append(\" \".join(a_words))\n",
        "\n",
        "    if num_aug >= 1:\n",
        "        augmented_sentences = augmented_sentences[:num_aug]\n",
        "    \n",
        "    augmented_sentences.append(sentence)   \n",
        "    return augmented_sentences\n",
        " \n",
        "aug = []\n",
        "for sentence in X_train_data : \n",
        "    augmented_sentences = EDA(sentence, alpha_rs = 0.1, num_aug = 4)\n",
        "    aug.append(augmented_sentences)\n",
        "\n",
        "X_train_aug = []\n",
        "y_train_aug = []\n",
        "\n",
        "for sentence in aug :  \n",
        "    index = aug.index(sentence)\n",
        "    for aug_sentence in sentence : \n",
        "        X_train_aug.append(aug_sentence)\n",
        "        y_train_aug.append(y_train_data[index])\n",
        "    \n",
        "print(len(X_train_aug)) \n",
        "print(len(y_train_aug))\n",
        "\n",
        "## result x_trian_aug 165402 \n",
        "##        y_train_aug 165402"
      ],
      "execution_count": 10,
      "outputs": [
        {
          "output_type": "stream",
          "name": "stdout",
          "text": [
            "165402\n",
            "165402\n"
          ]
        }
      ]
    },
    {
      "cell_type": "code",
      "metadata": {
        "id": "IpUR8gybDHgm"
      },
      "source": [
        "#불용어 설정\n",
        "stopwords = ['의','가','이','은','들','는','좀','잘','걍','과','도','를','으로','자','에','와','한','하다']"
      ],
      "execution_count": 11,
      "outputs": []
    },
    {
      "cell_type": "code",
      "metadata": {
        "id": "NQPcaEf0Ct7l"
      },
      "source": [
        "#토큰화\n",
        "from konlpy.tag import Okt\n",
        "pos_tagger = Okt()\n",
        "\n",
        "def tokenizing(doc):\n",
        "    x = [t[0] for t in pos_tagger.pos(doc) if not t[0] in stopwords]\n",
        "    \n",
        "    return ' '.join(x)\n",
        "\n",
        "X_train_token = [tokenizing(row) for row in X_train_aug]\n",
        "X_test_token  = [tokenizing(row) for row in X_test_data]"
      ],
      "execution_count": 13,
      "outputs": []
    },
    {
      "cell_type": "code",
      "metadata": {
        "colab": {
          "base_uri": "https://localhost:8080/"
        },
        "id": "cTJAml6PDgQm",
        "outputId": "0232e968-f4b2-4017-a1dd-3a41098f99b5"
      },
      "source": [
        "print(X_train_data[0:5])\n",
        "print(X_test_data[0:5])"
      ],
      "execution_count": 47,
      "outputs": [
        {
          "output_type": "stream",
          "name": "stdout",
          "text": [
            "['만화', '이치가', '약', '그사이', '짜긴']\n",
            "['연두색', '되면', '오', '그걸루', '연구소']\n"
          ]
        }
      ]
    },
    {
      "cell_type": "code",
      "metadata": {
        "id": "15-V9tqdEGH2"
      },
      "source": [
        "from nltk.tokenize import word_tokenize\n",
        "X_train_token_splitted = [nltk.word_tokenize(row) for row in X_train_token]\n",
        "X_test_token_splitted  = [nltk.word_tokenize(row) for row in X_test_token]"
      ],
      "execution_count": 20,
      "outputs": []
    },
    {
      "cell_type": "code",
      "metadata": {
        "id": "v4lp9hlUEbez"
      },
      "source": [
        "tokenizer = Tokenizer(oov_token = 'OOV')\n",
        "tokenizer.fit_on_texts(X_train_token_splitted)"
      ],
      "execution_count": 21,
      "outputs": []
    },
    {
      "cell_type": "code",
      "metadata": {
        "colab": {
          "base_uri": "https://localhost:8080/"
        },
        "id": "klZlrxcTEhyl",
        "outputId": "3f5a9b94-96ba-4d5f-fd13-ba6a9dc08b97"
      },
      "source": [
        "threshold = 4\n",
        "total_cnt = len(tokenizer.word_index) # 단어의 수\n",
        "rare_cnt = 0 # 등장 빈도수가 threshold보다 작은 단어의 개수를 카운트\n",
        "total_freq = 0 # 훈련 데이터의 전체 단어 빈도수 총 합\n",
        "rare_freq = 0 # 등장 빈도수가 threshold보다 작은 단어의 등장 빈도수의 총 합\n",
        "\n",
        "# 단어와 빈도수의 쌍(pair)을 key와 value로 받는다.\n",
        "for key, value in tokenizer.word_counts.items():\n",
        "    total_freq = total_freq + value\n",
        "\n",
        "    # 단어의 등장 빈도수가 threshold보다 작으면\n",
        "    if(value < threshold):\n",
        "        rare_cnt = rare_cnt + 1\n",
        "        rare_freq = rare_freq + value\n",
        "\n",
        "print('단어 집합(vocabulary)의 크기 :',total_cnt)\n",
        "print('등장 빈도가 %s번 이하인 희귀 단어의 수: %s'%(threshold - 1, rare_cnt))\n",
        "print(\"단어 집합에서 희귀 단어의 비율:\", (rare_cnt / total_cnt)*100)\n",
        "print(\"전체 등장 빈도에서 희귀 단어 등장 빈도 비율:\", (rare_freq / total_freq)*100)"
      ],
      "execution_count": 25,
      "outputs": [
        {
          "output_type": "stream",
          "name": "stdout",
          "text": [
            "단어 집합(vocabulary)의 크기 : 31437\n",
            "등장 빈도가 3번 이하인 희귀 단어의 수: 16082\n",
            "단어 집합에서 희귀 단어의 비율: 51.15628081559945\n",
            "전체 등장 빈도에서 희귀 단어 등장 빈도 비율: 4.852731283248994\n"
          ]
        }
      ]
    },
    {
      "cell_type": "code",
      "metadata": {
        "colab": {
          "base_uri": "https://localhost:8080/"
        },
        "id": "98iuam2mEn79",
        "outputId": "8900a7ee-4d19-480e-8c1d-2b966216f694"
      },
      "source": [
        "vocab_size = total_cnt - rare_cnt + 2\n",
        "print('단어 집합의 크기 :',vocab_size)"
      ],
      "execution_count": 26,
      "outputs": [
        {
          "output_type": "stream",
          "name": "stdout",
          "text": [
            "단어 집합의 크기 : 15357\n"
          ]
        }
      ]
    },
    {
      "cell_type": "code",
      "metadata": {
        "id": "W66isdDjE4P8"
      },
      "source": [
        "tokenizer = Tokenizer(vocab_size, oov_token = 'OOV') \n",
        "tokenizer.fit_on_texts(X_train_token_splitted)\n",
        "X_train = tokenizer.texts_to_sequences(X_train_token_splitted)\n",
        "X_test = tokenizer.texts_to_sequences(X_test_token_splitted)"
      ],
      "execution_count": 28,
      "outputs": []
    },
    {
      "cell_type": "code",
      "metadata": {
        "colab": {
          "base_uri": "https://localhost:8080/",
          "height": 315
        },
        "id": "FsjVcjaPE6C0",
        "outputId": "ad848782-e051-4c0a-a5f3-a5bf4f37d9ea"
      },
      "source": [
        "print('문장의 최대 길이 :',max(len(l) for l in X_train))\n",
        "print('문장의 평균 길이 :',sum(map(len, X_train))/len(X_train))\n",
        "plt.hist([len(s) for s in X_train], bins=50)\n",
        "plt.xlabel('length of samples')\n",
        "plt.ylabel('number of samples')\n",
        "plt.show()"
      ],
      "execution_count": 29,
      "outputs": [
        {
          "output_type": "stream",
          "name": "stdout",
          "text": [
            "문장의 최대 길이 : 42\n",
            "문장의 평균 길이 : 6.010828164109261\n"
          ]
        },
        {
          "output_type": "display_data",
          "data": {
            "image/png": "[encoded data removed]",
            "text/plain": [
              "<Figure size 432x288 with 1 Axes>"
            ]
          },
          "metadata": {
            "needs_background": "light"
          }
        }
      ]
    },
    {
      "cell_type": "code",
      "metadata": {
        "id": "KYMURxNsE8uk"
      },
      "source": [
        "def below_threshold_len(max_len, nested_list):\n",
        "  cnt = 0\n",
        "  for s in nested_list:\n",
        "    if(len(s) <= max_len):\n",
        "        cnt = cnt + 1\n",
        "  print('전체 샘플 중 길이가 %s 이하인 샘플의 비율: %s'%(max_len, (cnt / len(nested_list))*100))"
      ],
      "execution_count": 30,
      "outputs": []
    },
    {
      "cell_type": "code",
      "metadata": {
        "colab": {
          "base_uri": "https://localhost:8080/"
        },
        "id": "Uf4uiMQqFA7t",
        "outputId": "dc4187a2-7671-485b-9211-b2dc22f14a43"
      },
      "source": [
        "max_len = 15\n",
        "below_threshold_len(max_len, X_train)"
      ],
      "execution_count": 70,
      "outputs": [
        {
          "output_type": "stream",
          "name": "stdout",
          "text": [
            "전체 샘플 중 길이가 15 이하인 샘플의 비율: 0.0\n"
          ]
        }
      ]
    },
    {
      "cell_type": "code",
      "metadata": {
        "id": "p8ztJJe3FC5s"
      },
      "source": [
        "from tensorflow.keras.utils import to_categorical\n",
        "\n",
        "X_train = pad_sequences(X_train, maxlen = max_len)\n",
        "X_test = pad_sequences(X_test, maxlen = max_len)\n",
        "\n",
        "y_train = to_categorical(y_train_aug)\n",
        "y_test = to_categorical(y_test_data)"
      ],
      "execution_count": 71,
      "outputs": []
    },
    {
      "cell_type": "code",
      "metadata": {
        "colab": {
          "base_uri": "https://localhost:8080/"
        },
        "id": "-MENo_fnGCGl",
        "outputId": "cbe339be-d5ae-4bd8-950b-232f65102b94"
      },
      "source": [
        "print(len(X_train))\n",
        "print(len(y_train))"
      ],
      "execution_count": 72,
      "outputs": [
        {
          "output_type": "stream",
          "name": "stdout",
          "text": [
            "165402\n",
            "165402\n"
          ]
        }
      ]
    },
    {
      "cell_type": "code",
      "metadata": {
        "colab": {
          "base_uri": "https://localhost:8080/"
        },
        "id": "LLWqerH7FL_l",
        "outputId": "2d0f8ddf-a987-415c-97a6-3421bddcb7cc"
      },
      "source": [
        "print(X_train[1000:1003])\n",
        "print(X_test[1000:1003])\n",
        "print(y_train[1000:1003])\n",
        "print(y_test[1000:1003])"
      ],
      "execution_count": 73,
      "outputs": [
        {
          "output_type": "stream",
          "name": "stdout",
          "text": [
            "[[    0     0     0     0     0     0     0     0     0     0     0     0\n",
            "      0     0  3915]\n",
            " [    0     0     0     0     0     0     0     0     0     0     0     0\n",
            "      0     0  3915]\n",
            " [    0     0     0     0     0     0     0     0     0     0     0     0\n",
            "      0     0 10618]]\n",
            "[[   0    0    0    0    0    0    0    0  202   56   53 1282   74    1\n",
            "   115]\n",
            " [   0    0    0    0    0    0    0    0    0    0    0    0  126 1512\n",
            "    79]\n",
            " [   0    0    0    0    0    0    0  689 3503  598    4 2817   20    1\n",
            "  1062]]\n",
            "[[1. 0. 0. 0. 0. 0. 0.]\n",
            " [1. 0. 0. 0. 0. 0. 0.]\n",
            " [1. 0. 0. 0. 0. 0. 0.]]\n",
            "[[0. 1. 0. 0. 0. 0. 0.]\n",
            " [0. 1. 0. 0. 0. 0. 0.]\n",
            " [0. 1. 0. 0. 0. 0. 0.]]\n"
          ]
        }
      ]
    },
    {
      "cell_type": "markdown",
      "metadata": {
        "id": "5-5q6JDhFfhd"
      },
      "source": [
        "####모델링(LSTM)"
      ]
    },
    {
      "cell_type": "code",
      "metadata": {
        "colab": {
          "base_uri": "https://localhost:8080/"
        },
        "id": "aP-gYFfpFNmV",
        "outputId": "93a006fa-e18d-44cb-f585-77d3bd599811"
      },
      "source": [
        "X_train.shape"
      ],
      "execution_count": 37,
      "outputs": [
        {
          "output_type": "execute_result",
          "data": {
            "text/plain": [
              "(165402, 17)"
            ]
          },
          "metadata": {},
          "execution_count": 37
        }
      ]
    },
    {
      "cell_type": "code",
      "metadata": {
        "id": "y1zHhgB5Fjg1"
      },
      "source": [
        "from tensorflow.keras.layers import SimpleRNN, Embedding, Dense\n",
        "from tensorflow.keras.models import Sequential\n",
        "from tensorflow.keras.layers import Embedding, Dense, LSTM\n",
        "from tensorflow.keras.models import Sequential\n",
        "from tensorflow.keras.models import load_model\n",
        "from tensorflow.keras.callbacks import EarlyStopping, ModelCheckpoint"
      ],
      "execution_count": 41,
      "outputs": []
    },
    {
      "cell_type": "code",
      "metadata": {
        "colab": {
          "base_uri": "https://localhost:8080/"
        },
        "id": "2x2jj3aQFk51",
        "outputId": "6e3bf6e4-b705-425e-ba75-d87dd9deb59e"
      },
      "source": [
        "!pip install tensorflow-addons\n",
        "\n",
        "from tensorflow_addons.metrics import F1Score"
      ],
      "execution_count": 39,
      "outputs": [
        {
          "output_type": "stream",
          "name": "stdout",
          "text": [
            "Collecting tensorflow-addons\n",
            "  Downloading tensorflow_addons-0.14.0-cp37-cp37m-manylinux_2_12_x86_64.manylinux2010_x86_64.whl (1.1 MB)\n",
            "\u001b[?25l\r\u001b[K     |▎                               | 10 kB 23.3 MB/s eta 0:00:01\r\u001b[K     |▋                               | 20 kB 29.9 MB/s eta 0:00:01\r\u001b[K     |▉                               | 30 kB 18.0 MB/s eta 0:00:01\r\u001b[K     |█▏                              | 40 kB 12.2 MB/s eta 0:00:01\r\u001b[K     |█▌                              | 51 kB 5.2 MB/s eta 0:00:01\r\u001b[K     |█▊                              | 61 kB 5.9 MB/s eta 0:00:01\r\u001b[K     |██                              | 71 kB 5.3 MB/s eta 0:00:01\r\u001b[K     |██▍                             | 81 kB 5.8 MB/s eta 0:00:01\r\u001b[K     |██▋                             | 92 kB 5.9 MB/s eta 0:00:01\r\u001b[K     |███                             | 102 kB 5.1 MB/s eta 0:00:01\r\u001b[K     |███▎                            | 112 kB 5.1 MB/s eta 0:00:01\r\u001b[K     |███▌                            | 122 kB 5.1 MB/s eta 0:00:01\r\u001b[K     |███▉                            | 133 kB 5.1 MB/s eta 0:00:01\r\u001b[K     |████▏                           | 143 kB 5.1 MB/s eta 0:00:01\r\u001b[K     |████▍                           | 153 kB 5.1 MB/s eta 0:00:01\r\u001b[K     |████▊                           | 163 kB 5.1 MB/s eta 0:00:01\r\u001b[K     |█████                           | 174 kB 5.1 MB/s eta 0:00:01\r\u001b[K     |█████▎                          | 184 kB 5.1 MB/s eta 0:00:01\r\u001b[K     |█████▋                          | 194 kB 5.1 MB/s eta 0:00:01\r\u001b[K     |██████                          | 204 kB 5.1 MB/s eta 0:00:01\r\u001b[K     |██████▏                         | 215 kB 5.1 MB/s eta 0:00:01\r\u001b[K     |██████▌                         | 225 kB 5.1 MB/s eta 0:00:01\r\u001b[K     |██████▉                         | 235 kB 5.1 MB/s eta 0:00:01\r\u001b[K     |███████                         | 245 kB 5.1 MB/s eta 0:00:01\r\u001b[K     |███████▍                        | 256 kB 5.1 MB/s eta 0:00:01\r\u001b[K     |███████▊                        | 266 kB 5.1 MB/s eta 0:00:01\r\u001b[K     |████████                        | 276 kB 5.1 MB/s eta 0:00:01\r\u001b[K     |████████▎                       | 286 kB 5.1 MB/s eta 0:00:01\r\u001b[K     |████████▋                       | 296 kB 5.1 MB/s eta 0:00:01\r\u001b[K     |████████▉                       | 307 kB 5.1 MB/s eta 0:00:01\r\u001b[K     |█████████▏                      | 317 kB 5.1 MB/s eta 0:00:01\r\u001b[K     |█████████▌                      | 327 kB 5.1 MB/s eta 0:00:01\r\u001b[K     |█████████▊                      | 337 kB 5.1 MB/s eta 0:00:01\r\u001b[K     |██████████                      | 348 kB 5.1 MB/s eta 0:00:01\r\u001b[K     |██████████▍                     | 358 kB 5.1 MB/s eta 0:00:01\r\u001b[K     |██████████▋                     | 368 kB 5.1 MB/s eta 0:00:01\r\u001b[K     |███████████                     | 378 kB 5.1 MB/s eta 0:00:01\r\u001b[K     |███████████▎                    | 389 kB 5.1 MB/s eta 0:00:01\r\u001b[K     |███████████▌                    | 399 kB 5.1 MB/s eta 0:00:01\r\u001b[K     |███████████▉                    | 409 kB 5.1 MB/s eta 0:00:01\r\u001b[K     |████████████▏                   | 419 kB 5.1 MB/s eta 0:00:01\r\u001b[K     |████████████▍                   | 430 kB 5.1 MB/s eta 0:00:01\r\u001b[K     |████████████▊                   | 440 kB 5.1 MB/s eta 0:00:01\r\u001b[K     |█████████████                   | 450 kB 5.1 MB/s eta 0:00:01\r\u001b[K     |█████████████▎                  | 460 kB 5.1 MB/s eta 0:00:01\r\u001b[K     |█████████████▋                  | 471 kB 5.1 MB/s eta 0:00:01\r\u001b[K     |██████████████                  | 481 kB 5.1 MB/s eta 0:00:01\r\u001b[K     |██████████████▏                 | 491 kB 5.1 MB/s eta 0:00:01\r\u001b[K     |██████████████▌                 | 501 kB 5.1 MB/s eta 0:00:01\r\u001b[K     |██████████████▉                 | 512 kB 5.1 MB/s eta 0:00:01\r\u001b[K     |███████████████                 | 522 kB 5.1 MB/s eta 0:00:01\r\u001b[K     |███████████████▍                | 532 kB 5.1 MB/s eta 0:00:01\r\u001b[K     |███████████████▊                | 542 kB 5.1 MB/s eta 0:00:01\r\u001b[K     |████████████████                | 552 kB 5.1 MB/s eta 0:00:01\r\u001b[K     |████████████████▎               | 563 kB 5.1 MB/s eta 0:00:01\r\u001b[K     |████████████████▋               | 573 kB 5.1 MB/s eta 0:00:01\r\u001b[K     |████████████████▉               | 583 kB 5.1 MB/s eta 0:00:01\r\u001b[K     |█████████████████▏              | 593 kB 5.1 MB/s eta 0:00:01\r\u001b[K     |█████████████████▌              | 604 kB 5.1 MB/s eta 0:00:01\r\u001b[K     |█████████████████▊              | 614 kB 5.1 MB/s eta 0:00:01\r\u001b[K     |██████████████████              | 624 kB 5.1 MB/s eta 0:00:01\r\u001b[K     |██████████████████▍             | 634 kB 5.1 MB/s eta 0:00:01\r\u001b[K     |██████████████████▋             | 645 kB 5.1 MB/s eta 0:00:01\r\u001b[K     |███████████████████             | 655 kB 5.1 MB/s eta 0:00:01\r\u001b[K     |███████████████████▎            | 665 kB 5.1 MB/s eta 0:00:01\r\u001b[K     |███████████████████▌            | 675 kB 5.1 MB/s eta 0:00:01\r\u001b[K     |███████████████████▉            | 686 kB 5.1 MB/s eta 0:00:01\r\u001b[K     |████████████████████▏           | 696 kB 5.1 MB/s eta 0:00:01\r\u001b[K     |████████████████████▍           | 706 kB 5.1 MB/s eta 0:00:01\r\u001b[K     |████████████████████▊           | 716 kB 5.1 MB/s eta 0:00:01\r\u001b[K     |█████████████████████           | 727 kB 5.1 MB/s eta 0:00:01\r\u001b[K     |█████████████████████▎          | 737 kB 5.1 MB/s eta 0:00:01\r\u001b[K     |█████████████████████▋          | 747 kB 5.1 MB/s eta 0:00:01\r\u001b[K     |██████████████████████          | 757 kB 5.1 MB/s eta 0:00:01\r\u001b[K     |██████████████████████▏         | 768 kB 5.1 MB/s eta 0:00:01\r\u001b[K     |██████████████████████▌         | 778 kB 5.1 MB/s eta 0:00:01\r\u001b[K     |██████████████████████▉         | 788 kB 5.1 MB/s eta 0:00:01\r\u001b[K     |███████████████████████         | 798 kB 5.1 MB/s eta 0:00:01\r\u001b[K     |███████████████████████▍        | 808 kB 5.1 MB/s eta 0:00:01\r\u001b[K     |███████████████████████▊        | 819 kB 5.1 MB/s eta 0:00:01\r\u001b[K     |████████████████████████        | 829 kB 5.1 MB/s eta 0:00:01\r\u001b[K     |████████████████████████▎       | 839 kB 5.1 MB/s eta 0:00:01\r\u001b[K     |████████████████████████▋       | 849 kB 5.1 MB/s eta 0:00:01\r\u001b[K     |████████████████████████▉       | 860 kB 5.1 MB/s eta 0:00:01\r\u001b[K     |█████████████████████████▏      | 870 kB 5.1 MB/s eta 0:00:01\r\u001b[K     |█████████████████████████▍      | 880 kB 5.1 MB/s eta 0:00:01\r\u001b[K     |█████████████████████████▊      | 890 kB 5.1 MB/s eta 0:00:01\r\u001b[K     |██████████████████████████      | 901 kB 5.1 MB/s eta 0:00:01\r\u001b[K     |██████████████████████████▎     | 911 kB 5.1 MB/s eta 0:00:01\r\u001b[K     |██████████████████████████▋     | 921 kB 5.1 MB/s eta 0:00:01\r\u001b[K     |███████████████████████████     | 931 kB 5.1 MB/s eta 0:00:01\r\u001b[K     |███████████████████████████▏    | 942 kB 5.1 MB/s eta 0:00:01\r\u001b[K     |███████████████████████████▌    | 952 kB 5.1 MB/s eta 0:00:01\r\u001b[K     |███████████████████████████▉    | 962 kB 5.1 MB/s eta 0:00:01\r\u001b[K     |████████████████████████████    | 972 kB 5.1 MB/s eta 0:00:01\r\u001b[K     |████████████████████████████▍   | 983 kB 5.1 MB/s eta 0:00:01\r\u001b[K     |████████████████████████████▊   | 993 kB 5.1 MB/s eta 0:00:01\r\u001b[K     |█████████████████████████████   | 1.0 MB 5.1 MB/s eta 0:00:01\r\u001b[K     |█████████████████████████████▎  | 1.0 MB 5.1 MB/s eta 0:00:01\r\u001b[K     |█████████████████████████████▋  | 1.0 MB 5.1 MB/s eta 0:00:01\r\u001b[K     |█████████████████████████████▉  | 1.0 MB 5.1 MB/s eta 0:00:01\r\u001b[K     |██████████████████████████████▏ | 1.0 MB 5.1 MB/s eta 0:00:01\r\u001b[K     |██████████████████████████████▌ | 1.1 MB 5.1 MB/s eta 0:00:01\r\u001b[K     |██████████████████████████████▊ | 1.1 MB 5.1 MB/s eta 0:00:01\r\u001b[K     |███████████████████████████████ | 1.1 MB 5.1 MB/s eta 0:00:01\r\u001b[K     |███████████████████████████████▍| 1.1 MB 5.1 MB/s eta 0:00:01\r\u001b[K     |███████████████████████████████▋| 1.1 MB 5.1 MB/s eta 0:00:01\r\u001b[K     |████████████████████████████████| 1.1 MB 5.1 MB/s eta 0:00:01\r\u001b[K     |████████████████████████████████| 1.1 MB 5.1 MB/s \n",
            "\u001b[?25hRequirement already satisfied: typeguard>=2.7 in /usr/local/lib/python3.7/dist-packages (from tensorflow-addons) (2.7.1)\n",
            "Installing collected packages: tensorflow-addons\n",
            "Successfully installed tensorflow-addons-0.14.0\n"
          ]
        }
      ]
    },
    {
      "cell_type": "code",
      "metadata": {
        "id": "eAJUtmvMFmSt"
      },
      "source": [
        "f1 = F1Score(num_classes=7, name=\"F1\")\n",
        "weighted_f1 = F1Score(num_classes=7, average=\"weighted\", name=\"Weighted_F1\")"
      ],
      "execution_count": 40,
      "outputs": []
    },
    {
      "cell_type": "code",
      "metadata": {
        "id": "d4mENoxyFnaV"
      },
      "source": [
        "model = Sequential()\n",
        "model.add(Embedding(vocab_size, 100))\n",
        "model.add(LSTM(128))\n",
        "model.add(Dense(7, activation='softmax'))"
      ],
      "execution_count": 42,
      "outputs": []
    },
    {
      "cell_type": "code",
      "metadata": {
        "id": "gvHa9D96FrHF"
      },
      "source": [
        "es = EarlyStopping(monitor='val_loss', mode='min', verbose=1, patience=4)\n",
        "mc = ModelCheckpoint('best_model.h5', monitor='val_acc', mode='max', verbose=1, save_best_only=True)"
      ],
      "execution_count": 43,
      "outputs": []
    },
    {
      "cell_type": "code",
      "metadata": {
        "colab": {
          "base_uri": "https://localhost:8080/"
        },
        "id": "ZYezXD5QFszF",
        "outputId": "575136ce-9d14-4e45-fb58-d42ce4042e87"
      },
      "source": [
        "model.compile(optimizer='Adam', loss='categorical_crossentropy', metrics=['acc', f1, weighted_f1])\n",
        "history = model.fit(X_train, y_train, epochs=15, callbacks=[es, mc], batch_size=512, validation_split=0.15)"
      ],
      "execution_count": 74,
      "outputs": [
        {
          "output_type": "stream",
          "name": "stdout",
          "text": [
            "Epoch 1/15\n",
            "275/275 [==============================] - 55s 190ms/step - loss: 0.0565 - acc: 0.9821 - F1: 0.8221 - Weighted_F1: 0.9740 - val_loss: 5.1797 - val_acc: 0.5540 - val_F1: 0.5458 - val_Weighted_F1: 0.4382\n",
            "\n",
            "Epoch 00001: val_acc did not improve from 0.56531\n",
            "Epoch 2/15\n",
            "275/275 [==============================] - 51s 185ms/step - loss: 0.0468 - acc: 0.9852 - F1: 0.8340 - Weighted_F1: 0.9852 - val_loss: 5.8906 - val_acc: 0.5522 - val_F1: 0.5357 - val_Weighted_F1: 0.4379\n",
            "\n",
            "Epoch 00002: val_acc did not improve from 0.56531\n",
            "Epoch 3/15\n",
            "275/275 [==============================] - 51s 187ms/step - loss: 0.0401 - acc: 0.9873 - F1: 0.8366 - Weighted_F1: 0.9873 - val_loss: 6.1237 - val_acc: 0.5524 - val_F1: 0.5452 - val_Weighted_F1: 0.4393\n",
            "\n",
            "Epoch 00003: val_acc did not improve from 0.56531\n",
            "Epoch 4/15\n",
            "275/275 [==============================] - 52s 189ms/step - loss: 0.0350 - acc: 0.9890 - F1: 0.8388 - Weighted_F1: 0.9890 - val_loss: 6.9202 - val_acc: 0.5488 - val_F1: 0.5340 - val_Weighted_F1: 0.4346\n",
            "\n",
            "Epoch 00004: val_acc did not improve from 0.56531\n",
            "Epoch 5/15\n",
            "275/275 [==============================] - 52s 191ms/step - loss: 0.0313 - acc: 0.9905 - F1: 0.8411 - Weighted_F1: 0.9905 - val_loss: 6.4603 - val_acc: 0.5479 - val_F1: 0.5339 - val_Weighted_F1: 0.4390\n",
            "\n",
            "Epoch 00005: val_acc did not improve from 0.56531\n",
            "Epoch 00005: early stopping\n"
          ]
        }
      ]
    },
    {
      "cell_type": "code",
      "metadata": {
        "colab": {
          "base_uri": "https://localhost:8080/",
          "height": 295
        },
        "id": "YPk4rsezFyu1",
        "outputId": "096643f7-2310-44ba-f163-1d8f434f4ea8"
      },
      "source": [
        "plt.plot(history.history['acc'])\n",
        "plt.plot(history.history['val_acc'])\n",
        "plt.title('model accuracy')\n",
        "plt.ylabel('accuracy')\n",
        "plt.xlabel('epoch')\n",
        "plt.legend(['train', 'test'], loc='upper left')\n",
        "plt.show()"
      ],
      "execution_count": 75,
      "outputs": [
        {
          "output_type": "display_data",
          "data": {
            "image/png": "[encoded data removed]",
            "text/plain": [
              "<Figure size 432x288 with 1 Axes>"
            ]
          },
          "metadata": {
            "needs_background": "light"
          }
        }
      ]
    },
    {
      "cell_type": "code",
      "metadata": {
        "colab": {
          "base_uri": "https://localhost:8080/"
        },
        "id": "3A4-1_zkNJ1k",
        "outputId": "a2dc8855-3209-4d11-cd3f-d6f95a8f7b10"
      },
      "source": [
        "score=model.evaluate(X_test, y_test)\n",
        "print(score)"
      ],
      "execution_count": 80,
      "outputs": [
        {
          "output_type": "stream",
          "name": "stdout",
          "text": [
            "192/192 [==============================] - 1s 8ms/step - loss: 1.8150 - acc: 0.8015 - F1: 0.6292 - Weighted_F1: 0.7801\n",
            "[1.8150081634521484, 0.8015030026435852, array([0.91347754, 0.80106807, 0.8793669 , 0.8143801 , 0.41558444,\n",
            "       0.5803109 , 0.        ], dtype=float32), 0.7801032662391663]\n"
          ]
        }
      ]
    },
    {
      "cell_type": "markdown",
      "metadata": {
        "id": "MTtTS0kIKTxM"
      },
      "source": [
        "####모델링(CNN)"
      ]
    },
    {
      "cell_type": "code",
      "metadata": {
        "id": "LByfSphiON7C"
      },
      "source": [
        "from keras.datasets import reuters\n",
        "from keras.utils import np_utils\n",
        "from keras.preprocessing import sequence\n",
        "from keras.models import Sequential\n",
        "from keras.layers import Dense, Embedding, LSTM\n",
        "from keras.layers import Flatten, Dropout\n",
        "from keras.layers import Conv1D, GlobalMaxPooling1D"
      ],
      "execution_count": 63,
      "outputs": []
    },
    {
      "cell_type": "code",
      "metadata": {
        "id": "Qvk2hRiHKX2U"
      },
      "source": [
        "model_c = Sequential()\n",
        "model_c.add(Embedding(vocab_size, 128, input_length=max_len))\n",
        "model_c.add(Dropout(0.2))\n",
        "model_c.add(Conv1D(256,\n",
        "                 3,\n",
        "                 padding='valid',\n",
        "                 activation='relu',\n",
        "                 strides=1))\n",
        "model_c.add(GlobalMaxPooling1D())\n",
        "model_c.add(Dense(128, activation='relu'))\n",
        "model_c.add(Dropout(0.2))\n",
        "model_c.add(Dense(7, activation='softmax'))"
      ],
      "execution_count": 78,
      "outputs": []
    },
    {
      "cell_type": "code",
      "metadata": {
        "colab": {
          "base_uri": "https://localhost:8080/"
        },
        "id": "xLuQvfoVMbuQ",
        "outputId": "840d376a-1ab9-4fc3-8168-cc742a96505a"
      },
      "source": [
        "model_c.compile(optimizer='Adam', loss='categorical_crossentropy', metrics=['acc', f1, weighted_f1])\n",
        "history = model_c.fit(X_train, y_train, epochs=15, callbacks=[es, mc], batch_size=512, validation_split=0.15)"
      ],
      "execution_count": 79,
      "outputs": [
        {
          "output_type": "stream",
          "name": "stdout",
          "text": [
            "Epoch 1/15\n",
            "275/275 [==============================] - 40s 140ms/step - loss: 0.5896 - acc: 0.7964 - F1: 0.5898 - Weighted_F1: 0.8235 - val_loss: 3.2008 - val_acc: 0.5506 - val_F1: 0.4868 - val_Weighted_F1: 0.4298\n",
            "\n",
            "Epoch 00001: val_acc did not improve from 0.56531\n",
            "Epoch 2/15\n",
            "275/275 [==============================] - 37s 136ms/step - loss: 0.1878 - acc: 0.9406 - F1: 0.7379 - Weighted_F1: 0.9391 - val_loss: 4.0065 - val_acc: 0.5582 - val_F1: 0.5452 - val_Weighted_F1: 0.4459\n",
            "\n",
            "Epoch 00002: val_acc did not improve from 0.56531\n",
            "Epoch 3/15\n",
            "275/275 [==============================] - 38s 138ms/step - loss: 0.1056 - acc: 0.9671 - F1: 0.7997 - Weighted_F1: 0.9670 - val_loss: 4.6647 - val_acc: 0.5557 - val_F1: 0.5455 - val_Weighted_F1: 0.4424\n",
            "\n",
            "Epoch 00003: val_acc did not improve from 0.56531\n",
            "Epoch 4/15\n",
            "275/275 [==============================] - 38s 139ms/step - loss: 0.0733 - acc: 0.9777 - F1: 0.8192 - Weighted_F1: 0.9776 - val_loss: 4.9610 - val_acc: 0.5540 - val_F1: 0.5450 - val_Weighted_F1: 0.4447\n",
            "\n",
            "Epoch 00004: val_acc did not improve from 0.56531\n",
            "Epoch 5/15\n",
            "275/275 [==============================] - 38s 139ms/step - loss: 0.0562 - acc: 0.9826 - F1: 0.8275 - Weighted_F1: 0.9826 - val_loss: 5.3876 - val_acc: 0.5542 - val_F1: 0.5411 - val_Weighted_F1: 0.4408\n",
            "\n",
            "Epoch 00005: val_acc did not improve from 0.56531\n",
            "Epoch 00005: early stopping\n"
          ]
        }
      ]
    },
    {
      "cell_type": "code",
      "metadata": {
        "colab": {
          "base_uri": "https://localhost:8080/"
        },
        "id": "U1bUlr95Olir",
        "outputId": "a099f401-ce1b-4acc-9f12-1d7a4fa1532d"
      },
      "source": [
        "score=model_c.evaluate(X_test, y_test)\n",
        "print(score)"
      ],
      "execution_count": 81,
      "outputs": [
        {
          "output_type": "stream",
          "name": "stdout",
          "text": [
            "192/192 [==============================] - 1s 4ms/step - loss: 1.3886 - acc: 0.8183 - F1: 0.6393 - Weighted_F1: 0.7946\n",
            "[1.3885889053344727, 0.8183303475379944, array([0.9086337 , 0.82019573, 0.889371  , 0.83902806, 0.48148146,\n",
            "       0.53608245, 0.        ], dtype=float32), 0.7945775985717773]\n"
          ]
        }
      ]
    }
  ]
}