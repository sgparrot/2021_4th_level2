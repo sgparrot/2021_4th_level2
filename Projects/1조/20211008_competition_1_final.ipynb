{
 "cells": [
  {
   "cell_type": "markdown",
   "metadata": {},
   "source": [
    "# Level 2 1<sup>st</sup> Competition\n",
    "\n",
    "1조 competition 자료"
   ]
  },
  {
   "cell_type": "code",
   "execution_count": 1,
   "metadata": {
    "execution": {
     "iopub.execute_input": "2021-10-06T11:19:54.974473Z",
     "iopub.status.busy": "2021-10-06T11:19:54.974277Z",
     "iopub.status.idle": "2021-10-06T11:19:58.006394Z",
     "shell.execute_reply": "2021-10-06T11:19:58.005847Z",
     "shell.execute_reply.started": "2021-10-06T11:19:54.974450Z"
    },
    "tags": []
   },
   "outputs": [],
   "source": [
    "#!/usr/bin/env python3\n",
    "\n",
    "import numpy as np\n",
    "import pandas as pd\n",
    "import matplotlib.pyplot as plt\n",
    "\n",
    "from pprint import pprint\n",
    "from gensim.models.fasttext import FastText as FT_gensim\n",
    "\n",
    "import nltk\n",
    "from konlpy.tag import Okt\n",
    "\n",
    "from sklearn.model_selection import train_test_split\n",
    "\n",
    "import tensorflow as tf\n",
    "\n",
    "from tensorflow.keras.preprocessing.text import Tokenizer\n",
    "from tensorflow.keras.preprocessing.sequence import pad_sequences\n",
    "from tensorflow.keras.utils import to_categorical, Sequence\n",
    "from tensorflow.keras.layers import Embedding, Dense, LSTM, Bidirectional, Dropout\n",
    "from tensorflow.keras.models import Sequential\n",
    "from tensorflow.keras.models import load_model\n",
    "from tensorflow.keras.callbacks import EarlyStopping, ModelCheckpoint\n",
    "from tensorflow.keras.experimental import CosineDecayRestarts\n",
    "from tensorflow.keras.optimizers import Adam, Adagrad, Adadelta\n",
    "\n",
    "from tensorflow_addons.metrics import F1Score\n",
    "from tensorflow_addons.optimizers import RectifiedAdam as RAdam\n",
    "from tensorflow_addons.optimizers import AdamW"
   ]
  },
  {
   "cell_type": "markdown",
   "metadata": {
    "id": "SScViDI_SdN5",
    "tags": []
   },
   "source": [
    "# 참고 자료 및 출처"
   ]
  },
  {
   "cell_type": "markdown",
   "metadata": {
    "id": "joMIMS7YSfZT"
   },
   "source": [
    "데이터셋 논문: https://arxiv.org/pdf/1811.04231.pdf <br>\n",
    "GitHub: https://github.com/warnikchow/3i4k"
   ]
  },
  {
   "cell_type": "markdown",
   "metadata": {
    "id": "n0dVfVFAS4sf"
   },
   "source": [
    "Pretrained Data Citation\n",
    "\n",
    "@article{cho2018real, <br>\n",
    "\ttitle={Real-time Automatic Word Segmentation for User-generated Text}, <br>\n",
    "\tauthor={Cho, Won Ik and Cheon, Sung Jun and Kang, Woo Hyun and Kim, Ji Won and Kim, Nam Soo}, <br>\n",
    "\tjournal={arXiv preprint arXiv:1810.13113}, <br>\n",
    "\tyear={2018} <br>\n",
    "}"
   ]
  },
  {
   "cell_type": "markdown",
   "metadata": {
    "id": "DLTslZgWTGw5"
   },
   "source": [
    "Dataset, Guideline Citation\n",
    "\n",
    "@article{cho2018speech, <br>\n",
    "\ttitle={Speech Intention Understanding in a Head-final Language: A Disambiguation Utilizing Intonation-dependency}, <br>\n",
    "\tauthor={Cho, Won Ik and Lee, Hyeon Seung and Yoon, Ji Won and Kim, Seok Min and Kim, Nam Soo}, <br>\n",
    "\tjournal={arXiv preprint arXiv:1811.04231}, <br>\n",
    "\tyear={2018} <br>\n",
    "}"
   ]
  },
  {
   "cell_type": "markdown",
   "metadata": {
    "id": "tCqfDhDbVLtP"
   },
   "source": [
    "# Preparing Dataset"
   ]
  },
  {
   "cell_type": "code",
   "execution_count": 2,
   "metadata": {
    "colab": {
     "base_uri": "https://localhost:8080/"
    },
    "execution": {
     "iopub.execute_input": "2021-10-06T11:19:58.008130Z",
     "iopub.status.busy": "2021-10-06T11:19:58.007755Z",
     "iopub.status.idle": "2021-10-06T11:19:58.010630Z",
     "shell.execute_reply": "2021-10-06T11:19:58.010190Z",
     "shell.execute_reply.started": "2021-10-06T11:19:58.008101Z"
    },
    "id": "1G7ETfXomgtb",
    "outputId": "8c0ea5fb-463f-4594-ac39-e75717b2bf4f",
    "tags": []
   },
   "outputs": [],
   "source": [
    "# !wget https://raw.githubusercontent.com/warnikchow/3i4k/master/data/train_val_test/fci_train_val.txt\n",
    "# !wget https://raw.githubusercontent.com/warnikchow/3i4k/master/data/train_val_test/fci_test.txt"
   ]
  },
  {
   "cell_type": "code",
   "execution_count": 3,
   "metadata": {
    "execution": {
     "iopub.execute_input": "2021-10-06T11:19:58.011663Z",
     "iopub.status.busy": "2021-10-06T11:19:58.011382Z",
     "iopub.status.idle": "2021-10-06T11:19:58.020452Z",
     "shell.execute_reply": "2021-10-06T11:19:58.019825Z",
     "shell.execute_reply.started": "2021-10-06T11:19:58.011637Z"
    },
    "id": "knkRCBZJicn0",
    "tags": []
   },
   "outputs": [],
   "source": [
    "def read_data(filename):\n",
    "\n",
    "    with open(filename, \"r\", encoding=\"UTF8\") as f:\n",
    "        data = [line.split(\"\\t\") for line in f.read().splitlines()]\n",
    "\n",
    "    return data"
   ]
  },
  {
   "cell_type": "code",
   "execution_count": 4,
   "metadata": {
    "execution": {
     "iopub.execute_input": "2021-10-06T11:19:58.021640Z",
     "iopub.status.busy": "2021-10-06T11:19:58.021350Z",
     "iopub.status.idle": "2021-10-06T11:19:58.244953Z",
     "shell.execute_reply": "2021-10-06T11:19:58.244403Z",
     "shell.execute_reply.started": "2021-10-06T11:19:58.021615Z"
    },
    "id": "NQQPDtBTijll",
    "tags": []
   },
   "outputs": [],
   "source": [
    "train_data = read_data(\"fci_train_val.txt\")\n",
    "X_train_data = [t[1] for t in train_data]\n",
    "y_train_data = [int(t[0]) for t in train_data]\n",
    "\n",
    "test_data = read_data(\"fci_test.txt\")\n",
    "X_test_data = [t[1] for t in test_data]\n",
    "y_test_data = [int(t[0]) for t in test_data]"
   ]
  },
  {
   "cell_type": "code",
   "execution_count": 5,
   "metadata": {
    "colab": {
     "base_uri": "https://localhost:8080/"
    },
    "execution": {
     "iopub.execute_input": "2021-10-06T11:19:58.246169Z",
     "iopub.status.busy": "2021-10-06T11:19:58.245849Z",
     "iopub.status.idle": "2021-10-06T11:19:58.250936Z",
     "shell.execute_reply": "2021-10-06T11:19:58.250480Z",
     "shell.execute_reply.started": "2021-10-06T11:19:58.246140Z"
    },
    "id": "0aZkljSUijcI",
    "outputId": "9bb59b3e-8251-4c75-9bc3-8de01dd72294",
    "tags": []
   },
   "outputs": [
    {
     "name": "stdout",
     "output_type": "stream",
     "text": [
      "55134\n",
      "55134\n",
      "6121\n",
      "6121\n",
      "['만화', '이치가', '약', '그사이', '짜긴', '혜택', '지출', '어젯밤', '승진', '꼬마']\n"
     ]
    }
   ],
   "source": [
    "print(len(X_train_data))\n",
    "print(len(y_train_data))\n",
    "print(len(X_test_data))\n",
    "print(len(y_test_data))\n",
    "\n",
    "print(X_train_data[:10])"
   ]
  },
  {
   "cell_type": "markdown",
   "metadata": {
    "tags": []
   },
   "source": [
    "## Weight Correction"
   ]
  },
  {
   "cell_type": "markdown",
   "metadata": {},
   "source": [
    "> 마땅한 방법이 떠오르지 않아서 하드코딩 했는데, 더 나은 방법이 있을지?"
   ]
  },
  {
   "cell_type": "code",
   "execution_count": 6,
   "metadata": {
    "execution": {
     "iopub.execute_input": "2021-10-06T11:19:58.252029Z",
     "iopub.status.busy": "2021-10-06T11:19:58.251709Z",
     "iopub.status.idle": "2021-10-06T11:19:58.269606Z",
     "shell.execute_reply": "2021-10-06T11:19:58.269183Z",
     "shell.execute_reply.started": "2021-10-06T11:19:58.252003Z"
    },
    "tags": []
   },
   "outputs": [
    {
     "name": "stdout",
     "output_type": "stream",
     "text": [
      "[5409, 16470, 16083, 11672, 1571, 979, 2950]\n",
      "55134\n"
     ]
    }
   ],
   "source": [
    "zero_c = 0\n",
    "one_c = 0\n",
    "two_c = 0\n",
    "three_c = 0\n",
    "four_c = 0\n",
    "five_c = 0\n",
    "six_c = 0\n",
    "\n",
    "for number in y_train_data:\n",
    "\n",
    "    if number == 0:\n",
    "         zero_c += 1\n",
    "    elif number == 1:\n",
    "        one_c += 1\n",
    "    elif number == 2:\n",
    "        two_c += 1\n",
    "    elif number == 3:\n",
    "        three_c += 1\n",
    "    elif number == 4:\n",
    "        four_c += 1\n",
    "    elif number == 5:\n",
    "        five_c += 1\n",
    "    elif number == 6:\n",
    "        six_c += 1\n",
    "    else:\n",
    "        raise ValueError\n",
    "\n",
    "weight_list = [zero_c, one_c, two_c, three_c, four_c, five_c, six_c]\n",
    "\n",
    "print(weight_list)\n",
    "print(zero_c + one_c + two_c + three_c + four_c + five_c + six_c)"
   ]
  },
  {
   "cell_type": "code",
   "execution_count": 8,
   "metadata": {
    "execution": {
     "iopub.execute_input": "2021-10-06T11:19:58.280146Z",
     "iopub.status.busy": "2021-10-06T11:19:58.279888Z",
     "iopub.status.idle": "2021-10-06T11:19:58.286789Z",
     "shell.execute_reply": "2021-10-06T11:19:58.286022Z",
     "shell.execute_reply.started": "2021-10-06T11:19:58.280119Z"
    },
    "tags": []
   },
   "outputs": [
    {
     "name": "stdout",
     "output_type": "stream",
     "text": [
      "5409\n",
      "0.753470132537547\n",
      "16470\n",
      "0.23081598658927413\n",
      "16083\n",
      "0.23672156921527\n",
      "11672\n",
      "0.3327828797282365\n",
      "1571\n",
      "2.8026291694923424\n",
      "979\n",
      "4.63229516460494\n",
      "2950\n",
      "1.4348844939348124\n",
      "{0: 1.0, 1: 1.0, 2: 1.0, 3: 1.0, 4: 2.8026291694923424, 5: 4.63229516460494, 6: 1.4348844939348124}\n"
     ]
    }
   ],
   "source": [
    "class_weight = {}\n",
    "\n",
    "for i in range(len(weight_list)):\n",
    "    \n",
    "    foo = len(X_train_data) / ((len(weight_list)) * weight_list[i]) ** 1.0625\n",
    "    \n",
    "    print((weight_list[i]))\n",
    "    print(foo)\n",
    "\n",
    "    if foo > 1:\n",
    "        class_weight[i] = foo\n",
    "    else:\n",
    "        class_weight[i] = 1.0\n",
    "\n",
    "print(class_weight)"
   ]
  },
  {
   "cell_type": "markdown",
   "metadata": {
    "id": "LDhfrwbshE4g"
   },
   "source": [
    "# Pretrained Data"
   ]
  },
  {
   "cell_type": "markdown",
   "metadata": {
    "id": "-7uS7rYdhGjb"
   },
   "source": [
    "아래의 사이트에서 pretrained된 100차원 fastText data를 제공하고 있습니다. 원하실 경우 사용하셔도 좋습니다.\n",
    "\n",
    "https://drive.google.com/file/d/1jHbjOcnaLourFzNuP47yGQVhBTq6Wgor/view\n",
    "\n",
    "* Download this and unzip THE .BIN FILE in the NEW FOLDER named 'vectors'.\n",
    "* This can be replaced with whatever model the user employs, but it requires an additional training."
   ]
  },
  {
   "cell_type": "markdown",
   "metadata": {
    "execution": {
     "iopub.execute_input": "2021-10-01T07:52:14.856178Z",
     "iopub.status.busy": "2021-10-01T07:52:14.855854Z",
     "iopub.status.idle": "2021-10-01T07:52:14.860450Z",
     "shell.execute_reply": "2021-10-01T07:52:14.859652Z",
     "shell.execute_reply.started": "2021-10-01T07:52:14.856150Z"
    }
   },
   "source": [
    "> Preprocessing이 모두 끝난 뒤에 불러오겠습니다."
   ]
  },
  {
   "cell_type": "markdown",
   "metadata": {
    "id": "yTJ84Juqnqb4"
   },
   "source": [
    "# Preprocessing"
   ]
  },
  {
   "cell_type": "markdown",
   "metadata": {
    "execution": {
     "iopub.execute_input": "2021-09-27T14:20:52.641316Z",
     "iopub.status.busy": "2021-09-27T14:20:52.641019Z",
     "iopub.status.idle": "2021-09-27T14:20:52.644789Z",
     "shell.execute_reply": "2021-09-27T14:20:52.643995Z",
     "shell.execute_reply.started": "2021-09-27T14:20:52.641285Z"
    }
   },
   "source": [
    "## Tokenization"
   ]
  },
  {
   "cell_type": "code",
   "execution_count": 9,
   "metadata": {
    "execution": {
     "iopub.execute_input": "2021-10-06T11:19:58.288091Z",
     "iopub.status.busy": "2021-10-06T11:19:58.287849Z",
     "iopub.status.idle": "2021-10-06T11:19:58.291603Z",
     "shell.execute_reply": "2021-10-06T11:19:58.290957Z",
     "shell.execute_reply.started": "2021-10-06T11:19:58.288067Z"
    },
    "tags": []
   },
   "outputs": [],
   "source": [
    "# 위키독스의 불용어 목록\n",
    "\n",
    "stopwords_foo = ['의','가','이','은','들','는','좀','잘','걍','과','도','를','으로','자','에','와','한','하다']"
   ]
  },
  {
   "cell_type": "code",
   "execution_count": 10,
   "metadata": {
    "execution": {
     "iopub.execute_input": "2021-10-06T11:19:58.292718Z",
     "iopub.status.busy": "2021-10-06T11:19:58.292523Z",
     "iopub.status.idle": "2021-10-06T11:19:58.305001Z",
     "shell.execute_reply": "2021-10-06T11:19:58.304143Z",
     "shell.execute_reply.started": "2021-10-06T11:19:58.292694Z"
    },
    "tags": []
   },
   "outputs": [
    {
     "name": "stdout",
     "output_type": "stream",
     "text": [
      "['이', '있', '하', '것', '들', '그', '되', '수', '이', '보', '않', '없', '나', '사람', '주', '아니', '등', '같', '우리', '때', '년', '가', '한', '지', '대하', '오', '말', '일', '그렇', '위하', '때문', '그것', '두', '말하', '알', '그러나', '받', '못하', '일', '그런', '또', '문제', '더', '사회', '많', '그리고', '좋', '크', '따르', '중', '나오', '가지', '씨', '시키', '만들', '지금', '생각하', '그러', '속', '하나', '집', '살', '모르', '적', '월', '데', '자신', '안', '어떤', '내', '내', '경우', '명', '생각', '시간', '그녀', '다시', '이런', '앞', '보이', '번', '나', '다른', '어떻', '여자', '개', '전', '들', '사실', '이렇', '점', '싶', '말', '정도', '좀', '원', '잘', '통하', '소리', '놓', '의', '가', '이', '은', '들', '는', '좀', '잘', '걍', '과', '도', '를', '으로', '자', '에', '와', '한', '하다']\n"
     ]
    }
   ],
   "source": [
    "# https://bab2min.tistory.com/544\n",
    "\n",
    "df = pd.read_csv(\"stopword_data.txt\", sep='\\t', names=[\"word\", \"pos\", \"ratio\"])\n",
    "stopwords = df[\"word\"].tolist()\n",
    "stopwords.extend(stopwords_foo)\n",
    "print(stopwords)"
   ]
  },
  {
   "cell_type": "code",
   "execution_count": 11,
   "metadata": {
    "execution": {
     "iopub.execute_input": "2021-10-06T11:19:58.306091Z",
     "iopub.status.busy": "2021-10-06T11:19:58.305890Z",
     "iopub.status.idle": "2021-10-06T11:21:43.501033Z",
     "shell.execute_reply": "2021-10-06T11:21:43.500413Z",
     "shell.execute_reply.started": "2021-10-06T11:19:58.306067Z"
    },
    "id": "sv7WUcJG3M6n",
    "tags": []
   },
   "outputs": [],
   "source": [
    "pos_tagger = Okt()\n",
    "\n",
    "def tokenizing(doc):\n",
    "    x = [t[0] for t in pos_tagger.pos(doc) if not t[0] in stopwords]\n",
    "    \n",
    "    return ' '.join(x)\n",
    "\n",
    "X_train_token = [tokenizing(row) for row in X_train_data]\n",
    "X_test_token  = [tokenizing(row) for row in X_test_data]\n",
    "\n",
    "### nltk tokenizer로\n",
    "X_train_token_splitted = [nltk.word_tokenize(row) for row in X_train_token]\n",
    "X_test_token_splitted  = [nltk.word_tokenize(row) for row in X_test_token]"
   ]
  },
  {
   "cell_type": "code",
   "execution_count": 12,
   "metadata": {
    "colab": {
     "base_uri": "https://localhost:8080/"
    },
    "execution": {
     "iopub.execute_input": "2021-10-06T11:21:43.502248Z",
     "iopub.status.busy": "2021-10-06T11:21:43.502034Z",
     "iopub.status.idle": "2021-10-06T11:21:43.505681Z",
     "shell.execute_reply": "2021-10-06T11:21:43.505131Z",
     "shell.execute_reply.started": "2021-10-06T11:21:43.502223Z"
    },
    "id": "PHLGqwmb3Mwu",
    "outputId": "8a65a130-ad19-4f47-bb9b-20ace4305d54",
    "tags": []
   },
   "outputs": [
    {
     "name": "stdout",
     "output_type": "stream",
     "text": [
      "['오늘 저녁 무슨 약속 있지', '현관문 닫혔는지 확인 해줘', '콜라 마요네즈 섞으면', '보일러 껐니', '청담동 가려면 뭐 타고 가야 하냐', '서울 근교 놀이 공원 어디 냐', '이번 달 있는 공휴일 얼마나 되니', '이번 토요일 오전 일곱시 도로 안개 끼니', '가스 불 끄고 나왔는지 확인 부탁 할게', '뜨개질 관련 메일 왔니']\n",
      "[['오늘', '저녁', '무슨', '약속', '있지'], ['현관문', '닫혔는지', '확인', '해줘'], ['콜라', '마요네즈', '섞으면'], ['보일러', '껐니'], ['청담동', '가려면', '뭐', '타고', '가야', '하냐'], ['서울', '근교', '놀이', '공원', '어디', '냐'], ['이번', '달', '있는', '공휴일', '얼마나', '되니'], ['이번', '토요일', '오전', '일곱시', '도로', '안개', '끼니'], ['가스', '불', '끄고', '나왔는지', '확인', '부탁', '할게'], ['뜨개질', '관련', '메일', '왔니']]\n"
     ]
    }
   ],
   "source": [
    "print(X_train_token[20000:20010])\n",
    "print(X_train_token_splitted[20000:20010])"
   ]
  },
  {
   "cell_type": "markdown",
   "metadata": {},
   "source": [
    "## 정수 인코딩"
   ]
  },
  {
   "cell_type": "code",
   "execution_count": 13,
   "metadata": {
    "execution": {
     "iopub.execute_input": "2021-10-06T11:21:43.506650Z",
     "iopub.status.busy": "2021-10-06T11:21:43.506461Z",
     "iopub.status.idle": "2021-10-06T11:21:43.863439Z",
     "shell.execute_reply": "2021-10-06T11:21:43.862822Z",
     "shell.execute_reply.started": "2021-10-06T11:21:43.506627Z"
    },
    "tags": []
   },
   "outputs": [],
   "source": [
    "tokenizer = Tokenizer(oov_token = 'OOV')\n",
    "tokenizer.fit_on_texts(X_train_token_splitted)"
   ]
  },
  {
   "cell_type": "code",
   "execution_count": 14,
   "metadata": {
    "execution": {
     "iopub.execute_input": "2021-10-06T11:21:43.864601Z",
     "iopub.status.busy": "2021-10-06T11:21:43.864385Z",
     "iopub.status.idle": "2021-10-06T11:21:43.867753Z",
     "shell.execute_reply": "2021-10-06T11:21:43.867214Z",
     "shell.execute_reply.started": "2021-10-06T11:21:43.864576Z"
    },
    "tags": []
   },
   "outputs": [
    {
     "name": "stdout",
     "output_type": "stream",
     "text": [
      "31358\n"
     ]
    }
   ],
   "source": [
    "print(len(tokenizer.word_index))\n",
    "#print(tokenizer.word_index)"
   ]
  },
  {
   "cell_type": "code",
   "execution_count": 15,
   "metadata": {
    "execution": {
     "iopub.execute_input": "2021-10-06T11:21:43.868775Z",
     "iopub.status.busy": "2021-10-06T11:21:43.868581Z",
     "iopub.status.idle": "2021-10-06T11:21:43.886482Z",
     "shell.execute_reply": "2021-10-06T11:21:43.885926Z",
     "shell.execute_reply.started": "2021-10-06T11:21:43.868751Z"
    },
    "tags": []
   },
   "outputs": [
    {
     "name": "stdout",
     "output_type": "stream",
     "text": [
      "단어 집합(vocabulary)의 크기 : 31358\n",
      "등장 빈도가 1번 이하인 희귀 단어의 수: 16078\n",
      "단어 집합에서 희귀 단어의 비율: 51.272402576694944\n",
      "전체 등장 빈도에서 희귀 단어 등장 빈도 비율: 5.278328583997584\n"
     ]
    }
   ],
   "source": [
    "threshold = 2\n",
    "total_cnt = len(tokenizer.word_index) # 단어의 수\n",
    "rare_cnt = 0 # 등장 빈도수가 threshold보다 작은 단어의 개수를 카운트\n",
    "total_freq = 0 # 훈련 데이터의 전체 단어 빈도수 총 합\n",
    "rare_freq = 0 # 등장 빈도수가 threshold보다 작은 단어의 등장 빈도수의 총 합\n",
    "\n",
    "# 단어와 빈도수의 쌍(pair)을 key와 value로 받는다.\n",
    "for key, value in tokenizer.word_counts.items():\n",
    "    total_freq = total_freq + value\n",
    "\n",
    "    # 단어의 등장 빈도수가 threshold보다 작으면\n",
    "    if(value < threshold):\n",
    "        rare_cnt = rare_cnt + 1\n",
    "        rare_freq = rare_freq + value\n",
    "\n",
    "print('단어 집합(vocabulary)의 크기 :',total_cnt)\n",
    "print('등장 빈도가 %s번 이하인 희귀 단어의 수: %s'%(threshold - 1, rare_cnt))\n",
    "print(\"단어 집합에서 희귀 단어의 비율:\", (rare_cnt / total_cnt)*100)\n",
    "print(\"전체 등장 빈도에서 희귀 단어 등장 빈도 비율:\", (rare_freq / total_freq)*100)"
   ]
  },
  {
   "cell_type": "code",
   "execution_count": 16,
   "metadata": {
    "execution": {
     "iopub.execute_input": "2021-10-06T11:21:43.887596Z",
     "iopub.status.busy": "2021-10-06T11:21:43.887406Z",
     "iopub.status.idle": "2021-10-06T11:21:43.890719Z",
     "shell.execute_reply": "2021-10-06T11:21:43.890096Z",
     "shell.execute_reply.started": "2021-10-06T11:21:43.887573Z"
    },
    "tags": []
   },
   "outputs": [
    {
     "name": "stdout",
     "output_type": "stream",
     "text": [
      "단어 집합의 크기 : 15282\n"
     ]
    }
   ],
   "source": [
    "# 전체 단어 개수 중 빈도수 2이하인 단어 개수는 제거.\n",
    "# 0번 패딩 토큰과 1번 OOV 토큰을 고려하여 +2\n",
    "vocab_size = total_cnt - rare_cnt + 2\n",
    "print('단어 집합의 크기 :',vocab_size)"
   ]
  },
  {
   "cell_type": "code",
   "execution_count": 17,
   "metadata": {
    "execution": {
     "iopub.execute_input": "2021-10-06T11:21:43.891659Z",
     "iopub.status.busy": "2021-10-06T11:21:43.891473Z",
     "iopub.status.idle": "2021-10-06T11:21:44.669469Z",
     "shell.execute_reply": "2021-10-06T11:21:44.668830Z",
     "shell.execute_reply.started": "2021-10-06T11:21:43.891637Z"
    },
    "tags": []
   },
   "outputs": [],
   "source": [
    "tokenizer = Tokenizer(vocab_size, oov_token = 'OOV') \n",
    "tokenizer.fit_on_texts(X_train_token_splitted)\n",
    "X_train = tokenizer.texts_to_sequences(X_train_token_splitted)\n",
    "X_test = tokenizer.texts_to_sequences(X_test_token_splitted)"
   ]
  },
  {
   "cell_type": "code",
   "execution_count": 18,
   "metadata": {
    "execution": {
     "iopub.execute_input": "2021-10-06T11:21:44.670627Z",
     "iopub.status.busy": "2021-10-06T11:21:44.670414Z",
     "iopub.status.idle": "2021-10-06T11:21:44.674095Z",
     "shell.execute_reply": "2021-10-06T11:21:44.673659Z",
     "shell.execute_reply.started": "2021-10-06T11:21:44.670601Z"
    },
    "tags": []
   },
   "outputs": [
    {
     "name": "stdout",
     "output_type": "stream",
     "text": [
      "[[4600], [10534], [361]]\n",
      "[[1], [448], []]\n"
     ]
    }
   ],
   "source": [
    "print(X_train[:3])\n",
    "print(X_test[:3])"
   ]
  },
  {
   "cell_type": "markdown",
   "metadata": {
    "execution": {
     "iopub.execute_input": "2021-09-27T14:44:00.400901Z",
     "iopub.status.busy": "2021-09-27T14:44:00.400597Z",
     "iopub.status.idle": "2021-09-27T14:44:00.405382Z",
     "shell.execute_reply": "2021-09-27T14:44:00.404680Z",
     "shell.execute_reply.started": "2021-09-27T14:44:00.400871Z"
    },
    "tags": []
   },
   "source": [
    "## Padding"
   ]
  },
  {
   "cell_type": "code",
   "execution_count": 19,
   "metadata": {
    "execution": {
     "iopub.execute_input": "2021-10-06T11:21:44.675049Z",
     "iopub.status.busy": "2021-10-06T11:21:44.674849Z",
     "iopub.status.idle": "2021-10-06T11:21:45.190745Z",
     "shell.execute_reply": "2021-10-06T11:21:45.190227Z",
     "shell.execute_reply.started": "2021-10-06T11:21:44.675026Z"
    },
    "tags": []
   },
   "outputs": [
    {
     "name": "stdout",
     "output_type": "stream",
     "text": [
      "문장의 최대 길이 : 36\n",
      "문장의 평균 길이 : 5.5247941379185255\n"
     ]
    },
    {
     "data": {
      "image/png": "[encoded data removed]",
      "text/plain": [
       "<Figure size 432x288 with 1 Axes>"
      ]
     },
     "metadata": {
      "needs_background": "light"
     },
     "output_type": "display_data"
    }
   ],
   "source": [
    "print('문장의 최대 길이 :',max(len(l) for l in X_train))\n",
    "print('문장의 평균 길이 :',sum(map(len, X_train))/len(X_train))\n",
    "plt.hist([len(s) for s in X_train], bins=50)\n",
    "plt.xlabel('length of samples')\n",
    "plt.ylabel('number of samples')\n",
    "plt.show()"
   ]
  },
  {
   "cell_type": "code",
   "execution_count": 20,
   "metadata": {
    "execution": {
     "iopub.execute_input": "2021-10-06T11:21:45.191844Z",
     "iopub.status.busy": "2021-10-06T11:21:45.191643Z",
     "iopub.status.idle": "2021-10-06T11:21:45.195843Z",
     "shell.execute_reply": "2021-10-06T11:21:45.195399Z",
     "shell.execute_reply.started": "2021-10-06T11:21:45.191820Z"
    },
    "tags": []
   },
   "outputs": [],
   "source": [
    "def below_threshold_len(max_len, nested_list):\n",
    "  cnt = 0\n",
    "  for s in nested_list:\n",
    "    if(len(s) <= max_len):\n",
    "        cnt = cnt + 1\n",
    "  print('전체 샘플 중 길이가 %s 이하인 샘플의 비율: %s'%(max_len, (cnt / len(nested_list))*100))"
   ]
  },
  {
   "cell_type": "code",
   "execution_count": 21,
   "metadata": {
    "execution": {
     "iopub.execute_input": "2021-10-06T11:21:45.196772Z",
     "iopub.status.busy": "2021-10-06T11:21:45.196586Z",
     "iopub.status.idle": "2021-10-06T11:21:45.205750Z",
     "shell.execute_reply": "2021-10-06T11:21:45.205299Z",
     "shell.execute_reply.started": "2021-10-06T11:21:45.196750Z"
    },
    "tags": []
   },
   "outputs": [
    {
     "name": "stdout",
     "output_type": "stream",
     "text": [
      "전체 샘플 중 길이가 22 이하인 샘플의 비율: 99.90568433271665\n"
     ]
    }
   ],
   "source": [
    "max_len = 22   # 15\n",
    "below_threshold_len(max_len, X_train)"
   ]
  },
  {
   "cell_type": "code",
   "execution_count": 22,
   "metadata": {
    "execution": {
     "iopub.execute_input": "2021-10-06T11:21:45.206678Z",
     "iopub.status.busy": "2021-10-06T11:21:45.206490Z",
     "iopub.status.idle": "2021-10-06T11:21:45.462377Z",
     "shell.execute_reply": "2021-10-06T11:21:45.461768Z",
     "shell.execute_reply.started": "2021-10-06T11:21:45.206656Z"
    },
    "tags": []
   },
   "outputs": [],
   "source": [
    "X_train = pad_sequences(X_train, maxlen = max_len)\n",
    "X_test = pad_sequences(X_test, maxlen = max_len)\n",
    "\n",
    "y_train = to_categorical(y_train_data)\n",
    "y_test = to_categorical(y_test_data)"
   ]
  },
  {
   "cell_type": "code",
   "execution_count": 23,
   "metadata": {
    "colab": {
     "base_uri": "https://localhost:8080/"
    },
    "execution": {
     "iopub.execute_input": "2021-10-06T11:21:45.463544Z",
     "iopub.status.busy": "2021-10-06T11:21:45.463332Z",
     "iopub.status.idle": "2021-10-06T11:21:45.468530Z",
     "shell.execute_reply": "2021-10-06T11:21:45.467988Z",
     "shell.execute_reply.started": "2021-10-06T11:21:45.463520Z"
    },
    "id": "bhqwuvE35nuD",
    "outputId": "a856282f-0995-40f7-c957-f49c45148104",
    "tags": []
   },
   "outputs": [
    {
     "name": "stdout",
     "output_type": "stream",
     "text": [
      "[[    0     0     0     0     0     0     0     0     0     0     0     0\n",
      "      0     0     0     0     0     0     0     0     0  4600]\n",
      " [    0     0     0     0     0     0     0     0     0     0     0     0\n",
      "      0     0     0     0     0     0     0     0     0 10534]\n",
      " [    0     0     0     0     0     0     0     0     0     0     0     0\n",
      "      0     0     0     0     0     0     0     0     0   361]]\n",
      "[[  0   0   0   0   0   0   0   0   0   0   0   0   0   0   0   0   0   0\n",
      "    0   0   0   1]\n",
      " [  0   0   0   0   0   0   0   0   0   0   0   0   0   0   0   0   0   0\n",
      "    0   0   0 448]\n",
      " [  0   0   0   0   0   0   0   0   0   0   0   0   0   0   0   0   0   0\n",
      "    0   0   0   0]]\n",
      "[[1. 0. 0. 0. 0. 0. 0.]\n",
      " [1. 0. 0. 0. 0. 0. 0.]\n",
      " [1. 0. 0. 0. 0. 0. 0.]]\n",
      "[[1. 0. 0. 0. 0. 0. 0.]\n",
      " [1. 0. 0. 0. 0. 0. 0.]\n",
      " [1. 0. 0. 0. 0. 0. 0.]]\n"
     ]
    }
   ],
   "source": [
    "print(X_train[:3])\n",
    "print(X_test[:3])\n",
    "print(y_train[:3])\n",
    "print(y_test[:3])"
   ]
  },
  {
   "cell_type": "code",
   "execution_count": 24,
   "metadata": {
    "execution": {
     "iopub.execute_input": "2021-10-06T11:21:45.469511Z",
     "iopub.status.busy": "2021-10-06T11:21:45.469322Z",
     "iopub.status.idle": "2021-10-06T11:21:45.922085Z",
     "shell.execute_reply": "2021-10-06T11:21:45.921499Z",
     "shell.execute_reply.started": "2021-10-06T11:21:45.469489Z"
    },
    "tags": []
   },
   "outputs": [
    {
     "name": "stdout",
     "output_type": "stream",
     "text": [
      "(46863, 22)\n",
      "(46863, 7)\n",
      "(8271, 22)\n",
      "(8271, 7)\n",
      "(6121, 22)\n",
      "(6121, 7)\n"
     ]
    }
   ],
   "source": [
    "X_train, X_val, y_train, y_val = train_test_split(X_train, y_train, test_size=0.15, stratify=y_train)\n",
    "\n",
    "print(X_train.shape)\n",
    "print(y_train.shape)\n",
    "print(X_val.shape)\n",
    "print(y_val.shape)\n",
    "print(X_test.shape)\n",
    "print(y_test.shape)"
   ]
  },
  {
   "cell_type": "markdown",
   "metadata": {},
   "source": [
    "# Pretrained Embedding Data"
   ]
  },
  {
   "cell_type": "code",
   "execution_count": 25,
   "metadata": {
    "execution": {
     "iopub.execute_input": "2021-10-06T11:21:45.924831Z",
     "iopub.status.busy": "2021-10-06T11:21:45.924617Z",
     "iopub.status.idle": "2021-10-06T11:21:54.926557Z",
     "shell.execute_reply": "2021-10-06T11:21:54.925787Z",
     "shell.execute_reply.started": "2021-10-06T11:21:45.924806Z"
    },
    "tags": []
   },
   "outputs": [],
   "source": [
    "loaded_model = FT_gensim.load_fasttext_format('model_drama.bin') #pretrained data 로드"
   ]
  },
  {
   "cell_type": "code",
   "execution_count": 26,
   "metadata": {
    "execution": {
     "iopub.execute_input": "2021-10-06T11:21:54.928125Z",
     "iopub.status.busy": "2021-10-06T11:21:54.927848Z",
     "iopub.status.idle": "2021-10-06T11:21:54.931990Z",
     "shell.execute_reply": "2021-10-06T11:21:54.931271Z",
     "shell.execute_reply.started": "2021-10-06T11:21:54.928097Z"
    },
    "tags": []
   },
   "outputs": [
    {
     "name": "stdout",
     "output_type": "stream",
     "text": [
      "FastText(vocab=160043, size=100, alpha=0.025)\n"
     ]
    }
   ],
   "source": [
    "print(loaded_model)"
   ]
  },
  {
   "cell_type": "code",
   "execution_count": 27,
   "metadata": {
    "execution": {
     "iopub.execute_input": "2021-10-06T11:21:54.933108Z",
     "iopub.status.busy": "2021-10-06T11:21:54.932901Z",
     "iopub.status.idle": "2021-10-06T11:21:55.823064Z",
     "shell.execute_reply": "2021-10-06T11:21:55.822308Z",
     "shell.execute_reply.started": "2021-10-06T11:21:54.933085Z"
    },
    "tags": []
   },
   "outputs": [
    {
     "name": "stdout",
     "output_type": "stream",
     "text": [
      "True\n"
     ]
    },
    {
     "name": "stderr",
     "output_type": "stream",
     "text": [
      "/home/ubuntu/anaconda3/envs/psd/lib/python3.6/site-packages/ipykernel_launcher.py:2: DeprecationWarning: Call to deprecated `most_similar` (Method will be removed in 4.0.0, use self.wv.most_similar() instead).\n",
      "  \n"
     ]
    },
    {
     "name": "stdout",
     "output_type": "stream",
     "text": [
      "[('왔으니깐', 0.7077229619026184), ('하였더니', 0.689039409160614), ('재석이', 0.665482759475708), ('해주시기', 0.6634321808815002), ('고생시켜서', 0.6615829467773438), ('이호진의', 0.6615034341812134), ('그곳으로', 0.6586490869522095), ('병석이', 0.6558609008789062), ('희재', 0.6556533575057983), ('무브', 0.6513947248458862)]\n",
      "[-0.20837323  0.21626383  0.0054911   0.07921323  0.203135    0.03575059\n",
      " -0.12396514  0.174983    0.2385913   0.20969039 -0.06152691 -0.05342709\n",
      "  0.00817227  0.0137452   0.25210565  0.14207946 -0.0069862   0.07155829\n",
      " -0.11726188 -0.01571709 -0.18182424 -0.04145883  0.06458063 -0.13819216\n",
      " -0.04949455  0.10642069  0.10609311 -0.05291022 -0.25471207 -0.06118836\n",
      "  0.07871876 -0.02403206  0.05075282 -0.13062136 -0.03300982  0.00239827\n",
      " -0.20694333 -0.09797629 -0.04896694  0.1861868  -0.03632177 -0.01879727\n",
      " -0.05107179  0.07315976 -0.06730977 -0.17247403 -0.04448244  0.03694947\n",
      " -0.1605727  -0.15880612  0.09569672  0.31981894 -0.03940499 -0.02544998\n",
      " -0.03745533  0.06832626 -0.00944789 -0.17063852 -0.06772653 -0.13011421\n",
      " -0.06931078  0.03487949 -0.21680628 -0.01007261 -0.04196937  0.00295484\n",
      "  0.24279918  0.24640991 -0.09263007  0.12259059 -0.01626277 -0.02440865\n",
      " -0.05974907  0.02232739 -0.03351026  0.33445835  0.23039845 -0.02479115\n",
      "  0.07557323 -0.1628316   0.26275724 -0.03214483 -0.0768776  -0.17786068\n",
      "  0.20124416  0.04288509  0.12540624  0.12775904 -0.10604636  0.07076482\n",
      " -0.06334376 -0.14396504  0.06334752  0.16843295 -0.09358874  0.05027393\n",
      " -0.18819189  0.11665804 -0.02374548 -0.01622548]\n"
     ]
    },
    {
     "name": "stderr",
     "output_type": "stream",
     "text": [
      "/home/ubuntu/anaconda3/envs/psd/lib/python3.6/site-packages/ipykernel_launcher.py:3: DeprecationWarning: Call to deprecated `__getitem__` (Method will be removed in 4.0.0, use self.wv.__getitem__() instead).\n",
      "  This is separate from the ipykernel package so we can avoid doing imports until\n"
     ]
    }
   ],
   "source": [
    "print(\"안녕\" in loaded_model.wv.vocab)\n",
    "print(loaded_model.most_similar(\"안녕\"))\n",
    "print(loaded_model[\"안녕\"])"
   ]
  },
  {
   "cell_type": "code",
   "execution_count": 28,
   "metadata": {
    "execution": {
     "iopub.execute_input": "2021-10-06T11:21:55.824371Z",
     "iopub.status.busy": "2021-10-06T11:21:55.824153Z",
     "iopub.status.idle": "2021-10-06T11:21:56.480764Z",
     "shell.execute_reply": "2021-10-06T11:21:56.480009Z",
     "shell.execute_reply.started": "2021-10-06T11:21:55.824345Z"
    },
    "tags": []
   },
   "outputs": [
    {
     "name": "stderr",
     "output_type": "stream",
     "text": [
      "/home/ubuntu/anaconda3/envs/psd/lib/python3.6/site-packages/ipykernel_launcher.py:5: DeprecationWarning: Call to deprecated `__contains__` (Method will be removed in 4.0.0, use self.wv.__contains__() instead).\n",
      "  \"\"\"\n",
      "/home/ubuntu/anaconda3/envs/psd/lib/python3.6/site-packages/ipykernel_launcher.py:6: DeprecationWarning: Call to deprecated `__getitem__` (Method will be removed in 4.0.0, use self.wv.__getitem__() instead).\n",
      "  \n"
     ]
    }
   ],
   "source": [
    "embedding_matrix = np.zeros((total_cnt + 2, 100))\n",
    "\n",
    "for word, i in tokenizer.word_index.items():\n",
    "    \n",
    "    if word in loaded_model:\n",
    "        embedding_vector = loaded_model[word]\n",
    "        \n",
    "    else:\n",
    "        continue\n",
    "        \n",
    "    embedding_matrix[i] = embedding_vector"
   ]
  },
  {
   "cell_type": "code",
   "execution_count": 29,
   "metadata": {
    "execution": {
     "iopub.execute_input": "2021-10-06T11:21:56.481983Z",
     "iopub.status.busy": "2021-10-06T11:21:56.481764Z",
     "iopub.status.idle": "2021-10-06T11:21:56.486754Z",
     "shell.execute_reply": "2021-10-06T11:21:56.485924Z",
     "shell.execute_reply.started": "2021-10-06T11:21:56.481958Z"
    },
    "tags": []
   },
   "outputs": [
    {
     "name": "stdout",
     "output_type": "stream",
     "text": [
      "[[ 0.          0.          0.         ...  0.          0.\n",
      "   0.        ]\n",
      " [-0.0201662   0.0789165   0.00863309 ... -0.09077461 -0.07218648\n",
      "  -0.11439495]\n",
      " [ 0.19867121 -0.08441713 -0.08691589 ... -0.07481183  0.09989324\n",
      "  -0.41806331]\n",
      " ...\n",
      " [ 0.00954878  0.0017603   0.00534863 ...  0.01200104 -0.04521481\n",
      "   0.02055699]\n",
      " [ 0.01491402  0.01213227 -0.00414175 ... -0.06965395  0.01472734\n",
      "  -0.08061473]\n",
      " [ 0.          0.          0.         ...  0.          0.\n",
      "   0.        ]]\n"
     ]
    }
   ],
   "source": [
    "print(embedding_matrix)"
   ]
  },
  {
   "cell_type": "code",
   "execution_count": 30,
   "metadata": {
    "execution": {
     "iopub.execute_input": "2021-10-06T11:21:56.487817Z",
     "iopub.status.busy": "2021-10-06T11:21:56.487623Z",
     "iopub.status.idle": "2021-10-06T11:21:56.491598Z",
     "shell.execute_reply": "2021-10-06T11:21:56.490925Z",
     "shell.execute_reply.started": "2021-10-06T11:21:56.487794Z"
    },
    "tags": []
   },
   "outputs": [
    {
     "name": "stdout",
     "output_type": "stream",
     "text": [
      "단어 안녕의 정수 인덱스 : 4605\n"
     ]
    }
   ],
   "source": [
    "print(\"단어 안녕의 정수 인덱스 :\", tokenizer.word_index[\"안녕\"])"
   ]
  },
  {
   "cell_type": "code",
   "execution_count": 31,
   "metadata": {
    "execution": {
     "iopub.execute_input": "2021-10-06T11:21:56.492786Z",
     "iopub.status.busy": "2021-10-06T11:21:56.492589Z",
     "iopub.status.idle": "2021-10-06T11:21:56.497172Z",
     "shell.execute_reply": "2021-10-06T11:21:56.496472Z",
     "shell.execute_reply.started": "2021-10-06T11:21:56.492764Z"
    },
    "tags": []
   },
   "outputs": [
    {
     "name": "stdout",
     "output_type": "stream",
     "text": [
      "[-0.20837323  0.21626383  0.0054911   0.07921323  0.203135    0.03575059\n",
      " -0.12396514  0.17498299  0.2385913   0.20969039 -0.06152691 -0.05342709\n",
      "  0.00817227  0.0137452   0.25210565  0.14207946 -0.0069862   0.07155829\n",
      " -0.11726188 -0.01571709 -0.18182424 -0.04145883  0.06458063 -0.13819216\n",
      " -0.04949455  0.10642069  0.10609311 -0.05291022 -0.25471207 -0.06118836\n",
      "  0.07871876 -0.02403206  0.05075282 -0.13062136 -0.03300982  0.00239827\n",
      " -0.20694333 -0.09797629 -0.04896694  0.18618681 -0.03632177 -0.01879727\n",
      " -0.05107179  0.07315976 -0.06730977 -0.17247403 -0.04448244  0.03694947\n",
      " -0.16057269 -0.15880612  0.09569672  0.31981894 -0.03940499 -0.02544998\n",
      " -0.03745533  0.06832626 -0.00944789 -0.17063852 -0.06772653 -0.13011421\n",
      " -0.06931078  0.03487949 -0.21680628 -0.01007261 -0.04196937  0.00295484\n",
      "  0.24279918  0.24640991 -0.09263007  0.12259059 -0.01626277 -0.02440865\n",
      " -0.05974907  0.02232739 -0.03351026  0.33445835  0.23039845 -0.02479115\n",
      "  0.07557323 -0.1628316   0.26275724 -0.03214483 -0.0768776  -0.17786068\n",
      "  0.20124416  0.04288509  0.12540624  0.12775904 -0.10604636  0.07076482\n",
      " -0.06334376 -0.14396504  0.06334752  0.16843295 -0.09358874  0.05027393\n",
      " -0.18819189  0.11665804 -0.02374548 -0.01622548]\n"
     ]
    }
   ],
   "source": [
    "print(embedding_matrix[4605])"
   ]
  },
  {
   "cell_type": "code",
   "execution_count": 32,
   "metadata": {
    "execution": {
     "iopub.execute_input": "2021-10-06T11:21:56.498384Z",
     "iopub.status.busy": "2021-10-06T11:21:56.498189Z",
     "iopub.status.idle": "2021-10-06T11:21:56.503018Z",
     "shell.execute_reply": "2021-10-06T11:21:56.502332Z",
     "shell.execute_reply.started": "2021-10-06T11:21:56.498361Z"
    },
    "tags": []
   },
   "outputs": [
    {
     "name": "stdout",
     "output_type": "stream",
     "text": [
      "[-0.20837323  0.21626383  0.0054911   0.07921323  0.203135    0.03575059\n",
      " -0.12396514  0.174983    0.2385913   0.20969039 -0.06152691 -0.05342709\n",
      "  0.00817227  0.0137452   0.25210565  0.14207946 -0.0069862   0.07155829\n",
      " -0.11726188 -0.01571709 -0.18182424 -0.04145883  0.06458063 -0.13819216\n",
      " -0.04949455  0.10642069  0.10609311 -0.05291022 -0.25471207 -0.06118836\n",
      "  0.07871876 -0.02403206  0.05075282 -0.13062136 -0.03300982  0.00239827\n",
      " -0.20694333 -0.09797629 -0.04896694  0.1861868  -0.03632177 -0.01879727\n",
      " -0.05107179  0.07315976 -0.06730977 -0.17247403 -0.04448244  0.03694947\n",
      " -0.1605727  -0.15880612  0.09569672  0.31981894 -0.03940499 -0.02544998\n",
      " -0.03745533  0.06832626 -0.00944789 -0.17063852 -0.06772653 -0.13011421\n",
      " -0.06931078  0.03487949 -0.21680628 -0.01007261 -0.04196937  0.00295484\n",
      "  0.24279918  0.24640991 -0.09263007  0.12259059 -0.01626277 -0.02440865\n",
      " -0.05974907  0.02232739 -0.03351026  0.33445835  0.23039845 -0.02479115\n",
      "  0.07557323 -0.1628316   0.26275724 -0.03214483 -0.0768776  -0.17786068\n",
      "  0.20124416  0.04288509  0.12540624  0.12775904 -0.10604636  0.07076482\n",
      " -0.06334376 -0.14396504  0.06334752  0.16843295 -0.09358874  0.05027393\n",
      " -0.18819189  0.11665804 -0.02374548 -0.01622548]\n"
     ]
    },
    {
     "name": "stderr",
     "output_type": "stream",
     "text": [
      "/home/ubuntu/anaconda3/envs/psd/lib/python3.6/site-packages/ipykernel_launcher.py:1: DeprecationWarning: Call to deprecated `__getitem__` (Method will be removed in 4.0.0, use self.wv.__getitem__() instead).\n",
      "  \"\"\"Entry point for launching an IPython kernel.\n"
     ]
    }
   ],
   "source": [
    "print(loaded_model[\"안녕\"])"
   ]
  },
  {
   "cell_type": "markdown",
   "metadata": {},
   "source": [
    "# Modeling 1"
   ]
  },
  {
   "cell_type": "code",
   "execution_count": 33,
   "metadata": {
    "execution": {
     "iopub.execute_input": "2021-10-06T11:21:56.504023Z",
     "iopub.status.busy": "2021-10-06T11:21:56.503809Z",
     "iopub.status.idle": "2021-10-06T11:21:56.507764Z",
     "shell.execute_reply": "2021-10-06T11:21:56.507109Z",
     "shell.execute_reply.started": "2021-10-06T11:21:56.503999Z"
    },
    "tags": []
   },
   "outputs": [],
   "source": [
    "from tensorflow.keras.layers import MaxPooling1D, AveragePooling1D, Conv1D, BatchNormalization, Activation\n",
    "\n",
    "def swish(x):\n",
    "    return x * tf.nn.sigmoid(x)"
   ]
  },
  {
   "cell_type": "code",
   "execution_count": 34,
   "metadata": {
    "execution": {
     "iopub.execute_input": "2021-10-06T11:21:56.509034Z",
     "iopub.status.busy": "2021-10-06T11:21:56.508701Z",
     "iopub.status.idle": "2021-10-06T11:22:03.552531Z",
     "shell.execute_reply": "2021-10-06T11:22:03.551828Z",
     "shell.execute_reply.started": "2021-10-06T11:21:56.509009Z"
    },
    "id": "NNBOz9Yx8QGI",
    "tags": []
   },
   "outputs": [],
   "source": [
    "model = Sequential()\n",
    "\n",
    "model.add(Embedding(total_cnt + 2 , 100, weights=[embedding_matrix], embeddings_initializer=\"glorot_normal\", trainable=True))\n",
    "model.add(Dropout(0.5))\n",
    "model.add(Conv1D(256, 1, padding=\"valid\", strides=1, kernel_initializer=\"glorot_normal\"))\n",
    "model.add(BatchNormalization())\n",
    "model.add(Activation(swish))\n",
    "model.add(Conv1D(128, 1, padding=\"valid\", strides=1, kernel_initializer=\"glorot_normal\"))\n",
    "model.add(BatchNormalization())\n",
    "model.add(Activation(swish))\n",
    "model.add(AveragePooling1D(1))\n",
    "model.add(Bidirectional(LSTM(100, return_sequences=True, kernel_initializer=\"glorot_normal\")))\n",
    "model.add(Dropout(0.5))\n",
    "model.add(Bidirectional(LSTM(100, return_sequences=True, kernel_initializer=\"glorot_normal\")))\n",
    "model.add(Dropout(0.5))\n",
    "model.add(Bidirectional(LSTM(100, kernel_initializer=\"glorot_normal\")))\n",
    "model.add(Dense(7, activation=\"softmax\"))"
   ]
  },
  {
   "cell_type": "code",
   "execution_count": 35,
   "metadata": {
    "execution": {
     "iopub.execute_input": "2021-10-06T11:22:03.553660Z",
     "iopub.status.busy": "2021-10-06T11:22:03.553445Z",
     "iopub.status.idle": "2021-10-06T11:22:03.557338Z",
     "shell.execute_reply": "2021-10-06T11:22:03.556721Z",
     "shell.execute_reply.started": "2021-10-06T11:22:03.553634Z"
    },
    "tags": []
   },
   "outputs": [],
   "source": [
    "lr_Cosine_Decay = CosineDecayRestarts(\n",
    "    initial_learning_rate=(5e-4), first_decay_steps=184,   # 87\n",
    "    t_mul=2, m_mul=0.80, alpha=0.0, name=None   #0.75\n",
    ")"
   ]
  },
  {
   "cell_type": "code",
   "execution_count": 36,
   "metadata": {
    "colab": {
     "base_uri": "https://localhost:8080/"
    },
    "execution": {
     "iopub.execute_input": "2021-10-06T11:22:03.558504Z",
     "iopub.status.busy": "2021-10-06T11:22:03.558307Z",
     "iopub.status.idle": "2021-10-06T11:22:03.602720Z",
     "shell.execute_reply": "2021-10-06T11:22:03.602213Z",
     "shell.execute_reply.started": "2021-10-06T11:22:03.558481Z"
    },
    "id": "yrpKXF5b9m-m",
    "outputId": "4b038df8-7719-4090-aa7a-a801681eb005",
    "tags": []
   },
   "outputs": [
    {
     "name": "stdout",
     "output_type": "stream",
     "text": [
      "Model: \"sequential\"\n",
      "_________________________________________________________________\n",
      "Layer (type)                 Output Shape              Param #   \n",
      "=================================================================\n",
      "embedding (Embedding)        (None, None, 100)         3136000   \n",
      "_________________________________________________________________\n",
      "dropout (Dropout)            (None, None, 100)         0         \n",
      "_________________________________________________________________\n",
      "conv1d (Conv1D)              (None, None, 256)         25856     \n",
      "_________________________________________________________________\n",
      "batch_normalization (BatchNo (None, None, 256)         1024      \n",
      "_________________________________________________________________\n",
      "activation (Activation)      (None, None, 256)         0         \n",
      "_________________________________________________________________\n",
      "conv1d_1 (Conv1D)            (None, None, 128)         32896     \n",
      "_________________________________________________________________\n",
      "batch_normalization_1 (Batch (None, None, 128)         512       \n",
      "_________________________________________________________________\n",
      "activation_1 (Activation)    (None, None, 128)         0         \n",
      "_________________________________________________________________\n",
      "average_pooling1d (AveragePo (None, None, 128)         0         \n",
      "_________________________________________________________________\n",
      "bidirectional (Bidirectional (None, None, 200)         183200    \n",
      "_________________________________________________________________\n",
      "dropout_1 (Dropout)          (None, None, 200)         0         \n",
      "_________________________________________________________________\n",
      "bidirectional_1 (Bidirection (None, None, 200)         240800    \n",
      "_________________________________________________________________\n",
      "dropout_2 (Dropout)          (None, None, 200)         0         \n",
      "_________________________________________________________________\n",
      "bidirectional_2 (Bidirection (None, 200)               240800    \n",
      "_________________________________________________________________\n",
      "dense (Dense)                (None, 7)                 1407      \n",
      "=================================================================\n",
      "Total params: 3,862,495\n",
      "Trainable params: 3,861,727\n",
      "Non-trainable params: 768\n",
      "_________________________________________________________________\n"
     ]
    }
   ],
   "source": [
    "f1 = F1Score(num_classes=7, name=\"F1\")\n",
    "weighted_f1 = F1Score(num_classes=7, average=\"weighted\", name=\"Weighted_F1\")\n",
    "\n",
    "mc = ModelCheckpoint(\"best_model.h5\", monitor=\"val_acc\", mode=\"max\", verbose=1, save_best_only=True)\n",
    "\n",
    "model.compile(optimizer=AdamW(lr_Cosine_Decay),\n",
    "              loss=\"categorical_crossentropy\", metrics=[\"acc\", f1, weighted_f1])\n",
    "model.summary()"
   ]
  },
  {
   "cell_type": "code",
   "execution_count": 37,
   "metadata": {
    "execution": {
     "iopub.execute_input": "2021-10-06T11:22:03.603695Z",
     "iopub.status.busy": "2021-10-06T11:22:03.603500Z",
     "iopub.status.idle": "2021-10-06T11:25:44.718653Z",
     "shell.execute_reply": "2021-10-06T11:25:44.718032Z",
     "shell.execute_reply.started": "2021-10-06T11:22:03.603672Z"
    },
    "tags": []
   },
   "outputs": [
    {
     "name": "stdout",
     "output_type": "stream",
     "text": [
      "Epoch 1/31\n",
      "184/184 [==============================] - ETA: 0s - loss: 1.2036 - acc: 0.6777 - F1: 0.5238 - Weighted_F1: 0.6681\n",
      "Epoch 00001: val_acc improved from -inf to 0.44807, saving model to best_model.h5\n",
      "184/184 [==============================] - 10s 57ms/step - loss: 1.2036 - acc: 0.6777 - F1: 0.5238 - Weighted_F1: 0.6681 - val_loss: 1.6769 - val_acc: 0.4481 - val_F1: 0.2602 - val_Weighted_F1: 0.4127\n",
      "Epoch 2/31\n",
      "183/184 [============================>.] - ETA: 0s - loss: 0.7470 - acc: 0.8122 - F1: 0.6950 - Weighted_F1: 0.8154\n",
      "Epoch 00002: val_acc improved from 0.44807 to 0.76315, saving model to best_model.h5\n",
      "184/184 [==============================] - 7s 36ms/step - loss: 0.7470 - acc: 0.8122 - F1: 0.6950 - Weighted_F1: 0.8154 - val_loss: 0.7269 - val_acc: 0.7631 - val_F1: 0.6304 - val_Weighted_F1: 0.7619\n",
      "Epoch 3/31\n",
      "183/184 [============================>.] - ETA: 0s - loss: 0.5764 - acc: 0.8542 - F1: 0.7595 - Weighted_F1: 0.8569\n",
      "Epoch 00003: val_acc improved from 0.76315 to 0.84597, saving model to best_model.h5\n",
      "184/184 [==============================] - 7s 37ms/step - loss: 0.5764 - acc: 0.8542 - F1: 0.7595 - Weighted_F1: 0.8569 - val_loss: 0.4786 - val_acc: 0.8460 - val_F1: 0.7402 - val_Weighted_F1: 0.8442\n",
      "Epoch 4/31\n",
      "184/184 [==============================] - ETA: 0s - loss: 0.4811 - acc: 0.8763 - F1: 0.7984 - Weighted_F1: 0.8783\n",
      "Epoch 00004: val_acc improved from 0.84597 to 0.85697, saving model to best_model.h5\n",
      "184/184 [==============================] - 6s 35ms/step - loss: 0.4811 - acc: 0.8763 - F1: 0.7984 - Weighted_F1: 0.8783 - val_loss: 0.4741 - val_acc: 0.8570 - val_F1: 0.7496 - val_Weighted_F1: 0.8555\n",
      "Epoch 5/31\n",
      "184/184 [==============================] - ETA: 0s - loss: 0.4147 - acc: 0.8916 - F1: 0.8233 - Weighted_F1: 0.8935\n",
      "Epoch 00005: val_acc did not improve from 0.85697\n",
      "184/184 [==============================] - 6s 35ms/step - loss: 0.4147 - acc: 0.8916 - F1: 0.8233 - Weighted_F1: 0.8935 - val_loss: 0.5250 - val_acc: 0.8468 - val_F1: 0.7425 - val_Weighted_F1: 0.8493\n",
      "Epoch 6/31\n",
      "183/184 [============================>.] - ETA: 0s - loss: 0.3651 - acc: 0.9032 - F1: 0.8447 - Weighted_F1: 0.9047\n",
      "Epoch 00006: val_acc improved from 0.85697 to 0.85951, saving model to best_model.h5\n",
      "184/184 [==============================] - 7s 37ms/step - loss: 0.3651 - acc: 0.9032 - F1: 0.8447 - Weighted_F1: 0.9047 - val_loss: 0.4901 - val_acc: 0.8595 - val_F1: 0.7558 - val_Weighted_F1: 0.8581\n",
      "Epoch 7/31\n",
      "184/184 [==============================] - ETA: 0s - loss: 0.3346 - acc: 0.9120 - F1: 0.8573 - Weighted_F1: 0.9133\n",
      "Epoch 00007: val_acc did not improve from 0.85951\n",
      "184/184 [==============================] - 6s 35ms/step - loss: 0.3346 - acc: 0.9120 - F1: 0.8573 - Weighted_F1: 0.9133 - val_loss: 0.5548 - val_acc: 0.8394 - val_F1: 0.7341 - val_Weighted_F1: 0.8435\n",
      "Epoch 8/31\n",
      "183/184 [============================>.] - ETA: 0s - loss: 0.3104 - acc: 0.9174 - F1: 0.8662 - Weighted_F1: 0.9185\n",
      "Epoch 00008: val_acc did not improve from 0.85951\n",
      "184/184 [==============================] - 6s 35ms/step - loss: 0.3104 - acc: 0.9174 - F1: 0.8662 - Weighted_F1: 0.9186 - val_loss: 0.5515 - val_acc: 0.8530 - val_F1: 0.7508 - val_Weighted_F1: 0.8533\n",
      "Epoch 9/31\n",
      "184/184 [==============================] - ETA: 0s - loss: 0.2812 - acc: 0.9244 - F1: 0.8767 - Weighted_F1: 0.9255\n",
      "Epoch 00009: val_acc did not improve from 0.85951\n",
      "184/184 [==============================] - 6s 35ms/step - loss: 0.2812 - acc: 0.9244 - F1: 0.8767 - Weighted_F1: 0.9255 - val_loss: 0.5934 - val_acc: 0.8521 - val_F1: 0.7522 - val_Weighted_F1: 0.8522\n",
      "Epoch 10/31\n",
      "184/184 [==============================] - ETA: 0s - loss: 0.2643 - acc: 0.9290 - F1: 0.8839 - Weighted_F1: 0.9301\n",
      "Epoch 00010: val_acc did not improve from 0.85951\n",
      "184/184 [==============================] - 6s 34ms/step - loss: 0.2643 - acc: 0.9290 - F1: 0.8839 - Weighted_F1: 0.9301 - val_loss: 0.5659 - val_acc: 0.8524 - val_F1: 0.7534 - val_Weighted_F1: 0.8522\n",
      "Epoch 11/31\n",
      "183/184 [============================>.] - ETA: 0s - loss: 0.2518 - acc: 0.9329 - F1: 0.8913 - Weighted_F1: 0.9337\n",
      "Epoch 00011: val_acc did not improve from 0.85951\n",
      "184/184 [==============================] - 6s 34ms/step - loss: 0.2519 - acc: 0.9329 - F1: 0.8913 - Weighted_F1: 0.9337 - val_loss: 0.6088 - val_acc: 0.8503 - val_F1: 0.7469 - val_Weighted_F1: 0.8515\n",
      "Epoch 12/31\n",
      "184/184 [==============================] - ETA: 0s - loss: 0.2562 - acc: 0.9301 - F1: 0.8808 - Weighted_F1: 0.9314\n",
      "Epoch 00012: val_acc did not improve from 0.85951\n",
      "184/184 [==============================] - 6s 35ms/step - loss: 0.2562 - acc: 0.9301 - F1: 0.8808 - Weighted_F1: 0.9314 - val_loss: 0.6119 - val_acc: 0.8501 - val_F1: 0.7473 - val_Weighted_F1: 0.8525\n",
      "Epoch 13/31\n",
      "183/184 [============================>.] - ETA: 0s - loss: 0.2225 - acc: 0.9397 - F1: 0.9028 - Weighted_F1: 0.9403\n",
      "Epoch 00013: val_acc did not improve from 0.85951\n",
      "184/184 [==============================] - 6s 35ms/step - loss: 0.2224 - acc: 0.9397 - F1: 0.9028 - Weighted_F1: 0.9404 - val_loss: 0.6319 - val_acc: 0.8474 - val_F1: 0.7463 - val_Weighted_F1: 0.8483\n",
      "Epoch 14/31\n",
      "183/184 [============================>.] - ETA: 0s - loss: 0.2084 - acc: 0.9435 - F1: 0.9081 - Weighted_F1: 0.9441\n",
      "Epoch 00014: val_acc did not improve from 0.85951\n",
      "184/184 [==============================] - 6s 35ms/step - loss: 0.2084 - acc: 0.9435 - F1: 0.9081 - Weighted_F1: 0.9441 - val_loss: 0.6393 - val_acc: 0.8465 - val_F1: 0.7437 - val_Weighted_F1: 0.8488\n",
      "Epoch 15/31\n",
      "184/184 [==============================] - ETA: 0s - loss: 0.2003 - acc: 0.9451 - F1: 0.9117 - Weighted_F1: 0.9457\n",
      "Epoch 00015: val_acc did not improve from 0.85951\n",
      "184/184 [==============================] - 6s 35ms/step - loss: 0.2003 - acc: 0.9451 - F1: 0.9117 - Weighted_F1: 0.9457 - val_loss: 0.6673 - val_acc: 0.8485 - val_F1: 0.7441 - val_Weighted_F1: 0.8490\n",
      "Epoch 16/31\n",
      "183/184 [============================>.] - ETA: 0s - loss: 0.1924 - acc: 0.9475 - F1: 0.9130 - Weighted_F1: 0.9481\n",
      "Epoch 00016: val_acc did not improve from 0.85951\n",
      "184/184 [==============================] - 6s 35ms/step - loss: 0.1924 - acc: 0.9475 - F1: 0.9130 - Weighted_F1: 0.9481 - val_loss: 0.7002 - val_acc: 0.8510 - val_F1: 0.7474 - val_Weighted_F1: 0.8515\n",
      "Epoch 17/31\n",
      "183/184 [============================>.] - ETA: 0s - loss: 0.1813 - acc: 0.9498 - F1: 0.9178 - Weighted_F1: 0.9504\n",
      "Epoch 00017: val_acc did not improve from 0.85951\n",
      "184/184 [==============================] - 6s 34ms/step - loss: 0.1812 - acc: 0.9499 - F1: 0.9178 - Weighted_F1: 0.9504 - val_loss: 0.6984 - val_acc: 0.8520 - val_F1: 0.7494 - val_Weighted_F1: 0.8520\n",
      "Epoch 18/31\n",
      "184/184 [==============================] - ETA: 0s - loss: 0.1752 - acc: 0.9518 - F1: 0.9201 - Weighted_F1: 0.9524\n",
      "Epoch 00018: val_acc did not improve from 0.85951\n",
      "184/184 [==============================] - 6s 35ms/step - loss: 0.1752 - acc: 0.9518 - F1: 0.9201 - Weighted_F1: 0.9524 - val_loss: 0.6992 - val_acc: 0.8501 - val_F1: 0.7442 - val_Weighted_F1: 0.8506\n",
      "Epoch 19/31\n",
      "183/184 [============================>.] - ETA: 0s - loss: 0.1804 - acc: 0.9506 - F1: 0.9174 - Weighted_F1: 0.9512\n",
      "Epoch 00019: val_acc did not improve from 0.85951\n",
      "184/184 [==============================] - 6s 34ms/step - loss: 0.1804 - acc: 0.9506 - F1: 0.9175 - Weighted_F1: 0.9512 - val_loss: 0.6687 - val_acc: 0.8495 - val_F1: 0.7488 - val_Weighted_F1: 0.8487\n",
      "Epoch 20/31\n",
      "183/184 [============================>.] - ETA: 0s - loss: 0.1683 - acc: 0.9549 - F1: 0.9244 - Weighted_F1: 0.9554\n",
      "Epoch 00020: val_acc did not improve from 0.85951\n",
      "184/184 [==============================] - 6s 35ms/step - loss: 0.1683 - acc: 0.9549 - F1: 0.9243 - Weighted_F1: 0.9554 - val_loss: 0.6672 - val_acc: 0.8479 - val_F1: 0.7484 - val_Weighted_F1: 0.8492\n",
      "Epoch 21/31\n",
      "183/184 [============================>.] - ETA: 0s - loss: 0.1639 - acc: 0.9549 - F1: 0.9249 - Weighted_F1: 0.9554\n",
      "Epoch 00021: val_acc did not improve from 0.85951\n",
      "184/184 [==============================] - 6s 34ms/step - loss: 0.1639 - acc: 0.9549 - F1: 0.9249 - Weighted_F1: 0.9554 - val_loss: 0.6976 - val_acc: 0.8510 - val_F1: 0.7498 - val_Weighted_F1: 0.8516\n",
      "Epoch 22/31\n",
      "183/184 [============================>.] - ETA: 0s - loss: 0.1574 - acc: 0.9569 - F1: 0.9268 - Weighted_F1: 0.9573\n",
      "Epoch 00022: val_acc did not improve from 0.85951\n",
      "184/184 [==============================] - 6s 34ms/step - loss: 0.1577 - acc: 0.9569 - F1: 0.9267 - Weighted_F1: 0.9573 - val_loss: 0.7278 - val_acc: 0.8397 - val_F1: 0.7372 - val_Weighted_F1: 0.8429\n",
      "Epoch 23/31\n",
      "183/184 [============================>.] - ETA: 0s - loss: 0.2026 - acc: 0.9437 - F1: 0.8998 - Weighted_F1: 0.9449\n",
      "Epoch 00023: val_acc did not improve from 0.85951\n",
      "184/184 [==============================] - 6s 34ms/step - loss: 0.2026 - acc: 0.9437 - F1: 0.8998 - Weighted_F1: 0.9448 - val_loss: 0.7126 - val_acc: 0.8502 - val_F1: 0.7474 - val_Weighted_F1: 0.8496\n",
      "Epoch 24/31\n",
      "183/184 [============================>.] - ETA: 0s - loss: 0.1539 - acc: 0.9582 - F1: 0.9281 - Weighted_F1: 0.9586\n",
      "Epoch 00024: val_acc did not improve from 0.85951\n",
      "184/184 [==============================] - 6s 34ms/step - loss: 0.1539 - acc: 0.9582 - F1: 0.9281 - Weighted_F1: 0.9586 - val_loss: 0.7014 - val_acc: 0.8542 - val_F1: 0.7502 - val_Weighted_F1: 0.8550\n",
      "Epoch 25/31\n",
      "183/184 [============================>.] - ETA: 0s - loss: 0.1442 - acc: 0.9602 - F1: 0.9310 - Weighted_F1: 0.9607\n",
      "Epoch 00025: val_acc did not improve from 0.85951\n",
      "184/184 [==============================] - 6s 35ms/step - loss: 0.1442 - acc: 0.9602 - F1: 0.9310 - Weighted_F1: 0.9607 - val_loss: 0.7307 - val_acc: 0.8526 - val_F1: 0.7534 - val_Weighted_F1: 0.8524\n",
      "Epoch 26/31\n",
      "183/184 [============================>.] - ETA: 0s - loss: 0.1445 - acc: 0.9610 - F1: 0.9336 - Weighted_F1: 0.9614\n",
      "Epoch 00026: val_acc did not improve from 0.85951\n",
      "184/184 [==============================] - 6s 34ms/step - loss: 0.1444 - acc: 0.9610 - F1: 0.9336 - Weighted_F1: 0.9614 - val_loss: 0.7191 - val_acc: 0.8469 - val_F1: 0.7460 - val_Weighted_F1: 0.8489\n",
      "Epoch 27/31\n",
      "183/184 [============================>.] - ETA: 0s - loss: 0.1387 - acc: 0.9623 - F1: 0.9333 - Weighted_F1: 0.9627\n",
      "Epoch 00027: val_acc did not improve from 0.85951\n",
      "184/184 [==============================] - 6s 35ms/step - loss: 0.1387 - acc: 0.9623 - F1: 0.9332 - Weighted_F1: 0.9627 - val_loss: 0.7746 - val_acc: 0.8408 - val_F1: 0.7380 - val_Weighted_F1: 0.8404\n",
      "Epoch 28/31\n",
      "183/184 [============================>.] - ETA: 0s - loss: 0.1265 - acc: 0.9633 - F1: 0.9398 - Weighted_F1: 0.9636\n",
      "Epoch 00028: val_acc did not improve from 0.85951\n",
      "184/184 [==============================] - 6s 34ms/step - loss: 0.1265 - acc: 0.9633 - F1: 0.9397 - Weighted_F1: 0.9636 - val_loss: 0.7546 - val_acc: 0.8468 - val_F1: 0.7459 - val_Weighted_F1: 0.8476\n",
      "Epoch 29/31\n",
      "183/184 [============================>.] - ETA: 0s - loss: 0.1369 - acc: 0.9617 - F1: 0.9344 - Weighted_F1: 0.9622\n",
      "Epoch 00029: val_acc did not improve from 0.85951\n",
      "184/184 [==============================] - 6s 34ms/step - loss: 0.1370 - acc: 0.9617 - F1: 0.9344 - Weighted_F1: 0.9621 - val_loss: 0.7830 - val_acc: 0.8416 - val_F1: 0.7376 - val_Weighted_F1: 0.8422\n",
      "Epoch 30/31\n",
      "184/184 [==============================] - ETA: 0s - loss: 0.1273 - acc: 0.9644 - F1: 0.9393 - Weighted_F1: 0.9647\n",
      "Epoch 00030: val_acc did not improve from 0.85951\n",
      "184/184 [==============================] - 6s 35ms/step - loss: 0.1273 - acc: 0.9644 - F1: 0.9393 - Weighted_F1: 0.9647 - val_loss: 0.7999 - val_acc: 0.8392 - val_F1: 0.7308 - val_Weighted_F1: 0.8406\n",
      "Epoch 31/31\n",
      "183/184 [============================>.] - ETA: 0s - loss: 0.1187 - acc: 0.9666 - F1: 0.9426 - Weighted_F1: 0.9669\n",
      "Epoch 00031: val_acc did not improve from 0.85951\n",
      "184/184 [==============================] - 6s 34ms/step - loss: 0.1188 - acc: 0.9665 - F1: 0.9426 - Weighted_F1: 0.9668 - val_loss: 0.7969 - val_acc: 0.8461 - val_F1: 0.7409 - val_Weighted_F1: 0.8466\n"
     ]
    }
   ],
   "source": [
    "history = model.fit(X_train, y_train, epochs=31, validation_data=(X_val, y_val), callbacks=[mc], batch_size=256, class_weight=class_weight)"
   ]
  },
  {
   "cell_type": "code",
   "execution_count": 38,
   "metadata": {
    "colab": {
     "base_uri": "https://localhost:8080/"
    },
    "execution": {
     "iopub.execute_input": "2021-10-06T11:25:44.720134Z",
     "iopub.status.busy": "2021-10-06T11:25:44.719879Z",
     "iopub.status.idle": "2021-10-06T11:25:46.292344Z",
     "shell.execute_reply": "2021-10-06T11:25:46.291578Z",
     "shell.execute_reply.started": "2021-10-06T11:25:44.720106Z"
    },
    "id": "A99J2oAXbwjd",
    "outputId": "4d80cefd-21b3-48f3-c758-bd6fea1dffea",
    "tags": []
   },
   "outputs": [
    {
     "name": "stdout",
     "output_type": "stream",
     "text": [
      "192/192 [==============================] - 2s 8ms/step - loss: 0.7633 - acc: 0.8423 - F1: 0.7528 - Weighted_F1: 0.8431\n"
     ]
    },
    {
     "data": {
      "text/plain": [
       "[0.7632507681846619,\n",
       " 0.8423460125923157,\n",
       " array([0.9168766 , 0.82543164, 0.91525424, 0.8528718 , 0.55813956,\n",
       "        0.59322035, 0.6079295 ], dtype=float32),\n",
       " 0.8430989384651184]"
      ]
     },
     "execution_count": 38,
     "metadata": {},
     "output_type": "execute_result"
    }
   ],
   "source": [
    "model.evaluate(X_test, y_test)"
   ]
  },
  {
   "cell_type": "code",
   "execution_count": 39,
   "metadata": {
    "execution": {
     "iopub.execute_input": "2021-10-06T11:25:46.293705Z",
     "iopub.status.busy": "2021-10-06T11:25:46.293497Z",
     "iopub.status.idle": "2021-10-06T11:25:48.851584Z",
     "shell.execute_reply": "2021-10-06T11:25:48.850863Z",
     "shell.execute_reply.started": "2021-10-06T11:25:46.293680Z"
    },
    "tags": []
   },
   "outputs": [],
   "source": [
    "model = load_model(\"best_model.h5\")"
   ]
  },
  {
   "cell_type": "code",
   "execution_count": 40,
   "metadata": {
    "execution": {
     "iopub.execute_input": "2021-10-06T11:25:48.852946Z",
     "iopub.status.busy": "2021-10-06T11:25:48.852736Z",
     "iopub.status.idle": "2021-10-06T11:25:59.935671Z",
     "shell.execute_reply": "2021-10-06T11:25:59.935088Z",
     "shell.execute_reply.started": "2021-10-06T11:25:48.852920Z"
    },
    "tags": []
   },
   "outputs": [
    {
     "name": "stdout",
     "output_type": "stream",
     "text": [
      "192/192 [==============================] - 2s 10ms/step - loss: 0.4909 - acc: 0.8538 - F1: 0.7591 - Weighted_F1: 0.8515\n"
     ]
    },
    {
     "data": {
      "text/plain": [
       "[0.49087944626808167,\n",
       " 0.853782057762146,\n",
       " array([0.91390735, 0.84669995, 0.91860145, 0.85658157, 0.56105614,\n",
       "        0.6018519 , 0.6148649 ], dtype=float32),\n",
       " 0.851534366607666]"
      ]
     },
     "execution_count": 40,
     "metadata": {},
     "output_type": "execute_result"
    }
   ],
   "source": [
    "model.evaluate(X_test, y_test)"
   ]
  }
 ],
 "metadata": {
  "accelerator": "GPU",
  "colab": {
   "collapsed_sections": [
    "-oaZ1-tw01nN"
   ],
   "name": "proto_Level2_1st Competition.ipynb",
   "provenance": []
  },
  "kernelspec": {
   "display_name": "Python 3",
   "language": "python",
   "name": "python3"
  },
  "language_info": {
   "codemirror_mode": {
    "name": "ipython",
    "version": 3
   },
   "file_extension": ".py",
   "mimetype": "text/x-python",
   "name": "python",
   "nbconvert_exporter": "python",
   "pygments_lexer": "ipython3",
   "version": "3.8.11"
  }
 },
 "nbformat": 4,
 "nbformat_minor": 4
}
