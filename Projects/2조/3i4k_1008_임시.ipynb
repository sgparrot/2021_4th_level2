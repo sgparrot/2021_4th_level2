{
  "nbformat": 4,
  "nbformat_minor": 0,
  "metadata": {
    "colab": {
      "name": "3i4k_1008_임시.ipynb",
      "provenance": [],
      "authorship_tag": "ABX9TyO/SkFNbWMllCZov8SL2uR0",
      "include_colab_link": true
    },
    "kernelspec": {
      "name": "python3",
      "display_name": "Python 3"
    },
    "language_info": {
      "name": "python"
    }
  },
  "cells": [
    {
      "cell_type": "markdown",
      "metadata": {
        "id": "view-in-github",
        "colab_type": "text"
      },
      "source": [
        "<a href=\"https://colab.research.google.com/github/pseudope/2021_F_Level2/blob/main/Projects/2%EC%A1%B0/3i4k_1008_%EC%9E%84%EC%8B%9C.ipynb\" target=\"_parent\"><img src=\"https://colab.research.google.com/assets/colab-badge.svg\" alt=\"Open In Colab\"/></a>"
      ]
    },
    {
      "cell_type": "code",
      "metadata": {
        "id": "QusXfa06bOi3"
      },
      "source": [
        "import pandas as pd\n",
        "import numpy as np\n",
        "\n",
        "import konlpy\n",
        "from konlpy.tag import Okt\n",
        "from keras.preprocessing.text import Tokenizer\n",
        "\n",
        "from keras.layers import Embedding, Dense, LSTM, Bidirectional, Dropout\n",
        "from keras.models import Sequential \n",
        "from tensorflow.keras.models import load_model\n",
        "from tensorflow.keras.callbacks import EarlyStopping, ModelCheckpoint"
      ],
      "execution_count": 18,
      "outputs": []
    },
    {
      "cell_type": "markdown",
      "metadata": {
        "id": "7bNuzQGxbnOd"
      },
      "source": [
        "### 데이터 다운로드\n",
        "\n",
        "---"
      ]
    },
    {
      "cell_type": "code",
      "metadata": {
        "colab": {
          "base_uri": "https://localhost:8080/"
        },
        "id": "DmtwbZKHbcV9",
        "outputId": "00363da7-88a8-4fb4-8fc0-3cb5e352f949"
      },
      "source": [
        "!wget https://raw.githubusercontent.com/warnikchow/3i4k/master/data/train_val_test/fci_train_val.txt\n",
        "!wget https://raw.githubusercontent.com/warnikchow/3i4k/master/data/train_val_test/fci_test.txt"
      ],
      "execution_count": 2,
      "outputs": [
        {
          "output_type": "stream",
          "name": "stdout",
          "text": [
            "--2021-10-07 15:45:40--  https://raw.githubusercontent.com/warnikchow/3i4k/master/data/train_val_test/fci_train_val.txt\n",
            "Resolving raw.githubusercontent.com (raw.githubusercontent.com)... 185.199.109.133, 185.199.111.133, 185.199.110.133, ...\n",
            "Connecting to raw.githubusercontent.com (raw.githubusercontent.com)|185.199.109.133|:443... connected.\n",
            "HTTP request sent, awaiting response... 200 OK\n",
            "Length: 2661060 (2.5M) [text/plain]\n",
            "Saving to: ‘fci_train_val.txt’\n",
            "\n",
            "\rfci_train_val.txt     0%[                    ]       0  --.-KB/s               \rfci_train_val.txt   100%[===================>]   2.54M  --.-KB/s    in 0.02s   \n",
            "\n",
            "2021-10-07 15:45:40 (157 MB/s) - ‘fci_train_val.txt’ saved [2661060/2661060]\n",
            "\n",
            "--2021-10-07 15:45:40--  https://raw.githubusercontent.com/warnikchow/3i4k/master/data/train_val_test/fci_test.txt\n",
            "Resolving raw.githubusercontent.com (raw.githubusercontent.com)... 185.199.108.133, 185.199.109.133, 185.199.110.133, ...\n",
            "Connecting to raw.githubusercontent.com (raw.githubusercontent.com)|185.199.108.133|:443... connected.\n",
            "HTTP request sent, awaiting response... 200 OK\n",
            "Length: 295054 (288K) [text/plain]\n",
            "Saving to: ‘fci_test.txt’\n",
            "\n",
            "fci_test.txt        100%[===================>] 288.14K  --.-KB/s    in 0.007s  \n",
            "\n",
            "2021-10-07 15:45:40 (37.8 MB/s) - ‘fci_test.txt’ saved [295054/295054]\n",
            "\n"
          ]
        }
      ]
    },
    {
      "cell_type": "code",
      "metadata": {
        "id": "DfsbdjQ6bqEj"
      },
      "source": [
        "#데이터 불러오기\n",
        "\n",
        "def read_data(filename):\n",
        "\n",
        "    with open(filename, \"r\", encoding=\"UTF8\") as f:\n",
        "        data = [line.split(\"\\t\") for line in f.read().splitlines()]\n",
        "\n",
        "    return data"
      ],
      "execution_count": 3,
      "outputs": []
    },
    {
      "cell_type": "code",
      "metadata": {
        "id": "55g65haubqmN"
      },
      "source": [
        "\n",
        "train_data = read_data(\"/content/fci_train_val.txt\")\n",
        "\n",
        "\n",
        "#X,y\n",
        "X_train_data = [t[1] for t in train_data]\n",
        "y_train_data = [int(t[0]) for t in train_data]\n",
        "\n",
        "\n",
        "\n",
        "test_data = read_data(\"/content/fci_test.txt\")\n",
        "\n",
        "\n",
        "#X,y\n",
        "X_test_data = [t[1] for t in test_data]\n",
        "y_test_data = [int(t[0]) for t in test_data]"
      ],
      "execution_count": 4,
      "outputs": []
    },
    {
      "cell_type": "code",
      "metadata": {
        "colab": {
          "base_uri": "https://localhost:8080/"
        },
        "id": "Z9JRqRsyb1Zf",
        "outputId": "ee911705-f9f1-4980-fae6-01c8cf3a441b"
      },
      "source": [
        "print(len(X_train_data))\n",
        "print(len(y_train_data))\n",
        "print(len(X_test_data))\n",
        "print(len(y_test_data))"
      ],
      "execution_count": 5,
      "outputs": [
        {
          "output_type": "stream",
          "name": "stdout",
          "text": [
            "55134\n",
            "55134\n",
            "6121\n",
            "6121\n"
          ]
        }
      ]
    },
    {
      "cell_type": "code",
      "metadata": {
        "colab": {
          "base_uri": "https://localhost:8080/"
        },
        "id": "orud5qegb17H",
        "outputId": "39384fee-350e-42e3-aadb-269825f40667"
      },
      "source": [
        "#불용어 사전 가져오기\n",
        "\n",
        "df = pd.read_csv('https://raw.githubusercontent.com/cranberryai/todak_todak_python/master/machine_learning_text/clean_korean_documents/korean_stopwords.txt', header=None)\n",
        "df[0] = df[0].apply(lambda x: x.strip())\n",
        "\n",
        "stopwords = df[0].to_numpy()\n",
        "\n",
        "print(stopwords)\n",
        "print(len(stopwords))"
      ],
      "execution_count": 6,
      "outputs": [
        {
          "output_type": "stream",
          "name": "stdout",
          "text": [
            "['이' '있' '하' '것' '들' '그' '되' '수' '이' '보' '않' '없' '나' '사람' '주' '아니' '등' '같'\n",
            " '우리' '때' '년' '가' '한' '지' '대하' '오' '말' '일' '그렇' '위하' '때문' '그것' '두' '말하'\n",
            " '알' '그러나' '받' '못하' '일' '그런' '또' '문제' '더' '사회' '많' '그리고' '좋' '크' '따르' '중'\n",
            " '나오' '가지' '씨' '시키' '만들' '지금' '생각하' '그러' '속' '하나' '집' '살' '모르' '적' '월' '데'\n",
            " '자신' '안' '어떤' '내' '경우' '명' '생각' '시간' '그녀' '다시' '이런' '앞' '보이' '번' '나' '다른'\n",
            " '어떻' '여자' '개' '들' '사실' '이렇' '점' '싶' '말' '정도' '좀' '원' '잘' '통하' '소리' '놓']\n",
            "98\n"
          ]
        }
      ]
    },
    {
      "cell_type": "markdown",
      "metadata": {
        "id": "hpsVFb5jb8sk"
      },
      "source": [
        "### 02. 토큰화 및 인코딩 (augmentation 생략)"
      ]
    },
    {
      "cell_type": "code",
      "metadata": {
        "colab": {
          "base_uri": "https://localhost:8080/"
        },
        "id": "bC2i4ETpb4xT",
        "outputId": "5d5b6af7-2219-45d1-c2d2-bc02081499f7"
      },
      "source": [
        "!pip install konlpy\n",
        "!pip install soynlp"
      ],
      "execution_count": 7,
      "outputs": [
        {
          "output_type": "stream",
          "name": "stdout",
          "text": [
            "Collecting konlpy\n",
            "  Downloading konlpy-0.5.2-py2.py3-none-any.whl (19.4 MB)\n",
            "\u001b[K     |████████████████████████████████| 19.4 MB 129 kB/s \n",
            "\u001b[?25hRequirement already satisfied: numpy>=1.6 in /usr/local/lib/python3.7/dist-packages (from konlpy) (1.19.5)\n",
            "Collecting beautifulsoup4==4.6.0\n",
            "  Downloading beautifulsoup4-4.6.0-py3-none-any.whl (86 kB)\n",
            "\u001b[K     |████████████████████████████████| 86 kB 6.4 MB/s \n",
            "\u001b[?25hRequirement already satisfied: lxml>=4.1.0 in /usr/local/lib/python3.7/dist-packages (from konlpy) (4.2.6)\n",
            "Collecting JPype1>=0.7.0\n",
            "  Downloading JPype1-1.3.0-cp37-cp37m-manylinux_2_5_x86_64.manylinux1_x86_64.whl (448 kB)\n",
            "\u001b[K     |████████████████████████████████| 448 kB 63.9 MB/s \n",
            "\u001b[?25hRequirement already satisfied: tweepy>=3.7.0 in /usr/local/lib/python3.7/dist-packages (from konlpy) (3.10.0)\n",
            "Collecting colorama\n",
            "  Downloading colorama-0.4.4-py2.py3-none-any.whl (16 kB)\n",
            "Requirement already satisfied: typing-extensions in /usr/local/lib/python3.7/dist-packages (from JPype1>=0.7.0->konlpy) (3.7.4.3)\n",
            "Requirement already satisfied: six>=1.10.0 in /usr/local/lib/python3.7/dist-packages (from tweepy>=3.7.0->konlpy) (1.15.0)\n",
            "Requirement already satisfied: requests-oauthlib>=0.7.0 in /usr/local/lib/python3.7/dist-packages (from tweepy>=3.7.0->konlpy) (1.3.0)\n",
            "Requirement already satisfied: requests[socks]>=2.11.1 in /usr/local/lib/python3.7/dist-packages (from tweepy>=3.7.0->konlpy) (2.23.0)\n",
            "Requirement already satisfied: oauthlib>=3.0.0 in /usr/local/lib/python3.7/dist-packages (from requests-oauthlib>=0.7.0->tweepy>=3.7.0->konlpy) (3.1.1)\n",
            "Requirement already satisfied: certifi>=2017.4.17 in /usr/local/lib/python3.7/dist-packages (from requests[socks]>=2.11.1->tweepy>=3.7.0->konlpy) (2021.5.30)\n",
            "Requirement already satisfied: urllib3!=1.25.0,!=1.25.1,<1.26,>=1.21.1 in /usr/local/lib/python3.7/dist-packages (from requests[socks]>=2.11.1->tweepy>=3.7.0->konlpy) (1.24.3)\n",
            "Requirement already satisfied: idna<3,>=2.5 in /usr/local/lib/python3.7/dist-packages (from requests[socks]>=2.11.1->tweepy>=3.7.0->konlpy) (2.10)\n",
            "Requirement already satisfied: chardet<4,>=3.0.2 in /usr/local/lib/python3.7/dist-packages (from requests[socks]>=2.11.1->tweepy>=3.7.0->konlpy) (3.0.4)\n",
            "Requirement already satisfied: PySocks!=1.5.7,>=1.5.6 in /usr/local/lib/python3.7/dist-packages (from requests[socks]>=2.11.1->tweepy>=3.7.0->konlpy) (1.7.1)\n",
            "Installing collected packages: JPype1, colorama, beautifulsoup4, konlpy\n",
            "  Attempting uninstall: beautifulsoup4\n",
            "    Found existing installation: beautifulsoup4 4.6.3\n",
            "    Uninstalling beautifulsoup4-4.6.3:\n",
            "      Successfully uninstalled beautifulsoup4-4.6.3\n",
            "Successfully installed JPype1-1.3.0 beautifulsoup4-4.6.0 colorama-0.4.4 konlpy-0.5.2\n",
            "Collecting soynlp\n",
            "  Downloading soynlp-0.0.493-py3-none-any.whl (416 kB)\n",
            "\u001b[K     |████████████████████████████████| 416 kB 28.4 MB/s \n",
            "\u001b[?25hRequirement already satisfied: numpy>=1.12.1 in /usr/local/lib/python3.7/dist-packages (from soynlp) (1.19.5)\n",
            "Requirement already satisfied: scikit-learn>=0.20.0 in /usr/local/lib/python3.7/dist-packages (from soynlp) (0.22.2.post1)\n",
            "Requirement already satisfied: scipy>=1.1.0 in /usr/local/lib/python3.7/dist-packages (from soynlp) (1.4.1)\n",
            "Requirement already satisfied: psutil>=5.0.1 in /usr/local/lib/python3.7/dist-packages (from soynlp) (5.4.8)\n",
            "Requirement already satisfied: joblib>=0.11 in /usr/local/lib/python3.7/dist-packages (from scikit-learn>=0.20.0->soynlp) (1.0.1)\n",
            "Installing collected packages: soynlp\n",
            "Successfully installed soynlp-0.0.493\n"
          ]
        }
      ]
    },
    {
      "cell_type": "code",
      "metadata": {
        "id": "1H-VpF6LcCXJ"
      },
      "source": [
        "okt = Okt()\n",
        "\n",
        "#형태소 토큰화\n",
        "\n",
        "\n",
        "X_train_new=[]\n",
        "for sentence_new in X_train_data : \n",
        "    temp_X = [] \n",
        "    temp_X = okt.morphs(sentence_new, stem=True) # 토큰화 \n",
        "    temp_X = [word for word in temp_X if not word in stopwords] #불용어에 해당하지 않는 토큰만 저장\n",
        "    X_train_new.append(temp_X)\n",
        "\n",
        "X_test_new = [] \n",
        "for sentence_new in X_test_data : \n",
        "    temp_X = [] \n",
        "    temp_X = okt.morphs(sentence_new, stem=True) # 토큰화 \n",
        "    temp_X = [word for word in temp_X if not word in stopwords] #불용어에 해당하지 않는 토큰만 저장\n",
        "    X_test_new.append(temp_X)"
      ],
      "execution_count": 9,
      "outputs": []
    },
    {
      "cell_type": "code",
      "metadata": {
        "colab": {
          "base_uri": "https://localhost:8080/"
        },
        "id": "E0Uj2-ZqcRww",
        "outputId": "8cf746a6-aba4-4c33-8491-0be0366027e1"
      },
      "source": [
        "print(X_train_new[:5])\n",
        "print(X_test_new[:5])"
      ],
      "execution_count": 10,
      "outputs": [
        {
          "output_type": "stream",
          "name": "stdout",
          "text": [
            "[['만화'], ['이치'], ['약'], ['사이'], ['짜다']]\n",
            "[['연두색'], ['되다'], [], ['그걸루'], ['연구소']]\n"
          ]
        }
      ]
    },
    {
      "cell_type": "code",
      "metadata": {
        "id": "i45TWtSYcTvC"
      },
      "source": [
        "#정수 인코딩\n",
        "\n",
        "tokenizer = Tokenizer()\n",
        "tokenizer.fit_on_texts(X_train_new)\n",
        "\n",
        "total_cnt = len(tokenizer.word_index)\n",
        "vocab_size = total_cnt + 1"
      ],
      "execution_count": 11,
      "outputs": []
    },
    {
      "cell_type": "code",
      "metadata": {
        "id": "pAjwlvZYcUQl"
      },
      "source": [
        "tokenizer = Tokenizer(vocab_size) \n",
        "tokenizer.fit_on_texts(X_train_new)\n",
        "X_train = tokenizer.texts_to_sequences(X_train_new)\n",
        "X_test = tokenizer.texts_to_sequences(X_test_new)"
      ],
      "execution_count": 12,
      "outputs": []
    },
    {
      "cell_type": "code",
      "metadata": {
        "colab": {
          "base_uri": "https://localhost:8080/"
        },
        "id": "lurI-AiJcZw4",
        "outputId": "076a296b-77a3-4cb1-d95f-bc7c64ab0a12"
      },
      "source": [
        "X_train[:5]"
      ],
      "execution_count": 13,
      "outputs": [
        {
          "output_type": "execute_result",
          "data": {
            "text/plain": [
              "[[3906], [7779], [389], [568], [915]]"
            ]
          },
          "metadata": {},
          "execution_count": 13
        }
      ]
    },
    {
      "cell_type": "code",
      "metadata": {
        "colab": {
          "base_uri": "https://localhost:8080/"
        },
        "id": "vZK2Y4KScbsz",
        "outputId": "144f5084-dcbf-4e99-a014-9bd7b8ca6d15"
      },
      "source": [
        "#15로 패딩\n",
        "\n",
        "from tensorflow.keras.preprocessing.sequence import pad_sequences\n",
        "\n",
        "max_len = 15\n",
        "# 한국어 특성상 문장 끝이 중요하므로 오른쪽에 치우치게 패딩\n",
        "\n",
        "X_train_pad_new = pad_sequences(X_train, maxlen = max_len)\n",
        "X_test_pad_new = pad_sequences(X_test, maxlen = max_len)\n",
        "\n",
        "print(X_train_pad_new)\n",
        "print(len(X_train_pad_new))\n",
        "print(len(X_test_pad_new))"
      ],
      "execution_count": 14,
      "outputs": [
        {
          "output_type": "stream",
          "name": "stdout",
          "text": [
            "[[   0    0    0 ...    0    0 3906]\n",
            " [   0    0    0 ...    0    0 7779]\n",
            " [   0    0    0 ...    0    0  389]\n",
            " ...\n",
            " [   0    0    0 ...    0  317   32]\n",
            " [   0    0    0 ...    0   20   66]\n",
            " [   0    0    0 ... 1075  110    1]]\n",
            "55134\n",
            "6121\n"
          ]
        }
      ]
    },
    {
      "cell_type": "code",
      "metadata": {
        "colab": {
          "base_uri": "https://localhost:8080/"
        },
        "id": "yfDDbln1cfB9",
        "outputId": "c67f5482-7560-43ae-a057-93f00292c78a"
      },
      "source": [
        "from tensorflow.keras.utils import to_categorical\n",
        "print(len(set(y_train_data)))\n",
        "y_train = to_categorical(y_train_data,len(set(y_train_data)))\n",
        "y_test = to_categorical(y_test_data,len(set(y_train_data)))\n",
        "\n",
        "\n",
        "print(len(X_train_pad_new))\n",
        "print(len(X_test_pad_new))\n",
        "print(len(y_train))\n",
        "print(len(y_test))"
      ],
      "execution_count": 15,
      "outputs": [
        {
          "output_type": "stream",
          "name": "stdout",
          "text": [
            "7\n",
            "55134\n",
            "6121\n",
            "55134\n",
            "6121\n"
          ]
        }
      ]
    },
    {
      "cell_type": "code",
      "metadata": {
        "colab": {
          "base_uri": "https://localhost:8080/"
        },
        "id": "uQ50_xJacg_s",
        "outputId": "9fe9bfed-794d-49d0-cd36-f466cf608095"
      },
      "source": [
        "from sklearn.model_selection import train_test_split\n",
        "\n",
        "X_train_new, X_valid_new, y_train_new, y_valid_new = train_test_split(X_train_pad_new, y_train, test_size=0.1, shuffle=True, stratify=y_train)\n",
        "X_test_new = X_test_pad_new\n",
        "y_test_new = y_test\n",
        "print(y_valid_new[0])\n",
        "print(len(X_valid_new))\n",
        "print(len(y_valid_new))"
      ],
      "execution_count": 16,
      "outputs": [
        {
          "output_type": "stream",
          "name": "stdout",
          "text": [
            "[0. 0. 0. 1. 0. 0. 0.]\n",
            "5514\n",
            "5514\n"
          ]
        }
      ]
    },
    {
      "cell_type": "code",
      "metadata": {
        "colab": {
          "base_uri": "https://localhost:8080/"
        },
        "id": "oaJSNiFSci4g",
        "outputId": "8a737aeb-6519-48e4-d9ce-8dca92713255"
      },
      "source": [
        "from sklearn.model_selection import train_test_split\n",
        "\n",
        "X_train_new, X_valid_new, y_train_new, y_valid_new = train_test_split(X_train_pad_new, y_train, test_size=0.1, shuffle=True, stratify=y_train)\n",
        "X_test_new = X_test_pad_new\n",
        "y_test_new = y_test\n",
        "print(y_valid_new[0])\n",
        "print(len(X_valid_new))\n",
        "print(len(y_valid_new))"
      ],
      "execution_count": 17,
      "outputs": [
        {
          "output_type": "stream",
          "name": "stdout",
          "text": [
            "[0. 1. 0. 0. 0. 0. 0.]\n",
            "5514\n",
            "5514\n"
          ]
        }
      ]
    },
    {
      "cell_type": "markdown",
      "metadata": {
        "id": "qZZY0fPDcjmW"
      },
      "source": [
        "## Modeling 1"
      ]
    },
    {
      "cell_type": "code",
      "metadata": {
        "colab": {
          "base_uri": "https://localhost:8080/"
        },
        "id": "cnFRBmKlc0WZ",
        "outputId": "460713f8-5096-404b-b371-4fc4d6c9e092"
      },
      "source": [
        "!pip install tensorflow-addons\n",
        "\n",
        "from tensorflow_addons.metrics import F1Score"
      ],
      "execution_count": 19,
      "outputs": [
        {
          "output_type": "stream",
          "name": "stdout",
          "text": [
            "Collecting tensorflow-addons\n",
            "  Downloading tensorflow_addons-0.14.0-cp37-cp37m-manylinux_2_12_x86_64.manylinux2010_x86_64.whl (1.1 MB)\n",
            "\u001b[?25l\r\u001b[K     |▎                               | 10 kB 25.2 MB/s eta 0:00:01\r\u001b[K     |▋                               | 20 kB 30.2 MB/s eta 0:00:01\r\u001b[K     |▉                               | 30 kB 34.5 MB/s eta 0:00:01\r\u001b[K     |█▏                              | 40 kB 36.9 MB/s eta 0:00:01\r\u001b[K     |█▌                              | 51 kB 38.0 MB/s eta 0:00:01\r\u001b[K     |█▊                              | 61 kB 36.9 MB/s eta 0:00:01\r\u001b[K     |██                              | 71 kB 37.5 MB/s eta 0:00:01\r\u001b[K     |██▍                             | 81 kB 38.2 MB/s eta 0:00:01\r\u001b[K     |██▋                             | 92 kB 40.4 MB/s eta 0:00:01\r\u001b[K     |███                             | 102 kB 41.1 MB/s eta 0:00:01\r\u001b[K     |███▎                            | 112 kB 41.1 MB/s eta 0:00:01\r\u001b[K     |███▌                            | 122 kB 41.1 MB/s eta 0:00:01\r\u001b[K     |███▉                            | 133 kB 41.1 MB/s eta 0:00:01\r\u001b[K     |████▏                           | 143 kB 41.1 MB/s eta 0:00:01\r\u001b[K     |████▍                           | 153 kB 41.1 MB/s eta 0:00:01\r\u001b[K     |████▊                           | 163 kB 41.1 MB/s eta 0:00:01\r\u001b[K     |█████                           | 174 kB 41.1 MB/s eta 0:00:01\r\u001b[K     |█████▎                          | 184 kB 41.1 MB/s eta 0:00:01\r\u001b[K     |█████▋                          | 194 kB 41.1 MB/s eta 0:00:01\r\u001b[K     |██████                          | 204 kB 41.1 MB/s eta 0:00:01\r\u001b[K     |██████▏                         | 215 kB 41.1 MB/s eta 0:00:01\r\u001b[K     |██████▌                         | 225 kB 41.1 MB/s eta 0:00:01\r\u001b[K     |██████▉                         | 235 kB 41.1 MB/s eta 0:00:01\r\u001b[K     |███████                         | 245 kB 41.1 MB/s eta 0:00:01\r\u001b[K     |███████▍                        | 256 kB 41.1 MB/s eta 0:00:01\r\u001b[K     |███████▊                        | 266 kB 41.1 MB/s eta 0:00:01\r\u001b[K     |████████                        | 276 kB 41.1 MB/s eta 0:00:01\r\u001b[K     |████████▎                       | 286 kB 41.1 MB/s eta 0:00:01\r\u001b[K     |████████▋                       | 296 kB 41.1 MB/s eta 0:00:01\r\u001b[K     |████████▉                       | 307 kB 41.1 MB/s eta 0:00:01\r\u001b[K     |█████████▏                      | 317 kB 41.1 MB/s eta 0:00:01\r\u001b[K     |█████████▌                      | 327 kB 41.1 MB/s eta 0:00:01\r\u001b[K     |█████████▊                      | 337 kB 41.1 MB/s eta 0:00:01\r\u001b[K     |██████████                      | 348 kB 41.1 MB/s eta 0:00:01\r\u001b[K     |██████████▍                     | 358 kB 41.1 MB/s eta 0:00:01\r\u001b[K     |██████████▋                     | 368 kB 41.1 MB/s eta 0:00:01\r\u001b[K     |███████████                     | 378 kB 41.1 MB/s eta 0:00:01\r\u001b[K     |███████████▎                    | 389 kB 41.1 MB/s eta 0:00:01\r\u001b[K     |███████████▌                    | 399 kB 41.1 MB/s eta 0:00:01\r\u001b[K     |███████████▉                    | 409 kB 41.1 MB/s eta 0:00:01\r\u001b[K     |████████████▏                   | 419 kB 41.1 MB/s eta 0:00:01\r\u001b[K     |████████████▍                   | 430 kB 41.1 MB/s eta 0:00:01\r\u001b[K     |████████████▊                   | 440 kB 41.1 MB/s eta 0:00:01\r\u001b[K     |█████████████                   | 450 kB 41.1 MB/s eta 0:00:01\r\u001b[K     |█████████████▎                  | 460 kB 41.1 MB/s eta 0:00:01\r\u001b[K     |█████████████▋                  | 471 kB 41.1 MB/s eta 0:00:01\r\u001b[K     |██████████████                  | 481 kB 41.1 MB/s eta 0:00:01\r\u001b[K     |██████████████▏                 | 491 kB 41.1 MB/s eta 0:00:01\r\u001b[K     |██████████████▌                 | 501 kB 41.1 MB/s eta 0:00:01\r\u001b[K     |██████████████▉                 | 512 kB 41.1 MB/s eta 0:00:01\r\u001b[K     |███████████████                 | 522 kB 41.1 MB/s eta 0:00:01\r\u001b[K     |███████████████▍                | 532 kB 41.1 MB/s eta 0:00:01\r\u001b[K     |███████████████▊                | 542 kB 41.1 MB/s eta 0:00:01\r\u001b[K     |████████████████                | 552 kB 41.1 MB/s eta 0:00:01\r\u001b[K     |████████████████▎               | 563 kB 41.1 MB/s eta 0:00:01\r\u001b[K     |████████████████▋               | 573 kB 41.1 MB/s eta 0:00:01\r\u001b[K     |████████████████▉               | 583 kB 41.1 MB/s eta 0:00:01\r\u001b[K     |█████████████████▏              | 593 kB 41.1 MB/s eta 0:00:01\r\u001b[K     |█████████████████▌              | 604 kB 41.1 MB/s eta 0:00:01\r\u001b[K     |█████████████████▊              | 614 kB 41.1 MB/s eta 0:00:01\r\u001b[K     |██████████████████              | 624 kB 41.1 MB/s eta 0:00:01\r\u001b[K     |██████████████████▍             | 634 kB 41.1 MB/s eta 0:00:01\r\u001b[K     |██████████████████▋             | 645 kB 41.1 MB/s eta 0:00:01\r\u001b[K     |███████████████████             | 655 kB 41.1 MB/s eta 0:00:01\r\u001b[K     |███████████████████▎            | 665 kB 41.1 MB/s eta 0:00:01\r\u001b[K     |███████████████████▌            | 675 kB 41.1 MB/s eta 0:00:01\r\u001b[K     |███████████████████▉            | 686 kB 41.1 MB/s eta 0:00:01\r\u001b[K     |████████████████████▏           | 696 kB 41.1 MB/s eta 0:00:01\r\u001b[K     |████████████████████▍           | 706 kB 41.1 MB/s eta 0:00:01\r\u001b[K     |████████████████████▊           | 716 kB 41.1 MB/s eta 0:00:01\r\u001b[K     |█████████████████████           | 727 kB 41.1 MB/s eta 0:00:01\r\u001b[K     |█████████████████████▎          | 737 kB 41.1 MB/s eta 0:00:01\r\u001b[K     |█████████████████████▋          | 747 kB 41.1 MB/s eta 0:00:01\r\u001b[K     |██████████████████████          | 757 kB 41.1 MB/s eta 0:00:01\r\u001b[K     |██████████████████████▏         | 768 kB 41.1 MB/s eta 0:00:01\r\u001b[K     |██████████████████████▌         | 778 kB 41.1 MB/s eta 0:00:01\r\u001b[K     |██████████████████████▉         | 788 kB 41.1 MB/s eta 0:00:01\r\u001b[K     |███████████████████████         | 798 kB 41.1 MB/s eta 0:00:01\r\u001b[K     |███████████████████████▍        | 808 kB 41.1 MB/s eta 0:00:01\r\u001b[K     |███████████████████████▊        | 819 kB 41.1 MB/s eta 0:00:01\r\u001b[K     |████████████████████████        | 829 kB 41.1 MB/s eta 0:00:01\r\u001b[K     |████████████████████████▎       | 839 kB 41.1 MB/s eta 0:00:01\r\u001b[K     |████████████████████████▋       | 849 kB 41.1 MB/s eta 0:00:01\r\u001b[K     |████████████████████████▉       | 860 kB 41.1 MB/s eta 0:00:01\r\u001b[K     |█████████████████████████▏      | 870 kB 41.1 MB/s eta 0:00:01\r\u001b[K     |█████████████████████████▍      | 880 kB 41.1 MB/s eta 0:00:01\r\u001b[K     |█████████████████████████▊      | 890 kB 41.1 MB/s eta 0:00:01\r\u001b[K     |██████████████████████████      | 901 kB 41.1 MB/s eta 0:00:01\r\u001b[K     |██████████████████████████▎     | 911 kB 41.1 MB/s eta 0:00:01\r\u001b[K     |██████████████████████████▋     | 921 kB 41.1 MB/s eta 0:00:01\r\u001b[K     |███████████████████████████     | 931 kB 41.1 MB/s eta 0:00:01\r\u001b[K     |███████████████████████████▏    | 942 kB 41.1 MB/s eta 0:00:01\r\u001b[K     |███████████████████████████▌    | 952 kB 41.1 MB/s eta 0:00:01\r\u001b[K     |███████████████████████████▉    | 962 kB 41.1 MB/s eta 0:00:01\r\u001b[K     |████████████████████████████    | 972 kB 41.1 MB/s eta 0:00:01\r\u001b[K     |████████████████████████████▍   | 983 kB 41.1 MB/s eta 0:00:01\r\u001b[K     |████████████████████████████▊   | 993 kB 41.1 MB/s eta 0:00:01\r\u001b[K     |█████████████████████████████   | 1.0 MB 41.1 MB/s eta 0:00:01\r\u001b[K     |█████████████████████████████▎  | 1.0 MB 41.1 MB/s eta 0:00:01\r\u001b[K     |█████████████████████████████▋  | 1.0 MB 41.1 MB/s eta 0:00:01\r\u001b[K     |█████████████████████████████▉  | 1.0 MB 41.1 MB/s eta 0:00:01\r\u001b[K     |██████████████████████████████▏ | 1.0 MB 41.1 MB/s eta 0:00:01\r\u001b[K     |██████████████████████████████▌ | 1.1 MB 41.1 MB/s eta 0:00:01\r\u001b[K     |██████████████████████████████▊ | 1.1 MB 41.1 MB/s eta 0:00:01\r\u001b[K     |███████████████████████████████ | 1.1 MB 41.1 MB/s eta 0:00:01\r\u001b[K     |███████████████████████████████▍| 1.1 MB 41.1 MB/s eta 0:00:01\r\u001b[K     |███████████████████████████████▋| 1.1 MB 41.1 MB/s eta 0:00:01\r\u001b[K     |████████████████████████████████| 1.1 MB 41.1 MB/s eta 0:00:01\r\u001b[K     |████████████████████████████████| 1.1 MB 41.1 MB/s \n",
            "\u001b[?25hRequirement already satisfied: typeguard>=2.7 in /usr/local/lib/python3.7/dist-packages (from tensorflow-addons) (2.7.1)\n",
            "Installing collected packages: tensorflow-addons\n",
            "Successfully installed tensorflow-addons-0.14.0\n"
          ]
        }
      ]
    },
    {
      "cell_type": "code",
      "metadata": {
        "id": "iAoNrnPWc2VS"
      },
      "source": [
        "f1 = F1Score(num_classes=7, name=\"F1\")\n",
        "weighted_f1 = F1Score(num_classes=7, average=\"weighted\", name=\"Weighted_F1\")"
      ],
      "execution_count": 20,
      "outputs": []
    },
    {
      "cell_type": "code",
      "metadata": {
        "colab": {
          "base_uri": "https://localhost:8080/"
        },
        "id": "YlppV2Yic41B",
        "outputId": "71c85441-d906-4e77-ff4b-fe6eeb3e158a"
      },
      "source": [
        "model = Sequential() \n",
        "model.add(Embedding(vocab_size, 128))\n",
        "model.add(LSTM(128))\n",
        "model.add(Dense(7, activation='softmax'))\n",
        "model.compile(optimizer='rmsprop', loss='categorical_crossentropy', metrics=[\"acc\", f1, weighted_f1])\n",
        "\n",
        "model.summary()"
      ],
      "execution_count": 23,
      "outputs": [
        {
          "output_type": "stream",
          "name": "stdout",
          "text": [
            "Model: \"sequential_1\"\n",
            "_________________________________________________________________\n",
            "Layer (type)                 Output Shape              Param #   \n",
            "=================================================================\n",
            "embedding_1 (Embedding)      (None, None, 128)         2174208   \n",
            "_________________________________________________________________\n",
            "lstm_1 (LSTM)                (None, 128)               131584    \n",
            "_________________________________________________________________\n",
            "dense_1 (Dense)              (None, 7)                 903       \n",
            "=================================================================\n",
            "Total params: 2,306,695\n",
            "Trainable params: 2,306,695\n",
            "Non-trainable params: 0\n",
            "_________________________________________________________________\n"
          ]
        }
      ]
    },
    {
      "cell_type": "code",
      "metadata": {
        "id": "FMH1I40QeRtQ"
      },
      "source": [
        "es = EarlyStopping(monitor='val_loss', mode='min', verbose=1, patience=5)\n",
        "mc = ModelCheckpoint('best_model.h5', monitor='val_acc', mode='max', verbose=1, save_best_only=True)"
      ],
      "execution_count": 25,
      "outputs": []
    },
    {
      "cell_type": "code",
      "metadata": {
        "colab": {
          "base_uri": "https://localhost:8080/"
        },
        "id": "4Gk8dbGzeVKn",
        "outputId": "5ce11b21-e40c-4fa8-9e57-4c9eaeeb8df0"
      },
      "source": [
        "model.compile(optimizer='rmsprop', loss='binary_crossentropy', metrics=['acc', f1, weighted_f1])\n",
        "history = model.fit(X_train_new, y_train_new, epochs=50, callbacks=[es, mc], batch_size=500, validation_data = (X_valid_new, y_valid_new))"
      ],
      "execution_count": 26,
      "outputs": [
        {
          "output_type": "stream",
          "name": "stdout",
          "text": [
            "Epoch 1/50\n",
            "100/100 [==============================] - 19s 171ms/step - loss: 0.1266 - acc: 0.8797 - F1: 0.7997 - Weighted_F1: 0.8669 - val_loss: 0.1533 - val_acc: 0.8012 - val_F1: 0.7161 - val_Weighted_F1: 0.8011\n",
            "\n",
            "Epoch 00001: val_acc improved from -inf to 0.80123, saving model to best_model.h5\n",
            "Epoch 2/50\n",
            "100/100 [==============================] - 16s 162ms/step - loss: 0.0847 - acc: 0.8937 - F1: 0.8413 - Weighted_F1: 0.8924 - val_loss: 0.1582 - val_acc: 0.7980 - val_F1: 0.7038 - val_Weighted_F1: 0.7935\n",
            "\n",
            "Epoch 00002: val_acc did not improve from 0.80123\n",
            "Epoch 3/50\n",
            "100/100 [==============================] - 16s 161ms/step - loss: 0.0777 - acc: 0.9015 - F1: 0.8526 - Weighted_F1: 0.9006 - val_loss: 0.1591 - val_acc: 0.7896 - val_F1: 0.7064 - val_Weighted_F1: 0.7857\n",
            "\n",
            "Epoch 00003: val_acc did not improve from 0.80123\n",
            "Epoch 4/50\n",
            "100/100 [==============================] - 16s 161ms/step - loss: 0.0720 - acc: 0.9070 - F1: 0.8622 - Weighted_F1: 0.9062 - val_loss: 0.1599 - val_acc: 0.7952 - val_F1: 0.6972 - val_Weighted_F1: 0.7928\n",
            "\n",
            "Epoch 00004: val_acc did not improve from 0.80123\n",
            "Epoch 5/50\n",
            "100/100 [==============================] - 16s 162ms/step - loss: 0.0680 - acc: 0.9120 - F1: 0.8679 - Weighted_F1: 0.9114 - val_loss: 0.1726 - val_acc: 0.8001 - val_F1: 0.7106 - val_Weighted_F1: 0.7979\n",
            "\n",
            "Epoch 00005: val_acc did not improve from 0.80123\n",
            "Epoch 6/50\n",
            "100/100 [==============================] - 16s 161ms/step - loss: 0.0643 - acc: 0.9154 - F1: 0.8742 - Weighted_F1: 0.9149 - val_loss: 0.1866 - val_acc: 0.7731 - val_F1: 0.6693 - val_Weighted_F1: 0.7640\n",
            "\n",
            "Epoch 00006: val_acc did not improve from 0.80123\n",
            "Epoch 00006: early stopping\n"
          ]
        }
      ]
    },
    {
      "cell_type": "code",
      "metadata": {
        "id": "EXbjF5U9dkuZ"
      },
      "source": [
        "loaded_model = load_model('best_model.h5')"
      ],
      "execution_count": 27,
      "outputs": []
    },
    {
      "cell_type": "code",
      "metadata": {
        "colab": {
          "base_uri": "https://localhost:8080/"
        },
        "id": "H0KkE-Rbdl6g",
        "outputId": "74abfa99-f0e8-4b0e-b1a1-2c2e46af2c89"
      },
      "source": [
        "loaded_model.evaluate(X_test_new, y_test_new)"
      ],
      "execution_count": 28,
      "outputs": [
        {
          "output_type": "stream",
          "name": "stdout",
          "text": [
            "192/192 [==============================] - 2s 6ms/step - loss: 0.1514 - acc: 0.8026 - F1: 0.7107 - Weighted_F1: 0.8011\n"
          ]
        },
        {
          "output_type": "execute_result",
          "data": {
            "text/plain": [
              "[0.15140102803707123,\n",
              " 0.8026466369628906,\n",
              " array([0.9265905 , 0.79067326, 0.875619  , 0.7878104 , 0.47953215,\n",
              "        0.6043956 , 0.51027393], dtype=float32),\n",
              " 0.801064670085907]"
            ]
          },
          "metadata": {},
          "execution_count": 28
        }
      ]
    }
  ]
}