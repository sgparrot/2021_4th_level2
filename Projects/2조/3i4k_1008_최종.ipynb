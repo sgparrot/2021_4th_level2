{
  "nbformat": 4,
  "nbformat_minor": 0,
  "metadata": {
    "accelerator": "GPU",
    "colab": {
      "name": "3i4k_1008_최종",
      "provenance": [],
      "collapsed_sections": [],
      "include_colab_link": true
    },
    "kernelspec": {
      "name": "python3",
      "display_name": "Python 3"
    },
    "language_info": {
      "name": "python"
    }
  },
  "cells": [
    {
      "cell_type": "markdown",
      "metadata": {
        "id": "view-in-github",
        "colab_type": "text"
      },
      "source": [
        "<a href=\"https://colab.research.google.com/github/pseudope/2021_F_Level2/blob/main/Projects/2%EC%A1%B0/3i4k_1008_%EC%B5%9C%EC%A2%85.ipynb\" target=\"_parent\"><img src=\"https://colab.research.google.com/assets/colab-badge.svg\" alt=\"Open In Colab\"/></a>"
      ]
    },
    {
      "cell_type": "code",
      "metadata": {
        "id": "1LuvPFd2QY6A",
        "colab": {
          "base_uri": "https://localhost:8080/"
        },
        "outputId": "cff9f3cb-dcf1-4e71-a490-3ede0aba8dbb"
      },
      "source": [
        "!pip install konlpy\n",
        "!pip install soynlp"
      ],
      "execution_count": 1,
      "outputs": [
        {
          "output_type": "stream",
          "name": "stdout",
          "text": [
            "Collecting konlpy\n",
            "  Downloading konlpy-0.5.2-py2.py3-none-any.whl (19.4 MB)\n",
            "\u001b[K     |████████████████████████████████| 19.4 MB 5.4 MB/s \n",
            "\u001b[?25hRequirement already satisfied: lxml>=4.1.0 in /usr/local/lib/python3.7/dist-packages (from konlpy) (4.2.6)\n",
            "Collecting JPype1>=0.7.0\n",
            "  Downloading JPype1-1.3.0-cp37-cp37m-manylinux_2_5_x86_64.manylinux1_x86_64.whl (448 kB)\n",
            "\u001b[K     |████████████████████████████████| 448 kB 44.0 MB/s \n",
            "\u001b[?25hRequirement already satisfied: tweepy>=3.7.0 in /usr/local/lib/python3.7/dist-packages (from konlpy) (3.10.0)\n",
            "Collecting colorama\n",
            "  Downloading colorama-0.4.4-py2.py3-none-any.whl (16 kB)\n",
            "Requirement already satisfied: numpy>=1.6 in /usr/local/lib/python3.7/dist-packages (from konlpy) (1.19.5)\n",
            "Collecting beautifulsoup4==4.6.0\n",
            "  Downloading beautifulsoup4-4.6.0-py3-none-any.whl (86 kB)\n",
            "\u001b[K     |████████████████████████████████| 86 kB 5.9 MB/s \n",
            "\u001b[?25hRequirement already satisfied: typing-extensions in /usr/local/lib/python3.7/dist-packages (from JPype1>=0.7.0->konlpy) (3.7.4.3)\n",
            "Requirement already satisfied: requests-oauthlib>=0.7.0 in /usr/local/lib/python3.7/dist-packages (from tweepy>=3.7.0->konlpy) (1.3.0)\n",
            "Requirement already satisfied: six>=1.10.0 in /usr/local/lib/python3.7/dist-packages (from tweepy>=3.7.0->konlpy) (1.15.0)\n",
            "Requirement already satisfied: requests[socks]>=2.11.1 in /usr/local/lib/python3.7/dist-packages (from tweepy>=3.7.0->konlpy) (2.23.0)\n",
            "Requirement already satisfied: oauthlib>=3.0.0 in /usr/local/lib/python3.7/dist-packages (from requests-oauthlib>=0.7.0->tweepy>=3.7.0->konlpy) (3.1.1)\n",
            "Requirement already satisfied: certifi>=2017.4.17 in /usr/local/lib/python3.7/dist-packages (from requests[socks]>=2.11.1->tweepy>=3.7.0->konlpy) (2021.5.30)\n",
            "Requirement already satisfied: chardet<4,>=3.0.2 in /usr/local/lib/python3.7/dist-packages (from requests[socks]>=2.11.1->tweepy>=3.7.0->konlpy) (3.0.4)\n",
            "Requirement already satisfied: urllib3!=1.25.0,!=1.25.1,<1.26,>=1.21.1 in /usr/local/lib/python3.7/dist-packages (from requests[socks]>=2.11.1->tweepy>=3.7.0->konlpy) (1.24.3)\n",
            "Requirement already satisfied: idna<3,>=2.5 in /usr/local/lib/python3.7/dist-packages (from requests[socks]>=2.11.1->tweepy>=3.7.0->konlpy) (2.10)\n",
            "Requirement already satisfied: PySocks!=1.5.7,>=1.5.6 in /usr/local/lib/python3.7/dist-packages (from requests[socks]>=2.11.1->tweepy>=3.7.0->konlpy) (1.7.1)\n",
            "Installing collected packages: JPype1, colorama, beautifulsoup4, konlpy\n",
            "  Attempting uninstall: beautifulsoup4\n",
            "    Found existing installation: beautifulsoup4 4.6.3\n",
            "    Uninstalling beautifulsoup4-4.6.3:\n",
            "      Successfully uninstalled beautifulsoup4-4.6.3\n",
            "Successfully installed JPype1-1.3.0 beautifulsoup4-4.6.0 colorama-0.4.4 konlpy-0.5.2\n",
            "Collecting soynlp\n",
            "  Downloading soynlp-0.0.493-py3-none-any.whl (416 kB)\n",
            "\u001b[K     |████████████████████████████████| 416 kB 13.1 MB/s \n",
            "\u001b[?25hRequirement already satisfied: numpy>=1.12.1 in /usr/local/lib/python3.7/dist-packages (from soynlp) (1.19.5)\n",
            "Requirement already satisfied: scikit-learn>=0.20.0 in /usr/local/lib/python3.7/dist-packages (from soynlp) (0.22.2.post1)\n",
            "Requirement already satisfied: scipy>=1.1.0 in /usr/local/lib/python3.7/dist-packages (from soynlp) (1.4.1)\n",
            "Requirement already satisfied: psutil>=5.0.1 in /usr/local/lib/python3.7/dist-packages (from soynlp) (5.4.8)\n",
            "Requirement already satisfied: joblib>=0.11 in /usr/local/lib/python3.7/dist-packages (from scikit-learn>=0.20.0->soynlp) (1.0.1)\n",
            "Installing collected packages: soynlp\n",
            "Successfully installed soynlp-0.0.493\n"
          ]
        }
      ]
    },
    {
      "cell_type": "code",
      "metadata": {
        "id": "QusXfa06bOi3"
      },
      "source": [
        "import pandas as pd\n",
        "import numpy as np\n",
        "\n",
        "import konlpy\n",
        "from konlpy.tag import Okt\n",
        "from keras.preprocessing.text import Tokenizer\n",
        "\n",
        "from keras.layers import Embedding, Dense, LSTM, Bidirectional, Dropout\n",
        "from keras.models import Sequential \n",
        "from tensorflow.keras.models import load_model\n",
        "from tensorflow.keras.callbacks import EarlyStopping, ModelCheckpoint"
      ],
      "execution_count": 2,
      "outputs": []
    },
    {
      "cell_type": "markdown",
      "metadata": {
        "id": "7bNuzQGxbnOd"
      },
      "source": [
        "### 데이터 다운로드\n",
        "\n",
        "---"
      ]
    },
    {
      "cell_type": "code",
      "metadata": {
        "colab": {
          "base_uri": "https://localhost:8080/"
        },
        "id": "DmtwbZKHbcV9",
        "outputId": "fbf59301-23f9-4e09-c634-9eed0f9af88d"
      },
      "source": [
        "!wget https://raw.githubusercontent.com/warnikchow/3i4k/master/data/train_val_test/fci_train_val.txt\n",
        "!wget https://raw.githubusercontent.com/warnikchow/3i4k/master/data/train_val_test/fci_test.txt"
      ],
      "execution_count": 3,
      "outputs": [
        {
          "output_type": "stream",
          "name": "stdout",
          "text": [
            "--2021-10-08 08:26:07--  https://raw.githubusercontent.com/warnikchow/3i4k/master/data/train_val_test/fci_train_val.txt\n",
            "Resolving raw.githubusercontent.com (raw.githubusercontent.com)... 185.199.111.133, 185.199.110.133, 185.199.108.133, ...\n",
            "Connecting to raw.githubusercontent.com (raw.githubusercontent.com)|185.199.111.133|:443... connected.\n",
            "HTTP request sent, awaiting response... 200 OK\n",
            "Length: 2661060 (2.5M) [text/plain]\n",
            "Saving to: ‘fci_train_val.txt’\n",
            "\n",
            "fci_train_val.txt   100%[===================>]   2.54M  --.-KB/s    in 0.03s   \n",
            "\n",
            "2021-10-08 08:26:08 (83.9 MB/s) - ‘fci_train_val.txt’ saved [2661060/2661060]\n",
            "\n",
            "--2021-10-08 08:26:08--  https://raw.githubusercontent.com/warnikchow/3i4k/master/data/train_val_test/fci_test.txt\n",
            "Resolving raw.githubusercontent.com (raw.githubusercontent.com)... 185.199.110.133, 185.199.109.133, 185.199.111.133, ...\n",
            "Connecting to raw.githubusercontent.com (raw.githubusercontent.com)|185.199.110.133|:443... connected.\n",
            "HTTP request sent, awaiting response... 200 OK\n",
            "Length: 295054 (288K) [text/plain]\n",
            "Saving to: ‘fci_test.txt’\n",
            "\n",
            "fci_test.txt        100%[===================>] 288.14K  --.-KB/s    in 0.01s   \n",
            "\n",
            "2021-10-08 08:26:08 (20.5 MB/s) - ‘fci_test.txt’ saved [295054/295054]\n",
            "\n"
          ]
        }
      ]
    },
    {
      "cell_type": "code",
      "metadata": {
        "id": "DfsbdjQ6bqEj"
      },
      "source": [
        "#데이터 불러오기\n",
        "\n",
        "def read_data(filename):\n",
        "\n",
        "    with open(filename, \"r\", encoding=\"UTF8\") as f:\n",
        "        data = [line.split(\"\\t\") for line in f.read().splitlines()]\n",
        "\n",
        "    return data"
      ],
      "execution_count": 4,
      "outputs": []
    },
    {
      "cell_type": "code",
      "metadata": {
        "id": "55g65haubqmN"
      },
      "source": [
        "\n",
        "train_data = read_data(\"/content/fci_train_val.txt\")\n",
        "\n",
        "\n",
        "#X,y\n",
        "X_train_data = [t[1] for t in train_data]\n",
        "y_train_data = [int(t[0]) for t in train_data]\n",
        "\n",
        "\n",
        "\n",
        "test_data = read_data(\"/content/fci_test.txt\")\n",
        "\n",
        "\n",
        "#X,y\n",
        "X_test_data = [t[1] for t in test_data]\n",
        "y_test_data = [int(t[0]) for t in test_data]"
      ],
      "execution_count": 5,
      "outputs": []
    },
    {
      "cell_type": "code",
      "metadata": {
        "colab": {
          "base_uri": "https://localhost:8080/"
        },
        "id": "Z9JRqRsyb1Zf",
        "outputId": "f8088d1a-9d38-4d5f-ac79-716a7dcfaede"
      },
      "source": [
        "print(len(X_train_data))\n",
        "print(len(y_train_data))\n",
        "print(len(X_test_data))\n",
        "print(len(y_test_data))"
      ],
      "execution_count": 6,
      "outputs": [
        {
          "output_type": "stream",
          "name": "stdout",
          "text": [
            "55134\n",
            "55134\n",
            "6121\n",
            "6121\n"
          ]
        }
      ]
    },
    {
      "cell_type": "code",
      "metadata": {
        "colab": {
          "base_uri": "https://localhost:8080/"
        },
        "id": "orud5qegb17H",
        "outputId": "872d9cc7-f477-4430-861b-c207fb07acc4"
      },
      "source": [
        "#불용어 사전 가져오기\n",
        "\n",
        "df = pd.read_csv('https://raw.githubusercontent.com/cranberryai/todak_todak_python/master/machine_learning_text/clean_korean_documents/korean_stopwords.txt', header=None)\n",
        "df[0] = df[0].apply(lambda x: x.strip())\n",
        "\n",
        "stopwords = df[0].to_numpy()\n",
        "\n",
        "print(stopwords)\n",
        "print(len(stopwords))"
      ],
      "execution_count": 7,
      "outputs": [
        {
          "output_type": "stream",
          "name": "stdout",
          "text": [
            "['이' '있' '하' '것' '들' '그' '되' '수' '이' '보' '않' '없' '나' '사람' '주' '아니' '등' '같'\n",
            " '우리' '때' '년' '가' '한' '지' '대하' '오' '말' '일' '그렇' '위하' '때문' '그것' '두' '말하'\n",
            " '알' '그러나' '받' '못하' '일' '그런' '또' '문제' '더' '사회' '많' '그리고' '좋' '크' '따르' '중'\n",
            " '나오' '가지' '씨' '시키' '만들' '지금' '생각하' '그러' '속' '하나' '집' '살' '모르' '적' '월' '데'\n",
            " '자신' '안' '어떤' '내' '경우' '명' '생각' '시간' '그녀' '다시' '이런' '앞' '보이' '번' '나' '다른'\n",
            " '어떻' '여자' '개' '들' '사실' '이렇' '점' '싶' '말' '정도' '좀' '원' '잘' '통하' '소리' '놓']\n",
            "98\n"
          ]
        }
      ]
    },
    {
      "cell_type": "markdown",
      "metadata": {
        "id": "hpsVFb5jb8sk"
      },
      "source": [
        "### 02. 토큰화 및 인코딩 (augmentation 생략)"
      ]
    },
    {
      "cell_type": "code",
      "metadata": {
        "id": "1H-VpF6LcCXJ"
      },
      "source": [
        "okt = Okt()\n",
        "\n",
        "#형태소 토큰화\n",
        "\n",
        "\n",
        "X_train_new=[]\n",
        "for sentence_new in X_train_data : \n",
        "    temp_X = [] \n",
        "    temp_X = okt.morphs(sentence_new, stem=True) # 토큰화 \n",
        "    temp_X = [word for word in temp_X if not word in stopwords] #불용어에 해당하지 않는 토큰만 저장\n",
        "    X_train_new.append(temp_X)\n",
        "\n",
        "X_test_new = [] \n",
        "for sentence_new in X_test_data : \n",
        "    temp_X = [] \n",
        "    temp_X = okt.morphs(sentence_new, stem=True) # 토큰화 \n",
        "    temp_X = [word for word in temp_X if not word in stopwords] #불용어에 해당하지 않는 토큰만 저장\n",
        "    X_test_new.append(temp_X)"
      ],
      "execution_count": 8,
      "outputs": []
    },
    {
      "cell_type": "code",
      "metadata": {
        "colab": {
          "base_uri": "https://localhost:8080/"
        },
        "id": "E0Uj2-ZqcRww",
        "outputId": "0689a7b0-0650-4bd3-b58b-0f418b421147"
      },
      "source": [
        "print(X_train_new[:5])\n",
        "print(X_test_new[:5])"
      ],
      "execution_count": 9,
      "outputs": [
        {
          "output_type": "stream",
          "name": "stdout",
          "text": [
            "[['만화'], ['이치'], ['약'], ['사이'], ['짜다']]\n",
            "[['연두색'], ['되다'], [], ['그걸루'], ['연구소']]\n"
          ]
        }
      ]
    },
    {
      "cell_type": "code",
      "metadata": {
        "id": "i45TWtSYcTvC"
      },
      "source": [
        "#정수 인코딩\n",
        "\n",
        "tokenizer = Tokenizer()\n",
        "tokenizer.fit_on_texts(X_train_new)\n",
        "\n",
        "total_cnt = len(tokenizer.word_index)\n",
        "vocab_size = total_cnt + 1"
      ],
      "execution_count": 10,
      "outputs": []
    },
    {
      "cell_type": "code",
      "metadata": {
        "id": "pAjwlvZYcUQl"
      },
      "source": [
        "tokenizer = Tokenizer(vocab_size) \n",
        "tokenizer.fit_on_texts(X_train_new)\n",
        "X_train = tokenizer.texts_to_sequences(X_train_new)\n",
        "X_test = tokenizer.texts_to_sequences(X_test_new)"
      ],
      "execution_count": 11,
      "outputs": []
    },
    {
      "cell_type": "code",
      "metadata": {
        "colab": {
          "base_uri": "https://localhost:8080/"
        },
        "id": "lurI-AiJcZw4",
        "outputId": "3ad36e21-26af-4adb-b5d0-aaac9a5748d8"
      },
      "source": [
        "X_train[:5]"
      ],
      "execution_count": 12,
      "outputs": [
        {
          "output_type": "execute_result",
          "data": {
            "text/plain": [
              "[[3906], [7779], [389], [568], [915]]"
            ]
          },
          "metadata": {},
          "execution_count": 12
        }
      ]
    },
    {
      "cell_type": "code",
      "metadata": {
        "colab": {
          "base_uri": "https://localhost:8080/"
        },
        "id": "vZK2Y4KScbsz",
        "outputId": "80dab5b8-fd66-43d4-eaaa-a40e5c53e3e9"
      },
      "source": [
        "#15로 패딩\n",
        "\n",
        "from tensorflow.keras.preprocessing.sequence import pad_sequences\n",
        "\n",
        "max_len = 15\n",
        "# 한국어 특성상 문장 끝이 중요하므로 오른쪽에 치우치게 패딩\n",
        "\n",
        "X_train_pad_new = pad_sequences(X_train, maxlen = max_len)\n",
        "X_test_pad_new = pad_sequences(X_test, maxlen = max_len)\n",
        "\n",
        "print(X_train_pad_new)\n",
        "print(len(X_train_pad_new))\n",
        "print(len(X_test_pad_new))"
      ],
      "execution_count": 13,
      "outputs": [
        {
          "output_type": "stream",
          "name": "stdout",
          "text": [
            "[[   0    0    0 ...    0    0 3906]\n",
            " [   0    0    0 ...    0    0 7779]\n",
            " [   0    0    0 ...    0    0  389]\n",
            " ...\n",
            " [   0    0    0 ...    0  317   32]\n",
            " [   0    0    0 ...    0   20   66]\n",
            " [   0    0    0 ... 1075  110    1]]\n",
            "55134\n",
            "6121\n"
          ]
        }
      ]
    },
    {
      "cell_type": "code",
      "metadata": {
        "colab": {
          "base_uri": "https://localhost:8080/"
        },
        "id": "yfDDbln1cfB9",
        "outputId": "ab2224a4-8771-4186-8e43-8d7cf376ee48"
      },
      "source": [
        "from tensorflow.keras.utils import to_categorical\n",
        "print(len(set(y_train_data)))\n",
        "y_train = to_categorical(y_train_data,len(set(y_train_data)))\n",
        "y_test = to_categorical(y_test_data,len(set(y_train_data)))\n",
        "\n",
        "\n",
        "print(len(X_train_pad_new))\n",
        "print(len(X_test_pad_new))\n",
        "print(len(y_train))\n",
        "print(len(y_test))"
      ],
      "execution_count": 14,
      "outputs": [
        {
          "output_type": "stream",
          "name": "stdout",
          "text": [
            "7\n",
            "55134\n",
            "6121\n",
            "55134\n",
            "6121\n"
          ]
        }
      ]
    },
    {
      "cell_type": "code",
      "metadata": {
        "colab": {
          "base_uri": "https://localhost:8080/"
        },
        "id": "uQ50_xJacg_s",
        "outputId": "ddd38cc5-3b56-4818-e1bc-efc4fe963e69"
      },
      "source": [
        "from sklearn.model_selection import train_test_split\n",
        "\n",
        "X_train_new, X_valid_new, y_train_new, y_valid_new = train_test_split(X_train_pad_new, y_train, test_size=0.1, shuffle=True, stratify=y_train)\n",
        "X_test_new = X_test_pad_new\n",
        "y_test_new = y_test\n",
        "print(y_valid_new[0])\n",
        "print(len(X_valid_new))\n",
        "print(len(y_valid_new))"
      ],
      "execution_count": 15,
      "outputs": [
        {
          "output_type": "stream",
          "name": "stdout",
          "text": [
            "[0. 0. 1. 0. 0. 0. 0.]\n",
            "5514\n",
            "5514\n"
          ]
        }
      ]
    },
    {
      "cell_type": "code",
      "metadata": {
        "id": "oaJSNiFSci4g"
      },
      "source": [
        "from sklearn.model_selection import train_test_split\n",
        "\n",
        "X_train_new, X_valid_new, y_train_new, y_valid_new = train_test_split(X_train_pad_new, y_train, test_size=0.1, shuffle=True, stratify=y_train)\n",
        "X_test_new = X_test_pad_new\n",
        "y_test_new = y_test\n"
      ],
      "execution_count": 16,
      "outputs": []
    },
    {
      "cell_type": "code",
      "metadata": {
        "id": "AsLHNDvuU2-0",
        "colab": {
          "base_uri": "https://localhost:8080/"
        },
        "outputId": "12a23dc2-c404-43de-817c-9645fb5d6b72"
      },
      "source": [
        "print(X_train_new.shape)\n",
        "print(X_test_new.shape)\n",
        "print(X_valid_new.shape)\n",
        "print(y_train_new.shape)\n",
        "print(y_test_new.shape)\n",
        "print(y_valid_new.shape)"
      ],
      "execution_count": 17,
      "outputs": [
        {
          "output_type": "stream",
          "name": "stdout",
          "text": [
            "(49620, 15)\n",
            "(6121, 15)\n",
            "(5514, 15)\n",
            "(49620, 7)\n",
            "(6121, 7)\n",
            "(5514, 7)\n"
          ]
        }
      ]
    },
    {
      "cell_type": "markdown",
      "metadata": {
        "id": "qZZY0fPDcjmW"
      },
      "source": [
        "## Modeling 1"
      ]
    },
    {
      "cell_type": "code",
      "metadata": {
        "colab": {
          "base_uri": "https://localhost:8080/"
        },
        "id": "cnFRBmKlc0WZ",
        "outputId": "ea412914-94f4-47ba-f370-52c1e5c60a58"
      },
      "source": [
        "!pip install tensorflow-addons\n",
        "\n",
        "from tensorflow_addons.metrics import F1Score"
      ],
      "execution_count": 18,
      "outputs": [
        {
          "output_type": "stream",
          "name": "stdout",
          "text": [
            "Collecting tensorflow-addons\n",
            "  Downloading tensorflow_addons-0.14.0-cp37-cp37m-manylinux_2_12_x86_64.manylinux2010_x86_64.whl (1.1 MB)\n",
            "\u001b[?25l\r\u001b[K     |▎                               | 10 kB 24.1 MB/s eta 0:00:01\r\u001b[K     |▋                               | 20 kB 28.1 MB/s eta 0:00:01\r\u001b[K     |▉                               | 30 kB 21.1 MB/s eta 0:00:01\r\u001b[K     |█▏                              | 40 kB 17.8 MB/s eta 0:00:01\r\u001b[K     |█▌                              | 51 kB 14.3 MB/s eta 0:00:01\r\u001b[K     |█▊                              | 61 kB 13.0 MB/s eta 0:00:01\r\u001b[K     |██                              | 71 kB 12.3 MB/s eta 0:00:01\r\u001b[K     |██▍                             | 81 kB 13.5 MB/s eta 0:00:01\r\u001b[K     |██▋                             | 92 kB 14.0 MB/s eta 0:00:01\r\u001b[K     |███                             | 102 kB 13.1 MB/s eta 0:00:01\r\u001b[K     |███▎                            | 112 kB 13.1 MB/s eta 0:00:01\r\u001b[K     |███▌                            | 122 kB 13.1 MB/s eta 0:00:01\r\u001b[K     |███▉                            | 133 kB 13.1 MB/s eta 0:00:01\r\u001b[K     |████▏                           | 143 kB 13.1 MB/s eta 0:00:01\r\u001b[K     |████▍                           | 153 kB 13.1 MB/s eta 0:00:01\r\u001b[K     |████▊                           | 163 kB 13.1 MB/s eta 0:00:01\r\u001b[K     |█████                           | 174 kB 13.1 MB/s eta 0:00:01\r\u001b[K     |█████▎                          | 184 kB 13.1 MB/s eta 0:00:01\r\u001b[K     |█████▋                          | 194 kB 13.1 MB/s eta 0:00:01\r\u001b[K     |██████                          | 204 kB 13.1 MB/s eta 0:00:01\r\u001b[K     |██████▏                         | 215 kB 13.1 MB/s eta 0:00:01\r\u001b[K     |██████▌                         | 225 kB 13.1 MB/s eta 0:00:01\r\u001b[K     |██████▉                         | 235 kB 13.1 MB/s eta 0:00:01\r\u001b[K     |███████                         | 245 kB 13.1 MB/s eta 0:00:01\r\u001b[K     |███████▍                        | 256 kB 13.1 MB/s eta 0:00:01\r\u001b[K     |███████▊                        | 266 kB 13.1 MB/s eta 0:00:01\r\u001b[K     |████████                        | 276 kB 13.1 MB/s eta 0:00:01\r\u001b[K     |████████▎                       | 286 kB 13.1 MB/s eta 0:00:01\r\u001b[K     |████████▋                       | 296 kB 13.1 MB/s eta 0:00:01\r\u001b[K     |████████▉                       | 307 kB 13.1 MB/s eta 0:00:01\r\u001b[K     |█████████▏                      | 317 kB 13.1 MB/s eta 0:00:01\r\u001b[K     |█████████▌                      | 327 kB 13.1 MB/s eta 0:00:01\r\u001b[K     |█████████▊                      | 337 kB 13.1 MB/s eta 0:00:01\r\u001b[K     |██████████                      | 348 kB 13.1 MB/s eta 0:00:01\r\u001b[K     |██████████▍                     | 358 kB 13.1 MB/s eta 0:00:01\r\u001b[K     |██████████▋                     | 368 kB 13.1 MB/s eta 0:00:01\r\u001b[K     |███████████                     | 378 kB 13.1 MB/s eta 0:00:01\r\u001b[K     |███████████▎                    | 389 kB 13.1 MB/s eta 0:00:01\r\u001b[K     |███████████▌                    | 399 kB 13.1 MB/s eta 0:00:01\r\u001b[K     |███████████▉                    | 409 kB 13.1 MB/s eta 0:00:01\r\u001b[K     |████████████▏                   | 419 kB 13.1 MB/s eta 0:00:01\r\u001b[K     |████████████▍                   | 430 kB 13.1 MB/s eta 0:00:01\r\u001b[K     |████████████▊                   | 440 kB 13.1 MB/s eta 0:00:01\r\u001b[K     |█████████████                   | 450 kB 13.1 MB/s eta 0:00:01\r\u001b[K     |█████████████▎                  | 460 kB 13.1 MB/s eta 0:00:01\r\u001b[K     |█████████████▋                  | 471 kB 13.1 MB/s eta 0:00:01\r\u001b[K     |██████████████                  | 481 kB 13.1 MB/s eta 0:00:01\r\u001b[K     |██████████████▏                 | 491 kB 13.1 MB/s eta 0:00:01\r\u001b[K     |██████████████▌                 | 501 kB 13.1 MB/s eta 0:00:01\r\u001b[K     |██████████████▉                 | 512 kB 13.1 MB/s eta 0:00:01\r\u001b[K     |███████████████                 | 522 kB 13.1 MB/s eta 0:00:01\r\u001b[K     |███████████████▍                | 532 kB 13.1 MB/s eta 0:00:01\r\u001b[K     |███████████████▊                | 542 kB 13.1 MB/s eta 0:00:01\r\u001b[K     |████████████████                | 552 kB 13.1 MB/s eta 0:00:01\r\u001b[K     |████████████████▎               | 563 kB 13.1 MB/s eta 0:00:01\r\u001b[K     |████████████████▋               | 573 kB 13.1 MB/s eta 0:00:01\r\u001b[K     |████████████████▉               | 583 kB 13.1 MB/s eta 0:00:01\r\u001b[K     |█████████████████▏              | 593 kB 13.1 MB/s eta 0:00:01\r\u001b[K     |█████████████████▌              | 604 kB 13.1 MB/s eta 0:00:01\r\u001b[K     |█████████████████▊              | 614 kB 13.1 MB/s eta 0:00:01\r\u001b[K     |██████████████████              | 624 kB 13.1 MB/s eta 0:00:01\r\u001b[K     |██████████████████▍             | 634 kB 13.1 MB/s eta 0:00:01\r\u001b[K     |██████████████████▋             | 645 kB 13.1 MB/s eta 0:00:01\r\u001b[K     |███████████████████             | 655 kB 13.1 MB/s eta 0:00:01\r\u001b[K     |███████████████████▎            | 665 kB 13.1 MB/s eta 0:00:01\r\u001b[K     |███████████████████▌            | 675 kB 13.1 MB/s eta 0:00:01\r\u001b[K     |███████████████████▉            | 686 kB 13.1 MB/s eta 0:00:01\r\u001b[K     |████████████████████▏           | 696 kB 13.1 MB/s eta 0:00:01\r\u001b[K     |████████████████████▍           | 706 kB 13.1 MB/s eta 0:00:01\r\u001b[K     |████████████████████▊           | 716 kB 13.1 MB/s eta 0:00:01\r\u001b[K     |█████████████████████           | 727 kB 13.1 MB/s eta 0:00:01\r\u001b[K     |█████████████████████▎          | 737 kB 13.1 MB/s eta 0:00:01\r\u001b[K     |█████████████████████▋          | 747 kB 13.1 MB/s eta 0:00:01\r\u001b[K     |██████████████████████          | 757 kB 13.1 MB/s eta 0:00:01\r\u001b[K     |██████████████████████▏         | 768 kB 13.1 MB/s eta 0:00:01\r\u001b[K     |██████████████████████▌         | 778 kB 13.1 MB/s eta 0:00:01\r\u001b[K     |██████████████████████▉         | 788 kB 13.1 MB/s eta 0:00:01\r\u001b[K     |███████████████████████         | 798 kB 13.1 MB/s eta 0:00:01\r\u001b[K     |███████████████████████▍        | 808 kB 13.1 MB/s eta 0:00:01\r\u001b[K     |███████████████████████▊        | 819 kB 13.1 MB/s eta 0:00:01\r\u001b[K     |████████████████████████        | 829 kB 13.1 MB/s eta 0:00:01\r\u001b[K     |████████████████████████▎       | 839 kB 13.1 MB/s eta 0:00:01\r\u001b[K     |████████████████████████▋       | 849 kB 13.1 MB/s eta 0:00:01\r\u001b[K     |████████████████████████▉       | 860 kB 13.1 MB/s eta 0:00:01\r\u001b[K     |█████████████████████████▏      | 870 kB 13.1 MB/s eta 0:00:01\r\u001b[K     |█████████████████████████▍      | 880 kB 13.1 MB/s eta 0:00:01\r\u001b[K     |█████████████████████████▊      | 890 kB 13.1 MB/s eta 0:00:01\r\u001b[K     |██████████████████████████      | 901 kB 13.1 MB/s eta 0:00:01\r\u001b[K     |██████████████████████████▎     | 911 kB 13.1 MB/s eta 0:00:01\r\u001b[K     |██████████████████████████▋     | 921 kB 13.1 MB/s eta 0:00:01\r\u001b[K     |███████████████████████████     | 931 kB 13.1 MB/s eta 0:00:01\r\u001b[K     |███████████████████████████▏    | 942 kB 13.1 MB/s eta 0:00:01\r\u001b[K     |███████████████████████████▌    | 952 kB 13.1 MB/s eta 0:00:01\r\u001b[K     |███████████████████████████▉    | 962 kB 13.1 MB/s eta 0:00:01\r\u001b[K     |████████████████████████████    | 972 kB 13.1 MB/s eta 0:00:01\r\u001b[K     |████████████████████████████▍   | 983 kB 13.1 MB/s eta 0:00:01\r\u001b[K     |████████████████████████████▊   | 993 kB 13.1 MB/s eta 0:00:01\r\u001b[K     |█████████████████████████████   | 1.0 MB 13.1 MB/s eta 0:00:01\r\u001b[K     |█████████████████████████████▎  | 1.0 MB 13.1 MB/s eta 0:00:01\r\u001b[K     |█████████████████████████████▋  | 1.0 MB 13.1 MB/s eta 0:00:01\r\u001b[K     |█████████████████████████████▉  | 1.0 MB 13.1 MB/s eta 0:00:01\r\u001b[K     |██████████████████████████████▏ | 1.0 MB 13.1 MB/s eta 0:00:01\r\u001b[K     |██████████████████████████████▌ | 1.1 MB 13.1 MB/s eta 0:00:01\r\u001b[K     |██████████████████████████████▊ | 1.1 MB 13.1 MB/s eta 0:00:01\r\u001b[K     |███████████████████████████████ | 1.1 MB 13.1 MB/s eta 0:00:01\r\u001b[K     |███████████████████████████████▍| 1.1 MB 13.1 MB/s eta 0:00:01\r\u001b[K     |███████████████████████████████▋| 1.1 MB 13.1 MB/s eta 0:00:01\r\u001b[K     |████████████████████████████████| 1.1 MB 13.1 MB/s eta 0:00:01\r\u001b[K     |████████████████████████████████| 1.1 MB 13.1 MB/s \n",
            "\u001b[?25hRequirement already satisfied: typeguard>=2.7 in /usr/local/lib/python3.7/dist-packages (from tensorflow-addons) (2.7.1)\n",
            "Installing collected packages: tensorflow-addons\n",
            "Successfully installed tensorflow-addons-0.14.0\n"
          ]
        }
      ]
    },
    {
      "cell_type": "code",
      "metadata": {
        "id": "iAoNrnPWc2VS"
      },
      "source": [
        "f1 = F1Score(num_classes=7, name=\"F1\")\n",
        "weighted_f1 = F1Score(num_classes=7, average=\"weighted\", name=\"Weighted_F1\")"
      ],
      "execution_count": 19,
      "outputs": []
    },
    {
      "cell_type": "code",
      "metadata": {
        "id": "3fQkKfXp-BMU",
        "colab": {
          "base_uri": "https://localhost:8080/"
        },
        "outputId": "ce44986f-f979-480e-e911-9182d7bcc88b"
      },
      "source": [
        "#pretrained data 다운로드 후 사용 (코랩 용)\n",
        "!pip install gensim\n",
        "!pip install gdown"
      ],
      "execution_count": 20,
      "outputs": [
        {
          "output_type": "stream",
          "name": "stdout",
          "text": [
            "Requirement already satisfied: gensim in /usr/local/lib/python3.7/dist-packages (3.6.0)\n",
            "Requirement already satisfied: scipy>=0.18.1 in /usr/local/lib/python3.7/dist-packages (from gensim) (1.4.1)\n",
            "Requirement already satisfied: six>=1.5.0 in /usr/local/lib/python3.7/dist-packages (from gensim) (1.15.0)\n",
            "Requirement already satisfied: smart-open>=1.2.1 in /usr/local/lib/python3.7/dist-packages (from gensim) (5.2.1)\n",
            "Requirement already satisfied: numpy>=1.11.3 in /usr/local/lib/python3.7/dist-packages (from gensim) (1.19.5)\n",
            "Requirement already satisfied: gdown in /usr/local/lib/python3.7/dist-packages (3.6.4)\n",
            "Requirement already satisfied: requests in /usr/local/lib/python3.7/dist-packages (from gdown) (2.23.0)\n",
            "Requirement already satisfied: tqdm in /usr/local/lib/python3.7/dist-packages (from gdown) (4.62.3)\n",
            "Requirement already satisfied: six in /usr/local/lib/python3.7/dist-packages (from gdown) (1.15.0)\n",
            "Requirement already satisfied: certifi>=2017.4.17 in /usr/local/lib/python3.7/dist-packages (from requests->gdown) (2021.5.30)\n",
            "Requirement already satisfied: urllib3!=1.25.0,!=1.25.1,<1.26,>=1.21.1 in /usr/local/lib/python3.7/dist-packages (from requests->gdown) (1.24.3)\n",
            "Requirement already satisfied: idna<3,>=2.5 in /usr/local/lib/python3.7/dist-packages (from requests->gdown) (2.10)\n",
            "Requirement already satisfied: chardet<4,>=3.0.2 in /usr/local/lib/python3.7/dist-packages (from requests->gdown) (3.0.4)\n"
          ]
        }
      ]
    },
    {
      "cell_type": "code",
      "metadata": {
        "id": "mRfv_N4__y4x",
        "colab": {
          "base_uri": "https://localhost:8080/"
        },
        "outputId": "7d4ccef2-0f27-4764-93d0-a15e820ebbea"
      },
      "source": [
        "!gdown --id 1jHbjOcnaLourFzNuP47yGQVhBTq6Wgor --output vector.zip"
      ],
      "execution_count": 21,
      "outputs": [
        {
          "output_type": "stream",
          "name": "stdout",
          "text": [
            "Downloading...\n",
            "From: https://drive.google.com/uc?id=1jHbjOcnaLourFzNuP47yGQVhBTq6Wgor\n",
            "To: /content/vector.zip\n",
            "100% 874M/874M [00:10<00:00, 80.1MB/s]\n"
          ]
        }
      ]
    },
    {
      "cell_type": "code",
      "metadata": {
        "id": "fAQyvIke_sdN"
      },
      "source": [
        "!unzip -qq \"/content/vector.zip\""
      ],
      "execution_count": 22,
      "outputs": []
    },
    {
      "cell_type": "code",
      "metadata": {
        "id": "hilNftTy830N",
        "colab": {
          "base_uri": "https://localhost:8080/"
        },
        "outputId": "723afc7c-a625-4688-8480-b18df406b81e"
      },
      "source": [
        "from gensim.models.fasttext import FastText as FT_gensim\n",
        "loaded_model = FT_gensim.load_fasttext_format('/content/model_drama.bin')\n",
        "embedding_matrix = np.zeros((vocab_size, 100))  \n",
        "for word, i in tokenizer.word_index.items():\n",
        "    if word in loaded_model:\n",
        "        embedding_vector = loaded_model[word]\n",
        "    else:\n",
        "        continue     \n",
        "    embedding_matrix[i] = embedding_vector"
      ],
      "execution_count": 23,
      "outputs": [
        {
          "output_type": "stream",
          "name": "stderr",
          "text": [
            "/usr/local/lib/python3.7/dist-packages/ipykernel_launcher.py:5: DeprecationWarning: Call to deprecated `__contains__` (Method will be removed in 4.0.0, use self.wv.__contains__() instead).\n",
            "  \"\"\"\n",
            "/usr/local/lib/python3.7/dist-packages/ipykernel_launcher.py:6: DeprecationWarning: Call to deprecated `__getitem__` (Method will be removed in 4.0.0, use self.wv.__getitem__() instead).\n",
            "  \n"
          ]
        }
      ]
    },
    {
      "cell_type": "code",
      "metadata": {
        "id": "pLBj5FXLCcIH"
      },
      "source": [
        "from keras.layers import GRU, Bidirectional, GlobalAveragePooling1D, GlobalMaxPooling1D\n",
        "from keras.layers import Input, Dense, Embedding, SpatialDropout1D, concatenate\n",
        "from keras.models import Model"
      ],
      "execution_count": 24,
      "outputs": []
    },
    {
      "cell_type": "code",
      "metadata": {
        "id": "JmM7rvnMDG6c"
      },
      "source": [
        "max_features = vocab_size\n",
        "maxlen =15\n",
        "embed_size = 100"
      ],
      "execution_count": 25,
      "outputs": []
    },
    {
      "cell_type": "code",
      "metadata": {
        "id": "HUWDNV66SVDy"
      },
      "source": [
        "es = EarlyStopping(monitor='val_loss', mode='min', verbose=1, patience=5)\n",
        "mc = ModelCheckpoint('best_model.h5', monitor='val_loss', mode='min', verbose=1, save_best_only=True)"
      ],
      "execution_count": 61,
      "outputs": []
    },
    {
      "cell_type": "code",
      "metadata": {
        "id": "gyFrnGi5Czw5"
      },
      "source": [
        "def get_model(): #GRU 기반 모델, kaggle의 toxic classification 코드에서 따옴\n",
        "    inp = Input(shape=(maxlen, ))\n",
        "    x = Embedding(max_features, embed_size, weights=[embedding_matrix])(inp)\n",
        "    x = SpatialDropout1D(0.5)(x)\n",
        "    x = Bidirectional(GRU(80, return_sequences=True))(x)\n",
        "    avg_pool = GlobalAveragePooling1D()(x)\n",
        "    max_pool = GlobalMaxPooling1D()(x)\n",
        "    conc = concatenate([avg_pool, max_pool])\n",
        "    outp = Dense(7, activation=\"sigmoid\")(conc)\n",
        "    \n",
        "    model = Model(inputs=inp, outputs=outp)\n",
        "    model.compile(optimizer='rmsprop', loss='categorical_crossentropy', metrics=[\"acc\", f1, weighted_f1])\n",
        "\n",
        "    return model"
      ],
      "execution_count": 63,
      "outputs": []
    },
    {
      "cell_type": "code",
      "metadata": {
        "id": "_J2Z4RKhC018",
        "colab": {
          "base_uri": "https://localhost:8080/"
        },
        "outputId": "7a1065f9-a951-482f-92a4-3e858f004f5f"
      },
      "source": [
        "model=get_model()\n",
        "history = model.fit(X_train_new, y_train_new, \n",
        "                    epochs=50, callbacks=[es, mc], batch_size=100, validation_data = (X_valid_new, y_valid_new))"
      ],
      "execution_count": 67,
      "outputs": [
        {
          "output_type": "stream",
          "name": "stdout",
          "text": [
            "Epoch 1/50\n",
            "497/497 [==============================] - 13s 18ms/step - loss: 0.9677 - acc: 0.6580 - F1: 0.4876 - Weighted_F1: 0.6523 - val_loss: 0.7215 - val_acc: 0.7534 - val_F1: 0.5702 - val_Weighted_F1: 0.7363\n",
            "\n",
            "Epoch 00001: val_loss did not improve from 0.52624\n",
            "Epoch 2/50\n",
            "497/497 [==============================] - 8s 16ms/step - loss: 0.6942 - acc: 0.7671 - F1: 0.5862 - Weighted_F1: 0.7529 - val_loss: 0.6550 - val_acc: 0.7809 - val_F1: 0.6217 - val_Weighted_F1: 0.7699\n",
            "\n",
            "Epoch 00002: val_loss did not improve from 0.52624\n",
            "Epoch 3/50\n",
            "497/497 [==============================] - 8s 16ms/step - loss: 0.6189 - acc: 0.7900 - F1: 0.6445 - Weighted_F1: 0.7803 - val_loss: 0.5980 - val_acc: 0.8009 - val_F1: 0.6887 - val_Weighted_F1: 0.7979\n",
            "\n",
            "Epoch 00003: val_loss did not improve from 0.52624\n",
            "Epoch 4/50\n",
            "497/497 [==============================] - 8s 15ms/step - loss: 0.5759 - acc: 0.8031 - F1: 0.6809 - Weighted_F1: 0.7959 - val_loss: 0.5614 - val_acc: 0.8070 - val_F1: 0.6916 - val_Weighted_F1: 0.8002\n",
            "\n",
            "Epoch 00004: val_loss did not improve from 0.52624\n",
            "Epoch 5/50\n",
            "497/497 [==============================] - 8s 16ms/step - loss: 0.5445 - acc: 0.8142 - F1: 0.6984 - Weighted_F1: 0.8080 - val_loss: 0.5501 - val_acc: 0.8089 - val_F1: 0.7141 - val_Weighted_F1: 0.8051\n",
            "\n",
            "Epoch 00005: val_loss did not improve from 0.52624\n",
            "Epoch 6/50\n",
            "497/497 [==============================] - 8s 16ms/step - loss: 0.5169 - acc: 0.8231 - F1: 0.7167 - Weighted_F1: 0.8179 - val_loss: 0.5449 - val_acc: 0.8166 - val_F1: 0.7191 - val_Weighted_F1: 0.8105\n",
            "\n",
            "Epoch 00006: val_loss did not improve from 0.52624\n",
            "Epoch 7/50\n",
            "497/497 [==============================] - 8s 16ms/step - loss: 0.4950 - acc: 0.8306 - F1: 0.7291 - Weighted_F1: 0.8259 - val_loss: 0.5270 - val_acc: 0.8176 - val_F1: 0.7295 - val_Weighted_F1: 0.8146\n",
            "\n",
            "Epoch 00007: val_loss did not improve from 0.52624\n",
            "Epoch 8/50\n",
            "497/497 [==============================] - 8s 16ms/step - loss: 0.4734 - acc: 0.8375 - F1: 0.7421 - Weighted_F1: 0.8335 - val_loss: 0.5236 - val_acc: 0.8215 - val_F1: 0.7325 - val_Weighted_F1: 0.8162\n",
            "\n",
            "Epoch 00008: val_loss improved from 0.52624 to 0.52359, saving model to best_model.h5\n",
            "Epoch 9/50\n",
            "497/497 [==============================] - 8s 16ms/step - loss: 0.4598 - acc: 0.8412 - F1: 0.7450 - Weighted_F1: 0.8370 - val_loss: 0.5310 - val_acc: 0.8194 - val_F1: 0.7279 - val_Weighted_F1: 0.8148\n",
            "\n",
            "Epoch 00009: val_loss did not improve from 0.52359\n",
            "Epoch 10/50\n",
            "497/497 [==============================] - 8s 16ms/step - loss: 0.4444 - acc: 0.8464 - F1: 0.7550 - Weighted_F1: 0.8427 - val_loss: 0.5200 - val_acc: 0.8190 - val_F1: 0.7324 - val_Weighted_F1: 0.8174\n",
            "\n",
            "Epoch 00010: val_loss improved from 0.52359 to 0.51996, saving model to best_model.h5\n",
            "Epoch 11/50\n",
            "497/497 [==============================] - 8s 16ms/step - loss: 0.4269 - acc: 0.8527 - F1: 0.7642 - Weighted_F1: 0.8495 - val_loss: 0.5351 - val_acc: 0.8217 - val_F1: 0.7336 - val_Weighted_F1: 0.8155\n",
            "\n",
            "Epoch 00011: val_loss did not improve from 0.51996\n",
            "Epoch 12/50\n",
            "497/497 [==============================] - 8s 16ms/step - loss: 0.4153 - acc: 0.8572 - F1: 0.7729 - Weighted_F1: 0.8543 - val_loss: 0.5202 - val_acc: 0.8248 - val_F1: 0.7433 - val_Weighted_F1: 0.8221\n",
            "\n",
            "Epoch 00012: val_loss did not improve from 0.51996\n",
            "Epoch 13/50\n",
            "497/497 [==============================] - 8s 16ms/step - loss: 0.4016 - acc: 0.8622 - F1: 0.7806 - Weighted_F1: 0.8593 - val_loss: 0.5135 - val_acc: 0.8270 - val_F1: 0.7485 - val_Weighted_F1: 0.8248\n",
            "\n",
            "Epoch 00013: val_loss improved from 0.51996 to 0.51355, saving model to best_model.h5\n",
            "Epoch 14/50\n",
            "497/497 [==============================] - 8s 16ms/step - loss: 0.3903 - acc: 0.8662 - F1: 0.7888 - Weighted_F1: 0.8637 - val_loss: 0.5182 - val_acc: 0.8221 - val_F1: 0.7457 - val_Weighted_F1: 0.8214\n",
            "\n",
            "Epoch 00014: val_loss did not improve from 0.51355\n",
            "Epoch 15/50\n",
            "497/497 [==============================] - 8s 16ms/step - loss: 0.3806 - acc: 0.8691 - F1: 0.7904 - Weighted_F1: 0.8666 - val_loss: 0.5200 - val_acc: 0.8259 - val_F1: 0.7473 - val_Weighted_F1: 0.8243\n",
            "\n",
            "Epoch 00015: val_loss did not improve from 0.51355\n",
            "Epoch 16/50\n",
            "497/497 [==============================] - 8s 16ms/step - loss: 0.3686 - acc: 0.8729 - F1: 0.7981 - Weighted_F1: 0.8706 - val_loss: 0.5281 - val_acc: 0.8212 - val_F1: 0.7473 - val_Weighted_F1: 0.8217\n",
            "\n",
            "Epoch 00016: val_loss did not improve from 0.51355\n",
            "Epoch 17/50\n",
            "497/497 [==============================] - 8s 16ms/step - loss: 0.3582 - acc: 0.8786 - F1: 0.8077 - Weighted_F1: 0.8766 - val_loss: 0.5200 - val_acc: 0.8292 - val_F1: 0.7474 - val_Weighted_F1: 0.8263\n",
            "\n",
            "Epoch 00017: val_loss did not improve from 0.51355\n",
            "Epoch 18/50\n",
            "497/497 [==============================] - 8s 16ms/step - loss: 0.3504 - acc: 0.8812 - F1: 0.8092 - Weighted_F1: 0.8793 - val_loss: 0.5201 - val_acc: 0.8295 - val_F1: 0.7484 - val_Weighted_F1: 0.8276\n",
            "\n",
            "Epoch 00018: val_loss did not improve from 0.51355\n",
            "Epoch 00018: early stopping\n"
          ]
        }
      ]
    },
    {
      "cell_type": "code",
      "metadata": {
        "id": "-ygg66jkSofw"
      },
      "source": [
        "loaded_model = load_model('best_model.h5')"
      ],
      "execution_count": 68,
      "outputs": []
    },
    {
      "cell_type": "code",
      "metadata": {
        "id": "Zqq8VQAYSqS1",
        "colab": {
          "base_uri": "https://localhost:8080/"
        },
        "outputId": "73e7f634-e609-4f7d-e46f-5aa54b1ae85d"
      },
      "source": [
        "loaded_model.evaluate(X_test_new, y_test_new)"
      ],
      "execution_count": 69,
      "outputs": [
        {
          "output_type": "stream",
          "name": "stdout",
          "text": [
            "192/192 [==============================] - 2s 6ms/step - loss: 0.5184 - acc: 0.8218 - F1: 0.7370 - Weighted_F1: 0.8181\n"
          ]
        },
        {
          "output_type": "execute_result",
          "data": {
            "text/plain": [
              "[0.5183678865432739,\n",
              " 0.8217611312866211,\n",
              " array([0.9214403 , 0.8142857 , 0.88165516, 0.81100196, 0.50871074,\n",
              "        0.68085104, 0.54117644], dtype=float32),\n",
              " 0.8181202411651611]"
            ]
          },
          "metadata": {},
          "execution_count": 69
        }
      ]
    },
    {
      "cell_type": "code",
      "metadata": {
        "id": "_itTT4WAGZuS"
      },
      "source": [
        "def get_model_two():\n",
        "    model = Sequential()\n",
        "    model.add(Embedding(max_features,128))\n",
        "    model.add(LSTM(128))\n",
        "    model.add(Dense(256, activation='relu'))\n",
        "    model.add(Dropout(0.5))\n",
        "    model.add(Dense(7, activation='softmax'))    \n",
        "    model.compile(optimizer='rmsprop', loss='categorical_crossentropy', metrics=[\"acc\", f1, weighted_f1])\n",
        "    return model"
      ],
      "execution_count": 31,
      "outputs": []
    },
    {
      "cell_type": "code",
      "metadata": {
        "id": "FMH1I40QeRtQ"
      },
      "source": [
        "es = EarlyStopping(monitor='val_loss', mode='min', verbose=1, patience=5)\n",
        "mc = ModelCheckpoint('best_model.h5', monitor='val_acc', mode='max', verbose=1, save_best_only=True)"
      ],
      "execution_count": 32,
      "outputs": []
    },
    {
      "cell_type": "code",
      "metadata": {
        "colab": {
          "base_uri": "https://localhost:8080/"
        },
        "id": "qDnflTr7Gojt",
        "outputId": "7c91f6a5-ec25-4e46-d35d-727a8f71bab7"
      },
      "source": [
        "model=get_model_two()\n",
        "history = model.fit(X_train_new, y_train_new, \n",
        "                    epochs=50, callbacks=[es, mc], batch_size=100, validation_data = (X_valid_new, y_valid_new))"
      ],
      "execution_count": 33,
      "outputs": [
        {
          "output_type": "stream",
          "name": "stdout",
          "text": [
            "Epoch 1/50\n",
            "497/497 [==============================] - 9s 13ms/step - loss: 0.8371 - acc: 0.7119 - F1: 0.5362 - Weighted_F1: 0.7048 - val_loss: 0.6232 - val_acc: 0.7864 - val_F1: 0.6164 - val_Weighted_F1: 0.7748\n",
            "\n",
            "Epoch 00001: val_acc improved from -inf to 0.78636, saving model to best_model.h5\n",
            "Epoch 2/50\n",
            "497/497 [==============================] - 6s 12ms/step - loss: 0.5711 - acc: 0.8070 - F1: 0.6827 - Weighted_F1: 0.8003 - val_loss: 0.5772 - val_acc: 0.7962 - val_F1: 0.7006 - val_Weighted_F1: 0.7921\n",
            "\n",
            "Epoch 00002: val_acc improved from 0.78636 to 0.79616, saving model to best_model.h5\n",
            "Epoch 3/50\n",
            "497/497 [==============================] - 6s 12ms/step - loss: 0.5000 - acc: 0.8275 - F1: 0.7306 - Weighted_F1: 0.8235 - val_loss: 0.5405 - val_acc: 0.8121 - val_F1: 0.7208 - val_Weighted_F1: 0.8083\n",
            "\n",
            "Epoch 00003: val_acc improved from 0.79616 to 0.81211, saving model to best_model.h5\n",
            "Epoch 4/50\n",
            "497/497 [==============================] - 6s 12ms/step - loss: 0.4536 - acc: 0.8454 - F1: 0.7579 - Weighted_F1: 0.8425 - val_loss: 0.5245 - val_acc: 0.8203 - val_F1: 0.7300 - val_Weighted_F1: 0.8155\n",
            "\n",
            "Epoch 00004: val_acc improved from 0.81211 to 0.82028, saving model to best_model.h5\n",
            "Epoch 5/50\n",
            "497/497 [==============================] - 6s 12ms/step - loss: 0.4128 - acc: 0.8594 - F1: 0.7802 - Weighted_F1: 0.8569 - val_loss: 0.5724 - val_acc: 0.8150 - val_F1: 0.7280 - val_Weighted_F1: 0.8127\n",
            "\n",
            "Epoch 00005: val_acc did not improve from 0.82028\n",
            "Epoch 6/50\n",
            "497/497 [==============================] - 6s 12ms/step - loss: 0.3793 - acc: 0.8714 - F1: 0.7987 - Weighted_F1: 0.8694 - val_loss: 0.5430 - val_acc: 0.8150 - val_F1: 0.7390 - val_Weighted_F1: 0.8153\n",
            "\n",
            "Epoch 00006: val_acc did not improve from 0.82028\n",
            "Epoch 7/50\n",
            "497/497 [==============================] - 6s 12ms/step - loss: 0.3497 - acc: 0.8824 - F1: 0.8168 - Weighted_F1: 0.8807 - val_loss: 0.5784 - val_acc: 0.8166 - val_F1: 0.7270 - val_Weighted_F1: 0.8145\n",
            "\n",
            "Epoch 00007: val_acc did not improve from 0.82028\n",
            "Epoch 8/50\n",
            "497/497 [==============================] - 6s 11ms/step - loss: 0.3219 - acc: 0.8920 - F1: 0.8334 - Weighted_F1: 0.8907 - val_loss: 0.6159 - val_acc: 0.8078 - val_F1: 0.7188 - val_Weighted_F1: 0.8080\n",
            "\n",
            "Epoch 00008: val_acc did not improve from 0.82028\n",
            "Epoch 9/50\n",
            "497/497 [==============================] - 6s 11ms/step - loss: 0.2968 - acc: 0.9001 - F1: 0.8447 - Weighted_F1: 0.8989 - val_loss: 0.6238 - val_acc: 0.8168 - val_F1: 0.7314 - val_Weighted_F1: 0.8157\n",
            "\n",
            "Epoch 00009: val_acc did not improve from 0.82028\n",
            "Epoch 00009: early stopping\n"
          ]
        }
      ]
    },
    {
      "cell_type": "code",
      "metadata": {
        "id": "EXbjF5U9dkuZ"
      },
      "source": [
        "loaded_model = load_model('best_model.h5')"
      ],
      "execution_count": 34,
      "outputs": []
    },
    {
      "cell_type": "code",
      "metadata": {
        "colab": {
          "base_uri": "https://localhost:8080/"
        },
        "id": "H0KkE-Rbdl6g",
        "outputId": "969f4496-39b7-4a63-9b6c-1f9ebe2149d9"
      },
      "source": [
        "loaded_model.evaluate(X_test_new, y_test_new)"
      ],
      "execution_count": 35,
      "outputs": [
        {
          "output_type": "stream",
          "name": "stdout",
          "text": [
            "192/192 [==============================] - 1s 5ms/step - loss: 0.5403 - acc: 0.8177 - F1: 0.7155 - Weighted_F1: 0.8113\n"
          ]
        },
        {
          "output_type": "execute_result",
          "data": {
            "text/plain": [
              "[0.54034823179245,\n",
              " 0.817676842212677,\n",
              " array([0.91896266, 0.8090979 , 0.88058853, 0.80553424, 0.4488189 ,\n",
              "        0.61878455, 0.5267176 ], dtype=float32),\n",
              " 0.8112874031066895]"
            ]
          },
          "metadata": {},
          "execution_count": 35
        }
      ]
    }
  ]
}