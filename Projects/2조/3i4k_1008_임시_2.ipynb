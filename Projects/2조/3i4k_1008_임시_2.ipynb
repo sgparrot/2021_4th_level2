{
  "nbformat": 4,
  "nbformat_minor": 0,
  "metadata": {
    "accelerator": "GPU",
    "colab": {
      "name": "3i4k_1008_임시.ipynb의 사본",
      "provenance": [],
      "collapsed_sections": [],
      "include_colab_link": true
    },
    "kernelspec": {
      "name": "python3",
      "display_name": "Python 3"
    },
    "language_info": {
      "name": "python"
    },
    "accelerator": "GPU"
  },
  "cells": [
     {
      "cell_type": "markdown",
      "metadata": {
        "id": "view-in-github",
        "colab_type": "text"
      },
      "source": [
        "<a href=\"https://colab.research.google.com/github/pseudope/2021_F_Level2/blob/main/Projects/2%EC%A1%B0/3i4k_1008_%EC%9E%84%EC%8B%9C_2.ipynb\" target=\"_parent\"><img src=\"https://colab.research.google.com/assets/colab-badge.svg\" alt=\"Open In Colab\"/></a>"
      ]
    },
    {
      "cell_type": "code",
      "metadata": {
        "id": "QusXfa06bOi3"
      },
      "source": [
        "import pandas as pd\n",
        "import numpy as np\n",
        "\n",
        "import konlpy\n",
        "from konlpy.tag import Okt\n",
        "from keras.preprocessing.text import Tokenizer\n",
        "\n",
        "from keras.layers import Embedding, Dense, LSTM, Bidirectional, Dropout\n",
        "from keras.models import Sequential \n",
        "from tensorflow.keras.models import load_model\n",
        "from tensorflow.keras.callbacks import EarlyStopping, ModelCheckpoint"
      ],
      "execution_count": 2,
      "outputs": []
    },
    {
      "cell_type": "markdown",
      "metadata": {
        "id": "7bNuzQGxbnOd"
      },
      "source": [
        "### 데이터 다운로드\n",
        "\n",
        "---"
      ]
    },
    {
      "cell_type": "code",
      "metadata": {
        "colab": {
          "base_uri": "https://localhost:8080/"
        },
        "id": "DmtwbZKHbcV9",
        "outputId": "33f34a4d-0d71-481b-9e64-a9470e990536"
      },
      "source": [
        "!wget https://raw.githubusercontent.com/warnikchow/3i4k/master/data/train_val_test/fci_train_val.txt\n",
        "!wget https://raw.githubusercontent.com/warnikchow/3i4k/master/data/train_val_test/fci_test.txt"
      ],
      "execution_count": 3,
      "outputs": [
        {
          "output_type": "stream",
          "name": "stdout",
          "text": [
            "--2021-10-07 18:52:32--  https://raw.githubusercontent.com/warnikchow/3i4k/master/data/train_val_test/fci_train_val.txt\n",
            "Resolving raw.githubusercontent.com (raw.githubusercontent.com)... 185.199.108.133, 185.199.109.133, 185.199.110.133, ...\n",
            "Connecting to raw.githubusercontent.com (raw.githubusercontent.com)|185.199.108.133|:443... connected.\n",
            "HTTP request sent, awaiting response... 200 OK\n",
            "Length: 2661060 (2.5M) [text/plain]\n",
            "Saving to: ‘fci_train_val.txt’\n",
            "\n",
            "fci_train_val.txt   100%[===================>]   2.54M  --.-KB/s    in 0.08s   \n",
            "\n",
            "2021-10-07 18:52:34 (32.6 MB/s) - ‘fci_train_val.txt’ saved [2661060/2661060]\n",
            "\n",
            "--2021-10-07 18:52:34--  https://raw.githubusercontent.com/warnikchow/3i4k/master/data/train_val_test/fci_test.txt\n",
            "Resolving raw.githubusercontent.com (raw.githubusercontent.com)... 185.199.109.133, 185.199.108.133, 185.199.111.133, ...\n",
            "Connecting to raw.githubusercontent.com (raw.githubusercontent.com)|185.199.109.133|:443... connected.\n",
            "HTTP request sent, awaiting response... 200 OK\n",
            "Length: 295054 (288K) [text/plain]\n",
            "Saving to: ‘fci_test.txt’\n",
            "\n",
            "fci_test.txt        100%[===================>] 288.14K  --.-KB/s    in 0.04s   \n",
            "\n",
            "2021-10-07 18:52:34 (7.26 MB/s) - ‘fci_test.txt’ saved [295054/295054]\n",
            "\n"
          ]
        }
      ]
    },
    {
      "cell_type": "code",
      "metadata": {
        "id": "DfsbdjQ6bqEj"
      },
      "source": [
        "#데이터 불러오기\n",
        "\n",
        "def read_data(filename):\n",
        "\n",
        "    with open(filename, \"r\", encoding=\"UTF8\") as f:\n",
        "        data = [line.split(\"\\t\") for line in f.read().splitlines()]\n",
        "\n",
        "    return data"
      ],
      "execution_count": 4,
      "outputs": []
    },
    {
      "cell_type": "code",
      "metadata": {
        "id": "55g65haubqmN"
      },
      "source": [
        "\n",
        "train_data = read_data(\"/content/fci_train_val.txt\")\n",
        "\n",
        "\n",
        "#X,y\n",
        "X_train_data = [t[1] for t in train_data]\n",
        "y_train_data = [int(t[0]) for t in train_data]\n",
        "\n",
        "\n",
        "\n",
        "test_data = read_data(\"/content/fci_test.txt\")\n",
        "\n",
        "\n",
        "#X,y\n",
        "X_test_data = [t[1] for t in test_data]\n",
        "y_test_data = [int(t[0]) for t in test_data]"
      ],
      "execution_count": 5,
      "outputs": []
    },
    {
      "cell_type": "code",
      "metadata": {
        "colab": {
          "base_uri": "https://localhost:8080/"
        },
        "id": "Z9JRqRsyb1Zf",
        "outputId": "832f9589-0814-4fbb-92c5-fdfa2bf679cb"
      },
      "source": [
        "print(len(X_train_data))\n",
        "print(len(y_train_data))\n",
        "print(len(X_test_data))\n",
        "print(len(y_test_data))"
      ],
      "execution_count": 6,
      "outputs": [
        {
          "output_type": "stream",
          "name": "stdout",
          "text": [
            "55134\n",
            "55134\n",
            "6121\n",
            "6121\n"
          ]
        }
      ]
    },
    {
      "cell_type": "code",
      "metadata": {
        "colab": {
          "base_uri": "https://localhost:8080/"
        },
        "id": "orud5qegb17H",
        "outputId": "7c79db50-554e-4929-c9b3-5cfa2c4ea0c1"
      },
      "source": [
        "#불용어 사전 가져오기\n",
        "\n",
        "df = pd.read_csv('https://raw.githubusercontent.com/cranberryai/todak_todak_python/master/machine_learning_text/clean_korean_documents/korean_stopwords.txt', header=None)\n",
        "df[0] = df[0].apply(lambda x: x.strip())\n",
        "\n",
        "stopwords = df[0].to_numpy()\n",
        "\n",
        "print(stopwords)\n",
        "print(len(stopwords))"
      ],
      "execution_count": 7,
      "outputs": [
        {
          "output_type": "stream",
          "name": "stdout",
          "text": [
            "['이' '있' '하' '것' '들' '그' '되' '수' '이' '보' '않' '없' '나' '사람' '주' '아니' '등' '같'\n",
            " '우리' '때' '년' '가' '한' '지' '대하' '오' '말' '일' '그렇' '위하' '때문' '그것' '두' '말하'\n",
            " '알' '그러나' '받' '못하' '일' '그런' '또' '문제' '더' '사회' '많' '그리고' '좋' '크' '따르' '중'\n",
            " '나오' '가지' '씨' '시키' '만들' '지금' '생각하' '그러' '속' '하나' '집' '살' '모르' '적' '월' '데'\n",
            " '자신' '안' '어떤' '내' '경우' '명' '생각' '시간' '그녀' '다시' '이런' '앞' '보이' '번' '나' '다른'\n",
            " '어떻' '여자' '개' '들' '사실' '이렇' '점' '싶' '말' '정도' '좀' '원' '잘' '통하' '소리' '놓']\n",
            "98\n"
          ]
        }
      ]
    },
    {
      "cell_type": "markdown",
      "metadata": {
        "id": "hpsVFb5jb8sk"
      },
      "source": [
        "### 02. 토큰화 및 인코딩 (augmentation 생략)"
      ]
    },
    {
      "cell_type": "code",
      "metadata": {
        "colab": {
          "base_uri": "https://localhost:8080/"
        },
        "id": "bC2i4ETpb4xT",
        "outputId": "eed22f89-ec2f-40eb-9fc9-780ff2bc8074"
      },
      "source": [
        "!pip install konlpy\n",
        "!pip install soynlp"
      ],
      "execution_count": 8,
      "outputs": [
        {
          "output_type": "stream",
          "name": "stdout",
          "text": [
            "Requirement already satisfied: konlpy in /usr/local/lib/python3.7/dist-packages (0.5.2)\n",
            "Requirement already satisfied: lxml>=4.1.0 in /usr/local/lib/python3.7/dist-packages (from konlpy) (4.2.6)\n",
            "Requirement already satisfied: numpy>=1.6 in /usr/local/lib/python3.7/dist-packages (from konlpy) (1.19.5)\n",
            "Requirement already satisfied: colorama in /usr/local/lib/python3.7/dist-packages (from konlpy) (0.4.4)\n",
            "Requirement already satisfied: beautifulsoup4==4.6.0 in /usr/local/lib/python3.7/dist-packages (from konlpy) (4.6.0)\n",
            "Requirement already satisfied: tweepy>=3.7.0 in /usr/local/lib/python3.7/dist-packages (from konlpy) (3.10.0)\n",
            "Requirement already satisfied: JPype1>=0.7.0 in /usr/local/lib/python3.7/dist-packages (from konlpy) (1.3.0)\n",
            "Requirement already satisfied: typing-extensions in /usr/local/lib/python3.7/dist-packages (from JPype1>=0.7.0->konlpy) (3.7.4.3)\n",
            "Requirement already satisfied: requests-oauthlib>=0.7.0 in /usr/local/lib/python3.7/dist-packages (from tweepy>=3.7.0->konlpy) (1.3.0)\n",
            "Requirement already satisfied: requests[socks]>=2.11.1 in /usr/local/lib/python3.7/dist-packages (from tweepy>=3.7.0->konlpy) (2.23.0)\n",
            "Requirement already satisfied: six>=1.10.0 in /usr/local/lib/python3.7/dist-packages (from tweepy>=3.7.0->konlpy) (1.15.0)\n",
            "Requirement already satisfied: oauthlib>=3.0.0 in /usr/local/lib/python3.7/dist-packages (from requests-oauthlib>=0.7.0->tweepy>=3.7.0->konlpy) (3.1.1)\n",
            "Requirement already satisfied: idna<3,>=2.5 in /usr/local/lib/python3.7/dist-packages (from requests[socks]>=2.11.1->tweepy>=3.7.0->konlpy) (2.10)\n",
            "Requirement already satisfied: certifi>=2017.4.17 in /usr/local/lib/python3.7/dist-packages (from requests[socks]>=2.11.1->tweepy>=3.7.0->konlpy) (2021.5.30)\n",
            "Requirement already satisfied: chardet<4,>=3.0.2 in /usr/local/lib/python3.7/dist-packages (from requests[socks]>=2.11.1->tweepy>=3.7.0->konlpy) (3.0.4)\n",
            "Requirement already satisfied: urllib3!=1.25.0,!=1.25.1,<1.26,>=1.21.1 in /usr/local/lib/python3.7/dist-packages (from requests[socks]>=2.11.1->tweepy>=3.7.0->konlpy) (1.24.3)\n",
            "Requirement already satisfied: PySocks!=1.5.7,>=1.5.6 in /usr/local/lib/python3.7/dist-packages (from requests[socks]>=2.11.1->tweepy>=3.7.0->konlpy) (1.7.1)\n",
            "Requirement already satisfied: soynlp in /usr/local/lib/python3.7/dist-packages (0.0.493)\n",
            "Requirement already satisfied: scikit-learn>=0.20.0 in /usr/local/lib/python3.7/dist-packages (from soynlp) (0.22.2.post1)\n",
            "Requirement already satisfied: psutil>=5.0.1 in /usr/local/lib/python3.7/dist-packages (from soynlp) (5.4.8)\n",
            "Requirement already satisfied: scipy>=1.1.0 in /usr/local/lib/python3.7/dist-packages (from soynlp) (1.4.1)\n",
            "Requirement already satisfied: numpy>=1.12.1 in /usr/local/lib/python3.7/dist-packages (from soynlp) (1.19.5)\n",
            "Requirement already satisfied: joblib>=0.11 in /usr/local/lib/python3.7/dist-packages (from scikit-learn>=0.20.0->soynlp) (1.0.1)\n"
          ]
        }
      ]
    },
    {
      "cell_type": "code",
      "metadata": {
        "id": "1H-VpF6LcCXJ"
      },
      "source": [
        "okt = Okt()\n",
        "\n",
        "#형태소 토큰화\n",
        "\n",
        "\n",
        "X_train_new=[]\n",
        "for sentence_new in X_train_data : \n",
        "    temp_X = [] \n",
        "    temp_X = okt.morphs(sentence_new, stem=True) # 토큰화 \n",
        "    temp_X = [word for word in temp_X if not word in stopwords] #불용어에 해당하지 않는 토큰만 저장\n",
        "    X_train_new.append(temp_X)\n",
        "\n",
        "X_test_new = [] \n",
        "for sentence_new in X_test_data : \n",
        "    temp_X = [] \n",
        "    temp_X = okt.morphs(sentence_new, stem=True) # 토큰화 \n",
        "    temp_X = [word for word in temp_X if not word in stopwords] #불용어에 해당하지 않는 토큰만 저장\n",
        "    X_test_new.append(temp_X)"
      ],
      "execution_count": 9,
      "outputs": []
    },
    {
      "cell_type": "code",
      "metadata": {
        "colab": {
          "base_uri": "https://localhost:8080/"
        },
        "id": "E0Uj2-ZqcRww",
        "outputId": "9caaea9f-e8bc-47ac-e4fc-5e061893c3c7"
      },
      "source": [
        "print(X_train_new[:5])\n",
        "print(X_test_new[:5])"
      ],
      "execution_count": 10,
      "outputs": [
        {
          "output_type": "stream",
          "name": "stdout",
          "text": [
            "[['만화'], ['이치'], ['약'], ['사이'], ['짜다']]\n",
            "[['연두색'], ['되다'], [], ['그걸루'], ['연구소']]\n"
          ]
        }
      ]
    },
    {
      "cell_type": "code",
      "metadata": {
        "id": "i45TWtSYcTvC"
      },
      "source": [
        "#정수 인코딩\n",
        "\n",
        "tokenizer = Tokenizer()\n",
        "tokenizer.fit_on_texts(X_train_new)\n",
        "\n",
        "total_cnt = len(tokenizer.word_index)\n",
        "vocab_size = total_cnt + 1"
      ],
      "execution_count": 11,
      "outputs": []
    },
    {
      "cell_type": "code",
      "metadata": {
        "id": "pAjwlvZYcUQl"
      },
      "source": [
        "tokenizer = Tokenizer(vocab_size) \n",
        "tokenizer.fit_on_texts(X_train_new)\n",
        "X_train = tokenizer.texts_to_sequences(X_train_new)\n",
        "X_test = tokenizer.texts_to_sequences(X_test_new)"
      ],
      "execution_count": 12,
      "outputs": []
    },
    {
      "cell_type": "code",
      "metadata": {
        "colab": {
          "base_uri": "https://localhost:8080/"
        },
        "id": "lurI-AiJcZw4",
        "outputId": "f212dcaf-2394-4437-c6a9-a1b8bca3332d"
      },
      "source": [
        "X_train[:5]"
      ],
      "execution_count": 13,
      "outputs": [
        {
          "output_type": "execute_result",
          "data": {
            "text/plain": [
              "[[3906], [7779], [389], [568], [915]]"
            ]
          },
          "metadata": {},
          "execution_count": 13
        }
      ]
    },
    {
      "cell_type": "code",
      "metadata": {
        "colab": {
          "base_uri": "https://localhost:8080/"
        },
        "id": "vZK2Y4KScbsz",
        "outputId": "6b86271e-ced0-41dc-c921-ab07a94b6ae3"
      },
      "source": [
        "#15로 패딩\n",
        "\n",
        "from tensorflow.keras.preprocessing.sequence import pad_sequences\n",
        "\n",
        "max_len = 15\n",
        "# 한국어 특성상 문장 끝이 중요하므로 오른쪽에 치우치게 패딩\n",
        "\n",
        "X_train_pad_new = pad_sequences(X_train, maxlen = max_len)\n",
        "X_test_pad_new = pad_sequences(X_test, maxlen = max_len)\n",
        "\n",
        "print(X_train_pad_new)\n",
        "print(len(X_train_pad_new))\n",
        "print(len(X_test_pad_new))"
      ],
      "execution_count": 14,
      "outputs": [
        {
          "output_type": "stream",
          "name": "stdout",
          "text": [
            "[[   0    0    0 ...    0    0 3906]\n",
            " [   0    0    0 ...    0    0 7779]\n",
            " [   0    0    0 ...    0    0  389]\n",
            " ...\n",
            " [   0    0    0 ...    0  317   32]\n",
            " [   0    0    0 ...    0   20   66]\n",
            " [   0    0    0 ... 1075  110    1]]\n",
            "55134\n",
            "6121\n"
          ]
        }
      ]
    },
    {
      "cell_type": "code",
      "metadata": {
        "colab": {
          "base_uri": "https://localhost:8080/"
        },
        "id": "yfDDbln1cfB9",
        "outputId": "76ba870b-f95e-4584-f57a-e3a6d372e7ae"
      },
      "source": [
        "from tensorflow.keras.utils import to_categorical\n",
        "print(len(set(y_train_data)))\n",
        "y_train = to_categorical(y_train_data,len(set(y_train_data)))\n",
        "y_test = to_categorical(y_test_data,len(set(y_train_data)))\n",
        "\n",
        "\n",
        "print(len(X_train_pad_new))\n",
        "print(len(X_test_pad_new))\n",
        "print(len(y_train))\n",
        "print(len(y_test))"
      ],
      "execution_count": 15,
      "outputs": [
        {
          "output_type": "stream",
          "name": "stdout",
          "text": [
            "7\n",
            "55134\n",
            "6121\n",
            "55134\n",
            "6121\n"
          ]
        }
      ]
    },
    {
      "cell_type": "code",
      "metadata": {
        "colab": {
          "base_uri": "https://localhost:8080/"
        },
        "id": "uQ50_xJacg_s",
        "outputId": "37e9ed30-0195-4e51-f09c-3915519088af"
      },
      "source": [
        "from sklearn.model_selection import train_test_split\n",
        "\n",
        "X_train_new, X_valid_new, y_train_new, y_valid_new = train_test_split(X_train_pad_new, y_train, test_size=0.1, shuffle=True, stratify=y_train)\n",
        "X_test_new = X_test_pad_new\n",
        "y_test_new = y_test\n",
        "print(y_valid_new[0])\n",
        "print(len(X_valid_new))\n",
        "print(len(y_valid_new))"
      ],
      "execution_count": 16,
      "outputs": [
        {
          "output_type": "stream",
          "name": "stdout",
          "text": [
            "[0. 0. 1. 0. 0. 0. 0.]\n",
            "5514\n",
            "5514\n"
          ]
        }
      ]
    },
    {
      "cell_type": "code",
      "metadata": {
        "colab": {
          "base_uri": "https://localhost:8080/"
        },
        "id": "oaJSNiFSci4g",
        "outputId": "097124e8-3966-4f96-fdf1-8b7920de6875"
      },
      "source": [
        "from sklearn.model_selection import train_test_split\n",
        "\n",
        "X_train_new, X_valid_new, y_train_new, y_valid_new = train_test_split(X_train_pad_new, y_train, test_size=0.1, shuffle=True, stratify=y_train)\n",
        "X_test_new = X_test_pad_new\n",
        "y_test_new = y_test\n",
        "print(y_valid_new[0])\n",
        "print(len(X_valid_new))\n",
        "print(len(y_valid_new))"
      ],
      "execution_count": 17,
      "outputs": [
        {
          "output_type": "stream",
          "name": "stdout",
          "text": [
            "[0. 0. 1. 0. 0. 0. 0.]\n",
            "5514\n",
            "5514\n"
          ]
        }
      ]
    },
    {
      "cell_type": "markdown",
      "metadata": {
        "id": "qZZY0fPDcjmW"
      },
      "source": [
        "## Modeling 1"
      ]
    },
    {
      "cell_type": "code",
      "metadata": {
        "colab": {
          "base_uri": "https://localhost:8080/"
        },
        "id": "cnFRBmKlc0WZ",
        "outputId": "19893740-d069-4d7b-8cb9-4ee77d83e92d"
      },
      "source": [
        "!pip install tensorflow-addons\n",
        "\n",
        "from tensorflow_addons.metrics import F1Score"
      ],
      "execution_count": 18,
      "outputs": [
        {
          "output_type": "stream",
          "name": "stdout",
          "text": [
            "Collecting tensorflow-addons\n",
            "  Downloading tensorflow_addons-0.14.0-cp37-cp37m-manylinux_2_12_x86_64.manylinux2010_x86_64.whl (1.1 MB)\n",
            "\u001b[K     |████████████████████████████████| 1.1 MB 4.2 MB/s \n",
            "\u001b[?25hRequirement already satisfied: typeguard>=2.7 in /usr/local/lib/python3.7/dist-packages (from tensorflow-addons) (2.7.1)\n",
            "Installing collected packages: tensorflow-addons\n",
            "Successfully installed tensorflow-addons-0.14.0\n"
          ]
        }
      ]
    },
    {
      "cell_type": "code",
      "metadata": {
        "id": "iAoNrnPWc2VS"
      },
      "source": [
        "f1 = F1Score(num_classes=7, name=\"F1\")\n",
        "weighted_f1 = F1Score(num_classes=7, average=\"weighted\", name=\"Weighted_F1\")"
      ],
      "execution_count": 19,
      "outputs": []
    },
    {
      "cell_type": "code",
      "metadata": {
        "id": "3fQkKfXp-BMU",
        "colab": {
          "base_uri": "https://localhost:8080/"
        },
        "outputId": "5879157c-9a5a-40da-97b4-547b678f8176"
      },
      "source": [
        "#pretrained data 다운로드 후 사용 (코랩 용)\n",
        "!pip install gensim\n",
        "!pip install gdown"
      ],
      "execution_count": 20,
      "outputs": [
        {
          "output_type": "stream",
          "name": "stdout",
          "text": [
            "Requirement already satisfied: gensim in /usr/local/lib/python3.7/dist-packages (3.6.0)\n",
            "Requirement already satisfied: six>=1.5.0 in /usr/local/lib/python3.7/dist-packages (from gensim) (1.15.0)\n",
            "Requirement already satisfied: numpy>=1.11.3 in /usr/local/lib/python3.7/dist-packages (from gensim) (1.19.5)\n",
            "Requirement already satisfied: scipy>=0.18.1 in /usr/local/lib/python3.7/dist-packages (from gensim) (1.4.1)\n",
            "Requirement already satisfied: smart-open>=1.2.1 in /usr/local/lib/python3.7/dist-packages (from gensim) (5.2.1)\n",
            "Requirement already satisfied: gdown in /usr/local/lib/python3.7/dist-packages (3.6.4)\n",
            "Requirement already satisfied: six in /usr/local/lib/python3.7/dist-packages (from gdown) (1.15.0)\n",
            "Requirement already satisfied: tqdm in /usr/local/lib/python3.7/dist-packages (from gdown) (4.62.3)\n",
            "Requirement already satisfied: requests in /usr/local/lib/python3.7/dist-packages (from gdown) (2.23.0)\n",
            "Requirement already satisfied: urllib3!=1.25.0,!=1.25.1,<1.26,>=1.21.1 in /usr/local/lib/python3.7/dist-packages (from requests->gdown) (1.24.3)\n",
            "Requirement already satisfied: chardet<4,>=3.0.2 in /usr/local/lib/python3.7/dist-packages (from requests->gdown) (3.0.4)\n",
            "Requirement already satisfied: certifi>=2017.4.17 in /usr/local/lib/python3.7/dist-packages (from requests->gdown) (2021.5.30)\n",
            "Requirement already satisfied: idna<3,>=2.5 in /usr/local/lib/python3.7/dist-packages (from requests->gdown) (2.10)\n"
          ]
        }
      ]
    },
    {
      "cell_type": "code",
      "metadata": {
        "id": "mRfv_N4__y4x",
        "colab": {
          "base_uri": "https://localhost:8080/"
        },
        "outputId": "0974cf2b-3610-4b87-ea8a-3cfcc568a595"
      },
      "source": [
        "!gdown --id 1jHbjOcnaLourFzNuP47yGQVhBTq6Wgor --output vector.zip"
      ],
      "execution_count": 21,
      "outputs": [
        {
          "output_type": "stream",
          "name": "stdout",
          "text": [
            "Downloading...\n",
            "From: https://drive.google.com/uc?id=1jHbjOcnaLourFzNuP47yGQVhBTq6Wgor\n",
            "To: /content/vector.zip\n",
            "100% 874M/874M [00:10<00:00, 79.6MB/s]\n"
          ]
        }
      ]
    },
    {
      "cell_type": "code",
      "metadata": {
        "id": "fAQyvIke_sdN"
      },
      "source": [
        "!unzip -qq \"/content/vector.zip\""
      ],
      "execution_count": 22,
      "outputs": []
    },
    {
      "cell_type": "code",
      "metadata": {
        "id": "hilNftTy830N",
        "colab": {
          "base_uri": "https://localhost:8080/"
        },
        "outputId": "9284496c-a17f-4b56-f69f-cb8fdaac3050"
      },
      "source": [
        "from gensim.models.fasttext import FastText as FT_gensim\n",
        "loaded_model = FT_gensim.load_fasttext_format('/content/model_drama.bin')\n",
        "embedding_matrix = np.zeros((vocab_size, 100))  \n",
        "for word, i in tokenizer.word_index.items():\n",
        "    if word in loaded_model:\n",
        "        embedding_vector = loaded_model[word]\n",
        "    else:\n",
        "        continue     \n",
        "    embedding_matrix[i] = embedding_vector"
      ],
      "execution_count": 23,
      "outputs": [
        {
          "output_type": "stream",
          "name": "stderr",
          "text": [
            "/usr/local/lib/python3.7/dist-packages/ipykernel_launcher.py:5: DeprecationWarning: Call to deprecated `__contains__` (Method will be removed in 4.0.0, use self.wv.__contains__() instead).\n",
            "  \"\"\"\n",
            "/usr/local/lib/python3.7/dist-packages/ipykernel_launcher.py:6: DeprecationWarning: Call to deprecated `__getitem__` (Method will be removed in 4.0.0, use self.wv.__getitem__() instead).\n",
            "  \n"
          ]
        }
      ]
    },
    {
      "cell_type": "code",
      "metadata": {
        "id": "pLBj5FXLCcIH"
      },
      "source": [
        "from keras.layers import GRU, Bidirectional, GlobalAveragePooling1D, GlobalMaxPooling1D\n",
        "from keras.layers import Input, Dense, Embedding, SpatialDropout1D, concatenate\n",
        "from keras.models import Model"
      ],
      "execution_count": 24,
      "outputs": []
    },
    {
      "cell_type": "code",
      "metadata": {
        "id": "JmM7rvnMDG6c"
      },
      "source": [
        "max_features = 16986\n",
        "maxlen =15\n",
        "embed_size = 100"
      ],
      "execution_count": 25,
      "outputs": []
    },
    {
      "cell_type": "code",
      "metadata": {
        "id": "gyFrnGi5Czw5"
      },
      "source": [
        "def get_model(): #GRU 기반 모델, kaggle의 toxic classification 코드에서 따옴\n",
        "    inp = Input(shape=(maxlen, ))\n",
        "    x = Embedding(max_features, embed_size, weights=[embedding_matrix])(inp)\n",
        "    x = SpatialDropout1D(0.2)(x)\n",
        "    x = Bidirectional(GRU(80, return_sequences=True))(x)\n",
        "    avg_pool = GlobalAveragePooling1D()(x)\n",
        "    max_pool = GlobalMaxPooling1D()(x)\n",
        "    conc = concatenate([avg_pool, max_pool])\n",
        "    outp = Dense(7, activation=\"sigmoid\")(conc)\n",
        "    \n",
        "    model = Model(inputs=inp, outputs=outp)\n",
        "    model.compile(optimizer='rmsprop', loss='categorical_crossentropy', metrics=[\"acc\", f1, weighted_f1])\n",
        "\n",
        "    return model"
      ],
      "execution_count": 26,
      "outputs": []
    },
    {
      "cell_type": "code",
      "metadata": {
        "id": "_J2Z4RKhC018",
        "colab": {
          "base_uri": "https://localhost:8080/"
        },
        "outputId": "0f6d3548-5319-4d64-c8a1-dcc3bd206209"
      },
      "source": [
        "model=get_model()\n",
        "history = model.fit(X_train_new, y_train_new, \n",
        "                    epochs=50, callbacks=[es, mc], batch_size=500, validation_data = (X_valid_new, y_valid_new))"
      ],
      "execution_count": 43,
      "outputs": [
        {
          "output_type": "stream",
          "name": "stdout",
          "text": [
            "Epoch 1/50\n",
            "100/100 [==============================] - 7s 29ms/step - loss: 1.1473 - acc: 0.5912 - F1: 0.4080 - Weighted_F1: 0.5796 - val_loss: 0.7905 - val_acc: 0.7347 - val_F1: 0.4678 - val_Weighted_F1: 0.7043\n",
            "\n",
            "Epoch 00001: val_acc improved from -inf to 0.73468, saving model to best_model.h5\n",
            "Epoch 2/50\n",
            "100/100 [==============================] - 2s 19ms/step - loss: 0.7266 - acc: 0.7579 - F1: 0.5356 - Weighted_F1: 0.7366 - val_loss: 0.6955 - val_acc: 0.7691 - val_F1: 0.5563 - val_Weighted_F1: 0.7507\n",
            "\n",
            "Epoch 00002: val_acc improved from 0.73468 to 0.76913, saving model to best_model.h5\n",
            "Epoch 3/50\n",
            "100/100 [==============================] - 2s 19ms/step - loss: 0.6235 - acc: 0.7892 - F1: 0.6022 - Weighted_F1: 0.7744 - val_loss: 0.6422 - val_acc: 0.7740 - val_F1: 0.5660 - val_Weighted_F1: 0.7546\n",
            "\n",
            "Epoch 00003: val_acc improved from 0.76913 to 0.77403, saving model to best_model.h5\n",
            "Epoch 4/50\n",
            "100/100 [==============================] - 2s 19ms/step - loss: 0.5617 - acc: 0.8081 - F1: 0.6528 - Weighted_F1: 0.7974 - val_loss: 0.5955 - val_acc: 0.7974 - val_F1: 0.6715 - val_Weighted_F1: 0.7911\n",
            "\n",
            "Epoch 00004: val_acc improved from 0.77403 to 0.79742, saving model to best_model.h5\n",
            "Epoch 5/50\n",
            "100/100 [==============================] - 2s 19ms/step - loss: 0.5185 - acc: 0.8206 - F1: 0.7000 - Weighted_F1: 0.8134 - val_loss: 0.6047 - val_acc: 0.7885 - val_F1: 0.6631 - val_Weighted_F1: 0.7826\n",
            "\n",
            "Epoch 00005: val_acc did not improve from 0.79742\n",
            "Epoch 6/50\n",
            "100/100 [==============================] - 2s 19ms/step - loss: 0.4845 - acc: 0.8318 - F1: 0.7264 - Weighted_F1: 0.8262 - val_loss: 0.5760 - val_acc: 0.7967 - val_F1: 0.6761 - val_Weighted_F1: 0.7880\n",
            "\n",
            "Epoch 00006: val_acc did not improve from 0.79742\n",
            "Epoch 7/50\n",
            "100/100 [==============================] - 2s 19ms/step - loss: 0.4570 - acc: 0.8418 - F1: 0.7474 - Weighted_F1: 0.8373 - val_loss: 0.5564 - val_acc: 0.8049 - val_F1: 0.6924 - val_Weighted_F1: 0.8007\n",
            "\n",
            "Epoch 00007: val_acc improved from 0.79742 to 0.80486, saving model to best_model.h5\n",
            "Epoch 8/50\n",
            "100/100 [==============================] - 2s 19ms/step - loss: 0.4310 - acc: 0.8507 - F1: 0.7631 - Weighted_F1: 0.8470 - val_loss: 0.5705 - val_acc: 0.8061 - val_F1: 0.6873 - val_Weighted_F1: 0.7995\n",
            "\n",
            "Epoch 00008: val_acc improved from 0.80486 to 0.80613, saving model to best_model.h5\n",
            "Epoch 9/50\n",
            "100/100 [==============================] - 2s 19ms/step - loss: 0.4133 - acc: 0.8565 - F1: 0.7715 - Weighted_F1: 0.8534 - val_loss: 0.5682 - val_acc: 0.8083 - val_F1: 0.7161 - val_Weighted_F1: 0.8060\n",
            "\n",
            "Epoch 00009: val_acc improved from 0.80613 to 0.80831, saving model to best_model.h5\n",
            "Epoch 10/50\n",
            "100/100 [==============================] - 2s 19ms/step - loss: 0.3917 - acc: 0.8637 - F1: 0.7850 - Weighted_F1: 0.8611 - val_loss: 0.5739 - val_acc: 0.8110 - val_F1: 0.7202 - val_Weighted_F1: 0.8063\n",
            "\n",
            "Epoch 00010: val_acc improved from 0.80831 to 0.81103, saving model to best_model.h5\n",
            "Epoch 11/50\n",
            "100/100 [==============================] - 2s 19ms/step - loss: 0.3754 - acc: 0.8700 - F1: 0.7974 - Weighted_F1: 0.8678 - val_loss: 0.5699 - val_acc: 0.8061 - val_F1: 0.7116 - val_Weighted_F1: 0.8014\n",
            "\n",
            "Epoch 00011: val_acc did not improve from 0.81103\n",
            "Epoch 12/50\n",
            "100/100 [==============================] - 2s 19ms/step - loss: 0.3600 - acc: 0.8753 - F1: 0.8065 - Weighted_F1: 0.8732 - val_loss: 0.5627 - val_acc: 0.8125 - val_F1: 0.7170 - val_Weighted_F1: 0.8071\n",
            "\n",
            "Epoch 00012: val_acc improved from 0.81103 to 0.81248, saving model to best_model.h5\n",
            "Epoch 00012: early stopping\n"
          ]
        }
      ]
    },
    {
      "cell_type": "code",
      "metadata": {
        "id": "_itTT4WAGZuS"
      },
      "source": [
        "def get_model_two():\n",
        "    model = Sequential()\n",
        "    model.add(Embedding(max_features,100))\n",
        "    model.add(LSTM(64))\n",
        "    model.add(Dense(256, activation='relu'))\n",
        "    model.add(Dropout(0.5))\n",
        "    model.add(Dense(7, activation='softmax'))    \n",
        "    model.compile(optimizer='rmsprop', loss='categorical_crossentropy', metrics=[\"acc\", f1, weighted_f1])\n",
        "    return model"
      ],
      "execution_count": 37,
      "outputs": []
    },
    {
      "cell_type": "code",
      "metadata": {
        "id": "FMH1I40QeRtQ"
      },
      "source": [
        "es = EarlyStopping(monitor='val_loss', mode='min', verbose=1, patience=5)\n",
        "mc = ModelCheckpoint('best_model.h5', monitor='val_acc', mode='max', verbose=1, save_best_only=True)"
      ],
      "execution_count": 42,
      "outputs": []
    },
    {
      "cell_type": "code",
      "metadata": {
        "colab": {
          "base_uri": "https://localhost:8080/"
        },
        "id": "qDnflTr7Gojt",
        "outputId": "77246443-3046-49c5-b6b5-ba8888c2ccfd"
      },
      "source": [
        "model=get_model_two()\n",
        "history = model.fit(X_train_new, y_train_new, \n",
        "                    epochs=50, callbacks=[es, mc], batch_size=500, validation_data = (X_valid_new, y_valid_new))"
      ],
      "execution_count": 39,
      "outputs": [
        {
          "output_type": "stream",
          "name": "stdout",
          "text": [
            "Epoch 1/50\n",
            "100/100 [==============================] - 5s 24ms/step - loss: 1.1642 - acc: 0.5711 - F1: 0.3456 - Weighted_F1: 0.5323 - val_loss: 0.7481 - val_acc: 0.7448 - val_F1: 0.4568 - val_Weighted_F1: 0.7095\n",
            "\n",
            "Epoch 00001: val_acc improved from -inf to 0.74483, saving model to best_model.h5\n",
            "Epoch 2/50\n",
            "100/100 [==============================] - 1s 13ms/step - loss: 0.7068 - acc: 0.7583 - F1: 0.4854 - Weighted_F1: 0.7275 - val_loss: 0.7507 - val_acc: 0.7450 - val_F1: 0.5049 - val_Weighted_F1: 0.7130\n",
            "\n",
            "Epoch 00002: val_acc improved from 0.74483 to 0.74501, saving model to best_model.h5\n",
            "Epoch 3/50\n",
            "100/100 [==============================] - 1s 12ms/step - loss: 0.5888 - acc: 0.7985 - F1: 0.6143 - Weighted_F1: 0.7839 - val_loss: 0.6047 - val_acc: 0.7913 - val_F1: 0.6472 - val_Weighted_F1: 0.7826\n",
            "\n",
            "Epoch 00003: val_acc improved from 0.74501 to 0.79126, saving model to best_model.h5\n",
            "Epoch 4/50\n",
            "100/100 [==============================] - 2s 16ms/step - loss: 0.5176 - acc: 0.8235 - F1: 0.7013 - Weighted_F1: 0.8177 - val_loss: 0.5997 - val_acc: 0.7871 - val_F1: 0.6694 - val_Weighted_F1: 0.7805\n",
            "\n",
            "Epoch 00004: val_acc did not improve from 0.79126\n",
            "Epoch 5/50\n",
            "100/100 [==============================] - 1s 12ms/step - loss: 0.4710 - acc: 0.8390 - F1: 0.7399 - Weighted_F1: 0.8353 - val_loss: 0.5889 - val_acc: 0.8021 - val_F1: 0.6847 - val_Weighted_F1: 0.7946\n",
            "\n",
            "Epoch 00005: val_acc improved from 0.79126 to 0.80214, saving model to best_model.h5\n",
            "Epoch 6/50\n",
            "100/100 [==============================] - 1s 12ms/step - loss: 0.4357 - acc: 0.8494 - F1: 0.7594 - Weighted_F1: 0.8465 - val_loss: 0.5891 - val_acc: 0.7962 - val_F1: 0.6981 - val_Weighted_F1: 0.7930\n",
            "\n",
            "Epoch 00006: val_acc did not improve from 0.80214\n",
            "Epoch 7/50\n",
            "100/100 [==============================] - 1s 12ms/step - loss: 0.4049 - acc: 0.8615 - F1: 0.7834 - Weighted_F1: 0.8593 - val_loss: 0.5902 - val_acc: 0.7938 - val_F1: 0.6894 - val_Weighted_F1: 0.7901\n",
            "\n",
            "Epoch 00007: val_acc did not improve from 0.80214\n",
            "Epoch 8/50\n",
            "100/100 [==============================] - 1s 12ms/step - loss: 0.3782 - acc: 0.8702 - F1: 0.7953 - Weighted_F1: 0.8684 - val_loss: 0.6145 - val_acc: 0.8058 - val_F1: 0.7085 - val_Weighted_F1: 0.8006\n",
            "\n",
            "Epoch 00008: val_acc improved from 0.80214 to 0.80577, saving model to best_model.h5\n",
            "Epoch 9/50\n",
            "100/100 [==============================] - 1s 12ms/step - loss: 0.3559 - acc: 0.8784 - F1: 0.8112 - Weighted_F1: 0.8770 - val_loss: 0.6302 - val_acc: 0.8027 - val_F1: 0.6971 - val_Weighted_F1: 0.7963\n",
            "\n",
            "Epoch 00009: val_acc did not improve from 0.80577\n",
            "Epoch 10/50\n",
            "100/100 [==============================] - 1s 12ms/step - loss: 0.3331 - acc: 0.8864 - F1: 0.8232 - Weighted_F1: 0.8853 - val_loss: 0.6330 - val_acc: 0.7983 - val_F1: 0.7080 - val_Weighted_F1: 0.7979\n",
            "\n",
            "Epoch 00010: val_acc did not improve from 0.80577\n",
            "Epoch 00010: early stopping\n"
          ]
        }
      ]
    },
    {
      "cell_type": "code",
      "metadata": {
        "id": "EXbjF5U9dkuZ"
      },
      "source": [
        "loaded_model = load_model('best_model.h5')"
      ],
      "execution_count": 44,
      "outputs": []
    },
    {
      "cell_type": "code",
      "metadata": {
        "colab": {
          "base_uri": "https://localhost:8080/"
        },
        "id": "H0KkE-Rbdl6g",
        "outputId": "63b9e252-811a-4619-c851-afaab9763f10"
      },
      "source": [
        "loaded_model.evaluate(X_test_new, y_test_new)"
      ],
      "execution_count": 45,
      "outputs": [
        {
          "output_type": "stream",
          "name": "stdout",
          "text": [
            "192/192 [==============================] - 2s 6ms/step - loss: 0.5706 - acc: 0.8170 - F1: 0.7101 - Weighted_F1: 0.8103\n"
          ]
        },
        {
          "output_type": "execute_result",
          "data": {
            "text/plain": [
              "[0.5705780982971191,\n",
              " 0.8170233368873596,\n",
              " array([0.91848266, 0.811247  , 0.8777778 , 0.8086587 , 0.4047619 ,\n",
              "        0.63095236, 0.51891893], dtype=float32),\n",
              " 0.8102699518203735]"
            ]
          },
          "metadata": {},
          "execution_count": 45
        }
      ]
    }
  ]
}
