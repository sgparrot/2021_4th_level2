{
  "nbformat": 4,
  "nbformat_minor": 0,
  "metadata": {
    "accelerator": "GPU",
    "colab": {
      "name": "20211027_Level2_1d_conv.ipynb",
      "provenance": [],
      "collapsed_sections": [],
      "include_colab_link": true
    },
    "kernelspec": {
      "display_name": "Python [conda env:psd] *",
      "language": "python",
      "name": "conda-env-psd-py"
    },
    "language_info": {
      "codemirror_mode": {
        "name": "ipython",
        "version": 3
      },
      "file_extension": ".py",
      "mimetype": "text/x-python",
      "name": "python",
      "nbconvert_exporter": "python",
      "pygments_lexer": "ipython3",
      "version": "3.6.13"
    }
  },
  "cells": [
    {
      "cell_type": "markdown",
      "metadata": {
        "id": "view-in-github",
        "colab_type": "text"
      },
      "source": [
        "<a href=\"https://colab.research.google.com/github/pseudope/2021_F_Level2/blob/main/Sessions/20211027_Level2_1d_conv.ipynb\" target=\"_parent\"><img src=\"https://colab.research.google.com/assets/colab-badge.svg\" alt=\"Open In Colab\"/></a>"
      ]
    },
    {
      "cell_type": "markdown",
      "metadata": {
        "id": "Wl_NSyTOWA3W"
      },
      "source": [
        "# 20211027 (1D Convolution)\n",
        "\n",
        "4기 Level 2 1D Convolution 자료입니다."
      ]
    },
    {
      "cell_type": "markdown",
      "metadata": {
        "id": "SadlGdRnWA3Z"
      },
      "source": [
        "# Contents"
      ]
    },
    {
      "cell_type": "markdown",
      "metadata": {
        "id": "S0hdG8QiWA3b"
      },
      "source": [
        "1. Multi Kernel 1D Convolution\n",
        "2. 의도 분류"
      ]
    },
    {
      "cell_type": "code",
      "metadata": {
        "execution": {
          "iopub.execute_input": "2021-10-27T05:05:21.043733Z",
          "iopub.status.busy": "2021-10-27T05:05:21.043542Z",
          "iopub.status.idle": "2021-10-27T05:05:23.473089Z",
          "shell.execute_reply": "2021-10-27T05:05:23.472342Z",
          "shell.execute_reply.started": "2021-10-27T05:05:21.043710Z"
        },
        "id": "Zz7BXb8QWA3d",
        "tags": []
      },
      "source": [
        "#!/usr/bin/env python3\n",
        "\n",
        "import os\n",
        "import pandas as pd\n",
        "import numpy as np\n",
        "import matplotlib.pyplot as plt\n",
        "import re\n",
        "import urllib.request\n",
        "from konlpy.tag import Okt\n",
        "from tqdm import tqdm\n",
        "\n",
        "from sklearn import preprocessing\n",
        "from sklearn.metrics import classification_report\n",
        "\n",
        "from sklearn.model_selection import train_test_split\n",
        "\n",
        "from tensorflow.keras.preprocessing.text import Tokenizer\n",
        "from tensorflow.keras.preprocessing.sequence import pad_sequences\n",
        "from tensorflow.keras.models import Sequential, Model, load_model\n",
        "from tensorflow.keras.layers import Embedding, Dropout, Conv1D, GlobalMaxPooling1D, Dense, Input, Flatten, Concatenate\n",
        "from tensorflow.keras.callbacks import EarlyStopping, ModelCheckpoint\n",
        "from tensorflow.keras.utils import to_categorical"
      ],
      "execution_count": null,
      "outputs": []
    },
    {
      "cell_type": "markdown",
      "metadata": {
        "id": "TsAjVd7C2SEl"
      },
      "source": [
        "# 1. Multi Kernel 1D Convoution"
      ]
    },
    {
      "cell_type": "markdown",
      "metadata": {
        "id": "H2_xeozs2SEm"
      },
      "source": [
        "## Preparing Dataset"
      ]
    },
    {
      "cell_type": "code",
      "metadata": {
        "execution": {
          "iopub.execute_input": "2021-10-27T05:05:23.474868Z",
          "iopub.status.busy": "2021-10-27T05:05:23.474666Z",
          "iopub.status.idle": "2021-10-27T05:05:23.609887Z",
          "shell.execute_reply": "2021-10-27T05:05:23.609147Z",
          "shell.execute_reply.started": "2021-10-27T05:05:23.474843Z"
        },
        "tags": [],
        "id": "8wBHDLyF2SEm",
        "outputId": "f047ac2c-6fb1-4594-c3d5-07e3883d1193"
      },
      "source": [
        "### 데이터 로드\n",
        "\n",
        "urllib.request.urlretrieve(\"https://raw.githubusercontent.com/e9t/nsmc/master/ratings_train.txt\", filename=\"ratings_train.txt\")\n",
        "urllib.request.urlretrieve(\"https://raw.githubusercontent.com/e9t/nsmc/master/ratings_test.txt\", filename=\"ratings_test.txt\")"
      ],
      "execution_count": null,
      "outputs": [
        {
          "data": {
            "text/plain": [
              "('ratings_test.txt', <http.client.HTTPMessage at 0x7f1904a79b00>)"
            ]
          },
          "execution_count": 2,
          "metadata": {},
          "output_type": "execute_result"
        }
      ]
    },
    {
      "cell_type": "code",
      "metadata": {
        "execution": {
          "iopub.execute_input": "2021-10-27T05:05:23.611068Z",
          "iopub.status.busy": "2021-10-27T05:05:23.610875Z",
          "iopub.status.idle": "2021-10-27T05:05:23.984097Z",
          "shell.execute_reply": "2021-10-27T05:05:23.983343Z",
          "shell.execute_reply.started": "2021-10-27T05:05:23.611045Z"
        },
        "tags": [],
        "id": "IUBY3QSL2SEo"
      },
      "source": [
        "train_data = pd.read_table(\"dataset/ratings_train.txt\")\n",
        "test_data = pd.read_table(\"dataset/ratings_test.txt\")\n",
        "\n",
        "del train_data[\"id\"]\n",
        "del test_data[\"id\"]"
      ],
      "execution_count": null,
      "outputs": []
    },
    {
      "cell_type": "code",
      "metadata": {
        "execution": {
          "iopub.execute_input": "2021-10-27T05:05:23.985299Z",
          "iopub.status.busy": "2021-10-27T05:05:23.985079Z",
          "iopub.status.idle": "2021-10-27T05:05:23.999864Z",
          "shell.execute_reply": "2021-10-27T05:05:23.999074Z",
          "shell.execute_reply.started": "2021-10-27T05:05:23.985274Z"
        },
        "tags": [],
        "id": "2FBaH3NV2SEp",
        "outputId": "9c51df28-c010-46e1-99a7-5d66d01eecd7"
      },
      "source": [
        "print(\"훈련용 리뷰 개수 :\", len(train_data))\n",
        "train_data.head(10)"
      ],
      "execution_count": null,
      "outputs": [
        {
          "name": "stdout",
          "output_type": "stream",
          "text": [
            "훈련용 리뷰 개수 : 150000\n"
          ]
        },
        {
          "data": {
            "text/html": [
              "<div>\n",
              "<style scoped>\n",
              "    .dataframe tbody tr th:only-of-type {\n",
              "        vertical-align: middle;\n",
              "    }\n",
              "\n",
              "    .dataframe tbody tr th {\n",
              "        vertical-align: top;\n",
              "    }\n",
              "\n",
              "    .dataframe thead th {\n",
              "        text-align: right;\n",
              "    }\n",
              "</style>\n",
              "<table border=\"1\" class=\"dataframe\">\n",
              "  <thead>\n",
              "    <tr style=\"text-align: right;\">\n",
              "      <th></th>\n",
              "      <th>document</th>\n",
              "      <th>label</th>\n",
              "    </tr>\n",
              "  </thead>\n",
              "  <tbody>\n",
              "    <tr>\n",
              "      <th>0</th>\n",
              "      <td>아 더빙.. 진짜 짜증나네요 목소리</td>\n",
              "      <td>0</td>\n",
              "    </tr>\n",
              "    <tr>\n",
              "      <th>1</th>\n",
              "      <td>흠...포스터보고 초딩영화줄....오버연기조차 가볍지 않구나</td>\n",
              "      <td>1</td>\n",
              "    </tr>\n",
              "    <tr>\n",
              "      <th>2</th>\n",
              "      <td>너무재밓었다그래서보는것을추천한다</td>\n",
              "      <td>0</td>\n",
              "    </tr>\n",
              "    <tr>\n",
              "      <th>3</th>\n",
              "      <td>교도소 이야기구먼 ..솔직히 재미는 없다..평점 조정</td>\n",
              "      <td>0</td>\n",
              "    </tr>\n",
              "    <tr>\n",
              "      <th>4</th>\n",
              "      <td>사이몬페그의 익살스런 연기가 돋보였던 영화!스파이더맨에서 늙어보이기만 했던 커스틴 ...</td>\n",
              "      <td>1</td>\n",
              "    </tr>\n",
              "    <tr>\n",
              "      <th>5</th>\n",
              "      <td>막 걸음마 뗀 3세부터 초등학교 1학년생인 8살용영화.ㅋㅋㅋ...별반개도 아까움.</td>\n",
              "      <td>0</td>\n",
              "    </tr>\n",
              "    <tr>\n",
              "      <th>6</th>\n",
              "      <td>원작의 긴장감을 제대로 살려내지못했다.</td>\n",
              "      <td>0</td>\n",
              "    </tr>\n",
              "    <tr>\n",
              "      <th>7</th>\n",
              "      <td>별 반개도 아깝다 욕나온다 이응경 길용우 연기생활이몇년인지..정말 발로해도 그것보단...</td>\n",
              "      <td>0</td>\n",
              "    </tr>\n",
              "    <tr>\n",
              "      <th>8</th>\n",
              "      <td>액션이 없는데도 재미 있는 몇안되는 영화</td>\n",
              "      <td>1</td>\n",
              "    </tr>\n",
              "    <tr>\n",
              "      <th>9</th>\n",
              "      <td>왜케 평점이 낮은건데? 꽤 볼만한데.. 헐리우드식 화려함에만 너무 길들여져 있나?</td>\n",
              "      <td>1</td>\n",
              "    </tr>\n",
              "  </tbody>\n",
              "</table>\n",
              "</div>"
            ],
            "text/plain": [
              "                                            document  label\n",
              "0                                아 더빙.. 진짜 짜증나네요 목소리      0\n",
              "1                  흠...포스터보고 초딩영화줄....오버연기조차 가볍지 않구나      1\n",
              "2                                  너무재밓었다그래서보는것을추천한다      0\n",
              "3                      교도소 이야기구먼 ..솔직히 재미는 없다..평점 조정      0\n",
              "4  사이몬페그의 익살스런 연기가 돋보였던 영화!스파이더맨에서 늙어보이기만 했던 커스틴 ...      1\n",
              "5      막 걸음마 뗀 3세부터 초등학교 1학년생인 8살용영화.ㅋㅋㅋ...별반개도 아까움.      0\n",
              "6                              원작의 긴장감을 제대로 살려내지못했다.      0\n",
              "7  별 반개도 아깝다 욕나온다 이응경 길용우 연기생활이몇년인지..정말 발로해도 그것보단...      0\n",
              "8                             액션이 없는데도 재미 있는 몇안되는 영화      1\n",
              "9      왜케 평점이 낮은건데? 꽤 볼만한데.. 헐리우드식 화려함에만 너무 길들여져 있나?      1"
            ]
          },
          "execution_count": 4,
          "metadata": {},
          "output_type": "execute_result"
        }
      ]
    },
    {
      "cell_type": "code",
      "metadata": {
        "execution": {
          "iopub.execute_input": "2021-10-27T05:05:24.001113Z",
          "iopub.status.busy": "2021-10-27T05:05:24.000893Z",
          "iopub.status.idle": "2021-10-27T05:05:24.010118Z",
          "shell.execute_reply": "2021-10-27T05:05:24.009221Z",
          "shell.execute_reply.started": "2021-10-27T05:05:24.001089Z"
        },
        "tags": [],
        "id": "UtFTeNgR2SEq",
        "outputId": "21b9fec3-e536-4edc-d31c-5d6c1037f950"
      },
      "source": [
        "print(\"테스트용 리뷰 개수 :\", len(test_data))\n",
        "test_data.head(10)"
      ],
      "execution_count": null,
      "outputs": [
        {
          "name": "stdout",
          "output_type": "stream",
          "text": [
            "테스트용 리뷰 개수 : 50000\n"
          ]
        },
        {
          "data": {
            "text/html": [
              "<div>\n",
              "<style scoped>\n",
              "    .dataframe tbody tr th:only-of-type {\n",
              "        vertical-align: middle;\n",
              "    }\n",
              "\n",
              "    .dataframe tbody tr th {\n",
              "        vertical-align: top;\n",
              "    }\n",
              "\n",
              "    .dataframe thead th {\n",
              "        text-align: right;\n",
              "    }\n",
              "</style>\n",
              "<table border=\"1\" class=\"dataframe\">\n",
              "  <thead>\n",
              "    <tr style=\"text-align: right;\">\n",
              "      <th></th>\n",
              "      <th>document</th>\n",
              "      <th>label</th>\n",
              "    </tr>\n",
              "  </thead>\n",
              "  <tbody>\n",
              "    <tr>\n",
              "      <th>0</th>\n",
              "      <td>굳 ㅋ</td>\n",
              "      <td>1</td>\n",
              "    </tr>\n",
              "    <tr>\n",
              "      <th>1</th>\n",
              "      <td>GDNTOPCLASSINTHECLUB</td>\n",
              "      <td>0</td>\n",
              "    </tr>\n",
              "    <tr>\n",
              "      <th>2</th>\n",
              "      <td>뭐야 이 평점들은.... 나쁘진 않지만 10점 짜리는 더더욱 아니잖아</td>\n",
              "      <td>0</td>\n",
              "    </tr>\n",
              "    <tr>\n",
              "      <th>3</th>\n",
              "      <td>지루하지는 않은데 완전 막장임... 돈주고 보기에는....</td>\n",
              "      <td>0</td>\n",
              "    </tr>\n",
              "    <tr>\n",
              "      <th>4</th>\n",
              "      <td>3D만 아니었어도 별 다섯 개 줬을텐데.. 왜 3D로 나와서 제 심기를 불편하게 하죠??</td>\n",
              "      <td>0</td>\n",
              "    </tr>\n",
              "    <tr>\n",
              "      <th>5</th>\n",
              "      <td>음악이 주가 된, 최고의 음악영화</td>\n",
              "      <td>1</td>\n",
              "    </tr>\n",
              "    <tr>\n",
              "      <th>6</th>\n",
              "      <td>진정한 쓰레기</td>\n",
              "      <td>0</td>\n",
              "    </tr>\n",
              "    <tr>\n",
              "      <th>7</th>\n",
              "      <td>마치 미국애니에서 튀어나온듯한 창의력없는 로봇디자인부터가,고개를 젖게한다</td>\n",
              "      <td>0</td>\n",
              "    </tr>\n",
              "    <tr>\n",
              "      <th>8</th>\n",
              "      <td>갈수록 개판되가는 중국영화 유치하고 내용없음 폼잡다 끝남 말도안되는 무기에 유치한c...</td>\n",
              "      <td>0</td>\n",
              "    </tr>\n",
              "    <tr>\n",
              "      <th>9</th>\n",
              "      <td>이별의 아픔뒤에 찾아오는 새로운 인연의 기쁨 But, 모든 사람이 그렇지는 않네..</td>\n",
              "      <td>1</td>\n",
              "    </tr>\n",
              "  </tbody>\n",
              "</table>\n",
              "</div>"
            ],
            "text/plain": [
              "                                            document  label\n",
              "0                                                굳 ㅋ      1\n",
              "1                               GDNTOPCLASSINTHECLUB      0\n",
              "2             뭐야 이 평점들은.... 나쁘진 않지만 10점 짜리는 더더욱 아니잖아      0\n",
              "3                   지루하지는 않은데 완전 막장임... 돈주고 보기에는....      0\n",
              "4  3D만 아니었어도 별 다섯 개 줬을텐데.. 왜 3D로 나와서 제 심기를 불편하게 하죠??      0\n",
              "5                                 음악이 주가 된, 최고의 음악영화      1\n",
              "6                                            진정한 쓰레기      0\n",
              "7           마치 미국애니에서 튀어나온듯한 창의력없는 로봇디자인부터가,고개를 젖게한다      0\n",
              "8  갈수록 개판되가는 중국영화 유치하고 내용없음 폼잡다 끝남 말도안되는 무기에 유치한c...      0\n",
              "9     이별의 아픔뒤에 찾아오는 새로운 인연의 기쁨 But, 모든 사람이 그렇지는 않네..      1"
            ]
          },
          "execution_count": 5,
          "metadata": {},
          "output_type": "execute_result"
        }
      ]
    },
    {
      "cell_type": "markdown",
      "metadata": {
        "id": "wRqCaTeu2SEq"
      },
      "source": [
        "## Preprocessing"
      ]
    },
    {
      "cell_type": "code",
      "metadata": {
        "execution": {
          "iopub.execute_input": "2021-10-27T05:05:24.011157Z",
          "iopub.status.busy": "2021-10-27T05:05:24.010966Z",
          "iopub.status.idle": "2021-10-27T05:05:24.068709Z",
          "shell.execute_reply": "2021-10-27T05:05:24.067930Z",
          "shell.execute_reply.started": "2021-10-27T05:05:24.011135Z"
        },
        "tags": [],
        "id": "nTzp-Xj42SEr",
        "outputId": "5e1e048e-bc3f-4f99-9b6a-238645d2785e"
      },
      "source": [
        "print(train_data['document'].nunique())   # 중복 데이터 발견\n",
        "print(train_data['label'].nunique())"
      ],
      "execution_count": null,
      "outputs": [
        {
          "name": "stdout",
          "output_type": "stream",
          "text": [
            "146182\n",
            "2\n"
          ]
        }
      ]
    },
    {
      "cell_type": "markdown",
      "metadata": {
        "id": "7y0PJQEK2SEr"
      },
      "source": [
        "### Train Data"
      ]
    },
    {
      "cell_type": "code",
      "metadata": {
        "execution": {
          "iopub.execute_input": "2021-10-27T05:05:24.071281Z",
          "iopub.status.busy": "2021-10-27T05:05:24.071058Z",
          "iopub.status.idle": "2021-10-27T05:05:24.084274Z",
          "shell.execute_reply": "2021-10-27T05:05:24.083601Z",
          "shell.execute_reply.started": "2021-10-27T05:05:24.071255Z"
        },
        "tags": [],
        "id": "5M_Ixhd22SEs",
        "outputId": "3f82aeed-e28d-4107-e666-86ec41f42901"
      },
      "source": [
        "print(train_data.isnull().sum())"
      ],
      "execution_count": null,
      "outputs": [
        {
          "name": "stdout",
          "output_type": "stream",
          "text": [
            "document    5\n",
            "label       0\n",
            "dtype: int64\n"
          ]
        }
      ]
    },
    {
      "cell_type": "code",
      "metadata": {
        "execution": {
          "iopub.execute_input": "2021-10-27T05:05:24.085951Z",
          "iopub.status.busy": "2021-10-27T05:05:24.085739Z",
          "iopub.status.idle": "2021-10-27T05:05:24.101570Z",
          "shell.execute_reply": "2021-10-27T05:05:24.100910Z",
          "shell.execute_reply.started": "2021-10-27T05:05:24.085927Z"
        },
        "tags": [],
        "id": "XBXQUBYr2SEt",
        "outputId": "83d89dca-4573-41ad-8d8e-81044e8841fb"
      },
      "source": [
        "train_data.loc[train_data.document.isnull()]   # NaN 데이터 발견"
      ],
      "execution_count": null,
      "outputs": [
        {
          "data": {
            "text/html": [
              "<div>\n",
              "<style scoped>\n",
              "    .dataframe tbody tr th:only-of-type {\n",
              "        vertical-align: middle;\n",
              "    }\n",
              "\n",
              "    .dataframe tbody tr th {\n",
              "        vertical-align: top;\n",
              "    }\n",
              "\n",
              "    .dataframe thead th {\n",
              "        text-align: right;\n",
              "    }\n",
              "</style>\n",
              "<table border=\"1\" class=\"dataframe\">\n",
              "  <thead>\n",
              "    <tr style=\"text-align: right;\">\n",
              "      <th></th>\n",
              "      <th>document</th>\n",
              "      <th>label</th>\n",
              "    </tr>\n",
              "  </thead>\n",
              "  <tbody>\n",
              "    <tr>\n",
              "      <th>25857</th>\n",
              "      <td>NaN</td>\n",
              "      <td>1</td>\n",
              "    </tr>\n",
              "    <tr>\n",
              "      <th>55737</th>\n",
              "      <td>NaN</td>\n",
              "      <td>1</td>\n",
              "    </tr>\n",
              "    <tr>\n",
              "      <th>110014</th>\n",
              "      <td>NaN</td>\n",
              "      <td>0</td>\n",
              "    </tr>\n",
              "    <tr>\n",
              "      <th>126782</th>\n",
              "      <td>NaN</td>\n",
              "      <td>0</td>\n",
              "    </tr>\n",
              "    <tr>\n",
              "      <th>140721</th>\n",
              "      <td>NaN</td>\n",
              "      <td>0</td>\n",
              "    </tr>\n",
              "  </tbody>\n",
              "</table>\n",
              "</div>"
            ],
            "text/plain": [
              "       document  label\n",
              "25857       NaN      1\n",
              "55737       NaN      1\n",
              "110014      NaN      0\n",
              "126782      NaN      0\n",
              "140721      NaN      0"
            ]
          },
          "execution_count": 8,
          "metadata": {},
          "output_type": "execute_result"
        }
      ]
    },
    {
      "cell_type": "code",
      "metadata": {
        "execution": {
          "iopub.execute_input": "2021-10-27T05:05:24.102644Z",
          "iopub.status.busy": "2021-10-27T05:05:24.102443Z",
          "iopub.status.idle": "2021-10-27T05:05:24.136140Z",
          "shell.execute_reply": "2021-10-27T05:05:24.135360Z",
          "shell.execute_reply.started": "2021-10-27T05:05:24.102621Z"
        },
        "tags": [],
        "id": "NGux5_cH2SEu",
        "outputId": "94ef18ca-4788-4591-b602-282098c2e2ea"
      },
      "source": [
        "train_data = train_data.dropna(how = \"any\")\n",
        "print(train_data.isnull().values.any())"
      ],
      "execution_count": null,
      "outputs": [
        {
          "name": "stdout",
          "output_type": "stream",
          "text": [
            "False\n"
          ]
        }
      ]
    },
    {
      "cell_type": "code",
      "metadata": {
        "execution": {
          "iopub.execute_input": "2021-10-27T05:05:24.137372Z",
          "iopub.status.busy": "2021-10-27T05:05:24.137158Z",
          "iopub.status.idle": "2021-10-27T05:05:24.396340Z",
          "shell.execute_reply": "2021-10-27T05:05:24.395779Z",
          "shell.execute_reply.started": "2021-10-27T05:05:24.137348Z"
        },
        "tags": [],
        "id": "4RABODaf2SEv",
        "outputId": "9c425e02-0304-4f8f-8d69-39aa34dfabbd"
      },
      "source": [
        "train_data.drop_duplicates(subset=['document'], inplace=True)\n",
        "print(\"총 train data의 수:\", len(train_data))\n",
        "\n",
        "train_data['label'].value_counts().plot(kind = 'bar')\n",
        "print(train_data.groupby('label').size().reset_index(name = 'count'))"
      ],
      "execution_count": null,
      "outputs": [
        {
          "name": "stdout",
          "output_type": "stream",
          "text": [
            "총 train data의 수: 146182\n",
            "   label  count\n",
            "0      0  73342\n",
            "1      1  72840\n"
          ]
        },
        {
          "data": {
            "image/png": "[encoded data removed]",
            "text/plain": [
              "<Figure size 432x288 with 1 Axes>"
            ]
          },
          "metadata": {
            "needs_background": "light"
          },
          "output_type": "display_data"
        }
      ]
    },
    {
      "cell_type": "code",
      "metadata": {
        "execution": {
          "iopub.execute_input": "2021-10-27T05:05:24.397541Z",
          "iopub.status.busy": "2021-10-27T05:05:24.397221Z",
          "iopub.status.idle": "2021-10-27T05:05:24.730313Z",
          "shell.execute_reply": "2021-10-27T05:05:24.729806Z",
          "shell.execute_reply.started": "2021-10-27T05:05:24.397514Z"
        },
        "tags": [],
        "id": "cJR36klP2SEw",
        "outputId": "c1b5adec-cb60-4c4b-d611-67cc18cda1ad"
      },
      "source": [
        "train_data[\"document\"] = train_data[\"document\"].str.replace(\"[^ㄱ-ㅎㅏ-ㅣ가-힣 ]\",\"\")\n",
        "train_data.head(10)"
      ],
      "execution_count": null,
      "outputs": [
        {
          "data": {
            "text/html": [
              "<div>\n",
              "<style scoped>\n",
              "    .dataframe tbody tr th:only-of-type {\n",
              "        vertical-align: middle;\n",
              "    }\n",
              "\n",
              "    .dataframe tbody tr th {\n",
              "        vertical-align: top;\n",
              "    }\n",
              "\n",
              "    .dataframe thead th {\n",
              "        text-align: right;\n",
              "    }\n",
              "</style>\n",
              "<table border=\"1\" class=\"dataframe\">\n",
              "  <thead>\n",
              "    <tr style=\"text-align: right;\">\n",
              "      <th></th>\n",
              "      <th>document</th>\n",
              "      <th>label</th>\n",
              "    </tr>\n",
              "  </thead>\n",
              "  <tbody>\n",
              "    <tr>\n",
              "      <th>0</th>\n",
              "      <td>아 더빙 진짜 짜증나네요 목소리</td>\n",
              "      <td>0</td>\n",
              "    </tr>\n",
              "    <tr>\n",
              "      <th>1</th>\n",
              "      <td>흠포스터보고 초딩영화줄오버연기조차 가볍지 않구나</td>\n",
              "      <td>1</td>\n",
              "    </tr>\n",
              "    <tr>\n",
              "      <th>2</th>\n",
              "      <td>너무재밓었다그래서보는것을추천한다</td>\n",
              "      <td>0</td>\n",
              "    </tr>\n",
              "    <tr>\n",
              "      <th>3</th>\n",
              "      <td>교도소 이야기구먼 솔직히 재미는 없다평점 조정</td>\n",
              "      <td>0</td>\n",
              "    </tr>\n",
              "    <tr>\n",
              "      <th>4</th>\n",
              "      <td>사이몬페그의 익살스런 연기가 돋보였던 영화스파이더맨에서 늙어보이기만 했던 커스틴 던...</td>\n",
              "      <td>1</td>\n",
              "    </tr>\n",
              "    <tr>\n",
              "      <th>5</th>\n",
              "      <td>막 걸음마 뗀 세부터 초등학교 학년생인 살용영화ㅋㅋㅋ별반개도 아까움</td>\n",
              "      <td>0</td>\n",
              "    </tr>\n",
              "    <tr>\n",
              "      <th>6</th>\n",
              "      <td>원작의 긴장감을 제대로 살려내지못했다</td>\n",
              "      <td>0</td>\n",
              "    </tr>\n",
              "    <tr>\n",
              "      <th>7</th>\n",
              "      <td>별 반개도 아깝다 욕나온다 이응경 길용우 연기생활이몇년인지정말 발로해도 그것보단 낫...</td>\n",
              "      <td>0</td>\n",
              "    </tr>\n",
              "    <tr>\n",
              "      <th>8</th>\n",
              "      <td>액션이 없는데도 재미 있는 몇안되는 영화</td>\n",
              "      <td>1</td>\n",
              "    </tr>\n",
              "    <tr>\n",
              "      <th>9</th>\n",
              "      <td>왜케 평점이 낮은건데 꽤 볼만한데 헐리우드식 화려함에만 너무 길들여져 있나</td>\n",
              "      <td>1</td>\n",
              "    </tr>\n",
              "  </tbody>\n",
              "</table>\n",
              "</div>"
            ],
            "text/plain": [
              "                                            document  label\n",
              "0                                  아 더빙 진짜 짜증나네요 목소리      0\n",
              "1                         흠포스터보고 초딩영화줄오버연기조차 가볍지 않구나      1\n",
              "2                                  너무재밓었다그래서보는것을추천한다      0\n",
              "3                          교도소 이야기구먼 솔직히 재미는 없다평점 조정      0\n",
              "4  사이몬페그의 익살스런 연기가 돋보였던 영화스파이더맨에서 늙어보이기만 했던 커스틴 던...      1\n",
              "5              막 걸음마 뗀 세부터 초등학교 학년생인 살용영화ㅋㅋㅋ별반개도 아까움      0\n",
              "6                               원작의 긴장감을 제대로 살려내지못했다      0\n",
              "7  별 반개도 아깝다 욕나온다 이응경 길용우 연기생활이몇년인지정말 발로해도 그것보단 낫...      0\n",
              "8                             액션이 없는데도 재미 있는 몇안되는 영화      1\n",
              "9          왜케 평점이 낮은건데 꽤 볼만한데 헐리우드식 화려함에만 너무 길들여져 있나      1"
            ]
          },
          "execution_count": 11,
          "metadata": {},
          "output_type": "execute_result"
        }
      ]
    },
    {
      "cell_type": "code",
      "metadata": {
        "execution": {
          "iopub.execute_input": "2021-10-27T05:05:24.731502Z",
          "iopub.status.busy": "2021-10-27T05:05:24.731197Z",
          "iopub.status.idle": "2021-10-27T05:05:24.979109Z",
          "shell.execute_reply": "2021-10-27T05:05:24.978596Z",
          "shell.execute_reply.started": "2021-10-27T05:05:24.731476Z"
        },
        "tags": [],
        "id": "Ijb5lbYv2SEx",
        "outputId": "51b30f8a-3bf8-40d4-b671-01b247ce806e"
      },
      "source": [
        "### 빈칸을 NaN으로 변환\n",
        "\n",
        "train_data[\"document\"] = train_data[\"document\"].str.replace(\"^ +\", \"\")\n",
        "train_data[\"document\"].replace(\"\", np.nan, inplace=True)\n",
        "print(train_data.isnull().sum())"
      ],
      "execution_count": null,
      "outputs": [
        {
          "name": "stdout",
          "output_type": "stream",
          "text": [
            "document    789\n",
            "label         0\n",
            "dtype: int64\n"
          ]
        }
      ]
    },
    {
      "cell_type": "code",
      "metadata": {
        "execution": {
          "iopub.execute_input": "2021-10-27T05:05:24.980322Z",
          "iopub.status.busy": "2021-10-27T05:05:24.980008Z",
          "iopub.status.idle": "2021-10-27T05:05:24.999531Z",
          "shell.execute_reply": "2021-10-27T05:05:24.999067Z",
          "shell.execute_reply.started": "2021-10-27T05:05:24.980295Z"
        },
        "tags": [],
        "id": "jZ9jKTWZ2SEx",
        "outputId": "e098a959-5757-424d-f25e-a6fac108e2eb"
      },
      "source": [
        "train_data.loc[train_data.document.isnull()]"
      ],
      "execution_count": null,
      "outputs": [
        {
          "data": {
            "text/html": [
              "<div>\n",
              "<style scoped>\n",
              "    .dataframe tbody tr th:only-of-type {\n",
              "        vertical-align: middle;\n",
              "    }\n",
              "\n",
              "    .dataframe tbody tr th {\n",
              "        vertical-align: top;\n",
              "    }\n",
              "\n",
              "    .dataframe thead th {\n",
              "        text-align: right;\n",
              "    }\n",
              "</style>\n",
              "<table border=\"1\" class=\"dataframe\">\n",
              "  <thead>\n",
              "    <tr style=\"text-align: right;\">\n",
              "      <th></th>\n",
              "      <th>document</th>\n",
              "      <th>label</th>\n",
              "    </tr>\n",
              "  </thead>\n",
              "  <tbody>\n",
              "    <tr>\n",
              "      <th>404</th>\n",
              "      <td>NaN</td>\n",
              "      <td>0</td>\n",
              "    </tr>\n",
              "    <tr>\n",
              "      <th>412</th>\n",
              "      <td>NaN</td>\n",
              "      <td>1</td>\n",
              "    </tr>\n",
              "    <tr>\n",
              "      <th>470</th>\n",
              "      <td>NaN</td>\n",
              "      <td>1</td>\n",
              "    </tr>\n",
              "    <tr>\n",
              "      <th>584</th>\n",
              "      <td>NaN</td>\n",
              "      <td>0</td>\n",
              "    </tr>\n",
              "    <tr>\n",
              "      <th>593</th>\n",
              "      <td>NaN</td>\n",
              "      <td>0</td>\n",
              "    </tr>\n",
              "    <tr>\n",
              "      <th>...</th>\n",
              "      <td>...</td>\n",
              "      <td>...</td>\n",
              "    </tr>\n",
              "    <tr>\n",
              "      <th>149309</th>\n",
              "      <td>NaN</td>\n",
              "      <td>1</td>\n",
              "    </tr>\n",
              "    <tr>\n",
              "      <th>149358</th>\n",
              "      <td>NaN</td>\n",
              "      <td>0</td>\n",
              "    </tr>\n",
              "    <tr>\n",
              "      <th>149364</th>\n",
              "      <td>NaN</td>\n",
              "      <td>1</td>\n",
              "    </tr>\n",
              "    <tr>\n",
              "      <th>149630</th>\n",
              "      <td>NaN</td>\n",
              "      <td>0</td>\n",
              "    </tr>\n",
              "    <tr>\n",
              "      <th>149773</th>\n",
              "      <td>NaN</td>\n",
              "      <td>0</td>\n",
              "    </tr>\n",
              "  </tbody>\n",
              "</table>\n",
              "<p>789 rows × 2 columns</p>\n",
              "</div>"
            ],
            "text/plain": [
              "       document  label\n",
              "404         NaN      0\n",
              "412         NaN      1\n",
              "470         NaN      1\n",
              "584         NaN      0\n",
              "593         NaN      0\n",
              "...         ...    ...\n",
              "149309      NaN      1\n",
              "149358      NaN      0\n",
              "149364      NaN      1\n",
              "149630      NaN      0\n",
              "149773      NaN      0\n",
              "\n",
              "[789 rows x 2 columns]"
            ]
          },
          "execution_count": 13,
          "metadata": {},
          "output_type": "execute_result"
        }
      ]
    },
    {
      "cell_type": "code",
      "metadata": {
        "execution": {
          "iopub.execute_input": "2021-10-27T05:05:25.000666Z",
          "iopub.status.busy": "2021-10-27T05:05:25.000363Z",
          "iopub.status.idle": "2021-10-27T05:05:25.023495Z",
          "shell.execute_reply": "2021-10-27T05:05:25.023016Z",
          "shell.execute_reply.started": "2021-10-27T05:05:25.000641Z"
        },
        "tags": [],
        "id": "0PvSfiCv2SEy",
        "outputId": "b2c72077-41e5-4b1a-d838-6f161fc8fbd3"
      },
      "source": [
        "train_data = train_data.dropna(how = \"any\")\n",
        "print(\"총 train data의 수:\", len(train_data))"
      ],
      "execution_count": null,
      "outputs": [
        {
          "name": "stdout",
          "output_type": "stream",
          "text": [
            "총 train data의 수: 145393\n"
          ]
        }
      ]
    },
    {
      "cell_type": "markdown",
      "metadata": {
        "tags": [],
        "id": "SKxWdw1Y2SEz"
      },
      "source": [
        "### Test Data"
      ]
    },
    {
      "cell_type": "code",
      "metadata": {
        "execution": {
          "iopub.execute_input": "2021-10-27T05:05:25.024658Z",
          "iopub.status.busy": "2021-10-27T05:05:25.024355Z",
          "iopub.status.idle": "2021-10-27T05:05:25.032091Z",
          "shell.execute_reply": "2021-10-27T05:05:25.031611Z",
          "shell.execute_reply.started": "2021-10-27T05:05:25.024632Z"
        },
        "tags": [],
        "id": "UJkIqNHS2SE0",
        "outputId": "ec54bfb3-b5a1-400f-82fc-e60715c5b633"
      },
      "source": [
        "print(test_data.isnull().sum())"
      ],
      "execution_count": null,
      "outputs": [
        {
          "name": "stdout",
          "output_type": "stream",
          "text": [
            "document    3\n",
            "label       0\n",
            "dtype: int64\n"
          ]
        }
      ]
    },
    {
      "cell_type": "code",
      "metadata": {
        "execution": {
          "iopub.execute_input": "2021-10-27T05:05:25.033156Z",
          "iopub.status.busy": "2021-10-27T05:05:25.032869Z",
          "iopub.status.idle": "2021-10-27T05:05:25.043863Z",
          "shell.execute_reply": "2021-10-27T05:05:25.043154Z",
          "shell.execute_reply.started": "2021-10-27T05:05:25.033131Z"
        },
        "tags": [],
        "id": "1zfCgw2p2SE1",
        "outputId": "05c59a4a-4521-42ff-b782-aeebca196d7a"
      },
      "source": [
        "test_data.loc[test_data.document.isnull()]   # NaN 데이터 발견"
      ],
      "execution_count": null,
      "outputs": [
        {
          "data": {
            "text/html": [
              "<div>\n",
              "<style scoped>\n",
              "    .dataframe tbody tr th:only-of-type {\n",
              "        vertical-align: middle;\n",
              "    }\n",
              "\n",
              "    .dataframe tbody tr th {\n",
              "        vertical-align: top;\n",
              "    }\n",
              "\n",
              "    .dataframe thead th {\n",
              "        text-align: right;\n",
              "    }\n",
              "</style>\n",
              "<table border=\"1\" class=\"dataframe\">\n",
              "  <thead>\n",
              "    <tr style=\"text-align: right;\">\n",
              "      <th></th>\n",
              "      <th>document</th>\n",
              "      <th>label</th>\n",
              "    </tr>\n",
              "  </thead>\n",
              "  <tbody>\n",
              "    <tr>\n",
              "      <th>5746</th>\n",
              "      <td>NaN</td>\n",
              "      <td>1</td>\n",
              "    </tr>\n",
              "    <tr>\n",
              "      <th>7899</th>\n",
              "      <td>NaN</td>\n",
              "      <td>0</td>\n",
              "    </tr>\n",
              "    <tr>\n",
              "      <th>27097</th>\n",
              "      <td>NaN</td>\n",
              "      <td>1</td>\n",
              "    </tr>\n",
              "  </tbody>\n",
              "</table>\n",
              "</div>"
            ],
            "text/plain": [
              "      document  label\n",
              "5746       NaN      1\n",
              "7899       NaN      0\n",
              "27097      NaN      1"
            ]
          },
          "execution_count": 16,
          "metadata": {},
          "output_type": "execute_result"
        }
      ]
    },
    {
      "cell_type": "code",
      "metadata": {
        "execution": {
          "iopub.execute_input": "2021-10-27T05:05:25.044962Z",
          "iopub.status.busy": "2021-10-27T05:05:25.044671Z",
          "iopub.status.idle": "2021-10-27T05:05:25.056709Z",
          "shell.execute_reply": "2021-10-27T05:05:25.056263Z",
          "shell.execute_reply.started": "2021-10-27T05:05:25.044938Z"
        },
        "tags": [],
        "id": "dsY5dyOW2SE2",
        "outputId": "217ed139-1560-4f95-97cd-a420bcbd1312"
      },
      "source": [
        "test_data = test_data.dropna(how = \"any\")\n",
        "print(test_data.isnull().values.any())"
      ],
      "execution_count": null,
      "outputs": [
        {
          "name": "stdout",
          "output_type": "stream",
          "text": [
            "False\n"
          ]
        }
      ]
    },
    {
      "cell_type": "code",
      "metadata": {
        "execution": {
          "iopub.execute_input": "2021-10-27T05:05:25.057738Z",
          "iopub.status.busy": "2021-10-27T05:05:25.057450Z",
          "iopub.status.idle": "2021-10-27T05:05:25.197747Z",
          "shell.execute_reply": "2021-10-27T05:05:25.197257Z",
          "shell.execute_reply.started": "2021-10-27T05:05:25.057714Z"
        },
        "tags": [],
        "id": "tUVL-oxn2SE2",
        "outputId": "3391d6e7-9a59-40d9-933d-abfd5490dfba"
      },
      "source": [
        "test_data.drop_duplicates(subset=['document'], inplace=True)\n",
        "print(\"총 test 데이터의 수:\", len(train_data))\n",
        "\n",
        "test_data['label'].value_counts().plot(kind = 'bar')\n",
        "print(test_data.groupby('label').size().reset_index(name = 'count'))"
      ],
      "execution_count": null,
      "outputs": [
        {
          "name": "stdout",
          "output_type": "stream",
          "text": [
            "총 test 데이터의 수: 145393\n",
            "   label  count\n",
            "0      0  24446\n",
            "1      1  24711\n"
          ]
        },
        {
          "data": {
            "image/png": "[encoded data removed]",
            "text/plain": [
              "<Figure size 432x288 with 1 Axes>"
            ]
          },
          "metadata": {
            "needs_background": "light"
          },
          "output_type": "display_data"
        }
      ]
    },
    {
      "cell_type": "code",
      "metadata": {
        "execution": {
          "iopub.execute_input": "2021-10-27T05:05:25.198886Z",
          "iopub.status.busy": "2021-10-27T05:05:25.198582Z",
          "iopub.status.idle": "2021-10-27T05:05:25.314470Z",
          "shell.execute_reply": "2021-10-27T05:05:25.313983Z",
          "shell.execute_reply.started": "2021-10-27T05:05:25.198860Z"
        },
        "tags": [],
        "id": "gvYakfnI2SE3",
        "outputId": "743612d1-4640-4733-d7ab-818bdb33c7f2"
      },
      "source": [
        "test_data[\"document\"] = test_data[\"document\"].str.replace(\"[^ㄱ-ㅎㅏ-ㅣ가-힣 ]\",\"\")\n",
        "test_data.head(10)"
      ],
      "execution_count": null,
      "outputs": [
        {
          "data": {
            "text/html": [
              "<div>\n",
              "<style scoped>\n",
              "    .dataframe tbody tr th:only-of-type {\n",
              "        vertical-align: middle;\n",
              "    }\n",
              "\n",
              "    .dataframe tbody tr th {\n",
              "        vertical-align: top;\n",
              "    }\n",
              "\n",
              "    .dataframe thead th {\n",
              "        text-align: right;\n",
              "    }\n",
              "</style>\n",
              "<table border=\"1\" class=\"dataframe\">\n",
              "  <thead>\n",
              "    <tr style=\"text-align: right;\">\n",
              "      <th></th>\n",
              "      <th>document</th>\n",
              "      <th>label</th>\n",
              "    </tr>\n",
              "  </thead>\n",
              "  <tbody>\n",
              "    <tr>\n",
              "      <th>0</th>\n",
              "      <td>굳 ㅋ</td>\n",
              "      <td>1</td>\n",
              "    </tr>\n",
              "    <tr>\n",
              "      <th>1</th>\n",
              "      <td></td>\n",
              "      <td>0</td>\n",
              "    </tr>\n",
              "    <tr>\n",
              "      <th>2</th>\n",
              "      <td>뭐야 이 평점들은 나쁘진 않지만 점 짜리는 더더욱 아니잖아</td>\n",
              "      <td>0</td>\n",
              "    </tr>\n",
              "    <tr>\n",
              "      <th>3</th>\n",
              "      <td>지루하지는 않은데 완전 막장임 돈주고 보기에는</td>\n",
              "      <td>0</td>\n",
              "    </tr>\n",
              "    <tr>\n",
              "      <th>4</th>\n",
              "      <td>만 아니었어도 별 다섯 개 줬을텐데 왜 로 나와서 제 심기를 불편하게 하죠</td>\n",
              "      <td>0</td>\n",
              "    </tr>\n",
              "    <tr>\n",
              "      <th>5</th>\n",
              "      <td>음악이 주가 된 최고의 음악영화</td>\n",
              "      <td>1</td>\n",
              "    </tr>\n",
              "    <tr>\n",
              "      <th>6</th>\n",
              "      <td>진정한 쓰레기</td>\n",
              "      <td>0</td>\n",
              "    </tr>\n",
              "    <tr>\n",
              "      <th>7</th>\n",
              "      <td>마치 미국애니에서 튀어나온듯한 창의력없는 로봇디자인부터가고개를 젖게한다</td>\n",
              "      <td>0</td>\n",
              "    </tr>\n",
              "    <tr>\n",
              "      <th>8</th>\n",
              "      <td>갈수록 개판되가는 중국영화 유치하고 내용없음 폼잡다 끝남 말도안되는 무기에 유치한남...</td>\n",
              "      <td>0</td>\n",
              "    </tr>\n",
              "    <tr>\n",
              "      <th>9</th>\n",
              "      <td>이별의 아픔뒤에 찾아오는 새로운 인연의 기쁨  모든 사람이 그렇지는 않네</td>\n",
              "      <td>1</td>\n",
              "    </tr>\n",
              "  </tbody>\n",
              "</table>\n",
              "</div>"
            ],
            "text/plain": [
              "                                            document  label\n",
              "0                                                굳 ㅋ      1\n",
              "1                                                         0\n",
              "2                   뭐야 이 평점들은 나쁘진 않지만 점 짜리는 더더욱 아니잖아      0\n",
              "3                          지루하지는 않은데 완전 막장임 돈주고 보기에는      0\n",
              "4          만 아니었어도 별 다섯 개 줬을텐데 왜 로 나와서 제 심기를 불편하게 하죠      0\n",
              "5                                  음악이 주가 된 최고의 음악영화      1\n",
              "6                                            진정한 쓰레기      0\n",
              "7            마치 미국애니에서 튀어나온듯한 창의력없는 로봇디자인부터가고개를 젖게한다      0\n",
              "8  갈수록 개판되가는 중국영화 유치하고 내용없음 폼잡다 끝남 말도안되는 무기에 유치한남...      0\n",
              "9           이별의 아픔뒤에 찾아오는 새로운 인연의 기쁨  모든 사람이 그렇지는 않네      1"
            ]
          },
          "execution_count": 19,
          "metadata": {},
          "output_type": "execute_result"
        }
      ]
    },
    {
      "cell_type": "code",
      "metadata": {
        "execution": {
          "iopub.execute_input": "2021-10-27T05:05:25.315594Z",
          "iopub.status.busy": "2021-10-27T05:05:25.315298Z",
          "iopub.status.idle": "2021-10-27T05:05:25.395453Z",
          "shell.execute_reply": "2021-10-27T05:05:25.394974Z",
          "shell.execute_reply.started": "2021-10-27T05:05:25.315569Z"
        },
        "tags": [],
        "id": "zNFkWgBS2SE5",
        "outputId": "000aba47-adc2-4aa4-afe4-0df935b50c86"
      },
      "source": [
        "### 빈칸을 NaN으로 변환\n",
        "\n",
        "test_data[\"document\"] = test_data[\"document\"].str.replace(\"^ +\", \"\")\n",
        "test_data[\"document\"].replace(\"\", np.nan, inplace=True)\n",
        "print(test_data.isnull().sum())"
      ],
      "execution_count": null,
      "outputs": [
        {
          "name": "stdout",
          "output_type": "stream",
          "text": [
            "document    305\n",
            "label         0\n",
            "dtype: int64\n"
          ]
        }
      ]
    },
    {
      "cell_type": "code",
      "metadata": {
        "execution": {
          "iopub.execute_input": "2021-10-27T05:05:25.396574Z",
          "iopub.status.busy": "2021-10-27T05:05:25.396271Z",
          "iopub.status.idle": "2021-10-27T05:05:25.408772Z",
          "shell.execute_reply": "2021-10-27T05:05:25.408274Z",
          "shell.execute_reply.started": "2021-10-27T05:05:25.396549Z"
        },
        "tags": [],
        "id": "S8nTMk0f2SE5",
        "outputId": "c32079b8-8de5-4aec-9b80-26a00fdc9790"
      },
      "source": [
        "test_data.loc[test_data.document.isnull()]"
      ],
      "execution_count": null,
      "outputs": [
        {
          "data": {
            "text/html": [
              "<div>\n",
              "<style scoped>\n",
              "    .dataframe tbody tr th:only-of-type {\n",
              "        vertical-align: middle;\n",
              "    }\n",
              "\n",
              "    .dataframe tbody tr th {\n",
              "        vertical-align: top;\n",
              "    }\n",
              "\n",
              "    .dataframe thead th {\n",
              "        text-align: right;\n",
              "    }\n",
              "</style>\n",
              "<table border=\"1\" class=\"dataframe\">\n",
              "  <thead>\n",
              "    <tr style=\"text-align: right;\">\n",
              "      <th></th>\n",
              "      <th>document</th>\n",
              "      <th>label</th>\n",
              "    </tr>\n",
              "  </thead>\n",
              "  <tbody>\n",
              "    <tr>\n",
              "      <th>1</th>\n",
              "      <td>NaN</td>\n",
              "      <td>0</td>\n",
              "    </tr>\n",
              "    <tr>\n",
              "      <th>116</th>\n",
              "      <td>NaN</td>\n",
              "      <td>1</td>\n",
              "    </tr>\n",
              "    <tr>\n",
              "      <th>254</th>\n",
              "      <td>NaN</td>\n",
              "      <td>0</td>\n",
              "    </tr>\n",
              "    <tr>\n",
              "      <th>468</th>\n",
              "      <td>NaN</td>\n",
              "      <td>0</td>\n",
              "    </tr>\n",
              "    <tr>\n",
              "      <th>504</th>\n",
              "      <td>NaN</td>\n",
              "      <td>0</td>\n",
              "    </tr>\n",
              "    <tr>\n",
              "      <th>...</th>\n",
              "      <td>...</td>\n",
              "      <td>...</td>\n",
              "    </tr>\n",
              "    <tr>\n",
              "      <th>49420</th>\n",
              "      <td>NaN</td>\n",
              "      <td>0</td>\n",
              "    </tr>\n",
              "    <tr>\n",
              "      <th>49459</th>\n",
              "      <td>NaN</td>\n",
              "      <td>1</td>\n",
              "    </tr>\n",
              "    <tr>\n",
              "      <th>49803</th>\n",
              "      <td>NaN</td>\n",
              "      <td>1</td>\n",
              "    </tr>\n",
              "    <tr>\n",
              "      <th>49871</th>\n",
              "      <td>NaN</td>\n",
              "      <td>0</td>\n",
              "    </tr>\n",
              "    <tr>\n",
              "      <th>49978</th>\n",
              "      <td>NaN</td>\n",
              "      <td>1</td>\n",
              "    </tr>\n",
              "  </tbody>\n",
              "</table>\n",
              "<p>305 rows × 2 columns</p>\n",
              "</div>"
            ],
            "text/plain": [
              "      document  label\n",
              "1          NaN      0\n",
              "116        NaN      1\n",
              "254        NaN      0\n",
              "468        NaN      0\n",
              "504        NaN      0\n",
              "...        ...    ...\n",
              "49420      NaN      0\n",
              "49459      NaN      1\n",
              "49803      NaN      1\n",
              "49871      NaN      0\n",
              "49978      NaN      1\n",
              "\n",
              "[305 rows x 2 columns]"
            ]
          },
          "execution_count": 21,
          "metadata": {},
          "output_type": "execute_result"
        }
      ]
    },
    {
      "cell_type": "code",
      "metadata": {
        "execution": {
          "iopub.execute_input": "2021-10-27T05:05:25.410081Z",
          "iopub.status.busy": "2021-10-27T05:05:25.409591Z",
          "iopub.status.idle": "2021-10-27T05:05:25.419537Z",
          "shell.execute_reply": "2021-10-27T05:05:25.419108Z",
          "shell.execute_reply.started": "2021-10-27T05:05:25.410055Z"
        },
        "tags": [],
        "id": "c_uTj1eo2SE6",
        "outputId": "dc2fcf57-5fa6-4acc-e2b0-3fcd74e1bf3c"
      },
      "source": [
        "test_data = test_data.dropna(how = 'any')\n",
        "print(\"총 test data의 수:\", len(test_data))"
      ],
      "execution_count": null,
      "outputs": [
        {
          "name": "stdout",
          "output_type": "stream",
          "text": [
            "총 test data의 수: 48852\n"
          ]
        }
      ]
    },
    {
      "cell_type": "markdown",
      "metadata": {
        "id": "5Q2rshvc2SE7"
      },
      "source": [
        "## Tokenization"
      ]
    },
    {
      "cell_type": "code",
      "metadata": {
        "execution": {
          "iopub.execute_input": "2021-10-27T05:05:25.420587Z",
          "iopub.status.busy": "2021-10-27T05:05:25.420297Z",
          "iopub.status.idle": "2021-10-27T05:05:25.423705Z",
          "shell.execute_reply": "2021-10-27T05:05:25.423214Z",
          "shell.execute_reply.started": "2021-10-27T05:05:25.420562Z"
        },
        "tags": [],
        "id": "YEGDrH1k2SE8"
      },
      "source": [
        "stopwords = ['의','가','이','은','들','는','좀','잘','걍','과','도','를','으로','자','에','와','한','하다']"
      ],
      "execution_count": null,
      "outputs": []
    },
    {
      "cell_type": "code",
      "metadata": {
        "execution": {
          "iopub.execute_input": "2021-10-27T05:05:25.424897Z",
          "iopub.status.busy": "2021-10-27T05:05:25.424580Z",
          "iopub.status.idle": "2021-10-27T05:18:21.345178Z",
          "shell.execute_reply": "2021-10-27T05:18:21.344517Z",
          "shell.execute_reply.started": "2021-10-27T05:05:25.424873Z"
        },
        "tags": [],
        "id": "Nl3ZoAlK2SE8",
        "outputId": "15ce6048-b046-48a0-a77b-e8f7ebdd90aa"
      },
      "source": [
        "okt = Okt()\n",
        "\n",
        "X_train = []\n",
        "\n",
        "for sentence in tqdm(train_data[\"document\"]):\n",
        "    \n",
        "    tokenized_sentence = okt.morphs(sentence, stem=True) # 토큰화\n",
        "    stopwords_removed_sentence = [word for word in tokenized_sentence if not word in stopwords] # 불용어 제거\n",
        "    X_train.append(stopwords_removed_sentence)"
      ],
      "execution_count": null,
      "outputs": [
        {
          "name": "stderr",
          "output_type": "stream",
          "text": [
            "100%|██████████| 145393/145393 [12:55<00:00, 187.47it/s]\n"
          ]
        }
      ]
    },
    {
      "cell_type": "code",
      "metadata": {
        "execution": {
          "iopub.execute_input": "2021-10-27T05:18:21.349075Z",
          "iopub.status.busy": "2021-10-27T05:18:21.348851Z",
          "iopub.status.idle": "2021-10-27T05:18:21.352781Z",
          "shell.execute_reply": "2021-10-27T05:18:21.352105Z",
          "shell.execute_reply.started": "2021-10-27T05:18:21.349049Z"
        },
        "tags": [],
        "id": "3D4-HbfJ2SE9",
        "outputId": "d79d588e-35e6-46bf-fd2c-c786213729a5"
      },
      "source": [
        "print(X_train[:10])"
      ],
      "execution_count": null,
      "outputs": [
        {
          "name": "stdout",
          "output_type": "stream",
          "text": [
            "[['아', '더빙', '진짜', '짜증나다', '목소리'], ['흠', '포스터', '보고', '초딩', '영화', '줄', '오버', '연기', '조차', '가볍다', '않다'], ['너', '무재', '밓었', '다그', '래서', '보다', '추천', '다'], ['교도소', '이야기', '구먼', '솔직하다', '재미', '없다', '평점', '조정'], ['사이', '몬페', '그', '익살스럽다', '연기', '돋보이다', '영화', '스파이더맨', '에서', '늙다', '보이다', '커스틴', '던스트', '너무나도', '이쁘다', '보이다'], ['막', '걸음', '마', '떼다', '세', '부터', '초등학교', '학년', '생인', '살다', '영화', 'ㅋㅋㅋ', '별', '반개', '아깝다', '움'], ['원작', '긴장감', '을', '제대로', '살리다'], ['별', '반개', '아깝다', '욕', '나오다', '이응경', '길용우', '연', '기', '생활', '몇', '년', '인지', '정말', '발', '로', '해도', '그것', '보단', '낫다', '납치', '감금', '만', '반복', '반복', '드라마', '가족', '없다', '연기', '못', '사람', '만', '모', '엿', '네'], ['액션', '없다', '재미', '있다', '몇', '안되다', '영화'], ['왜케', '평점', '낮다', '꽤', '볼', '만', '데', '헐리우드', '식', '화려하다', '너무', '길들이다', '있다']]\n"
          ]
        }
      ]
    },
    {
      "cell_type": "code",
      "metadata": {
        "execution": {
          "iopub.execute_input": "2021-10-27T05:18:21.354699Z",
          "iopub.status.busy": "2021-10-27T05:18:21.354504Z",
          "iopub.status.idle": "2021-10-27T05:23:13.660282Z",
          "shell.execute_reply": "2021-10-27T05:23:13.659256Z",
          "shell.execute_reply.started": "2021-10-27T05:18:21.354676Z"
        },
        "tags": [],
        "id": "jEhGk1zr2SE-",
        "outputId": "1a6597eb-f104-40e3-b5c2-52a2d112db9d"
      },
      "source": [
        "X_test = []\n",
        "\n",
        "for sentence in tqdm(test_data[\"document\"]):\n",
        "    \n",
        "    tokenized_sentence = okt.morphs(sentence, stem=True) # 토큰화\n",
        "    stopwords_removed_sentence = [word for word in tokenized_sentence if not word in stopwords] # 불용어 제거\n",
        "    X_test.append(stopwords_removed_sentence)"
      ],
      "execution_count": null,
      "outputs": [
        {
          "name": "stderr",
          "output_type": "stream",
          "text": [
            "100%|██████████| 48852/48852 [04:52<00:00, 167.13it/s]\n"
          ]
        }
      ]
    },
    {
      "cell_type": "code",
      "metadata": {
        "execution": {
          "iopub.execute_input": "2021-10-27T05:23:13.661596Z",
          "iopub.status.busy": "2021-10-27T05:23:13.661376Z",
          "iopub.status.idle": "2021-10-27T05:23:13.667197Z",
          "shell.execute_reply": "2021-10-27T05:23:13.666093Z",
          "shell.execute_reply.started": "2021-10-27T05:23:13.661571Z"
        },
        "tags": [],
        "id": "9ZzWT4PY2SE-",
        "outputId": "41cedbc0-4d56-4eab-fc59-754ebcf7a4aa"
      },
      "source": [
        "print(X_test[:10])"
      ],
      "execution_count": null,
      "outputs": [
        {
          "name": "stdout",
          "output_type": "stream",
          "text": [
            "[['굳다', 'ㅋ'], ['뭐', '야', '평점', '나쁘다', '않다', '점', '짜다', '리', '더', '더욱', '아니다'], ['지루하다', '않다', '완전', '막장', '임', '돈', '주다', '보기', '에는'], ['만', '아니다', '별', '다섯', '개', '주다', '왜', '로', '나오다', '제', '심기', '불편하다'], ['음악', '주가', '되다', '최고', '음악', '영화'], ['진정하다', '쓰레기'], ['마치', '미국', '애니', '에서', '튀어나오다', '창의력', '없다', '로봇', '디자인', '부터가', '고개', '젖다'], ['갈수록', '개판', '되다', '중국영화', '유치하다', '내용', '없다', '폼', '잡다', '끝나다', '말', '안되다', '무기', '유치하다', '남무', '아', '그리다', '동사서독', '같다', '영화', '이건', '류', '아', '류작', '이다'], ['이별', '아픔', '뒤', '찾아오다', '새롭다', '인연', '기쁨', '모든', '사람', '그렇다', '않다'], ['괜찮다', '오랜', '만', '포켓몬스터', '잼밌', '어', '요']]\n"
          ]
        }
      ]
    },
    {
      "cell_type": "markdown",
      "metadata": {
        "id": "ATufwIt92SE_"
      },
      "source": [
        "## Encoding"
      ]
    },
    {
      "cell_type": "code",
      "metadata": {
        "execution": {
          "iopub.execute_input": "2021-10-27T05:23:13.668158Z",
          "iopub.status.busy": "2021-10-27T05:23:13.667962Z",
          "iopub.status.idle": "2021-10-27T05:23:15.258984Z",
          "shell.execute_reply": "2021-10-27T05:23:15.258407Z",
          "shell.execute_reply.started": "2021-10-27T05:23:13.668135Z"
        },
        "tags": [],
        "id": "VdXqvVlY2SFA"
      },
      "source": [
        "tokenizer = Tokenizer()\n",
        "tokenizer.fit_on_texts(X_train)"
      ],
      "execution_count": null,
      "outputs": []
    },
    {
      "cell_type": "code",
      "metadata": {
        "execution": {
          "iopub.execute_input": "2021-10-27T05:23:15.260483Z",
          "iopub.status.busy": "2021-10-27T05:23:15.260102Z",
          "iopub.status.idle": "2021-10-27T05:23:15.263056Z",
          "shell.execute_reply": "2021-10-27T05:23:15.262599Z",
          "shell.execute_reply.started": "2021-10-27T05:23:15.260452Z"
        },
        "tags": [],
        "id": "3LFWXxls2SFA"
      },
      "source": [
        "#print(tokenizer.word_index)"
      ],
      "execution_count": null,
      "outputs": []
    },
    {
      "cell_type": "code",
      "metadata": {
        "execution": {
          "iopub.execute_input": "2021-10-27T05:23:15.264340Z",
          "iopub.status.busy": "2021-10-27T05:23:15.263998Z",
          "iopub.status.idle": "2021-10-27T05:23:15.291214Z",
          "shell.execute_reply": "2021-10-27T05:23:15.290745Z",
          "shell.execute_reply.started": "2021-10-27T05:23:15.264314Z"
        },
        "tags": [],
        "id": "2YelJ1DI2SFB",
        "outputId": "e4f3d467-16c5-4be0-a69c-279b13cf2507"
      },
      "source": [
        "threshold = 3\n",
        "total_cnt = len(tokenizer.word_index) # 단어의 수\n",
        "rare_cnt = 0 # 등장 빈도수가 threshold보다 작은 단어의 개수를 카운트\n",
        "total_freq = 0 # 훈련 데이터의 전체 단어 빈도수 총 합\n",
        "rare_freq = 0 # 등장 빈도수가 threshold보다 작은 단어의 등장 빈도수의 총 합\n",
        "\n",
        "# 단어와 빈도수의 쌍(pair)을 key와 value로 받는다.\n",
        "for key, value in tokenizer.word_counts.items():\n",
        "    total_freq = total_freq + value\n",
        "\n",
        "    # 단어의 등장 빈도수가 threshold보다 작으면\n",
        "    if(value < threshold):\n",
        "        rare_cnt = rare_cnt + 1\n",
        "        rare_freq = rare_freq + value\n",
        "\n",
        "print('단어 집합(vocabulary)의 크기 :',total_cnt)\n",
        "print('등장 빈도가 %s번 이하인 희귀 단어의 수: %s'%(threshold - 1, rare_cnt))\n",
        "print(\"단어 집합에서 희귀 단어의 비율:\", (rare_cnt / total_cnt)*100)\n",
        "print(\"전체 등장 빈도에서 희귀 단어 등장 빈도 비율:\", (rare_freq / total_freq)*100)"
      ],
      "execution_count": null,
      "outputs": [
        {
          "name": "stdout",
          "output_type": "stream",
          "text": [
            "단어 집합(vocabulary)의 크기 : 43752\n",
            "등장 빈도가 2번 이하인 희귀 단어의 수: 24337\n",
            "단어 집합에서 희귀 단어의 비율: 55.62488571950996\n",
            "전체 등장 빈도에서 희귀 단어 등장 빈도 비율: 1.8715872104872904\n"
          ]
        }
      ]
    },
    {
      "cell_type": "code",
      "metadata": {
        "execution": {
          "iopub.execute_input": "2021-10-27T05:23:15.292469Z",
          "iopub.status.busy": "2021-10-27T05:23:15.292112Z",
          "iopub.status.idle": "2021-10-27T05:23:15.295831Z",
          "shell.execute_reply": "2021-10-27T05:23:15.295395Z",
          "shell.execute_reply.started": "2021-10-27T05:23:15.292431Z"
        },
        "tags": [],
        "id": "g4C1nEVD2SFC",
        "outputId": "bf4bf9ab-fa15-41ce-da3c-cc7d753b9603"
      },
      "source": [
        "### 전체 단어 개수 중 빈도수 2이하인 단어는 제거\n",
        "### 0번 패딩 토큰을 고려하여 + 1\n",
        "vocab_size = total_cnt - rare_cnt + 1\n",
        "print('단어 집합의 크기 :',vocab_size)"
      ],
      "execution_count": null,
      "outputs": [
        {
          "name": "stdout",
          "output_type": "stream",
          "text": [
            "단어 집합의 크기 : 19416\n"
          ]
        }
      ]
    },
    {
      "cell_type": "code",
      "metadata": {
        "execution": {
          "iopub.execute_input": "2021-10-27T05:23:15.297069Z",
          "iopub.status.busy": "2021-10-27T05:23:15.296707Z",
          "iopub.status.idle": "2021-10-27T05:23:18.593373Z",
          "shell.execute_reply": "2021-10-27T05:23:18.592734Z",
          "shell.execute_reply.started": "2021-10-27T05:23:15.297042Z"
        },
        "tags": [],
        "id": "q09fl79_2SFC"
      },
      "source": [
        "tokenizer = Tokenizer(vocab_size) \n",
        "tokenizer.fit_on_texts(X_train)\n",
        "\n",
        "X_train = tokenizer.texts_to_sequences(X_train)\n",
        "X_test = tokenizer.texts_to_sequences(X_test)"
      ],
      "execution_count": null,
      "outputs": []
    },
    {
      "cell_type": "code",
      "metadata": {
        "execution": {
          "iopub.execute_input": "2021-10-27T05:23:18.594626Z",
          "iopub.status.busy": "2021-10-27T05:23:18.594415Z",
          "iopub.status.idle": "2021-10-27T05:23:18.598719Z",
          "shell.execute_reply": "2021-10-27T05:23:18.598044Z",
          "shell.execute_reply.started": "2021-10-27T05:23:18.594602Z"
        },
        "tags": [],
        "id": "a6g-wIFH2SFD",
        "outputId": "72297634-827e-4bea-db38-3964a974c365"
      },
      "source": [
        "print(X_train[:10])\n",
        "print(X_test[:10])"
      ],
      "execution_count": null,
      "outputs": [
        {
          "name": "stdout",
          "output_type": "stream",
          "text": [
            "[[50, 454, 16, 260, 659], [933, 457, 41, 602, 1, 214, 1449, 24, 961, 675, 19], [386, 2444, 2315, 5671, 2, 222, 9], [6492, 105, 8118, 218, 56, 4, 26, 3603], [1023, 29, 9145, 24, 833, 1, 2579, 21, 1108, 240, 14243, 1076, 254, 240], [722, 5672, 980, 1387, 427, 143, 1692, 1626, 11560, 225, 1, 92, 126, 1081, 45, 245], [213, 314, 3, 324, 482], [126, 1081, 45, 332, 23, 9786, 14244, 298, 123, 1585, 368, 119, 226, 10, 797, 17, 579, 574, 518, 475, 3117, 8119, 14, 1388, 1388, 37, 285, 4, 24, 35, 40, 14, 703, 1072, 69], [94, 4, 56, 6, 368, 97, 1], [1535, 26, 201, 535, 82, 14, 392, 1439, 361, 666, 8, 5673, 6]]\n",
            "[[746, 88], [59, 162, 26, 428, 19, 20, 295, 880, 46, 785, 18], [65, 19, 86, 337, 109, 104, 62, 149, 275], [14, 18, 126, 2216, 101, 62, 36, 17, 23, 194, 13761, 799], [208, 2918, 11, 28, 208, 1], [658, 67], [1012, 375, 319, 21, 4208, 7284, 4, 1423, 4080, 2088, 4956, 3606], [511, 1175, 11, 2641, 207, 58, 4, 3070, 663, 198, 43, 97, 2210, 207, 50, 384, 15297, 15, 1, 83, 364, 50, 2258, 5], [2645, 1378, 488, 3071, 538, 3018, 3915, 227, 40, 73, 19], [133, 340, 14, 7379, 388, 55]]\n"
          ]
        }
      ]
    },
    {
      "cell_type": "code",
      "metadata": {
        "execution": {
          "iopub.execute_input": "2021-10-27T05:23:18.599693Z",
          "iopub.status.busy": "2021-10-27T05:23:18.599501Z",
          "iopub.status.idle": "2021-10-27T05:23:18.603570Z",
          "shell.execute_reply": "2021-10-27T05:23:18.603009Z",
          "shell.execute_reply.started": "2021-10-27T05:23:18.599671Z"
        },
        "tags": [],
        "id": "MEkHrAas2SFD"
      },
      "source": [
        "y_train = np.array(train_data[\"label\"])\n",
        "y_test = np.array(test_data[\"label\"])"
      ],
      "execution_count": null,
      "outputs": []
    },
    {
      "cell_type": "code",
      "metadata": {
        "execution": {
          "iopub.execute_input": "2021-10-27T05:23:18.604666Z",
          "iopub.status.busy": "2021-10-27T05:23:18.604474Z",
          "iopub.status.idle": "2021-10-27T05:23:18.622162Z",
          "shell.execute_reply": "2021-10-27T05:23:18.621593Z",
          "shell.execute_reply.started": "2021-10-27T05:23:18.604644Z"
        },
        "tags": [],
        "id": "wNwh-5JS2SFD"
      },
      "source": [
        "drop_train = [index for index, sentence in enumerate(X_train) if len(sentence) < 1]"
      ],
      "execution_count": null,
      "outputs": []
    },
    {
      "cell_type": "code",
      "metadata": {
        "execution": {
          "iopub.execute_input": "2021-10-27T05:23:18.623298Z",
          "iopub.status.busy": "2021-10-27T05:23:18.623109Z",
          "iopub.status.idle": "2021-10-27T05:23:18.773587Z",
          "shell.execute_reply": "2021-10-27T05:23:18.772912Z",
          "shell.execute_reply.started": "2021-10-27T05:23:18.623276Z"
        },
        "tags": [],
        "id": "ax7Xusc52SFE",
        "outputId": "ce893a25-c67d-449c-8c87-9a4c37133f6b"
      },
      "source": [
        "X_train = np.delete(X_train, drop_train, axis=0)\n",
        "y_train = np.delete(y_train, drop_train, axis=0)\n",
        "print(len(X_train))\n",
        "print(len(y_train))"
      ],
      "execution_count": null,
      "outputs": [
        {
          "name": "stdout",
          "output_type": "stream",
          "text": [
            "145162\n",
            "145162\n"
          ]
        },
        {
          "name": "stderr",
          "output_type": "stream",
          "text": [
            "/home/ubuntu/anaconda3/envs/psd/lib/python3.6/site-packages/numpy/core/_asarray.py:83: VisibleDeprecationWarning: Creating an ndarray from ragged nested sequences (which is a list-or-tuple of lists-or-tuples-or ndarrays with different lengths or shapes) is deprecated. If you meant to do this, you must specify 'dtype=object' when creating the ndarray\n",
            "  return array(a, dtype, copy=False, order=order)\n"
          ]
        }
      ]
    },
    {
      "cell_type": "markdown",
      "metadata": {
        "id": "JizFr4qg2SFE"
      },
      "source": [
        "## Padding"
      ]
    },
    {
      "cell_type": "code",
      "metadata": {
        "execution": {
          "iopub.execute_input": "2021-10-27T05:23:18.774790Z",
          "iopub.status.busy": "2021-10-27T05:23:18.774578Z",
          "iopub.status.idle": "2021-10-27T05:23:19.739724Z",
          "shell.execute_reply": "2021-10-27T05:23:19.739068Z",
          "shell.execute_reply.started": "2021-10-27T05:23:18.774766Z"
        },
        "tags": [],
        "id": "aQAb9_kj2SFE",
        "outputId": "4d13676e-c59b-4fcb-cc35-da786343f044"
      },
      "source": [
        "print(\"리뷰의 최대 길이:\", max(len(l) for l in X_train))\n",
        "print(\"리뷰의 평균 길이:\", sum(map(len, X_train)) / len(X_train))\n",
        "\n",
        "plt.hist([len(s) for s in X_train], bins=50)\n",
        "plt.xlabel(\"length of samples\")\n",
        "plt.ylabel(\"number of samples\")\n",
        "plt.show()"
      ],
      "execution_count": null,
      "outputs": [
        {
          "name": "stdout",
          "output_type": "stream",
          "text": [
            "리뷰의 최대 길이: 69\n",
            "리뷰의 평균 길이: 10.812485361182679\n"
          ]
        },
        {
          "data": {
            "image/png": "[encoded data removed]",
            "text/plain": [
              "<Figure size 432x288 with 1 Axes>"
            ]
          },
          "metadata": {
            "needs_background": "light"
          },
          "output_type": "display_data"
        }
      ]
    },
    {
      "cell_type": "code",
      "metadata": {
        "execution": {
          "iopub.execute_input": "2021-10-27T05:23:19.740921Z",
          "iopub.status.busy": "2021-10-27T05:23:19.740714Z",
          "iopub.status.idle": "2021-10-27T05:23:19.745154Z",
          "shell.execute_reply": "2021-10-27T05:23:19.744550Z",
          "shell.execute_reply.started": "2021-10-27T05:23:19.740896Z"
        },
        "tags": [],
        "id": "FImormSZ2SFF"
      },
      "source": [
        "def below_threshold_len(max_len, nested_list):\n",
        "    count = 0\n",
        "    \n",
        "    for sentence in nested_list:\n",
        "        if(len(sentence) <= max_len):\n",
        "            count = count + 1\n",
        "            \n",
        "    print(\"전체 샘플 중 길이가 %s 이하인 샘플의 비율: %s\"%(max_len, (count / len(nested_list))*100))"
      ],
      "execution_count": null,
      "outputs": []
    },
    {
      "cell_type": "code",
      "metadata": {
        "execution": {
          "iopub.execute_input": "2021-10-27T05:23:19.746168Z",
          "iopub.status.busy": "2021-10-27T05:23:19.745978Z",
          "iopub.status.idle": "2021-10-27T05:23:19.767377Z",
          "shell.execute_reply": "2021-10-27T05:23:19.766704Z",
          "shell.execute_reply.started": "2021-10-27T05:23:19.746146Z"
        },
        "tags": [],
        "id": "y-6-M6Vt2SFF",
        "outputId": "7f90fe56-a1e8-4340-bb27-8e3b63e5db30"
      },
      "source": [
        "max_len = 42\n",
        "below_threshold_len(max_len, X_train)"
      ],
      "execution_count": null,
      "outputs": [
        {
          "name": "stdout",
          "output_type": "stream",
          "text": [
            "전체 샘플 중 길이가 42 이하인 샘플의 비율: 99.02109367465314\n"
          ]
        }
      ]
    },
    {
      "cell_type": "code",
      "metadata": {
        "execution": {
          "iopub.execute_input": "2021-10-27T05:23:19.768394Z",
          "iopub.status.busy": "2021-10-27T05:23:19.768201Z",
          "iopub.status.idle": "2021-10-27T05:23:20.688395Z",
          "shell.execute_reply": "2021-10-27T05:23:20.687736Z",
          "shell.execute_reply.started": "2021-10-27T05:23:19.768372Z"
        },
        "tags": [],
        "id": "z-mJxkKb2SFG"
      },
      "source": [
        "X_train = pad_sequences(X_train, maxlen = max_len)\n",
        "X_test = pad_sequences(X_test, maxlen = max_len)"
      ],
      "execution_count": null,
      "outputs": []
    },
    {
      "cell_type": "markdown",
      "metadata": {
        "id": "XoUaJKzr2SFG"
      },
      "source": [
        "# Modeling"
      ]
    },
    {
      "cell_type": "code",
      "metadata": {
        "execution": {
          "iopub.execute_input": "2021-10-27T05:23:20.689499Z",
          "iopub.status.busy": "2021-10-27T05:23:20.689307Z",
          "iopub.status.idle": "2021-10-27T05:23:20.692965Z",
          "shell.execute_reply": "2021-10-27T05:23:20.692330Z",
          "shell.execute_reply.started": "2021-10-27T05:23:20.689475Z"
        },
        "tags": [],
        "id": "xF0LJdph2SFG"
      },
      "source": [
        "### Hyperparameter\n",
        "\n",
        "embedding_dim = 128\n",
        "dropout_ratio = (0.5, 0.8)\n",
        "num_filters = 128\n",
        "hidden_units = 128"
      ],
      "execution_count": null,
      "outputs": []
    },
    {
      "cell_type": "code",
      "metadata": {
        "execution": {
          "iopub.execute_input": "2021-10-27T05:23:20.693961Z",
          "iopub.status.busy": "2021-10-27T05:23:20.693773Z",
          "iopub.status.idle": "2021-10-27T05:23:21.327489Z",
          "shell.execute_reply": "2021-10-27T05:23:21.326845Z",
          "shell.execute_reply.started": "2021-10-27T05:23:20.693938Z"
        },
        "tags": [],
        "id": "F9Btwyto2SFH"
      },
      "source": [
        "model_input = Input(shape = (max_len,))\n",
        "\n",
        "z = Embedding(vocab_size, embedding_dim, input_length = max_len, name=\"embedding\")(model_input)\n",
        "z = Dropout(dropout_ratio[0])(z)"
      ],
      "execution_count": null,
      "outputs": []
    },
    {
      "cell_type": "code",
      "metadata": {
        "execution": {
          "iopub.execute_input": "2021-10-27T05:23:21.328651Z",
          "iopub.status.busy": "2021-10-27T05:23:21.328451Z",
          "iopub.status.idle": "2021-10-27T05:23:23.151698Z",
          "shell.execute_reply": "2021-10-27T05:23:23.151084Z",
          "shell.execute_reply.started": "2021-10-27T05:23:21.328626Z"
        },
        "tags": [],
        "id": "AUqqCUc-2SFH"
      },
      "source": [
        "### 구조 상 Embedding 이후 세 갈래로 갈라지는 상황입니다.\n",
        "### 각각의 Conv1D가 수행된 이후 concatenation으로 합쳐집니다.\n",
        "\n",
        "conv_blocks = []\n",
        "\n",
        "for sz in [3, 4, 5]:\n",
        "    conv = Conv1D(filters = num_filters,\n",
        "                         kernel_size = sz,\n",
        "                         padding = \"valid\",\n",
        "                         activation = \"relu\",\n",
        "                         strides = 1)(z)\n",
        "    conv = GlobalMaxPooling1D()(conv)\n",
        "    conv_blocks.append(conv)"
      ],
      "execution_count": null,
      "outputs": []
    },
    {
      "cell_type": "code",
      "metadata": {
        "execution": {
          "iopub.execute_input": "2021-10-27T05:23:23.152894Z",
          "iopub.status.busy": "2021-10-27T05:23:23.152678Z",
          "iopub.status.idle": "2021-10-27T05:23:23.188585Z",
          "shell.execute_reply": "2021-10-27T05:23:23.188103Z",
          "shell.execute_reply.started": "2021-10-27T05:23:23.152869Z"
        },
        "tags": [],
        "id": "VmcYTsID2SFH"
      },
      "source": [
        "z = Concatenate()(conv_blocks) if len(conv_blocks) > 1 else conv_blocks[0]\n",
        "z = Dropout(dropout_ratio[1])(z)\n",
        "z = Dense(hidden_units, activation=\"relu\")(z)\n",
        "\n",
        "model_output = Dense(1, activation=\"sigmoid\")(z)"
      ],
      "execution_count": null,
      "outputs": []
    },
    {
      "cell_type": "code",
      "metadata": {
        "execution": {
          "iopub.execute_input": "2021-10-27T05:23:23.189525Z",
          "iopub.status.busy": "2021-10-27T05:23:23.189331Z",
          "iopub.status.idle": "2021-10-27T05:23:23.214294Z",
          "shell.execute_reply": "2021-10-27T05:23:23.213774Z",
          "shell.execute_reply.started": "2021-10-27T05:23:23.189502Z"
        },
        "tags": [],
        "id": "MCHirGLS2SFI",
        "outputId": "baac79e9-c1cb-40c6-8ac6-e5fd95b7a331"
      },
      "source": [
        "model = Model(model_input, model_output)\n",
        "model.compile(loss=\"binary_crossentropy\", optimizer=\"adam\", metrics=[\"acc\"])\n",
        "\n",
        "model.summary()"
      ],
      "execution_count": null,
      "outputs": [
        {
          "name": "stdout",
          "output_type": "stream",
          "text": [
            "Model: \"model\"\n",
            "__________________________________________________________________________________________________\n",
            "Layer (type)                    Output Shape         Param #     Connected to                     \n",
            "==================================================================================================\n",
            "input_1 (InputLayer)            [(None, 42)]         0                                            \n",
            "__________________________________________________________________________________________________\n",
            "embedding (Embedding)           (None, 42, 128)      2485248     input_1[0][0]                    \n",
            "__________________________________________________________________________________________________\n",
            "dropout (Dropout)               (None, 42, 128)      0           embedding[0][0]                  \n",
            "__________________________________________________________________________________________________\n",
            "conv1d (Conv1D)                 (None, 40, 128)      49280       dropout[0][0]                    \n",
            "__________________________________________________________________________________________________\n",
            "conv1d_1 (Conv1D)               (None, 39, 128)      65664       dropout[0][0]                    \n",
            "__________________________________________________________________________________________________\n",
            "conv1d_2 (Conv1D)               (None, 38, 128)      82048       dropout[0][0]                    \n",
            "__________________________________________________________________________________________________\n",
            "global_max_pooling1d (GlobalMax (None, 128)          0           conv1d[0][0]                     \n",
            "__________________________________________________________________________________________________\n",
            "global_max_pooling1d_1 (GlobalM (None, 128)          0           conv1d_1[0][0]                   \n",
            "__________________________________________________________________________________________________\n",
            "global_max_pooling1d_2 (GlobalM (None, 128)          0           conv1d_2[0][0]                   \n",
            "__________________________________________________________________________________________________\n",
            "concatenate (Concatenate)       (None, 384)          0           global_max_pooling1d[0][0]       \n",
            "                                                                 global_max_pooling1d_1[0][0]     \n",
            "                                                                 global_max_pooling1d_2[0][0]     \n",
            "__________________________________________________________________________________________________\n",
            "dropout_1 (Dropout)             (None, 384)          0           concatenate[0][0]                \n",
            "__________________________________________________________________________________________________\n",
            "dense (Dense)                   (None, 128)          49280       dropout_1[0][0]                  \n",
            "__________________________________________________________________________________________________\n",
            "dense_1 (Dense)                 (None, 1)            129         dense[0][0]                      \n",
            "==================================================================================================\n",
            "Total params: 2,731,649\n",
            "Trainable params: 2,731,649\n",
            "Non-trainable params: 0\n",
            "__________________________________________________________________________________________________\n"
          ]
        }
      ]
    },
    {
      "cell_type": "code",
      "metadata": {
        "execution": {
          "iopub.execute_input": "2021-10-27T05:23:23.215298Z",
          "iopub.status.busy": "2021-10-27T05:23:23.215105Z",
          "iopub.status.idle": "2021-10-27T05:24:16.670396Z",
          "shell.execute_reply": "2021-10-27T05:24:16.669650Z",
          "shell.execute_reply.started": "2021-10-27T05:23:23.215275Z"
        },
        "tags": [],
        "id": "wSlBmmC-2SFI",
        "outputId": "b1511bb1-00fe-4987-c5a3-1164c71641a0"
      },
      "source": [
        "es = EarlyStopping(monitor='val_loss', mode='min', verbose=1, patience=4)\n",
        "mc = ModelCheckpoint('CNN_model.h5', monitor='val_acc', mode='max', verbose=1, save_best_only=True)\n",
        "\n",
        "model.fit(X_train, y_train, batch_size = 256, epochs=15, validation_split = 0.2, verbose=1, callbacks=[es, mc])"
      ],
      "execution_count": null,
      "outputs": [
        {
          "name": "stdout",
          "output_type": "stream",
          "text": [
            "Epoch 1/15\n",
            "454/454 [==============================] - ETA: 0s - loss: 0.4725 - acc: 0.7578\n",
            "Epoch 00001: val_acc improved from -inf to 0.84070, saving model to CNN_model.h5\n",
            "454/454 [==============================] - 9s 19ms/step - loss: 0.4725 - acc: 0.7578 - val_loss: 0.3705 - val_acc: 0.8407\n",
            "Epoch 2/15\n",
            "454/454 [==============================] - ETA: 0s - loss: 0.3532 - acc: 0.8475\n",
            "Epoch 00002: val_acc improved from 0.84070 to 0.84704, saving model to CNN_model.h5\n",
            "454/454 [==============================] - 8s 18ms/step - loss: 0.3532 - acc: 0.8475 - val_loss: 0.3575 - val_acc: 0.8470\n",
            "Epoch 3/15\n",
            "454/454 [==============================] - ETA: 0s - loss: 0.3177 - acc: 0.8668\n",
            "Epoch 00003: val_acc did not improve from 0.84704\n",
            "454/454 [==============================] - 8s 18ms/step - loss: 0.3177 - acc: 0.8668 - val_loss: 0.3579 - val_acc: 0.8455\n",
            "Epoch 4/15\n",
            "454/454 [==============================] - ETA: 0s - loss: 0.2936 - acc: 0.8782\n",
            "Epoch 00004: val_acc did not improve from 0.84704\n",
            "454/454 [==============================] - 8s 17ms/step - loss: 0.2936 - acc: 0.8782 - val_loss: 0.3605 - val_acc: 0.8436\n",
            "Epoch 5/15\n",
            "454/454 [==============================] - ETA: 0s - loss: 0.2723 - acc: 0.8880\n",
            "Epoch 00005: val_acc did not improve from 0.84704\n",
            "454/454 [==============================] - 8s 18ms/step - loss: 0.2723 - acc: 0.8880 - val_loss: 0.3633 - val_acc: 0.8443\n",
            "Epoch 6/15\n",
            "451/454 [============================>.] - ETA: 0s - loss: 0.2545 - acc: 0.8961\n",
            "Epoch 00006: val_acc did not improve from 0.84704\n",
            "454/454 [==============================] - 8s 18ms/step - loss: 0.2546 - acc: 0.8961 - val_loss: 0.3765 - val_acc: 0.8406\n",
            "Epoch 00006: early stopping\n"
          ]
        },
        {
          "data": {
            "text/plain": [
              "<tensorflow.python.keras.callbacks.History at 0x7f18793dca20>"
            ]
          },
          "execution_count": 46,
          "metadata": {},
          "output_type": "execute_result"
        }
      ]
    },
    {
      "cell_type": "code",
      "metadata": {
        "execution": {
          "iopub.execute_input": "2021-10-27T05:24:16.671859Z",
          "iopub.status.busy": "2021-10-27T05:24:16.671634Z",
          "iopub.status.idle": "2021-10-27T05:24:22.033905Z",
          "shell.execute_reply": "2021-10-27T05:24:22.033266Z",
          "shell.execute_reply.started": "2021-10-27T05:24:16.671832Z"
        },
        "tags": [],
        "id": "ZCi5eNeN2SFJ",
        "outputId": "0da94b68-f17c-4a8a-9174-8d2612698f96"
      },
      "source": [
        "loaded_model = load_model('CNN_model.h5')\n",
        "print(\"\\n 테스트 정확도: %.4f\" % (loaded_model.evaluate(X_test, y_test)[1]))"
      ],
      "execution_count": null,
      "outputs": [
        {
          "name": "stdout",
          "output_type": "stream",
          "text": [
            "1527/1527 [==============================] - 4s 2ms/step - loss: 0.3615 - acc: 0.8429\n",
            "\n",
            " 테스트 정확도: 0.8429\n"
          ]
        }
      ]
    },
    {
      "cell_type": "markdown",
      "metadata": {
        "id": "L1K0ErC32SFK"
      },
      "source": [
        "# 2. 의도 분류"
      ]
    },
    {
      "cell_type": "markdown",
      "metadata": {
        "id": "yQsPjYN-2SFK"
      },
      "source": [
        "## Preparing Dataset"
      ]
    },
    {
      "cell_type": "code",
      "metadata": {
        "execution": {
          "iopub.execute_input": "2021-10-27T05:44:28.883990Z",
          "iopub.status.busy": "2021-10-27T05:44:28.883650Z",
          "iopub.status.idle": "2021-10-27T05:44:28.919250Z",
          "shell.execute_reply": "2021-10-27T05:44:28.918558Z",
          "shell.execute_reply.started": "2021-10-27T05:44:28.883960Z"
        },
        "tags": [],
        "id": "5hwGHnKF2SFK"
      },
      "source": [
        "train_data = pd.read_csv(\"dataset/intent_train_data.csv\")\n",
        "test_data = pd.read_csv(\"dataset/intent_test_data.csv\")"
      ],
      "execution_count": null,
      "outputs": []
    },
    {
      "cell_type": "code",
      "metadata": {
        "execution": {
          "iopub.execute_input": "2021-10-27T05:44:35.311811Z",
          "iopub.status.busy": "2021-10-27T05:44:35.311517Z",
          "iopub.status.idle": "2021-10-27T05:44:35.319661Z",
          "shell.execute_reply": "2021-10-27T05:44:35.318961Z",
          "shell.execute_reply.started": "2021-10-27T05:44:35.311783Z"
        },
        "tags": [],
        "id": "codF6i-D2SFL"
      },
      "source": [
        "intent_train = train_data[\"intent\"].tolist()\n",
        "label_train = train_data[\"label\"].tolist()\n",
        "intent_test = test_data[\"intent\"].tolist()\n",
        "label_test = test_data[\"label\"].tolist()"
      ],
      "execution_count": null,
      "outputs": []
    },
    {
      "cell_type": "code",
      "metadata": {
        "execution": {
          "iopub.execute_input": "2021-10-27T05:44:35.533989Z",
          "iopub.status.busy": "2021-10-27T05:44:35.533770Z",
          "iopub.status.idle": "2021-10-27T05:44:35.541485Z",
          "shell.execute_reply": "2021-10-27T05:44:35.540781Z",
          "shell.execute_reply.started": "2021-10-27T05:44:35.533965Z"
        },
        "tags": [],
        "id": "nBlAlutg2SFL",
        "outputId": "a3318340-4d47-4f80-cc88-64595ff25582"
      },
      "source": [
        "print(\"훈련용 문장의 수:\", len(intent_train))\n",
        "print(\"훈련용 레이블의 수:\", len(label_train))\n",
        "print(\"테스트용 문장의 수:\", len(intent_test))\n",
        "print(\"테스트용 레이블의 수:\", len(label_test))"
      ],
      "execution_count": null,
      "outputs": [
        {
          "name": "stdout",
          "output_type": "stream",
          "text": [
            "훈련용 문장의 수: 11784\n",
            "훈련용 레이블의 수: 11784\n",
            "테스트용 문장의 수: 600\n",
            "테스트용 레이블의 수: 600\n"
          ]
        }
      ]
    },
    {
      "cell_type": "code",
      "metadata": {
        "execution": {
          "iopub.execute_input": "2021-10-27T05:44:35.781834Z",
          "iopub.status.busy": "2021-10-27T05:44:35.781622Z",
          "iopub.status.idle": "2021-10-27T05:44:35.787949Z",
          "shell.execute_reply": "2021-10-27T05:44:35.785205Z",
          "shell.execute_reply.started": "2021-10-27T05:44:35.781810Z"
        },
        "tags": [],
        "id": "4Hu7Lp6k2SFL",
        "outputId": "6f53cb98-c2a0-4cb0-c6b0-0141704bf70c"
      },
      "source": [
        "print(intent_train[:5])\n",
        "print(label_train[:5])"
      ],
      "execution_count": null,
      "outputs": [
        {
          "name": "stdout",
          "output_type": "stream",
          "text": [
            "['add another song to the cita rom ntica playlist', 'add clem burke in my playlist pre party r b jams', 'add live from aragon ballroom to trapeo', 'add unite and win to my night out', 'add track to my digster future hits']\n",
            "['AddToPlaylist', 'AddToPlaylist', 'AddToPlaylist', 'AddToPlaylist', 'AddToPlaylist']\n"
          ]
        }
      ]
    },
    {
      "cell_type": "code",
      "metadata": {
        "execution": {
          "iopub.execute_input": "2021-10-27T05:44:35.844897Z",
          "iopub.status.busy": "2021-10-27T05:44:35.844689Z",
          "iopub.status.idle": "2021-10-27T05:44:36.001620Z",
          "shell.execute_reply": "2021-10-27T05:44:36.000851Z",
          "shell.execute_reply.started": "2021-10-27T05:44:35.844875Z"
        },
        "tags": [],
        "id": "UTJ7JTCf2SFM",
        "outputId": "431ed378-3716-4507-fff2-ddc186872a10"
      },
      "source": [
        "train_data['label'].value_counts().plot(kind = 'bar')"
      ],
      "execution_count": null,
      "outputs": [
        {
          "data": {
            "text/plain": [
              "<AxesSubplot:>"
            ]
          },
          "execution_count": 73,
          "metadata": {},
          "output_type": "execute_result"
        },
        {
          "data": {
            "image/png": "[encoded data removed]",
            "text/plain": [
              "<Figure size 432x288 with 1 Axes>"
            ]
          },
          "metadata": {
            "needs_background": "light"
          },
          "output_type": "display_data"
        }
      ]
    },
    {
      "cell_type": "markdown",
      "metadata": {
        "id": "sslCqv7h2SFN"
      },
      "source": [
        "## Encoding"
      ]
    },
    {
      "cell_type": "markdown",
      "metadata": {
        "id": "2g0rKLYx2SFN"
      },
      "source": [
        "### Label Encoding"
      ]
    },
    {
      "cell_type": "code",
      "metadata": {
        "execution": {
          "iopub.execute_input": "2021-10-27T05:44:36.002960Z",
          "iopub.status.busy": "2021-10-27T05:44:36.002750Z",
          "iopub.status.idle": "2021-10-27T05:44:36.020433Z",
          "shell.execute_reply": "2021-10-27T05:44:36.019678Z",
          "shell.execute_reply.started": "2021-10-27T05:44:36.002936Z"
        },
        "tags": [],
        "id": "H0YI145c2SFO",
        "outputId": "1427eb39-333b-410a-b9cb-380e3cfbfa1a"
      },
      "source": [
        "idx_encode = preprocessing.LabelEncoder()   # scikit-learn의 함수\n",
        "idx_encode.fit(label_train)\n",
        "\n",
        "label_train = idx_encode.transform(label_train)\n",
        "label_test = idx_encode.transform(label_test)\n",
        "\n",
        "label_idx = dict(zip(list(idx_encode.classes_), idx_encode.transform(list(idx_encode.classes_))))\n",
        "print(label_idx)"
      ],
      "execution_count": null,
      "outputs": [
        {
          "name": "stdout",
          "output_type": "stream",
          "text": [
            "{'AddToPlaylist': 0, 'BookRestaurant': 1, 'GetWeather': 2, 'RateBook': 3, 'SearchCreativeWork': 4, 'SearchScreeningEvent': 5}\n"
          ]
        }
      ]
    },
    {
      "cell_type": "markdown",
      "metadata": {
        "id": "lXRwie_12SFP"
      },
      "source": [
        "### Sentence Encoding"
      ]
    },
    {
      "cell_type": "code",
      "metadata": {
        "execution": {
          "iopub.execute_input": "2021-10-27T05:44:36.021845Z",
          "iopub.status.busy": "2021-10-27T05:44:36.021639Z",
          "iopub.status.idle": "2021-10-27T05:44:36.345175Z",
          "shell.execute_reply": "2021-10-27T05:44:36.344443Z",
          "shell.execute_reply.started": "2021-10-27T05:44:36.021822Z"
        },
        "tags": [],
        "id": "IRH4lU0i2SFP",
        "outputId": "b5856d60-fc51-48d3-e572-dd52258579c8"
      },
      "source": [
        "tokenizer = Tokenizer()\n",
        "tokenizer.fit_on_texts(intent_train)\n",
        "sequences = tokenizer.texts_to_sequences(intent_train)\n",
        "sequences[:5] # 상위 5개 샘플 출력"
      ],
      "execution_count": null,
      "outputs": [
        {
          "data": {
            "text/plain": [
              "[[11, 191, 61, 4, 1, 4013, 1141, 1572, 15],\n",
              " [11, 2624, 1573, 3, 14, 15, 939, 82, 256, 188, 548],\n",
              " [11, 187, 42, 2625, 4014, 4, 1968],\n",
              " [11, 2626, 22, 2627, 4, 14, 192, 27],\n",
              " [11, 92, 4, 14, 651, 520, 195]]"
            ]
          },
          "execution_count": 75,
          "metadata": {},
          "output_type": "execute_result"
        }
      ]
    },
    {
      "cell_type": "code",
      "metadata": {
        "execution": {
          "iopub.execute_input": "2021-10-27T05:44:36.346578Z",
          "iopub.status.busy": "2021-10-27T05:44:36.346368Z",
          "iopub.status.idle": "2021-10-27T05:44:36.350729Z",
          "shell.execute_reply": "2021-10-27T05:44:36.349937Z",
          "shell.execute_reply.started": "2021-10-27T05:44:36.346554Z"
        },
        "tags": [],
        "id": "uUrm9Uri2SFQ",
        "outputId": "92f03a4d-c55c-462f-f9d1-1f2aa01b5928"
      },
      "source": [
        "word_index = tokenizer.word_index\n",
        "vocab_size = len(word_index) + 1\n",
        "print(\"단어 집합(Vocabulary)의 크기:\", vocab_size)"
      ],
      "execution_count": null,
      "outputs": [
        {
          "name": "stdout",
          "output_type": "stream",
          "text": [
            "단어 집합(Vocabulary)의 크기: 9870\n"
          ]
        }
      ]
    },
    {
      "cell_type": "code",
      "metadata": {
        "execution": {
          "iopub.execute_input": "2021-10-27T05:44:36.352295Z",
          "iopub.status.busy": "2021-10-27T05:44:36.352089Z",
          "iopub.status.idle": "2021-10-27T05:44:36.630446Z",
          "shell.execute_reply": "2021-10-27T05:44:36.629782Z",
          "shell.execute_reply.started": "2021-10-27T05:44:36.352273Z"
        },
        "tags": [],
        "id": "mXN9vBsE2SFR",
        "outputId": "81867bc9-fcde-4992-805f-52ad64883346"
      },
      "source": [
        "print(\"문장의 최대 길이:\", max(len(l) for l in sequences))\n",
        "print(\"문장의 평균 길이:\", sum(map(len, sequences))/len(sequences))\n",
        "\n",
        "plt.hist([len(s) for s in sequences], bins=50)\n",
        "plt.xlabel(\"length of samples\")\n",
        "plt.ylabel(\"number of samples\")\n",
        "plt.show()"
      ],
      "execution_count": null,
      "outputs": [
        {
          "name": "stdout",
          "output_type": "stream",
          "text": [
            "문장의 최대 길이: 35\n",
            "문장의 평균 길이: 9.364392396469789\n"
          ]
        },
        {
          "data": {
            "image/png": "[encoded data removed]",
            "text/plain": [
              "<Figure size 432x288 with 1 Axes>"
            ]
          },
          "metadata": {
            "needs_background": "light"
          },
          "output_type": "display_data"
        }
      ]
    },
    {
      "cell_type": "code",
      "metadata": {
        "execution": {
          "iopub.execute_input": "2021-10-27T05:44:36.631821Z",
          "iopub.status.busy": "2021-10-27T05:44:36.631606Z",
          "iopub.status.idle": "2021-10-27T05:44:36.689397Z",
          "shell.execute_reply": "2021-10-27T05:44:36.688747Z",
          "shell.execute_reply.started": "2021-10-27T05:44:36.631797Z"
        },
        "tags": [],
        "id": "Qjo0A5HB2SFR",
        "outputId": "5c9941aa-e14d-4a33-a817-0fddf1db8ff0"
      },
      "source": [
        "max_len = 35\n",
        "intent_train = pad_sequences(sequences, maxlen = max_len)\n",
        "label_train = to_categorical(np.asarray(label_train))\n",
        "\n",
        "print(\"전체 데이터의 크기(shape):\", intent_train.shape)\n",
        "print(\"레이블 데이터의 크기(shape):\", label_train.shape)"
      ],
      "execution_count": null,
      "outputs": [
        {
          "name": "stdout",
          "output_type": "stream",
          "text": [
            "전체 데이터의 크기(shape): (11784, 35)\n",
            "레이블 데이터의 크기(shape): (11784, 6)\n"
          ]
        }
      ]
    },
    {
      "cell_type": "markdown",
      "metadata": {
        "id": "t_TC8iZj2SFS"
      },
      "source": [
        "## Shuffling"
      ]
    },
    {
      "cell_type": "code",
      "metadata": {
        "execution": {
          "iopub.execute_input": "2021-10-27T05:44:36.690626Z",
          "iopub.status.busy": "2021-10-27T05:44:36.690420Z",
          "iopub.status.idle": "2021-10-27T05:44:36.696111Z",
          "shell.execute_reply": "2021-10-27T05:44:36.695415Z",
          "shell.execute_reply.started": "2021-10-27T05:44:36.690602Z"
        },
        "tags": [],
        "id": "rmaAr_o82SFS"
      },
      "source": [
        "from sklearn.model_selection import train_test_split\n",
        "X_train, X_val, y_train, y_val = train_test_split(intent_train, label_train, test_size=0.1)\n",
        "\n",
        "X_test = intent_test\n",
        "y_test = label_test"
      ],
      "execution_count": null,
      "outputs": []
    },
    {
      "cell_type": "code",
      "metadata": {
        "execution": {
          "iopub.execute_input": "2021-10-27T05:44:36.697169Z",
          "iopub.status.busy": "2021-10-27T05:44:36.696971Z",
          "iopub.status.idle": "2021-10-27T05:44:36.703097Z",
          "shell.execute_reply": "2021-10-27T05:44:36.702421Z",
          "shell.execute_reply.started": "2021-10-27T05:44:36.697147Z"
        },
        "tags": [],
        "id": "eYxRiALw2SFT",
        "outputId": "bee5ea57-333b-449d-9a86-d445d705d432"
      },
      "source": [
        "print(\"훈련 데이터의 크기(shape):\", X_train.shape)\n",
        "print(\"검증 데이터의 크기(shape):\", X_val.shape)\n",
        "print(\"훈련 데이터 레이블의 개수(shape):\", y_train.shape)\n",
        "print(\"검증 데이터 레이블의 개수(shape):\", y_val.shape)\n",
        "print(\"테스트 데이터의 개수:\", len(X_test))\n",
        "print(\"테스트 데이터 레이블의 개수:\", len(y_test))"
      ],
      "execution_count": null,
      "outputs": [
        {
          "name": "stdout",
          "output_type": "stream",
          "text": [
            "훈련 데이터의 크기(shape): (10605, 35)\n",
            "검증 데이터의 크기(shape): (1179, 35)\n",
            "훈련 데이터 레이블의 개수(shape): (10605, 6)\n",
            "검증 데이터 레이블의 개수(shape): (1179, 6)\n",
            "테스트 데이터의 개수: 600\n",
            "테스트 데이터 레이블의 개수: 600\n"
          ]
        }
      ]
    },
    {
      "cell_type": "markdown",
      "metadata": {
        "id": "oQU7R0pj2SFT"
      },
      "source": [
        "## Embedding"
      ]
    },
    {
      "cell_type": "code",
      "metadata": {
        "execution": {
          "iopub.execute_input": "2021-10-27T05:44:36.704067Z",
          "iopub.status.busy": "2021-10-27T05:44:36.703848Z",
          "iopub.status.idle": "2021-10-27T05:44:36.706918Z",
          "shell.execute_reply": "2021-10-27T05:44:36.706188Z",
          "shell.execute_reply.started": "2021-10-27T05:44:36.704045Z"
        },
        "tags": [],
        "id": "D2hLLkg72SFT"
      },
      "source": [
        "#!wget http://nlp.stanford.edu/data/glove.6B.zip\n",
        "#!unzip glove*.zip"
      ],
      "execution_count": null,
      "outputs": []
    },
    {
      "cell_type": "code",
      "metadata": {
        "execution": {
          "iopub.execute_input": "2021-10-27T05:44:36.708776Z",
          "iopub.status.busy": "2021-10-27T05:44:36.708571Z",
          "iopub.status.idle": "2021-10-27T05:44:48.386642Z",
          "shell.execute_reply": "2021-10-27T05:44:48.385799Z",
          "shell.execute_reply.started": "2021-10-27T05:44:36.708754Z"
        },
        "tags": [],
        "id": "zQHAmBBW2SFU",
        "outputId": "a1b2f61b-394c-4173-c45a-f0b56ad2db9f"
      },
      "source": [
        "embedding_dict = dict()\n",
        "\n",
        "f = open(os.path.join(\"dataset/glove.6B.100d.txt\"), encoding=\"utf-8\")\n",
        "\n",
        "for line in f:\n",
        "    word_vector = line.split()\n",
        "    word = word_vector[0]\n",
        "    word_vector_arr = np.asarray(word_vector[1:], dtype=\"float32\") # 100개의 값을 가지는 array로 변환\n",
        "    embedding_dict[word] = word_vector_arr\n",
        "    \n",
        "f.close()\n",
        "\n",
        "print(\"%s개의 Embedding vector가 있습니다.\" % len(embedding_dict))"
      ],
      "execution_count": null,
      "outputs": [
        {
          "name": "stdout",
          "output_type": "stream",
          "text": [
            "400000개의 Embedding vector가 있습니다.\n"
          ]
        }
      ]
    },
    {
      "cell_type": "code",
      "metadata": {
        "execution": {
          "iopub.execute_input": "2021-10-27T05:44:48.388056Z",
          "iopub.status.busy": "2021-10-27T05:44:48.387809Z",
          "iopub.status.idle": "2021-10-27T05:44:48.392440Z",
          "shell.execute_reply": "2021-10-27T05:44:48.391730Z",
          "shell.execute_reply.started": "2021-10-27T05:44:48.388030Z"
        },
        "tags": [],
        "id": "fWHrSwMC2SFU",
        "outputId": "04e33d45-5d24-4edc-8d80-ff501d11e9e6"
      },
      "source": [
        "embedding_dim = 100\n",
        "embedding_matrix = np.zeros((vocab_size, embedding_dim))\n",
        "\n",
        "print(np.shape(embedding_matrix))"
      ],
      "execution_count": null,
      "outputs": [
        {
          "name": "stdout",
          "output_type": "stream",
          "text": [
            "(9870, 100)\n"
          ]
        }
      ]
    },
    {
      "cell_type": "code",
      "metadata": {
        "execution": {
          "iopub.execute_input": "2021-10-27T05:44:48.393503Z",
          "iopub.status.busy": "2021-10-27T05:44:48.393303Z",
          "iopub.status.idle": "2021-10-27T05:44:48.419075Z",
          "shell.execute_reply": "2021-10-27T05:44:48.418419Z",
          "shell.execute_reply.started": "2021-10-27T05:44:48.393480Z"
        },
        "tags": [],
        "id": "pRbptvKG2SFV"
      },
      "source": [
        "for word, i in word_index.items():\n",
        "    embedding_vector = embedding_dict.get(word)\n",
        "    if embedding_vector is not None:\n",
        "        embedding_matrix[i] = embedding_vector"
      ],
      "execution_count": null,
      "outputs": []
    },
    {
      "cell_type": "markdown",
      "metadata": {
        "id": "L3037p_O2SFV"
      },
      "source": [
        "## Modeling"
      ]
    },
    {
      "cell_type": "code",
      "metadata": {
        "execution": {
          "iopub.execute_input": "2021-10-27T05:44:48.420171Z",
          "iopub.status.busy": "2021-10-27T05:44:48.419969Z",
          "iopub.status.idle": "2021-10-27T05:44:48.423636Z",
          "shell.execute_reply": "2021-10-27T05:44:48.422885Z",
          "shell.execute_reply.started": "2021-10-27T05:44:48.420149Z"
        },
        "tags": [],
        "id": "gKaAhd552SFW"
      },
      "source": [
        "from tensorflow.keras.models import Model\n",
        "from tensorflow.keras.layers import Embedding, Dropout, Conv1D, GlobalMaxPooling1D, Dense, Input, Flatten, Concatenate"
      ],
      "execution_count": null,
      "outputs": []
    },
    {
      "cell_type": "code",
      "metadata": {
        "execution": {
          "iopub.execute_input": "2021-10-27T05:44:48.424728Z",
          "iopub.status.busy": "2021-10-27T05:44:48.424531Z",
          "iopub.status.idle": "2021-10-27T05:44:49.216738Z",
          "shell.execute_reply": "2021-10-27T05:44:49.216137Z",
          "shell.execute_reply.started": "2021-10-27T05:44:48.424706Z"
        },
        "tags": [],
        "id": "mjO1d0fv2SFW",
        "outputId": "ac4943ba-ae4e-4460-e39f-8b80b270d4a3"
      },
      "source": [
        "### Hyperparameter\n",
        "\n",
        "embedding_dim = 100\n",
        "dropout_ratio = (0.5, 0.8)\n",
        "num_filters = 128\n",
        "hidden_units = 128\n",
        "\n",
        "kernel_sizes = [2, 3, 5]\n",
        "num_filters = 512\n",
        "dropout_ratio = 0.5\n",
        "\n",
        "model_input = Input(shape=(max_len,))\n",
        "output = Embedding(vocab_size, embedding_dim, weights=[embedding_matrix],\n",
        "                      input_length=max_len, trainable=False)(model_input)\n",
        "\n",
        "conv_blocks = []\n",
        "\n",
        "for size in kernel_sizes:\n",
        "    conv = Conv1D(filters=num_filters,\n",
        "                         kernel_size=size,\n",
        "                         padding=\"valid\",\n",
        "                         activation=\"relu\",\n",
        "                         strides=1)(output)\n",
        "    conv = GlobalMaxPooling1D()(conv)\n",
        "    conv_blocks.append(conv)\n",
        "\n",
        "output = Concatenate()(conv_blocks) if len(conv_blocks) > 1 else conv_blocks[0]\n",
        "output = Dropout(dropout_ratio)(output)\n",
        "model_output = Dense(len(label_idx), activation='softmax')(output)\n",
        "model = Model(model_input, model_output)\n",
        "\n",
        "model.compile(loss='categorical_crossentropy', optimizer='adam', metrics=['acc'])\n",
        "model.summary()"
      ],
      "execution_count": null,
      "outputs": [
        {
          "name": "stdout",
          "output_type": "stream",
          "text": [
            "Model: \"model_1\"\n",
            "__________________________________________________________________________________________________\n",
            "Layer (type)                    Output Shape         Param #     Connected to                     \n",
            "==================================================================================================\n",
            "input_2 (InputLayer)            [(None, 35)]         0                                            \n",
            "__________________________________________________________________________________________________\n",
            "embedding (Embedding)           (None, 35, 100)      987000      input_2[0][0]                    \n",
            "__________________________________________________________________________________________________\n",
            "conv1d_3 (Conv1D)               (None, 34, 512)      102912      embedding[0][0]                  \n",
            "__________________________________________________________________________________________________\n",
            "conv1d_4 (Conv1D)               (None, 33, 512)      154112      embedding[0][0]                  \n",
            "__________________________________________________________________________________________________\n",
            "conv1d_5 (Conv1D)               (None, 31, 512)      256512      embedding[0][0]                  \n",
            "__________________________________________________________________________________________________\n",
            "global_max_pooling1d_3 (GlobalM (None, 512)          0           conv1d_3[0][0]                   \n",
            "__________________________________________________________________________________________________\n",
            "global_max_pooling1d_4 (GlobalM (None, 512)          0           conv1d_4[0][0]                   \n",
            "__________________________________________________________________________________________________\n",
            "global_max_pooling1d_5 (GlobalM (None, 512)          0           conv1d_5[0][0]                   \n",
            "__________________________________________________________________________________________________\n",
            "concatenate_1 (Concatenate)     (None, 1536)         0           global_max_pooling1d_3[0][0]     \n",
            "                                                                 global_max_pooling1d_4[0][0]     \n",
            "                                                                 global_max_pooling1d_5[0][0]     \n",
            "__________________________________________________________________________________________________\n",
            "dropout_2 (Dropout)             (None, 1536)         0           concatenate_1[0][0]              \n",
            "__________________________________________________________________________________________________\n",
            "dense_2 (Dense)                 (None, 6)            9222        dropout_2[0][0]                  \n",
            "==================================================================================================\n",
            "Total params: 1,509,758\n",
            "Trainable params: 522,758\n",
            "Non-trainable params: 987,000\n",
            "__________________________________________________________________________________________________\n"
          ]
        }
      ]
    },
    {
      "cell_type": "code",
      "metadata": {
        "execution": {
          "iopub.execute_input": "2021-10-27T05:44:49.217834Z",
          "iopub.status.busy": "2021-10-27T05:44:49.217621Z",
          "iopub.status.idle": "2021-10-27T05:44:57.210859Z",
          "shell.execute_reply": "2021-10-27T05:44:57.210326Z",
          "shell.execute_reply.started": "2021-10-27T05:44:49.217809Z"
        },
        "tags": [],
        "id": "ZEvD1WEM2SFX",
        "outputId": "362d5966-642d-4557-a23d-f57f80fb4b1e"
      },
      "source": [
        "es = EarlyStopping(monitor='val_loss', mode='min', verbose=1, patience=4)\n",
        "mc = ModelCheckpoint('CNN_model.h5', monitor='val_acc', mode='max', verbose=1, save_best_only=True)\n",
        "\n",
        "model.fit(X_train, y_train, batch_size = 256, epochs=15, validation_split = 0.2, verbose=1, callbacks=[es, mc])"
      ],
      "execution_count": null,
      "outputs": [
        {
          "name": "stdout",
          "output_type": "stream",
          "text": [
            "Epoch 1/15\n",
            "34/34 [==============================] - ETA: 0s - loss: 0.4370 - acc: 0.8601\n",
            "Epoch 00001: val_acc improved from -inf to 0.96935, saving model to CNN_model.h5\n",
            "34/34 [==============================] - 1s 37ms/step - loss: 0.4370 - acc: 0.8601 - val_loss: 0.1073 - val_acc: 0.9694\n",
            "Epoch 2/15\n",
            "30/34 [=========================>....] - ETA: 0s - loss: 0.0887 - acc: 0.9766\n",
            "Epoch 00002: val_acc improved from 0.96935 to 0.97595, saving model to CNN_model.h5\n",
            "34/34 [==============================] - 0s 14ms/step - loss: 0.0869 - acc: 0.9770 - val_loss: 0.0791 - val_acc: 0.9760\n",
            "Epoch 3/15\n",
            "32/34 [===========================>..] - ETA: 0s - loss: 0.0536 - acc: 0.9874\n",
            "Epoch 00003: val_acc improved from 0.97595 to 0.97926, saving model to CNN_model.h5\n",
            "34/34 [==============================] - 0s 12ms/step - loss: 0.0539 - acc: 0.9874 - val_loss: 0.0673 - val_acc: 0.9793\n",
            "Epoch 4/15\n",
            "31/34 [==========================>...] - ETA: 0s - loss: 0.0389 - acc: 0.9907\n",
            "Epoch 00004: val_acc improved from 0.97926 to 0.98067, saving model to CNN_model.h5\n",
            "34/34 [==============================] - 0s 13ms/step - loss: 0.0389 - acc: 0.9907 - val_loss: 0.0611 - val_acc: 0.9807\n",
            "Epoch 5/15\n",
            "29/34 [========================>.....] - ETA: 0s - loss: 0.0291 - acc: 0.9943\n",
            "Epoch 00005: val_acc improved from 0.98067 to 0.98114, saving model to CNN_model.h5\n",
            "34/34 [==============================] - 0s 12ms/step - loss: 0.0286 - acc: 0.9946 - val_loss: 0.0597 - val_acc: 0.9811\n",
            "Epoch 6/15\n",
            "32/34 [===========================>..] - ETA: 0s - loss: 0.0233 - acc: 0.9951\n",
            "Epoch 00006: val_acc did not improve from 0.98114\n",
            "34/34 [==============================] - 0s 10ms/step - loss: 0.0233 - acc: 0.9949 - val_loss: 0.0555 - val_acc: 0.9811\n",
            "Epoch 7/15\n",
            "28/34 [=======================>......] - ETA: 0s - loss: 0.0177 - acc: 0.9976\n",
            "Epoch 00007: val_acc improved from 0.98114 to 0.98161, saving model to CNN_model.h5\n",
            "34/34 [==============================] - 0s 13ms/step - loss: 0.0177 - acc: 0.9973 - val_loss: 0.0561 - val_acc: 0.9816\n",
            "Epoch 8/15\n",
            "29/34 [========================>.....] - ETA: 0s - loss: 0.0154 - acc: 0.9974\n",
            "Epoch 00008: val_acc did not improve from 0.98161\n",
            "34/34 [==============================] - 0s 11ms/step - loss: 0.0150 - acc: 0.9976 - val_loss: 0.0556 - val_acc: 0.9816\n",
            "Epoch 9/15\n",
            "31/34 [==========================>...] - ETA: 0s - loss: 0.0115 - acc: 0.9977\n",
            "Epoch 00009: val_acc improved from 0.98161 to 0.98256, saving model to CNN_model.h5\n",
            "34/34 [==============================] - 0s 11ms/step - loss: 0.0116 - acc: 0.9976 - val_loss: 0.0531 - val_acc: 0.9826\n",
            "Epoch 10/15\n",
            "34/34 [==============================] - ETA: 0s - loss: 0.0082 - acc: 0.9993\n",
            "Epoch 00010: val_acc did not improve from 0.98256\n",
            "34/34 [==============================] - 0s 11ms/step - loss: 0.0082 - acc: 0.9993 - val_loss: 0.0551 - val_acc: 0.9811\n",
            "Epoch 11/15\n",
            "29/34 [========================>.....] - ETA: 0s - loss: 0.0083 - acc: 0.9992\n",
            "Epoch 00011: val_acc did not improve from 0.98256\n",
            "34/34 [==============================] - 0s 10ms/step - loss: 0.0083 - acc: 0.9992 - val_loss: 0.0538 - val_acc: 0.9816\n",
            "Epoch 12/15\n",
            "32/34 [===========================>..] - ETA: 0s - loss: 0.0064 - acc: 0.9993\n",
            "Epoch 00012: val_acc did not improve from 0.98256\n",
            "34/34 [==============================] - 0s 10ms/step - loss: 0.0063 - acc: 0.9993 - val_loss: 0.0525 - val_acc: 0.9811\n",
            "Epoch 13/15\n",
            "31/34 [==========================>...] - ETA: 0s - loss: 0.0056 - acc: 0.9991\n",
            "Epoch 00013: val_acc did not improve from 0.98256\n",
            "34/34 [==============================] - 0s 11ms/step - loss: 0.0056 - acc: 0.9992 - val_loss: 0.0538 - val_acc: 0.9816\n",
            "Epoch 14/15\n",
            "31/34 [==========================>...] - ETA: 0s - loss: 0.0039 - acc: 1.0000\n",
            "Epoch 00014: val_acc did not improve from 0.98256\n",
            "34/34 [==============================] - 0s 10ms/step - loss: 0.0041 - acc: 0.9999 - val_loss: 0.0522 - val_acc: 0.9821\n",
            "Epoch 15/15\n",
            "32/34 [===========================>..] - ETA: 0s - loss: 0.0039 - acc: 0.9995\n",
            "Epoch 00015: val_acc did not improve from 0.98256\n",
            "34/34 [==============================] - 0s 10ms/step - loss: 0.0040 - acc: 0.9995 - val_loss: 0.0538 - val_acc: 0.9821\n"
          ]
        },
        {
          "data": {
            "text/plain": [
              "<tensorflow.python.keras.callbacks.History at 0x7f183dc086a0>"
            ]
          },
          "execution_count": 87,
          "metadata": {},
          "output_type": "execute_result"
        }
      ]
    },
    {
      "cell_type": "code",
      "metadata": {
        "execution": {
          "iopub.execute_input": "2021-10-27T05:44:57.212076Z",
          "iopub.status.busy": "2021-10-27T05:44:57.211836Z",
          "iopub.status.idle": "2021-10-27T05:44:57.695774Z",
          "shell.execute_reply": "2021-10-27T05:44:57.695161Z",
          "shell.execute_reply.started": "2021-10-27T05:44:57.212051Z"
        },
        "tags": [],
        "id": "qFHfc-f42SFY",
        "outputId": "4be1fc65-91ca-43f9-c415-9b5d065a772d"
      },
      "source": [
        "X_test = tokenizer.texts_to_sequences(X_test)\n",
        "X_test = pad_sequences(X_test, maxlen=max_len)\n",
        "\n",
        "y_predicted = model.predict(X_test)\n",
        "y_predicted = y_predicted.argmax(axis=-1) # 예측된 정수 시퀀스로 변환\n",
        "\n",
        "y_predicted = idx_encode.inverse_transform(y_predicted) # 정수 시퀀스를 레이블에 해당하는 텍스트 시퀀스로 변환\n",
        "y_test = idx_encode.inverse_transform(y_test) # 정수 시퀀스를 레이블에 해당하는 텍스트 시퀀스로 변환\n",
        "\n",
        "print(\"accuracy:\", sum(y_predicted == y_test) / len(y_test))\n",
        "print(classification_report(y_test, y_predicted))"
      ],
      "execution_count": null,
      "outputs": [
        {
          "name": "stdout",
          "output_type": "stream",
          "text": [
            "accuracy: 0.9883333333333333\n",
            "                      precision    recall  f1-score   support\n",
            "\n",
            "       AddToPlaylist       1.00      1.00      1.00       100\n",
            "      BookRestaurant       0.99      1.00      1.00       100\n",
            "          GetWeather       0.99      0.99      0.99       100\n",
            "            RateBook       1.00      1.00      1.00       100\n",
            "  SearchCreativeWork       0.95      1.00      0.98       100\n",
            "SearchScreeningEvent       1.00      0.94      0.97       100\n",
            "\n",
            "            accuracy                           0.99       600\n",
            "           macro avg       0.99      0.99      0.99       600\n",
            "        weighted avg       0.99      0.99      0.99       600\n",
            "\n"
          ]
        }
      ]
    }
  ]
}