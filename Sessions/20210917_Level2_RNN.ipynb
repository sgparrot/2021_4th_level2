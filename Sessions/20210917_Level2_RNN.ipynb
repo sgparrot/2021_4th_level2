{
  "nbformat": 4,
  "nbformat_minor": 0,
  "metadata": {
    "colab": {
      "name": "0917_lv2.ipynb",
      "provenance": [],
      "collapsed_sections": []
    },
    "kernelspec": {
      "name": "python3",
      "display_name": "Python 3"
    },
    "language_info": {
      "name": "python"
    }
  },
  "cells": [
    {
      "cell_type": "code",
      "metadata": {
        "id": "lIThfDE8Ohh9"
      },
      "source": [
        "from keras.models import Sequential\n",
        "from keras.layers import SimpleRNN\n",
        "from keras.layers import Dense\n",
        "from tensorflow.keras.layers import Bidirectional"
      ],
      "execution_count": null,
      "outputs": []
    },
    {
      "cell_type": "code",
      "metadata": {
        "colab": {
          "base_uri": "https://localhost:8080/"
        },
        "id": "QeEGb233PX5U",
        "outputId": "3c585990-e902-448a-e4f3-d019b7b9357e"
      },
      "source": [
        "#hidden_size=3\n",
        "model=Sequential()\n",
        "model.add(SimpleRNN(3, input_shape=(2,10)))\n",
        "model.summary()"
      ],
      "execution_count": null,
      "outputs": [
        {
          "output_type": "stream",
          "name": "stdout",
          "text": [
            "Model: \"sequential_2\"\n",
            "_________________________________________________________________\n",
            "Layer (type)                 Output Shape              Param #   \n",
            "=================================================================\n",
            "simple_rnn_2 (SimpleRNN)     (None, 3)                 42        \n",
            "=================================================================\n",
            "Total params: 42\n",
            "Trainable params: 42\n",
            "Non-trainable params: 0\n",
            "_________________________________________________________________\n"
          ]
        }
      ]
    },
    {
      "cell_type": "code",
      "metadata": {
        "colab": {
          "base_uri": "https://localhost:8080/"
        },
        "id": "fzCEDK-hPuCZ",
        "outputId": "12a6c477-521f-439c-847f-46d43cecac3e"
      },
      "source": [
        "#batch size 설정\n",
        "model=Sequential()\n",
        "model.add(SimpleRNN(3, batch_size=8,input_shape=(2,10)))\n",
        "model.summary()"
      ],
      "execution_count": null,
      "outputs": [
        {
          "output_type": "stream",
          "name": "stdout",
          "text": [
            "Model: \"sequential\"\n",
            "_________________________________________________________________\n",
            "Layer (type)                 Output Shape              Param #   \n",
            "=================================================================\n",
            "simple_rnn (SimpleRNN)       (8, 3)                    42        \n",
            "=================================================================\n",
            "Total params: 42\n",
            "Trainable params: 42\n",
            "Non-trainable params: 0\n",
            "_________________________________________________________________\n"
          ]
        }
      ]
    },
    {
      "cell_type": "code",
      "metadata": {
        "colab": {
          "base_uri": "https://localhost:8080/"
        },
        "id": "1cBlnxLCPyoc",
        "outputId": "e9142591-8295-4f60-b1ec-d55423a00e84"
      },
      "source": [
        "#return_sequences=True\n",
        "model=Sequential()\n",
        "model.add(SimpleRNN(3, batch_size=8,input_shape=(2,10),return_sequences=True))\n",
        "model.summary()"
      ],
      "execution_count": null,
      "outputs": [
        {
          "output_type": "stream",
          "name": "stdout",
          "text": [
            "Model: \"sequential_5\"\n",
            "_________________________________________________________________\n",
            "Layer (type)                 Output Shape              Param #   \n",
            "=================================================================\n",
            "simple_rnn_7 (SimpleRNN)     (8, 2, 3)                 42        \n",
            "=================================================================\n",
            "Total params: 42\n",
            "Trainable params: 42\n",
            "Non-trainable params: 0\n",
            "_________________________________________________________________\n"
          ]
        }
      ]
    },
    {
      "cell_type": "code",
      "metadata": {
        "colab": {
          "base_uri": "https://localhost:8080/"
        },
        "id": "pUjHkerwQBzL",
        "outputId": "ad42fda3-9f58-46ce-d1a2-896376ef56d7"
      },
      "source": [
        "#Deep RNN\n",
        "model = Sequential()\n",
        "model.add(SimpleRNN(3,batch_size=8,input_shape=(2,10),return_sequences = True))\n",
        "model.add(SimpleRNN(3,batch_size=8,input_shape=(2,10),return_sequences = True))\n",
        "model.summary()"
      ],
      "execution_count": null,
      "outputs": [
        {
          "output_type": "stream",
          "name": "stdout",
          "text": [
            "Model: \"sequential_10\"\n",
            "_________________________________________________________________\n",
            "Layer (type)                 Output Shape              Param #   \n",
            "=================================================================\n",
            "simple_rnn_16 (SimpleRNN)    (8, 2, 3)                 42        \n",
            "_________________________________________________________________\n",
            "simple_rnn_17 (SimpleRNN)    (8, 2, 3)                 21        \n",
            "=================================================================\n",
            "Total params: 63\n",
            "Trainable params: 63\n",
            "Non-trainable params: 0\n",
            "_________________________________________________________________\n"
          ]
        }
      ]
    },
    {
      "cell_type": "code",
      "metadata": {
        "colab": {
          "base_uri": "https://localhost:8080/"
        },
        "id": "s-TQ9kG7Q0Wr",
        "outputId": "5e733aa3-43c9-4121-a96f-db0d13cd17c8"
      },
      "source": [
        "#Bidirectional RNN\n",
        "model = Sequential()\n",
        "model.add(Bidirectional(SimpleRNN(3, return_sequences = True), \n",
        "                        input_shape=(2, 10)))\n",
        "model.summary()"
      ],
      "execution_count": null,
      "outputs": [
        {
          "output_type": "stream",
          "name": "stdout",
          "text": [
            "Model: \"sequential_13\"\n",
            "_________________________________________________________________\n",
            "Layer (type)                 Output Shape              Param #   \n",
            "=================================================================\n",
            "bidirectional_1 (Bidirection (None, 2, 6)              84        \n",
            "=================================================================\n",
            "Total params: 84\n",
            "Trainable params: 84\n",
            "Non-trainable params: 0\n",
            "_________________________________________________________________\n"
          ]
        }
      ]
    },
    {
      "cell_type": "code",
      "metadata": {
        "id": "pWVZhl5pQ0aK"
      },
      "source": [
        "import numpy as np\n",
        "import tensorflow as tf\n",
        "from tensorflow.keras.layers import SimpleRNN, LSTM, Bidirectional,GRU"
      ],
      "execution_count": null,
      "outputs": []
    },
    {
      "cell_type": "code",
      "metadata": {
        "colab": {
          "base_uri": "https://localhost:8080/"
        },
        "id": "Qvo0ga7ISZAr",
        "outputId": "88f13ef7-b1f4-47c2-9207-5089980a2bd5"
      },
      "source": [
        "train_X = [[[0.1, 4.2, 1.5, 1.1, 2.8], [1.0, 3.1, 2.5, 0.7, 1.1], [0.3, 2.1, 1.5, 2.1, 0.1], [2.2, 1.4, 0.5, 0.9, 1.1]]]\n",
        "train_X = np.array(train_X, dtype=np.float32)\n",
        "print(train_X.shape)"
      ],
      "execution_count": null,
      "outputs": [
        {
          "output_type": "stream",
          "name": "stdout",
          "text": [
            "(1, 4, 5)\n"
          ]
        }
      ]
    },
    {
      "cell_type": "code",
      "metadata": {
        "colab": {
          "base_uri": "https://localhost:8080/"
        },
        "id": "WRD8n_7-SZzd",
        "outputId": "ba7e0544-2666-4267-8c82-465fb17c99ed"
      },
      "source": [
        "#모든 시점의 은닉상태(최종 timestep인 4로 1,4,3 shape이 맞춰짐)\n",
        "#마지막 시점의 은닉상태\n",
        "rnn = SimpleRNN(3, return_sequences=True, return_state=True)\n",
        "hidden_states, last_state = rnn(train_X)\n",
        "print('hidden states : {}, shape: {}'.format(hidden_states, hidden_states.shape))\n",
        "print('last hidden state : {}, shape: {}'.format(last_state, last_state.shape))"
      ],
      "execution_count": null,
      "outputs": [
        {
          "output_type": "stream",
          "name": "stdout",
          "text": [
            "hidden states : [[[ 0.99202687 -0.8905591   0.7390852 ]\n",
            "  [ 0.9817916  -0.7266794   0.5457633 ]\n",
            "  [ 0.69707584 -0.86732656 -0.41346505]\n",
            "  [ 0.9979529   0.04790891  0.8568031 ]]], shape: (1, 4, 3)\n",
            "last hidden state : [[0.9979529  0.04790891 0.8568031 ]], shape: (1, 3)\n"
          ]
        }
      ]
    },
    {
      "cell_type": "code",
      "metadata": {
        "colab": {
          "base_uri": "https://localhost:8080/"
        },
        "id": "SC_Tq-2lS1be",
        "outputId": "28885fd2-f103-49dc-bed9-ff8301e1cd95"
      },
      "source": [
        "lstm = LSTM(3, return_sequences=False, return_state=True)\n",
        "hidden_state, last_state, last_cell_state = lstm(train_X)\n",
        "\n",
        "print('hidden state : {}, shape: {}'.format(hidden_state, hidden_state.shape))\n",
        "print('last hidden state : {}, shape: {}'.format(last_state, last_state.shape))\n",
        "print('last cell state : {}, shape: {}'.format(last_cell_state, last_cell_state.shape))"
      ],
      "execution_count": null,
      "outputs": [
        {
          "output_type": "stream",
          "name": "stdout",
          "text": [
            "hidden state : [[-0.1577847   0.05021674 -0.12941185]], shape: (1, 3)\n",
            "last hidden state : [[-0.1577847   0.05021674 -0.12941185]], shape: (1, 3)\n",
            "last cell state : [[-0.3898736   0.08988121 -0.32986447]], shape: (1, 3)\n"
          ]
        }
      ]
    },
    {
      "cell_type": "code",
      "metadata": {
        "colab": {
          "base_uri": "https://localhost:8080/"
        },
        "id": "Y0Wo3faGVYHO",
        "outputId": "73a60105-7da5-457e-81e9-2106cc312139"
      },
      "source": [
        "k_init = tf.keras.initializers.Constant(value=0.1)\n",
        "b_init = tf.keras.initializers.Constant(value=0)\n",
        "r_init = tf.keras.initializers.Constant(value=0.1)\n",
        "bilstm = Bidirectional(LSTM(3, return_sequences=True, return_state=True, \n",
        "                            kernel_initializer=k_init, \n",
        "                            bias_initializer=b_init, recurrent_initializer=r_init))\n",
        "hidden_states, forward_h, forward_c, backward_h, backward_c = bilstm(train_X)\n",
        "print('hidden states : {}, shape: {}'.format(hidden_states, hidden_states.shape))\n",
        "print('forward state : {}, shape: {}'.format(forward_h, forward_h.shape))\n",
        "print('backward state : {}, shape: {}'.format(backward_h, backward_h.shape))"
      ],
      "execution_count": null,
      "outputs": [
        {
          "output_type": "stream",
          "name": "stdout",
          "text": [
            "hidden states : [[[0.35906473 0.35906473 0.35906473 0.7038734  0.7038734  0.7038734 ]\n",
            "  [0.5511133  0.5511133  0.5511133  0.58863586 0.58863586 0.58863586]\n",
            "  [0.59115744 0.59115744 0.59115744 0.3951699  0.3951699  0.3951699 ]\n",
            "  [0.63031393 0.63031393 0.63031393 0.21942244 0.21942244 0.21942244]]], shape: (1, 4, 6)\n",
            "forward state : [[0.63031393 0.63031393 0.63031393]], shape: (1, 3)\n",
            "backward state : [[0.7038734 0.7038734 0.7038734]], shape: (1, 3)\n"
          ]
        }
      ]
    },
    {
      "cell_type": "code",
      "metadata": {
        "colab": {
          "base_uri": "https://localhost:8080/"
        },
        "id": "yp7b_UJxUuLb",
        "outputId": "e5a39f20-7037-4970-9bde-085eac126529"
      },
      "source": [
        "gru = GRU(3, return_sequences=True, return_state=True)\n",
        "whole_sequence_output, final_state  = gru(train_X)\n",
        "\n",
        "print('whole_sequence_output : {}, shape: {}'.format(whole_sequence_output, whole_sequence_output.shape))\n",
        "print('final state : {}, shape: {}'.format(final_state , final_state .shape))"
      ],
      "execution_count": null,
      "outputs": [
        {
          "output_type": "stream",
          "name": "stdout",
          "text": [
            "whole_sequence_output : [[[-0.05192707 -0.51655644  0.67229193]\n",
            "  [-0.03286002  0.22752218  0.79793173]\n",
            "  [-0.14392087  0.76349324  0.24715751]\n",
            "  [-0.13851903  0.6697672   0.43647963]]], shape: (1, 4, 3)\n",
            "final state : [[-0.13851903  0.6697672   0.43647963]], shape: (1, 3)\n"
          ]
        }
      ]
    },
    {
      "cell_type": "code",
      "metadata": {
        "id": "ue6H-dYhWOR5"
      },
      "source": [
        "from tensorflow.keras.preprocessing.text import Tokenizer\n",
        "from tensorflow.keras.preprocessing.sequence import pad_sequences\n",
        "from tensorflow.keras.models import Sequential\n",
        "from tensorflow.keras.layers import Embedding, Dense, SimpleRNN\n",
        "import numpy as np\n",
        "from tensorflow.keras.utils import to_categorical"
      ],
      "execution_count": null,
      "outputs": []
    },
    {
      "cell_type": "code",
      "metadata": {
        "id": "2dKU16OpWPve"
      },
      "source": [
        "text=\"\"\"경마장에 있는 말이 뛰고 있다\\n\n",
        "그의 말이 법이다\\n\n",
        "가는 말이 고와야 오는 말이 곱다\\n\"\"\"\n",
        "t = Tokenizer()\n",
        "t.fit_on_texts([text])\n",
        "vocab_size = len(t.word_index) + 1\n",
        "sequences = list()\n",
        "for line in text.split('\\n'): # Wn을 기준으로 문장 토큰화\n",
        "    encoded = t.texts_to_sequences([line])[0]\n",
        "    for i in range(1, len(encoded)):\n",
        "        sequence = encoded[:i+1]\n",
        "        sequences.append(sequence)\n",
        "max_len=max(len(l) for l in sequences) # 패딩을 위해 가장 긴 샘플의 길이\n",
        "sequences = pad_sequences(sequences, maxlen=max_len, padding='pre')\n",
        "sequences = np.array(sequences)\n",
        "X = sequences[:,:-1]\n",
        "y = sequences[:,-1] #마지막 단어 레이블화\n",
        "y = to_categorical(y, num_classes=vocab_size)"
      ],
      "execution_count": null,
      "outputs": []
    },
    {
      "cell_type": "code",
      "metadata": {
        "id": "TVgL29UGWtUd"
      },
      "source": [
        "model = Sequential()\n",
        "model.add(Embedding(vocab_size, 10, input_length=max_len-1)) # 레이블을 분리하였으므로 이제 X의 길이는 5\n",
        "model.add(SimpleRNN(32))\n",
        "model.add(Dense(vocab_size, activation='softmax'))\n",
        "model.compile(loss='categorical_crossentropy', optimizer='adam', metrics=['accuracy'])\n",
        "model.fit(X, y, epochs=200, verbose=2)"
      ],
      "execution_count": null,
      "outputs": []
    },
    {
      "cell_type": "markdown",
      "metadata": {
        "id": "u1bxBxpgYxzs"
      },
      "source": [
        ""
      ]
    },
    {
      "cell_type": "code",
      "metadata": {
        "id": "9w8BuYbVWysT"
      },
      "source": [
        "def sentence_generation(model, t, current_word, n): # 모델, 토크나이저, 현재 단어, 반복할 횟수\n",
        "    init_word = current_word # 처음 들어온 단어도 마지막에 같이 출력하기위해 저장\n",
        "    sentence = ''\n",
        "    for _ in range(n): # n번 반복\n",
        "        encoded = t.texts_to_sequences([current_word])[0] # 현재 단어에 대한 정수 인코딩\n",
        "        encoded = pad_sequences([encoded], maxlen=5, padding='pre') # 데이터에 대한 패딩\n",
        "        resulttwo = model.predict(encoded, verbose=0) #predict_classes 없어져서 코드 바꿈\n",
        "        result=np.argmax(resulttwo,axis=1)\n",
        "    # 입력한 X(현재 단어)에 대해서 Y를 예측하고 Y(예측한 단어)를 result에 저장.\n",
        "        for word, index in t.word_index.items(): \n",
        "            if index == result: # 만약 예측한 단어와 인덱스와 동일한 단어가 있다면\n",
        "                break # 해당 단어가 예측 단어이므로 break\n",
        "        current_word = current_word + ' '  + word # 현재 단어 + ' ' + 예측 단어를 현재 단어로 변경\n",
        "        sentence = sentence + ' ' + word # 예측 단어를 문장에 저장\n",
        "    # for문이므로 이 행동을 다시 반복\n",
        "    sentence = init_word + sentence\n",
        "    return sentence"
      ],
      "execution_count": null,
      "outputs": []
    },
    {
      "cell_type": "code",
      "metadata": {
        "colab": {
          "base_uri": "https://localhost:8080/"
        },
        "id": "5WsPJVNIW1Gd",
        "outputId": "7f972e5d-8713-46bf-a9af-0d5664672fab"
      },
      "source": [
        "print(sentence_generation(model, t, '경마장에', 4))"
      ],
      "execution_count": null,
      "outputs": [
        {
          "output_type": "stream",
          "name": "stdout",
          "text": [
            "경마장에 있는 말이 뛰고 있다\n"
          ]
        }
      ]
    },
    {
      "cell_type": "code",
      "metadata": {
        "id": "FuulLm1FYyL_"
      },
      "source": [
        "import pandas as pd\n",
        "from string import punctuation\n",
        "from tensorflow.keras.preprocessing.text import Tokenizer\n",
        "from tensorflow.keras.preprocessing.sequence import pad_sequences\n",
        "import numpy as np\n",
        "from nltk.corpus.reader import PlaintextCorpusReader\n",
        "from nltk.corpus import brown\n",
        "from tensorflow.keras.utils import to_categorical\n",
        "from tensorflow.keras.models import Sequential\n",
        "from tensorflow.keras.layers import Embedding, Dense, LSTM\n",
        "import nltk"
      ],
      "execution_count": null,
      "outputs": []
    },
    {
      "cell_type": "code",
      "metadata": {
        "colab": {
          "base_uri": "https://localhost:8080/"
        },
        "id": "2I3rgmrMY-Lk",
        "outputId": "054a4686-d8a8-4599-d651-adb7d5de30c4"
      },
      "source": [
        "nltk.download('brown')"
      ],
      "execution_count": null,
      "outputs": [
        {
          "output_type": "stream",
          "name": "stdout",
          "text": [
            "[nltk_data] Downloading package brown to /root/nltk_data...\n",
            "[nltk_data]   Unzipping corpora/brown.zip.\n"
          ]
        },
        {
          "output_type": "execute_result",
          "data": {
            "text/plain": [
              "True"
            ]
          },
          "metadata": {},
          "execution_count": 65
        }
      ]
    },
    {
      "cell_type": "code",
      "metadata": {
        "colab": {
          "base_uri": "https://localhost:8080/"
        },
        "id": "fKZkpVeRYytq",
        "outputId": "e9488de6-c5d7-43d2-db1a-049ee95a5a0b"
      },
      "source": [
        "def repreprocessing(s):\n",
        "    s=s.encode(\"utf8\").decode(\"ascii\",'ignore')\n",
        "    return ''.join(c for c in s if c not in punctuation).lower() \n",
        "text=[repreprocessing(z) for z in [(' '.join(x)).replace('  ',' ') for x in brown.sents()[:300]]]\n",
        "text[:5]"
      ],
      "execution_count": null,
      "outputs": [
        {
          "output_type": "execute_result",
          "data": {
            "text/plain": [
              "['the fulton county grand jury said friday an investigation of atlantas recent primary election produced  no evidence  that any irregularities took place ',\n",
              " 'the jury further said in termend presentments that the city executive committee  which had overall charge of the election   deserves the praise and thanks of the city of atlanta  for the manner in which the election was conducted ',\n",
              " 'the septemberoctober term jury had been charged by fulton superior court judge durwood pye to investigate reports of possible  irregularities  in the hardfought primary which was won by mayornominate ivan allen jr ',\n",
              " ' only a relative handful of such reports was received   the jury said   considering the widespread interest in the election  the number of voters and the size of this city  ',\n",
              " 'the jury said it did find that many of georgias registration and election laws  are outmoded or inadequate and often ambiguous  ']"
            ]
          },
          "metadata": {},
          "execution_count": 90
        }
      ]
    },
    {
      "cell_type": "code",
      "metadata": {
        "colab": {
          "base_uri": "https://localhost:8080/"
        },
        "id": "AeDEE512caAX",
        "outputId": "6c87068c-2fd7-4b19-c082-7ea221d97961"
      },
      "source": [
        "t = Tokenizer()\n",
        "t.fit_on_texts(text)\n",
        "vocab_size = len(t.word_index) + 1\n",
        "print('단어 집합의 크기 : %d' % vocab_size)"
      ],
      "execution_count": null,
      "outputs": [
        {
          "output_type": "stream",
          "name": "stdout",
          "text": [
            "단어 집합의 크기 : 1787\n"
          ]
        }
      ]
    },
    {
      "cell_type": "code",
      "metadata": {
        "colab": {
          "base_uri": "https://localhost:8080/"
        },
        "id": "d-aLOLuZcC4L",
        "outputId": "bb1e6a35-cab2-4ec5-e04d-d33a2f2068f0"
      },
      "source": [
        "sequences = list()\n",
        "\n",
        "for line in text: # 1,214 개의 샘플에 대해서 샘플을 1개씩 가져온다.\n",
        "    encoded = t.texts_to_sequences([line])[0] # 각 샘플에 대한 정수 인코딩\n",
        "    for i in range(1, len(encoded)):\n",
        "        sequence = encoded[:i+1]\n",
        "        sequences.append(sequence)\n",
        "sequences[:11]"
      ],
      "execution_count": null,
      "outputs": [
        {
          "output_type": "execute_result",
          "data": {
            "text/plain": [
              "[[1, 49],\n",
              " [1, 49, 25],\n",
              " [1, 49, 25, 108],\n",
              " [1, 49, 25, 108, 23],\n",
              " [1, 49, 25, 108, 23, 8],\n",
              " [1, 49, 25, 108, 23, 8, 215],\n",
              " [1, 49, 25, 108, 23, 8, 215, 30],\n",
              " [1, 49, 25, 108, 23, 8, 215, 30, 292],\n",
              " [1, 49, 25, 108, 23, 8, 215, 30, 292, 2],\n",
              " [1, 49, 25, 108, 23, 8, 215, 30, 292, 2, 410],\n",
              " [1, 49, 25, 108, 23, 8, 215, 30, 292, 2, 410, 717]]"
            ]
          },
          "metadata": {},
          "execution_count": 92
        }
      ]
    },
    {
      "cell_type": "code",
      "metadata": {
        "colab": {
          "base_uri": "https://localhost:8080/"
        },
        "id": "zLYPMITrcy1l",
        "outputId": "4efa85b3-67f3-4e50-89ad-ad946ed95a15"
      },
      "source": [
        "index_to_word={}\n",
        "for key, value in t.word_index.items(): # 인덱스를 단어로 바꾸기 위해 index_to_word를 생성\n",
        "    index_to_word[value] = key\n",
        "\n",
        "print('빈도수 상위 582번 단어 : {}'.format(index_to_word[582]))"
      ],
      "execution_count": null,
      "outputs": [
        {
          "output_type": "stream",
          "name": "stdout",
          "text": [
            "빈도수 상위 582번 단어 : sherman\n"
          ]
        }
      ]
    },
    {
      "cell_type": "code",
      "metadata": {
        "id": "IRPo2qn7pc2-"
      },
      "source": [
        ""
      ],
      "execution_count": null,
      "outputs": []
    },
    {
      "cell_type": "code",
      "metadata": {
        "colab": {
          "base_uri": "https://localhost:8080/"
        },
        "id": "5vXUBd11c1V4",
        "outputId": "74089311-eb15-4d77-8b92-a5622ca342bd"
      },
      "source": [
        "max_len=max(len(l) for l in sequences)\n",
        "print('샘플의 최대 길이 : {}'.format(max_len))\n",
        "sequences = pad_sequences(sequences, maxlen=max_len, padding='pre')\n",
        "sequences = np.array(sequences)\n",
        "X = sequences[:,:-1]\n",
        "y = sequences[:,-1]\n",
        "y = to_categorical(y, num_classes=vocab_size)"
      ],
      "execution_count": null,
      "outputs": [
        {
          "output_type": "stream",
          "name": "stdout",
          "text": [
            "샘플의 최대 길이 : 52\n"
          ]
        }
      ]
    },
    {
      "cell_type": "code",
      "metadata": {
        "id": "JALNPcOzc5yq"
      },
      "source": [
        "model = Sequential()\n",
        "model.add(Embedding(vocab_size, 10, input_length=max_len-1))\n",
        "# y데이터를 분리하였으므로 이제 X데이터의 길이는 기존 데이터의 길이 - 1\n",
        "model.add(LSTM(128))\n",
        "model.add(Dense(vocab_size, activation='softmax'))\n",
        "model.compile(loss='categorical_crossentropy', optimizer='adam', metrics=['accuracy'])\n",
        "model.fit(X, y, epochs=200, verbose=2)"
      ],
      "execution_count": null,
      "outputs": []
    },
    {
      "cell_type": "code",
      "metadata": {
        "colab": {
          "base_uri": "https://localhost:8080/"
        },
        "id": "XonUxDsXeJIj",
        "outputId": "8d6bc21e-4770-4de2-ddd0-cc000669e651"
      },
      "source": [
        "print(sentence_generation(model, t, 'how', 6))"
      ],
      "execution_count": null,
      "outputs": [
        {
          "output_type": "stream",
          "name": "stdout",
          "text": [
            "how generally argued of the fair homes\n"
          ]
        }
      ]
    },
    {
      "cell_type": "code",
      "metadata": {
        "colab": {
          "base_uri": "https://localhost:8080/",
          "height": 376
        },
        "id": "fegfdMtceKyU",
        "outputId": "548fad24-a1fd-42a2-dd0b-aabcdd2f367e"
      },
      "source": [
        "model = Sequential()\n",
        "model.add(Embedding(vocab_size, 10, input_length=max_len-1))\n",
        "# y데이터를 분리하였으므로 이제 X데이터의 길이는 기존 데이터의 길이 - 1\n",
        "model.add(GRU(128))\n",
        "model.add(Dense(vocab_size, activation='softmax'))\n",
        "model.compile(loss='categorical_crossentropy', optimizer='adam', metrics=['accuracy'])\n",
        "model.fit(X, y, epochs=50, verbose=2)"
      ],
      "execution_count": null,
      "outputs": [
        {
          "output_type": "stream",
          "name": "stdout",
          "text": [
            "Epoch 1/50\n"
          ]
        },
        {
          "output_type": "error",
          "ename": "KeyboardInterrupt",
          "evalue": "ignored",
          "traceback": [
            "\u001b[0;31m---------------------------------------------------------------------------\u001b[0m",
            "\u001b[0;31mKeyboardInterrupt\u001b[0m                         Traceback (most recent call last)",
            "\u001b[0;32m<ipython-input-99-967436a71e9d>\u001b[0m in \u001b[0;36m<module>\u001b[0;34m()\u001b[0m\n\u001b[1;32m      5\u001b[0m \u001b[0mmodel\u001b[0m\u001b[0;34m.\u001b[0m\u001b[0madd\u001b[0m\u001b[0;34m(\u001b[0m\u001b[0mDense\u001b[0m\u001b[0;34m(\u001b[0m\u001b[0mvocab_size\u001b[0m\u001b[0;34m,\u001b[0m \u001b[0mactivation\u001b[0m\u001b[0;34m=\u001b[0m\u001b[0;34m'softmax'\u001b[0m\u001b[0;34m)\u001b[0m\u001b[0;34m)\u001b[0m\u001b[0;34m\u001b[0m\u001b[0;34m\u001b[0m\u001b[0m\n\u001b[1;32m      6\u001b[0m \u001b[0mmodel\u001b[0m\u001b[0;34m.\u001b[0m\u001b[0mcompile\u001b[0m\u001b[0;34m(\u001b[0m\u001b[0mloss\u001b[0m\u001b[0;34m=\u001b[0m\u001b[0;34m'categorical_crossentropy'\u001b[0m\u001b[0;34m,\u001b[0m \u001b[0moptimizer\u001b[0m\u001b[0;34m=\u001b[0m\u001b[0;34m'adam'\u001b[0m\u001b[0;34m,\u001b[0m \u001b[0mmetrics\u001b[0m\u001b[0;34m=\u001b[0m\u001b[0;34m[\u001b[0m\u001b[0;34m'accuracy'\u001b[0m\u001b[0;34m]\u001b[0m\u001b[0;34m)\u001b[0m\u001b[0;34m\u001b[0m\u001b[0;34m\u001b[0m\u001b[0m\n\u001b[0;32m----> 7\u001b[0;31m \u001b[0mmodel\u001b[0m\u001b[0;34m.\u001b[0m\u001b[0mfit\u001b[0m\u001b[0;34m(\u001b[0m\u001b[0mX\u001b[0m\u001b[0;34m,\u001b[0m \u001b[0my\u001b[0m\u001b[0;34m,\u001b[0m \u001b[0mepochs\u001b[0m\u001b[0;34m=\u001b[0m\u001b[0;36m50\u001b[0m\u001b[0;34m,\u001b[0m \u001b[0mverbose\u001b[0m\u001b[0;34m=\u001b[0m\u001b[0;36m2\u001b[0m\u001b[0;34m)\u001b[0m\u001b[0;34m\u001b[0m\u001b[0;34m\u001b[0m\u001b[0m\n\u001b[0m",
            "\u001b[0;32m/usr/local/lib/python3.7/dist-packages/keras/engine/training.py\u001b[0m in \u001b[0;36mfit\u001b[0;34m(self, x, y, batch_size, epochs, verbose, callbacks, validation_split, validation_data, shuffle, class_weight, sample_weight, initial_epoch, steps_per_epoch, validation_steps, validation_batch_size, validation_freq, max_queue_size, workers, use_multiprocessing)\u001b[0m\n\u001b[1;32m   1182\u001b[0m                 _r=1):\n\u001b[1;32m   1183\u001b[0m               \u001b[0mcallbacks\u001b[0m\u001b[0;34m.\u001b[0m\u001b[0mon_train_batch_begin\u001b[0m\u001b[0;34m(\u001b[0m\u001b[0mstep\u001b[0m\u001b[0;34m)\u001b[0m\u001b[0;34m\u001b[0m\u001b[0;34m\u001b[0m\u001b[0m\n\u001b[0;32m-> 1184\u001b[0;31m               \u001b[0mtmp_logs\u001b[0m \u001b[0;34m=\u001b[0m \u001b[0mself\u001b[0m\u001b[0;34m.\u001b[0m\u001b[0mtrain_function\u001b[0m\u001b[0;34m(\u001b[0m\u001b[0miterator\u001b[0m\u001b[0;34m)\u001b[0m\u001b[0;34m\u001b[0m\u001b[0;34m\u001b[0m\u001b[0m\n\u001b[0m\u001b[1;32m   1185\u001b[0m               \u001b[0;32mif\u001b[0m \u001b[0mdata_handler\u001b[0m\u001b[0;34m.\u001b[0m\u001b[0mshould_sync\u001b[0m\u001b[0;34m:\u001b[0m\u001b[0;34m\u001b[0m\u001b[0;34m\u001b[0m\u001b[0m\n\u001b[1;32m   1186\u001b[0m                 \u001b[0mcontext\u001b[0m\u001b[0;34m.\u001b[0m\u001b[0masync_wait\u001b[0m\u001b[0;34m(\u001b[0m\u001b[0;34m)\u001b[0m\u001b[0;34m\u001b[0m\u001b[0;34m\u001b[0m\u001b[0m\n",
            "\u001b[0;32m/usr/local/lib/python3.7/dist-packages/tensorflow/python/eager/def_function.py\u001b[0m in \u001b[0;36m__call__\u001b[0;34m(self, *args, **kwds)\u001b[0m\n\u001b[1;32m    883\u001b[0m \u001b[0;34m\u001b[0m\u001b[0m\n\u001b[1;32m    884\u001b[0m       \u001b[0;32mwith\u001b[0m \u001b[0mOptionalXlaContext\u001b[0m\u001b[0;34m(\u001b[0m\u001b[0mself\u001b[0m\u001b[0;34m.\u001b[0m\u001b[0m_jit_compile\u001b[0m\u001b[0;34m)\u001b[0m\u001b[0;34m:\u001b[0m\u001b[0;34m\u001b[0m\u001b[0;34m\u001b[0m\u001b[0m\n\u001b[0;32m--> 885\u001b[0;31m         \u001b[0mresult\u001b[0m \u001b[0;34m=\u001b[0m \u001b[0mself\u001b[0m\u001b[0;34m.\u001b[0m\u001b[0m_call\u001b[0m\u001b[0;34m(\u001b[0m\u001b[0;34m*\u001b[0m\u001b[0margs\u001b[0m\u001b[0;34m,\u001b[0m \u001b[0;34m**\u001b[0m\u001b[0mkwds\u001b[0m\u001b[0;34m)\u001b[0m\u001b[0;34m\u001b[0m\u001b[0;34m\u001b[0m\u001b[0m\n\u001b[0m\u001b[1;32m    886\u001b[0m \u001b[0;34m\u001b[0m\u001b[0m\n\u001b[1;32m    887\u001b[0m       \u001b[0mnew_tracing_count\u001b[0m \u001b[0;34m=\u001b[0m \u001b[0mself\u001b[0m\u001b[0;34m.\u001b[0m\u001b[0mexperimental_get_tracing_count\u001b[0m\u001b[0;34m(\u001b[0m\u001b[0;34m)\u001b[0m\u001b[0;34m\u001b[0m\u001b[0;34m\u001b[0m\u001b[0m\n",
            "\u001b[0;32m/usr/local/lib/python3.7/dist-packages/tensorflow/python/eager/def_function.py\u001b[0m in \u001b[0;36m_call\u001b[0;34m(self, *args, **kwds)\u001b[0m\n\u001b[1;32m    915\u001b[0m       \u001b[0;31m# In this case we have created variables on the first call, so we run the\u001b[0m\u001b[0;34m\u001b[0m\u001b[0;34m\u001b[0m\u001b[0;34m\u001b[0m\u001b[0m\n\u001b[1;32m    916\u001b[0m       \u001b[0;31m# defunned version which is guaranteed to never create variables.\u001b[0m\u001b[0;34m\u001b[0m\u001b[0;34m\u001b[0m\u001b[0;34m\u001b[0m\u001b[0m\n\u001b[0;32m--> 917\u001b[0;31m       \u001b[0;32mreturn\u001b[0m \u001b[0mself\u001b[0m\u001b[0;34m.\u001b[0m\u001b[0m_stateless_fn\u001b[0m\u001b[0;34m(\u001b[0m\u001b[0;34m*\u001b[0m\u001b[0margs\u001b[0m\u001b[0;34m,\u001b[0m \u001b[0;34m**\u001b[0m\u001b[0mkwds\u001b[0m\u001b[0;34m)\u001b[0m  \u001b[0;31m# pylint: disable=not-callable\u001b[0m\u001b[0;34m\u001b[0m\u001b[0;34m\u001b[0m\u001b[0m\n\u001b[0m\u001b[1;32m    918\u001b[0m     \u001b[0;32melif\u001b[0m \u001b[0mself\u001b[0m\u001b[0;34m.\u001b[0m\u001b[0m_stateful_fn\u001b[0m \u001b[0;32mis\u001b[0m \u001b[0;32mnot\u001b[0m \u001b[0;32mNone\u001b[0m\u001b[0;34m:\u001b[0m\u001b[0;34m\u001b[0m\u001b[0;34m\u001b[0m\u001b[0m\n\u001b[1;32m    919\u001b[0m       \u001b[0;31m# Release the lock early so that multiple threads can perform the call\u001b[0m\u001b[0;34m\u001b[0m\u001b[0;34m\u001b[0m\u001b[0;34m\u001b[0m\u001b[0m\n",
            "\u001b[0;32m/usr/local/lib/python3.7/dist-packages/tensorflow/python/eager/function.py\u001b[0m in \u001b[0;36m__call__\u001b[0;34m(self, *args, **kwargs)\u001b[0m\n\u001b[1;32m   3038\u001b[0m        filtered_flat_args) = self._maybe_define_function(args, kwargs)\n\u001b[1;32m   3039\u001b[0m     return graph_function._call_flat(\n\u001b[0;32m-> 3040\u001b[0;31m         filtered_flat_args, captured_inputs=graph_function.captured_inputs)  # pylint: disable=protected-access\n\u001b[0m\u001b[1;32m   3041\u001b[0m \u001b[0;34m\u001b[0m\u001b[0m\n\u001b[1;32m   3042\u001b[0m   \u001b[0;34m@\u001b[0m\u001b[0mproperty\u001b[0m\u001b[0;34m\u001b[0m\u001b[0;34m\u001b[0m\u001b[0m\n",
            "\u001b[0;32m/usr/local/lib/python3.7/dist-packages/tensorflow/python/eager/function.py\u001b[0m in \u001b[0;36m_call_flat\u001b[0;34m(self, args, captured_inputs, cancellation_manager)\u001b[0m\n\u001b[1;32m   1962\u001b[0m       \u001b[0;31m# No tape is watching; skip to running the function.\u001b[0m\u001b[0;34m\u001b[0m\u001b[0;34m\u001b[0m\u001b[0;34m\u001b[0m\u001b[0m\n\u001b[1;32m   1963\u001b[0m       return self._build_call_outputs(self._inference_function.call(\n\u001b[0;32m-> 1964\u001b[0;31m           ctx, args, cancellation_manager=cancellation_manager))\n\u001b[0m\u001b[1;32m   1965\u001b[0m     forward_backward = self._select_forward_and_backward_functions(\n\u001b[1;32m   1966\u001b[0m         \u001b[0margs\u001b[0m\u001b[0;34m,\u001b[0m\u001b[0;34m\u001b[0m\u001b[0;34m\u001b[0m\u001b[0m\n",
            "\u001b[0;32m/usr/local/lib/python3.7/dist-packages/tensorflow/python/eager/function.py\u001b[0m in \u001b[0;36mcall\u001b[0;34m(self, ctx, args, cancellation_manager)\u001b[0m\n\u001b[1;32m    594\u001b[0m               \u001b[0minputs\u001b[0m\u001b[0;34m=\u001b[0m\u001b[0margs\u001b[0m\u001b[0;34m,\u001b[0m\u001b[0;34m\u001b[0m\u001b[0;34m\u001b[0m\u001b[0m\n\u001b[1;32m    595\u001b[0m               \u001b[0mattrs\u001b[0m\u001b[0;34m=\u001b[0m\u001b[0mattrs\u001b[0m\u001b[0;34m,\u001b[0m\u001b[0;34m\u001b[0m\u001b[0;34m\u001b[0m\u001b[0m\n\u001b[0;32m--> 596\u001b[0;31m               ctx=ctx)\n\u001b[0m\u001b[1;32m    597\u001b[0m         \u001b[0;32melse\u001b[0m\u001b[0;34m:\u001b[0m\u001b[0;34m\u001b[0m\u001b[0;34m\u001b[0m\u001b[0m\n\u001b[1;32m    598\u001b[0m           outputs = execute.execute_with_cancellation(\n",
            "\u001b[0;32m/usr/local/lib/python3.7/dist-packages/tensorflow/python/eager/execute.py\u001b[0m in \u001b[0;36mquick_execute\u001b[0;34m(op_name, num_outputs, inputs, attrs, ctx, name)\u001b[0m\n\u001b[1;32m     58\u001b[0m     \u001b[0mctx\u001b[0m\u001b[0;34m.\u001b[0m\u001b[0mensure_initialized\u001b[0m\u001b[0;34m(\u001b[0m\u001b[0;34m)\u001b[0m\u001b[0;34m\u001b[0m\u001b[0;34m\u001b[0m\u001b[0m\n\u001b[1;32m     59\u001b[0m     tensors = pywrap_tfe.TFE_Py_Execute(ctx._handle, device_name, op_name,\n\u001b[0;32m---> 60\u001b[0;31m                                         inputs, attrs, num_outputs)\n\u001b[0m\u001b[1;32m     61\u001b[0m   \u001b[0;32mexcept\u001b[0m \u001b[0mcore\u001b[0m\u001b[0;34m.\u001b[0m\u001b[0m_NotOkStatusException\u001b[0m \u001b[0;32mas\u001b[0m \u001b[0me\u001b[0m\u001b[0;34m:\u001b[0m\u001b[0;34m\u001b[0m\u001b[0;34m\u001b[0m\u001b[0m\n\u001b[1;32m     62\u001b[0m     \u001b[0;32mif\u001b[0m \u001b[0mname\u001b[0m \u001b[0;32mis\u001b[0m \u001b[0;32mnot\u001b[0m \u001b[0;32mNone\u001b[0m\u001b[0;34m:\u001b[0m\u001b[0;34m\u001b[0m\u001b[0;34m\u001b[0m\u001b[0m\n",
            "\u001b[0;31mKeyboardInterrupt\u001b[0m: "
          ]
        }
      ]
    },
    {
      "cell_type": "code",
      "metadata": {
        "colab": {
          "base_uri": "https://localhost:8080/"
        },
        "id": "SfDSt_0Xo4uY",
        "outputId": "057fc4a8-36f5-4b87-8e01-a0a9fefd2c99"
      },
      "source": [
        "text='''Numb and broken, here I stand alone,\n",
        "Wondering what were the last words I said to you.\n",
        "Hoping, praying that I'll find a way to turn back time.\n",
        "Can I turn back time?\n",
        "\n",
        "What would I give to behold the smile, the face of love.\n",
        "You never left me. The rising sun will always speak your name.\n",
        "\n",
        "Numb and broken, here I stand alone,\n",
        "Wondering what were the last words I said to you.\n",
        "It won't be long. We'll meet again.\n",
        "\n",
        "What would I give to behold the smile, the face of love.\n",
        "You never left me. The rising sun will always speak your name.\n",
        "\n",
        "It won't be long, we'll meet again.\n",
        "Your memory is never passing.\n",
        "It won't be long, we'll meet again.\n",
        "My love for you is everlasting.\n",
        "\n",
        "I mourn for those who never knew you.\n",
        "I mourn for those who never knew you.\n",
        "\n",
        "It won't be long, we'll meet again.\n",
        "Your memory is never passing.\n",
        "It won't be long, we'll meet again.\n",
        "My love for you is everlasting.'''\n",
        "tokens = text.split() # '\\n 제거'\n",
        "text = ' '.join(tokens)\n",
        "char_vocab = sorted(list(set(text))) # 중복을 제거한 글자 집합 생성\n",
        "vocab_size=len(char_vocab)\n",
        "char_to_index = dict((c, i) for i, c in enumerate(char_vocab)) # 글자에 고유한 정수 인덱스 부여\n",
        "print(char_to_index)\n",
        "length = 11\n",
        "sequences = []\n",
        "for i in range(length, len(text)):\n",
        "    seq = text[i-length:i] # 길이 11의 문자열을 지속적으로 만든다.\n",
        "    sequences.append(seq)\n",
        "X = []\n",
        "for line in sequences: # 전체 데이터에서 문장 샘플을 1개씩 꺼낸다.\n",
        "    temp_X = [char_to_index[char] for char in line] # 문장 샘플에서 각 글자에 대해서 정수 인코딩을 수행.\n",
        "    X.append(temp_X)\n",
        "sequences = np.array(X)\n",
        "X = sequences[:,:-1]\n",
        "y = sequences[:,-1]\n",
        "sequences = [to_categorical(x, num_classes=vocab_size) for x in X] # X에 대한 원-핫 인코딩\n",
        "X = np.array(sequences)\n",
        "y = to_categorical(y, num_classes=vocab_size)"
      ],
      "execution_count": null,
      "outputs": [
        {
          "output_type": "stream",
          "name": "stdout",
          "text": [
            "{' ': 0, \"'\": 1, ',': 2, '.': 3, '?': 4, 'C': 5, 'H': 6, 'I': 7, 'M': 8, 'N': 9, 'T': 10, 'W': 11, 'Y': 12, 'a': 13, 'b': 14, 'c': 15, 'd': 16, 'e': 17, 'f': 18, 'g': 19, 'h': 20, 'i': 21, 'k': 22, 'l': 23, 'm': 24, 'n': 25, 'o': 26, 'p': 27, 'r': 28, 's': 29, 't': 30, 'u': 31, 'v': 32, 'w': 33, 'y': 34}\n"
          ]
        }
      ]
    },
    {
      "cell_type": "code",
      "metadata": {
        "id": "hMlup_wvpdei"
      },
      "source": [
        "from tensorflow.keras.models import Sequential\n",
        "from tensorflow.keras.layers import Dense, LSTM\n",
        "from tensorflow.keras.preprocessing.sequence import pad_sequences"
      ],
      "execution_count": null,
      "outputs": []
    },
    {
      "cell_type": "code",
      "metadata": {
        "colab": {
          "base_uri": "https://localhost:8080/"
        },
        "id": "G5grdO69pfn3",
        "outputId": "f7dd0532-0c41-4d1f-de10-62328bda6ad3"
      },
      "source": [
        "model = Sequential()\n",
        "model.add(LSTM(80, input_shape=(X.shape[1], X.shape[2])))\n",
        "model.add(Dense(vocab_size, activation='softmax'))\n",
        "model.compile(loss='categorical_crossentropy', optimizer='adam', metrics=['accuracy'])\n",
        "model.fit(X, y, epochs=150, verbose=2)"
      ],
      "execution_count": null,
      "outputs": [
        {
          "output_type": "stream",
          "name": "stdout",
          "text": [
            "Epoch 1/150\n",
            "27/27 - 2s - loss: 3.4666 - accuracy: 0.1151\n",
            "Epoch 2/150\n",
            "27/27 - 0s - loss: 3.0824 - accuracy: 0.1953\n",
            "Epoch 3/150\n",
            "27/27 - 0s - loss: 2.9932 - accuracy: 0.1953\n",
            "Epoch 4/150\n",
            "27/27 - 0s - loss: 2.9618 - accuracy: 0.1953\n",
            "Epoch 5/150\n",
            "27/27 - 0s - loss: 2.9436 - accuracy: 0.1953\n",
            "Epoch 6/150\n",
            "27/27 - 0s - loss: 2.9079 - accuracy: 0.1977\n",
            "Epoch 7/150\n",
            "27/27 - 0s - loss: 2.8482 - accuracy: 0.2267\n",
            "Epoch 8/150\n",
            "27/27 - 0s - loss: 2.7734 - accuracy: 0.2198\n",
            "Epoch 9/150\n",
            "27/27 - 0s - loss: 2.7019 - accuracy: 0.2419\n",
            "Epoch 10/150\n",
            "27/27 - 0s - loss: 2.6138 - accuracy: 0.2651\n",
            "Epoch 11/150\n",
            "27/27 - 0s - loss: 2.5405 - accuracy: 0.2826\n",
            "Epoch 12/150\n",
            "27/27 - 0s - loss: 2.4591 - accuracy: 0.3012\n",
            "Epoch 13/150\n",
            "27/27 - 0s - loss: 2.3632 - accuracy: 0.3407\n",
            "Epoch 14/150\n",
            "27/27 - 0s - loss: 2.2926 - accuracy: 0.3523\n",
            "Epoch 15/150\n",
            "27/27 - 0s - loss: 2.2052 - accuracy: 0.3791\n",
            "Epoch 16/150\n",
            "27/27 - 0s - loss: 2.1209 - accuracy: 0.4000\n",
            "Epoch 17/150\n",
            "27/27 - 0s - loss: 2.0462 - accuracy: 0.4174\n",
            "Epoch 18/150\n",
            "27/27 - 0s - loss: 1.9498 - accuracy: 0.4674\n",
            "Epoch 19/150\n",
            "27/27 - 0s - loss: 1.8643 - accuracy: 0.4826\n",
            "Epoch 20/150\n",
            "27/27 - 0s - loss: 1.7771 - accuracy: 0.5047\n",
            "Epoch 21/150\n",
            "27/27 - 0s - loss: 1.7015 - accuracy: 0.5442\n",
            "Epoch 22/150\n",
            "27/27 - 0s - loss: 1.6115 - accuracy: 0.5640\n",
            "Epoch 23/150\n",
            "27/27 - 0s - loss: 1.5222 - accuracy: 0.5977\n",
            "Epoch 24/150\n",
            "27/27 - 0s - loss: 1.4598 - accuracy: 0.6093\n",
            "Epoch 25/150\n",
            "27/27 - 0s - loss: 1.3763 - accuracy: 0.6360\n",
            "Epoch 26/150\n",
            "27/27 - 0s - loss: 1.2973 - accuracy: 0.6767\n",
            "Epoch 27/150\n",
            "27/27 - 0s - loss: 1.2453 - accuracy: 0.6919\n",
            "Epoch 28/150\n",
            "27/27 - 0s - loss: 1.1514 - accuracy: 0.7105\n",
            "Epoch 29/150\n",
            "27/27 - 0s - loss: 1.1005 - accuracy: 0.7267\n",
            "Epoch 30/150\n",
            "27/27 - 0s - loss: 1.0424 - accuracy: 0.7465\n",
            "Epoch 31/150\n",
            "27/27 - 0s - loss: 0.9638 - accuracy: 0.7826\n",
            "Epoch 32/150\n",
            "27/27 - 0s - loss: 0.9062 - accuracy: 0.8093\n",
            "Epoch 33/150\n",
            "27/27 - 0s - loss: 0.8546 - accuracy: 0.8116\n",
            "Epoch 34/150\n",
            "27/27 - 0s - loss: 0.8021 - accuracy: 0.8465\n",
            "Epoch 35/150\n",
            "27/27 - 0s - loss: 0.7434 - accuracy: 0.8674\n",
            "Epoch 36/150\n",
            "27/27 - 0s - loss: 0.6976 - accuracy: 0.8756\n",
            "Epoch 37/150\n",
            "27/27 - 0s - loss: 0.6624 - accuracy: 0.8884\n",
            "Epoch 38/150\n",
            "27/27 - 0s - loss: 0.5992 - accuracy: 0.9012\n",
            "Epoch 39/150\n",
            "27/27 - 0s - loss: 0.5756 - accuracy: 0.8988\n",
            "Epoch 40/150\n",
            "27/27 - 0s - loss: 0.5210 - accuracy: 0.9302\n",
            "Epoch 41/150\n",
            "27/27 - 0s - loss: 0.4857 - accuracy: 0.9256\n",
            "Epoch 42/150\n",
            "27/27 - 0s - loss: 0.4525 - accuracy: 0.9360\n",
            "Epoch 43/150\n",
            "27/27 - 0s - loss: 0.4147 - accuracy: 0.9488\n",
            "Epoch 44/150\n",
            "27/27 - 0s - loss: 0.3809 - accuracy: 0.9547\n",
            "Epoch 45/150\n",
            "27/27 - 0s - loss: 0.3554 - accuracy: 0.9593\n",
            "Epoch 46/150\n",
            "27/27 - 0s - loss: 0.3377 - accuracy: 0.9547\n",
            "Epoch 47/150\n",
            "27/27 - 0s - loss: 0.3128 - accuracy: 0.9628\n",
            "Epoch 48/150\n",
            "27/27 - 0s - loss: 0.2933 - accuracy: 0.9674\n",
            "Epoch 49/150\n",
            "27/27 - 0s - loss: 0.2702 - accuracy: 0.9628\n",
            "Epoch 50/150\n",
            "27/27 - 0s - loss: 0.2527 - accuracy: 0.9733\n",
            "Epoch 51/150\n",
            "27/27 - 0s - loss: 0.2373 - accuracy: 0.9779\n",
            "Epoch 52/150\n",
            "27/27 - 0s - loss: 0.2197 - accuracy: 0.9709\n",
            "Epoch 53/150\n",
            "27/27 - 0s - loss: 0.2104 - accuracy: 0.9814\n",
            "Epoch 54/150\n",
            "27/27 - 0s - loss: 0.1970 - accuracy: 0.9767\n",
            "Epoch 55/150\n",
            "27/27 - 0s - loss: 0.1851 - accuracy: 0.9756\n",
            "Epoch 56/150\n",
            "27/27 - 0s - loss: 0.1760 - accuracy: 0.9779\n",
            "Epoch 57/150\n",
            "27/27 - 0s - loss: 0.1660 - accuracy: 0.9826\n",
            "Epoch 58/150\n",
            "27/27 - 0s - loss: 0.1603 - accuracy: 0.9779\n",
            "Epoch 59/150\n",
            "27/27 - 0s - loss: 0.1486 - accuracy: 0.9826\n",
            "Epoch 60/150\n",
            "27/27 - 0s - loss: 0.1396 - accuracy: 0.9860\n",
            "Epoch 61/150\n",
            "27/27 - 0s - loss: 0.1355 - accuracy: 0.9826\n",
            "Epoch 62/150\n",
            "27/27 - 0s - loss: 0.1262 - accuracy: 0.9884\n",
            "Epoch 63/150\n",
            "27/27 - 0s - loss: 0.1202 - accuracy: 0.9860\n",
            "Epoch 64/150\n",
            "27/27 - 0s - loss: 0.1146 - accuracy: 0.9872\n",
            "Epoch 65/150\n",
            "27/27 - 0s - loss: 0.1082 - accuracy: 0.9872\n",
            "Epoch 66/150\n",
            "27/27 - 0s - loss: 0.1046 - accuracy: 0.9860\n",
            "Epoch 67/150\n",
            "27/27 - 0s - loss: 0.1023 - accuracy: 0.9860\n",
            "Epoch 68/150\n",
            "27/27 - 0s - loss: 0.0961 - accuracy: 0.9849\n",
            "Epoch 69/150\n",
            "27/27 - 0s - loss: 0.0921 - accuracy: 0.9849\n",
            "Epoch 70/150\n",
            "27/27 - 0s - loss: 0.0870 - accuracy: 0.9884\n",
            "Epoch 71/150\n",
            "27/27 - 0s - loss: 0.0872 - accuracy: 0.9884\n",
            "Epoch 72/150\n",
            "27/27 - 0s - loss: 0.0842 - accuracy: 0.9884\n",
            "Epoch 73/150\n",
            "27/27 - 0s - loss: 0.0843 - accuracy: 0.9860\n",
            "Epoch 74/150\n",
            "27/27 - 0s - loss: 0.0789 - accuracy: 0.9872\n",
            "Epoch 75/150\n",
            "27/27 - 0s - loss: 0.0748 - accuracy: 0.9872\n",
            "Epoch 76/150\n",
            "27/27 - 0s - loss: 0.0716 - accuracy: 0.9884\n",
            "Epoch 77/150\n",
            "27/27 - 0s - loss: 0.0727 - accuracy: 0.9849\n",
            "Epoch 78/150\n",
            "27/27 - 0s - loss: 0.0673 - accuracy: 0.9872\n",
            "Epoch 79/150\n",
            "27/27 - 0s - loss: 0.0645 - accuracy: 0.9884\n",
            "Epoch 80/150\n",
            "27/27 - 0s - loss: 0.0639 - accuracy: 0.9872\n",
            "Epoch 81/150\n",
            "27/27 - 0s - loss: 0.0615 - accuracy: 0.9895\n",
            "Epoch 82/150\n",
            "27/27 - 0s - loss: 0.0606 - accuracy: 0.9860\n",
            "Epoch 83/150\n",
            "27/27 - 0s - loss: 0.0594 - accuracy: 0.9837\n",
            "Epoch 84/150\n",
            "27/27 - 0s - loss: 0.0575 - accuracy: 0.9872\n",
            "Epoch 85/150\n",
            "27/27 - 0s - loss: 0.0547 - accuracy: 0.9884\n",
            "Epoch 86/150\n",
            "27/27 - 0s - loss: 0.0547 - accuracy: 0.9860\n",
            "Epoch 87/150\n",
            "27/27 - 0s - loss: 0.0826 - accuracy: 0.9849\n",
            "Epoch 88/150\n",
            "27/27 - 0s - loss: 0.0605 - accuracy: 0.9860\n",
            "Epoch 89/150\n",
            "27/27 - 0s - loss: 0.0588 - accuracy: 0.9895\n",
            "Epoch 90/150\n",
            "27/27 - 0s - loss: 0.0519 - accuracy: 0.9895\n",
            "Epoch 91/150\n",
            "27/27 - 0s - loss: 0.0492 - accuracy: 0.9884\n",
            "Epoch 92/150\n",
            "27/27 - 0s - loss: 0.0487 - accuracy: 0.9860\n",
            "Epoch 93/150\n",
            "27/27 - 0s - loss: 0.0478 - accuracy: 0.9895\n",
            "Epoch 94/150\n",
            "27/27 - 0s - loss: 0.0448 - accuracy: 0.9860\n",
            "Epoch 95/150\n",
            "27/27 - 0s - loss: 0.0456 - accuracy: 0.9872\n",
            "Epoch 96/150\n",
            "27/27 - 0s - loss: 0.0449 - accuracy: 0.9895\n",
            "Epoch 97/150\n",
            "27/27 - 0s - loss: 0.0441 - accuracy: 0.9860\n",
            "Epoch 98/150\n",
            "27/27 - 0s - loss: 0.0439 - accuracy: 0.9872\n",
            "Epoch 99/150\n",
            "27/27 - 0s - loss: 0.0507 - accuracy: 0.9872\n",
            "Epoch 100/150\n",
            "27/27 - 0s - loss: 0.0500 - accuracy: 0.9872\n",
            "Epoch 101/150\n",
            "27/27 - 0s - loss: 0.0451 - accuracy: 0.9884\n",
            "Epoch 102/150\n",
            "27/27 - 0s - loss: 0.0403 - accuracy: 0.9872\n",
            "Epoch 103/150\n",
            "27/27 - 0s - loss: 0.0409 - accuracy: 0.9884\n",
            "Epoch 104/150\n",
            "27/27 - 0s - loss: 0.0395 - accuracy: 0.9895\n",
            "Epoch 105/150\n",
            "27/27 - 0s - loss: 0.0369 - accuracy: 0.9895\n",
            "Epoch 106/150\n",
            "27/27 - 0s - loss: 0.0365 - accuracy: 0.9860\n",
            "Epoch 107/150\n",
            "27/27 - 0s - loss: 0.0355 - accuracy: 0.9895\n",
            "Epoch 108/150\n",
            "27/27 - 0s - loss: 0.0352 - accuracy: 0.9884\n",
            "Epoch 109/150\n",
            "27/27 - 0s - loss: 0.0352 - accuracy: 0.9884\n",
            "Epoch 110/150\n",
            "27/27 - 0s - loss: 0.0339 - accuracy: 0.9884\n",
            "Epoch 111/150\n",
            "27/27 - 0s - loss: 0.0339 - accuracy: 0.9907\n",
            "Epoch 112/150\n",
            "27/27 - 0s - loss: 0.0345 - accuracy: 0.9849\n",
            "Epoch 113/150\n",
            "27/27 - 0s - loss: 0.0330 - accuracy: 0.9895\n",
            "Epoch 114/150\n",
            "27/27 - 0s - loss: 0.0329 - accuracy: 0.9884\n",
            "Epoch 115/150\n",
            "27/27 - 0s - loss: 0.0373 - accuracy: 0.9860\n",
            "Epoch 116/150\n",
            "27/27 - 0s - loss: 0.0354 - accuracy: 0.9884\n",
            "Epoch 117/150\n",
            "27/27 - 0s - loss: 0.0331 - accuracy: 0.9884\n",
            "Epoch 118/150\n",
            "27/27 - 0s - loss: 0.0320 - accuracy: 0.9884\n",
            "Epoch 119/150\n",
            "27/27 - 0s - loss: 0.0313 - accuracy: 0.9884\n",
            "Epoch 120/150\n",
            "27/27 - 0s - loss: 0.0306 - accuracy: 0.9872\n",
            "Epoch 121/150\n",
            "27/27 - 0s - loss: 0.0302 - accuracy: 0.9884\n",
            "Epoch 122/150\n",
            "27/27 - 0s - loss: 0.0308 - accuracy: 0.9895\n",
            "Epoch 123/150\n",
            "27/27 - 0s - loss: 0.0304 - accuracy: 0.9895\n",
            "Epoch 124/150\n",
            "27/27 - 0s - loss: 0.0305 - accuracy: 0.9884\n",
            "Epoch 125/150\n",
            "27/27 - 0s - loss: 0.0287 - accuracy: 0.9895\n",
            "Epoch 126/150\n",
            "27/27 - 0s - loss: 0.0289 - accuracy: 0.9884\n",
            "Epoch 127/150\n",
            "27/27 - 0s - loss: 0.0285 - accuracy: 0.9849\n",
            "Epoch 128/150\n",
            "27/27 - 0s - loss: 0.0278 - accuracy: 0.9860\n",
            "Epoch 129/150\n",
            "27/27 - 0s - loss: 0.0286 - accuracy: 0.9872\n",
            "Epoch 130/150\n",
            "27/27 - 0s - loss: 0.0301 - accuracy: 0.9872\n",
            "Epoch 131/150\n",
            "27/27 - 0s - loss: 0.0281 - accuracy: 0.9872\n",
            "Epoch 132/150\n",
            "27/27 - 0s - loss: 0.0274 - accuracy: 0.9872\n",
            "Epoch 133/150\n",
            "27/27 - 0s - loss: 0.0278 - accuracy: 0.9895\n",
            "Epoch 134/150\n",
            "27/27 - 0s - loss: 0.0275 - accuracy: 0.9895\n",
            "Epoch 135/150\n",
            "27/27 - 0s - loss: 0.0277 - accuracy: 0.9872\n",
            "Epoch 136/150\n",
            "27/27 - 0s - loss: 0.0266 - accuracy: 0.9895\n",
            "Epoch 137/150\n",
            "27/27 - 0s - loss: 0.0262 - accuracy: 0.9895\n",
            "Epoch 138/150\n",
            "27/27 - 0s - loss: 0.0260 - accuracy: 0.9884\n",
            "Epoch 139/150\n",
            "27/27 - 0s - loss: 0.0261 - accuracy: 0.9895\n",
            "Epoch 140/150\n",
            "27/27 - 0s - loss: 0.0266 - accuracy: 0.9860\n",
            "Epoch 141/150\n",
            "27/27 - 0s - loss: 0.0257 - accuracy: 0.9884\n",
            "Epoch 142/150\n",
            "27/27 - 0s - loss: 0.0254 - accuracy: 0.9872\n",
            "Epoch 143/150\n",
            "27/27 - 0s - loss: 0.0259 - accuracy: 0.9860\n",
            "Epoch 144/150\n",
            "27/27 - 0s - loss: 0.0251 - accuracy: 0.9872\n",
            "Epoch 145/150\n",
            "27/27 - 0s - loss: 0.0250 - accuracy: 0.9872\n",
            "Epoch 146/150\n",
            "27/27 - 0s - loss: 0.0246 - accuracy: 0.9872\n",
            "Epoch 147/150\n",
            "27/27 - 0s - loss: 0.0244 - accuracy: 0.9860\n",
            "Epoch 148/150\n",
            "27/27 - 0s - loss: 0.0250 - accuracy: 0.9872\n",
            "Epoch 149/150\n",
            "27/27 - 0s - loss: 0.0241 - accuracy: 0.9884\n",
            "Epoch 150/150\n",
            "27/27 - 0s - loss: 0.0238 - accuracy: 0.9884\n"
          ]
        },
        {
          "output_type": "execute_result",
          "data": {
            "text/plain": [
              "<keras.callbacks.History at 0x7efe678406d0>"
            ]
          },
          "metadata": {},
          "execution_count": 120
        }
      ]
    },
    {
      "cell_type": "code",
      "metadata": {
        "id": "-dRRfRK-pjWt"
      },
      "source": [
        "def sentence_generation_two(model, char_to_index, seq_length, seed_text, n):\n",
        "# 모델, 인덱스 정보, 문장 길이, 초기 시퀀스, 반복 횟수\n",
        "    init_text = seed_text # 문장 생성에 사용할 초기 시퀀스\n",
        "    sentence = ''\n",
        "\n",
        "    for _ in range(n): # n번 반복\n",
        "        encoded = [char_to_index[char] for char in seed_text] # 현재 시퀀스에 대한 정수 인코딩\n",
        "        encoded = pad_sequences([encoded], maxlen=seq_length, padding='pre') # 데이터에 대한 패딩\n",
        "        encoded = to_categorical(encoded, num_classes=len(char_to_index))\n",
        "        resulttwo = model.predict(encoded, verbose=0) #predict_classes 없어져서 코드 바꿈\n",
        "        result=np.argmax(resulttwo,axis=1)\n",
        "        # 입력한 X(현재 시퀀스)에 대해서 y를 예측하고 y(예측한 글자)를 result에 저장.\n",
        "        for char, index in char_to_index.items(): # 만약 예측한 글자와 인덱스와 동일한 글자가 있다면\n",
        "            if index == result: # 해당 글자가 예측 글자이므로 break\n",
        "                break\n",
        "        seed_text=seed_text + char # 현재 시퀀스 + 예측 글자를 현재 시퀀스로 변경\n",
        "        sentence=sentence + char # 예측 글자를 문장에 저장\n",
        "        # for문이므로 이 작업을 다시 반복\n",
        "        \n",
        "\n",
        "    sentence = init_text + sentence\n",
        "    return sentence"
      ],
      "execution_count": null,
      "outputs": []
    },
    {
      "cell_type": "code",
      "metadata": {
        "colab": {
          "base_uri": "https://localhost:8080/"
        },
        "id": "-Ehm2S3cpl7f",
        "outputId": "658585ca-584e-4d2b-cb09-08eb1f6fba11"
      },
      "source": [
        "print(sentence_generation_two(model, char_to_index, 10, 'It won\\'t ', 50))"
      ],
      "execution_count": null,
      "outputs": [
        {
          "output_type": "stream",
          "name": "stdout",
          "text": [
            "It won't be long, we'll meet again. Your memory is never pa\n"
          ]
        }
      ]
    },
    {
      "cell_type": "code",
      "metadata": {
        "id": "Q6oXAtbieM7P"
      },
      "source": [
        "#pdf 다운로드 링크: https://drive.google.com/file/d/1iPxzBRHbB1CY4597Rn4G75Pj6c7zDG3Q/view?usp=sharing"
      ],
      "execution_count": null,
      "outputs": []
    }
  ]
}